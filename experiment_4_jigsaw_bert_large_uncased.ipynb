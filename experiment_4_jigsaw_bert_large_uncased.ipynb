{
  "nbformat": 4,
  "nbformat_minor": 5,
  "metadata": {
    "kernelspec": {
      "display_name": "Python 3",
      "language": "python",
      "name": "python3"
    },
    "language_info": {
      "codemirror_mode": {
        "name": "ipython",
        "version": 3
      },
      "file_extension": ".py",
      "mimetype": "text/x-python",
      "name": "python",
      "nbconvert_exporter": "python",
      "pygments_lexer": "ipython3",
      "version": "3.7.10"
    },
    "papermill": {
      "default_parameters": {},
      "duration": 5733.767579,
      "end_time": "2021-05-01T13:16:58.719291",
      "environment_variables": {},
      "exception": null,
      "input_path": "__notebook__.ipynb",
      "output_path": "__notebook__.ipynb",
      "parameters": {},
      "start_time": "2021-05-01T11:41:24.951712",
      "version": "2.3.3"
    },
    "widgets": {
      "application/vnd.jupyter.widget-state+json": {}
    },
    "colab": {
      "name": "experiment 4 : jigsaw-bert-large-uncased.ipynb",
      "provenance": []
    }
  },
  "cells": [
    {
      "cell_type": "markdown",
      "metadata": {
        "_cell_guid": "b1076dfc-b9ad-4769-8c92-a6c4dae69d19",
        "_uuid": "8f2839f25d086af736a60e9eeb907d3b93b6e0e5",
        "papermill": {
          "duration": 0.043259,
          "end_time": "2021-05-01T11:41:33.491376",
          "exception": false,
          "start_time": "2021-05-01T11:41:33.448117",
          "status": "completed"
        },
        "tags": [],
        "id": "adjacent-twenty"
      },
      "source": [
        "in this notebook we will use tensorflow tpu v3.8 of kaggle for faster experiment,kaggle tpu is very fast and has more vram which lets us do very fancy experiments with ease,we will use it with immensely popular  python library called huggingface, which provides many pretrained models both in pytorch and tensorflow which is extraordinarily useful for various NLP tasks."
      ],
      "id": "adjacent-twenty"
    },
    {
      "cell_type": "code",
      "metadata": {
        "execution": {
          "iopub.execute_input": "2021-05-01T11:41:33.602085Z",
          "iopub.status.busy": "2021-05-01T11:41:33.588881Z",
          "iopub.status.idle": "2021-05-01T11:43:45.190631Z",
          "shell.execute_reply": "2021-05-01T11:43:45.191219Z"
        },
        "papermill": {
          "duration": 131.65857,
          "end_time": "2021-05-01T11:43:45.191994",
          "exception": false,
          "start_time": "2021-05-01T11:41:33.533424",
          "status": "completed"
        },
        "tags": [],
        "id": "mediterranean-triangle",
        "outputId": "d3a3ac0b-cd94-46c7-e0e4-f98c14a75e60"
      },
      "source": [
        "!pip install cloud-tpu-client\n",
        "!pip install tensorflow==2.2.0 \n",
        "\n",
        "#!pip install tensorflow~=2.2.0 tensorflow_gcs_config~=2.2.0\n",
        "!pip install transformers==3.5.1\n",
        "!pip install tensorflow-addons==0.10.0"
      ],
      "id": "mediterranean-triangle",
      "execution_count": null,
      "outputs": [
        {
          "output_type": "stream",
          "text": [
            "Requirement already satisfied: cloud-tpu-client in /opt/conda/lib/python3.7/site-packages (0.10)\r\n",
            "Requirement already satisfied: oauth2client in /opt/conda/lib/python3.7/site-packages (from cloud-tpu-client) (4.1.3)\r\n",
            "Requirement already satisfied: google-api-python-client==1.8.0 in /opt/conda/lib/python3.7/site-packages (from cloud-tpu-client) (1.8.0)\r\n",
            "Requirement already satisfied: six<2dev,>=1.6.1 in /opt/conda/lib/python3.7/site-packages (from google-api-python-client==1.8.0->cloud-tpu-client) (1.15.0)\r\n",
            "Requirement already satisfied: google-auth>=1.4.1 in /opt/conda/lib/python3.7/site-packages (from google-api-python-client==1.8.0->cloud-tpu-client) (1.26.1)\r\n",
            "Requirement already satisfied: uritemplate<4dev,>=3.0.0 in /opt/conda/lib/python3.7/site-packages (from google-api-python-client==1.8.0->cloud-tpu-client) (3.0.1)\r\n",
            "Requirement already satisfied: httplib2<1dev,>=0.9.2 in /opt/conda/lib/python3.7/site-packages (from google-api-python-client==1.8.0->cloud-tpu-client) (0.19.0)\r\n",
            "Requirement already satisfied: google-api-core<2dev,>=1.13.0 in /opt/conda/lib/python3.7/site-packages (from google-api-python-client==1.8.0->cloud-tpu-client) (1.26.2)\r\n",
            "Requirement already satisfied: google-auth-httplib2>=0.0.3 in /opt/conda/lib/python3.7/site-packages (from google-api-python-client==1.8.0->cloud-tpu-client) (0.0.4)\r\n",
            "Requirement already satisfied: protobuf>=3.12.0 in /opt/conda/lib/python3.7/site-packages (from google-api-core<2dev,>=1.13.0->google-api-python-client==1.8.0->cloud-tpu-client) (3.15.8)\r\n",
            "Requirement already satisfied: setuptools>=40.3.0 in /opt/conda/lib/python3.7/site-packages (from google-api-core<2dev,>=1.13.0->google-api-python-client==1.8.0->cloud-tpu-client) (49.6.0.post20210108)\r\n",
            "Requirement already satisfied: pytz in /opt/conda/lib/python3.7/site-packages (from google-api-core<2dev,>=1.13.0->google-api-python-client==1.8.0->cloud-tpu-client) (2021.1)\r\n",
            "Requirement already satisfied: requests<3.0.0dev,>=2.18.0 in /opt/conda/lib/python3.7/site-packages (from google-api-core<2dev,>=1.13.0->google-api-python-client==1.8.0->cloud-tpu-client) (2.25.1)\r\n",
            "Requirement already satisfied: packaging>=14.3 in /opt/conda/lib/python3.7/site-packages (from google-api-core<2dev,>=1.13.0->google-api-python-client==1.8.0->cloud-tpu-client) (20.9)\r\n",
            "Requirement already satisfied: googleapis-common-protos<2.0dev,>=1.6.0 in /opt/conda/lib/python3.7/site-packages (from google-api-core<2dev,>=1.13.0->google-api-python-client==1.8.0->cloud-tpu-client) (1.53.0)\r\n",
            "Requirement already satisfied: rsa<5,>=3.1.4 in /opt/conda/lib/python3.7/site-packages (from google-auth>=1.4.1->google-api-python-client==1.8.0->cloud-tpu-client) (4.7.2)\r\n",
            "Requirement already satisfied: pyasn1-modules>=0.2.1 in /opt/conda/lib/python3.7/site-packages (from google-auth>=1.4.1->google-api-python-client==1.8.0->cloud-tpu-client) (0.2.7)\r\n",
            "Requirement already satisfied: cachetools<5.0,>=2.0.0 in /opt/conda/lib/python3.7/site-packages (from google-auth>=1.4.1->google-api-python-client==1.8.0->cloud-tpu-client) (4.2.1)\r\n",
            "Requirement already satisfied: pyparsing<3,>=2.4.2 in /opt/conda/lib/python3.7/site-packages (from httplib2<1dev,>=0.9.2->google-api-python-client==1.8.0->cloud-tpu-client) (2.4.7)\r\n",
            "Requirement already satisfied: pyasn1<0.5.0,>=0.4.6 in /opt/conda/lib/python3.7/site-packages (from pyasn1-modules>=0.2.1->google-auth>=1.4.1->google-api-python-client==1.8.0->cloud-tpu-client) (0.4.8)\r\n",
            "Requirement already satisfied: idna<3,>=2.5 in /opt/conda/lib/python3.7/site-packages (from requests<3.0.0dev,>=2.18.0->google-api-core<2dev,>=1.13.0->google-api-python-client==1.8.0->cloud-tpu-client) (2.10)\r\n",
            "Requirement already satisfied: chardet<5,>=3.0.2 in /opt/conda/lib/python3.7/site-packages (from requests<3.0.0dev,>=2.18.0->google-api-core<2dev,>=1.13.0->google-api-python-client==1.8.0->cloud-tpu-client) (4.0.0)\r\n",
            "Requirement already satisfied: urllib3<1.27,>=1.21.1 in /opt/conda/lib/python3.7/site-packages (from requests<3.0.0dev,>=2.18.0->google-api-core<2dev,>=1.13.0->google-api-python-client==1.8.0->cloud-tpu-client) (1.26.4)\r\n",
            "Requirement already satisfied: certifi>=2017.4.17 in /opt/conda/lib/python3.7/site-packages (from requests<3.0.0dev,>=2.18.0->google-api-core<2dev,>=1.13.0->google-api-python-client==1.8.0->cloud-tpu-client) (2020.12.5)\r\n",
            "Collecting tensorflow==2.2.0\r\n",
            "  Downloading tensorflow-2.2.0-cp37-cp37m-manylinux2010_x86_64.whl (516.2 MB)\r\n",
            "\u001b[K     |████████████████████████████████| 516.2 MB 3.3 kB/s \r\n",
            "\u001b[?25hRequirement already satisfied: protobuf>=3.8.0 in /opt/conda/lib/python3.7/site-packages (from tensorflow==2.2.0) (3.15.8)\r\n",
            "Requirement already satisfied: absl-py>=0.7.0 in /opt/conda/lib/python3.7/site-packages (from tensorflow==2.2.0) (0.12.0)\r\n",
            "Collecting tensorflow-estimator<2.3.0,>=2.2.0\r\n",
            "  Downloading tensorflow_estimator-2.2.0-py2.py3-none-any.whl (454 kB)\r\n",
            "\u001b[K     |████████████████████████████████| 454 kB 29.9 MB/s \r\n",
            "\u001b[?25hRequirement already satisfied: astunparse==1.6.3 in /opt/conda/lib/python3.7/site-packages (from tensorflow==2.2.0) (1.6.3)\r\n",
            "Requirement already satisfied: grpcio>=1.8.6 in /opt/conda/lib/python3.7/site-packages (from tensorflow==2.2.0) (1.32.0)\r\n",
            "Requirement already satisfied: h5py<2.11.0,>=2.10.0 in /opt/conda/lib/python3.7/site-packages (from tensorflow==2.2.0) (2.10.0)\r\n",
            "Requirement already satisfied: opt-einsum>=2.3.2 in /opt/conda/lib/python3.7/site-packages (from tensorflow==2.2.0) (3.3.0)\r\n",
            "Collecting tensorboard<2.3.0,>=2.2.0\r\n",
            "  Downloading tensorboard-2.2.2-py3-none-any.whl (3.0 MB)\r\n",
            "\u001b[K     |████████████████████████████████| 3.0 MB 29.0 MB/s \r\n",
            "\u001b[?25hRequirement already satisfied: numpy<2.0,>=1.16.0 in /opt/conda/lib/python3.7/site-packages (from tensorflow==2.2.0) (1.19.5)\r\n",
            "Requirement already satisfied: termcolor>=1.1.0 in /opt/conda/lib/python3.7/site-packages (from tensorflow==2.2.0) (1.1.0)\r\n",
            "Requirement already satisfied: wrapt>=1.11.1 in /opt/conda/lib/python3.7/site-packages (from tensorflow==2.2.0) (1.12.1)\r\n",
            "Requirement already satisfied: keras-preprocessing>=1.1.0 in /opt/conda/lib/python3.7/site-packages (from tensorflow==2.2.0) (1.1.2)\r\n",
            "Collecting scipy==1.4.1\r\n",
            "  Downloading scipy-1.4.1-cp37-cp37m-manylinux1_x86_64.whl (26.1 MB)\r\n",
            "\u001b[K     |████████████████████████████████| 26.1 MB 44.6 MB/s \r\n",
            "\u001b[?25hRequirement already satisfied: wheel>=0.26 in /opt/conda/lib/python3.7/site-packages (from tensorflow==2.2.0) (0.36.2)\r\n",
            "Requirement already satisfied: six>=1.12.0 in /opt/conda/lib/python3.7/site-packages (from tensorflow==2.2.0) (1.15.0)\r\n",
            "Requirement already satisfied: google-pasta>=0.1.8 in /opt/conda/lib/python3.7/site-packages (from tensorflow==2.2.0) (0.2.0)\r\n",
            "Requirement already satisfied: gast==0.3.3 in /opt/conda/lib/python3.7/site-packages (from tensorflow==2.2.0) (0.3.3)\r\n",
            "Requirement already satisfied: werkzeug>=0.11.15 in /opt/conda/lib/python3.7/site-packages (from tensorboard<2.3.0,>=2.2.0->tensorflow==2.2.0) (1.0.1)\r\n",
            "Requirement already satisfied: google-auth<2,>=1.6.3 in /opt/conda/lib/python3.7/site-packages (from tensorboard<2.3.0,>=2.2.0->tensorflow==2.2.0) (1.26.1)\r\n",
            "Requirement already satisfied: markdown>=2.6.8 in /opt/conda/lib/python3.7/site-packages (from tensorboard<2.3.0,>=2.2.0->tensorflow==2.2.0) (3.3.4)\r\n",
            "Requirement already satisfied: tensorboard-plugin-wit>=1.6.0 in /opt/conda/lib/python3.7/site-packages (from tensorboard<2.3.0,>=2.2.0->tensorflow==2.2.0) (1.8.0)\r\n",
            "Requirement already satisfied: setuptools>=41.0.0 in /opt/conda/lib/python3.7/site-packages (from tensorboard<2.3.0,>=2.2.0->tensorflow==2.2.0) (49.6.0.post20210108)\r\n",
            "Requirement already satisfied: requests<3,>=2.21.0 in /opt/conda/lib/python3.7/site-packages (from tensorboard<2.3.0,>=2.2.0->tensorflow==2.2.0) (2.25.1)\r\n",
            "Requirement already satisfied: google-auth-oauthlib<0.5,>=0.4.1 in /opt/conda/lib/python3.7/site-packages (from tensorboard<2.3.0,>=2.2.0->tensorflow==2.2.0) (0.4.3)\r\n",
            "Requirement already satisfied: cachetools<5.0,>=2.0.0 in /opt/conda/lib/python3.7/site-packages (from google-auth<2,>=1.6.3->tensorboard<2.3.0,>=2.2.0->tensorflow==2.2.0) (4.2.1)\r\n",
            "Requirement already satisfied: rsa<5,>=3.1.4 in /opt/conda/lib/python3.7/site-packages (from google-auth<2,>=1.6.3->tensorboard<2.3.0,>=2.2.0->tensorflow==2.2.0) (4.7.2)\r\n",
            "Requirement already satisfied: pyasn1-modules>=0.2.1 in /opt/conda/lib/python3.7/site-packages (from google-auth<2,>=1.6.3->tensorboard<2.3.0,>=2.2.0->tensorflow==2.2.0) (0.2.7)\r\n",
            "Requirement already satisfied: requests-oauthlib>=0.7.0 in /opt/conda/lib/python3.7/site-packages (from google-auth-oauthlib<0.5,>=0.4.1->tensorboard<2.3.0,>=2.2.0->tensorflow==2.2.0) (1.3.0)\r\n",
            "Requirement already satisfied: importlib-metadata in /opt/conda/lib/python3.7/site-packages (from markdown>=2.6.8->tensorboard<2.3.0,>=2.2.0->tensorflow==2.2.0) (3.4.0)\r\n",
            "Requirement already satisfied: pyasn1<0.5.0,>=0.4.6 in /opt/conda/lib/python3.7/site-packages (from pyasn1-modules>=0.2.1->google-auth<2,>=1.6.3->tensorboard<2.3.0,>=2.2.0->tensorflow==2.2.0) (0.4.8)\r\n",
            "Requirement already satisfied: chardet<5,>=3.0.2 in /opt/conda/lib/python3.7/site-packages (from requests<3,>=2.21.0->tensorboard<2.3.0,>=2.2.0->tensorflow==2.2.0) (4.0.0)\r\n",
            "Requirement already satisfied: urllib3<1.27,>=1.21.1 in /opt/conda/lib/python3.7/site-packages (from requests<3,>=2.21.0->tensorboard<2.3.0,>=2.2.0->tensorflow==2.2.0) (1.26.4)\r\n",
            "Requirement already satisfied: certifi>=2017.4.17 in /opt/conda/lib/python3.7/site-packages (from requests<3,>=2.21.0->tensorboard<2.3.0,>=2.2.0->tensorflow==2.2.0) (2020.12.5)\r\n",
            "Requirement already satisfied: idna<3,>=2.5 in /opt/conda/lib/python3.7/site-packages (from requests<3,>=2.21.0->tensorboard<2.3.0,>=2.2.0->tensorflow==2.2.0) (2.10)\r\n",
            "Requirement already satisfied: oauthlib>=3.0.0 in /opt/conda/lib/python3.7/site-packages (from requests-oauthlib>=0.7.0->google-auth-oauthlib<0.5,>=0.4.1->tensorboard<2.3.0,>=2.2.0->tensorflow==2.2.0) (3.0.1)\r\n",
            "Requirement already satisfied: zipp>=0.5 in /opt/conda/lib/python3.7/site-packages (from importlib-metadata->markdown>=2.6.8->tensorboard<2.3.0,>=2.2.0->tensorflow==2.2.0) (3.4.1)\r\n",
            "Requirement already satisfied: typing-extensions>=3.6.4 in /opt/conda/lib/python3.7/site-packages (from importlib-metadata->markdown>=2.6.8->tensorboard<2.3.0,>=2.2.0->tensorflow==2.2.0) (3.7.4.3)\r\n",
            "Installing collected packages: tensorflow-estimator, tensorboard, scipy, tensorflow\r\n",
            "  Attempting uninstall: tensorflow-estimator\r\n",
            "    Found existing installation: tensorflow-estimator 2.4.0\r\n",
            "    Uninstalling tensorflow-estimator-2.4.0:\r\n",
            "      Successfully uninstalled tensorflow-estimator-2.4.0\r\n",
            "  Attempting uninstall: tensorboard\r\n",
            "    Found existing installation: tensorboard 2.4.1\r\n",
            "    Uninstalling tensorboard-2.4.1:\r\n",
            "      Successfully uninstalled tensorboard-2.4.1\r\n",
            "  Attempting uninstall: scipy\r\n",
            "    Found existing installation: scipy 1.5.4\r\n",
            "    Uninstalling scipy-1.5.4:\r\n",
            "      Successfully uninstalled scipy-1.5.4\r\n",
            "  Attempting uninstall: tensorflow\r\n",
            "    Found existing installation: tensorflow 2.4.1\r\n",
            "    Uninstalling tensorflow-2.4.1:\r\n",
            "      Successfully uninstalled tensorflow-2.4.1\r\n",
            "\u001b[31mERROR: pip's dependency resolver does not currently take into account all the packages that are installed. This behaviour is the source of the following dependency conflicts.\r\n",
            "tensorflow-cloud 0.1.13 requires tensorboard>=2.3.0, but you have tensorboard 2.2.2 which is incompatible.\r\n",
            "stumpy 1.8.0 requires scipy>=1.5, but you have scipy 1.4.1 which is incompatible.\r\n",
            "sklearn-pandas 2.1.0 requires scipy>=1.5.1, but you have scipy 1.4.1 which is incompatible.\r\n",
            "pyldavis 3.3.1 requires numpy>=1.20.0, but you have numpy 1.19.5 which is incompatible.\r\n",
            "plotnine 0.8.0 requires scipy>=1.5.0, but you have scipy 1.4.1 which is incompatible.\r\n",
            "phik 0.11.2 requires scipy>=1.5.2, but you have scipy 1.4.1 which is incompatible.\r\n",
            "pdpbox 0.2.1 requires matplotlib==3.1.1, but you have matplotlib 3.4.1 which is incompatible.\r\n",
            "matrixprofile 1.1.10 requires protobuf==3.11.2, but you have protobuf 3.15.8 which is incompatible.\r\n",
            "autogluon-core 0.1.0 requires scipy==1.5.4, but you have scipy 1.4.1 which is incompatible.\u001b[0m\r\n",
            "Successfully installed scipy-1.4.1 tensorboard-2.2.2 tensorflow-2.2.0 tensorflow-estimator-2.2.0\r\n",
            "Collecting transformers==3.5.1\r\n",
            "  Downloading transformers-3.5.1-py3-none-any.whl (1.3 MB)\r\n",
            "\u001b[K     |████████████████████████████████| 1.3 MB 853 kB/s \r\n",
            "\u001b[?25hRequirement already satisfied: tqdm>=4.27 in /opt/conda/lib/python3.7/site-packages (from transformers==3.5.1) (4.59.0)\r\n",
            "Collecting tokenizers==0.9.3\r\n",
            "  Downloading tokenizers-0.9.3-cp37-cp37m-manylinux1_x86_64.whl (2.9 MB)\r\n",
            "\u001b[K     |████████████████████████████████| 2.9 MB 4.2 MB/s \r\n",
            "\u001b[?25hRequirement already satisfied: filelock in /opt/conda/lib/python3.7/site-packages (from transformers==3.5.1) (3.0.12)\r\n",
            "Requirement already satisfied: numpy in /opt/conda/lib/python3.7/site-packages (from transformers==3.5.1) (1.19.5)\r\n",
            "Collecting sentencepiece==0.1.91\r\n",
            "  Downloading sentencepiece-0.1.91-cp37-cp37m-manylinux1_x86_64.whl (1.1 MB)\r\n",
            "\u001b[K     |████████████████████████████████| 1.1 MB 6.8 MB/s \r\n",
            "\u001b[?25hRequirement already satisfied: requests in /opt/conda/lib/python3.7/site-packages (from transformers==3.5.1) (2.25.1)\r\n",
            "Requirement already satisfied: sacremoses in /opt/conda/lib/python3.7/site-packages (from transformers==3.5.1) (0.0.45)\r\n",
            "Requirement already satisfied: regex!=2019.12.17 in /opt/conda/lib/python3.7/site-packages (from transformers==3.5.1) (2021.3.17)\r\n",
            "Requirement already satisfied: packaging in /opt/conda/lib/python3.7/site-packages (from transformers==3.5.1) (20.9)\r\n",
            "Requirement already satisfied: protobuf in /opt/conda/lib/python3.7/site-packages (from transformers==3.5.1) (3.15.8)\r\n",
            "Requirement already satisfied: pyparsing>=2.0.2 in /opt/conda/lib/python3.7/site-packages (from packaging->transformers==3.5.1) (2.4.7)\r\n",
            "Requirement already satisfied: six>=1.9 in /opt/conda/lib/python3.7/site-packages (from protobuf->transformers==3.5.1) (1.15.0)\r\n",
            "Requirement already satisfied: idna<3,>=2.5 in /opt/conda/lib/python3.7/site-packages (from requests->transformers==3.5.1) (2.10)\r\n",
            "Requirement already satisfied: urllib3<1.27,>=1.21.1 in /opt/conda/lib/python3.7/site-packages (from requests->transformers==3.5.1) (1.26.4)\r\n",
            "Requirement already satisfied: certifi>=2017.4.17 in /opt/conda/lib/python3.7/site-packages (from requests->transformers==3.5.1) (2020.12.5)\r\n",
            "Requirement already satisfied: chardet<5,>=3.0.2 in /opt/conda/lib/python3.7/site-packages (from requests->transformers==3.5.1) (4.0.0)\r\n",
            "Requirement already satisfied: click in /opt/conda/lib/python3.7/site-packages (from sacremoses->transformers==3.5.1) (7.1.2)\r\n",
            "Requirement already satisfied: joblib in /opt/conda/lib/python3.7/site-packages (from sacremoses->transformers==3.5.1) (1.0.1)\r\n",
            "Installing collected packages: tokenizers, sentencepiece, transformers\r\n",
            "  Attempting uninstall: tokenizers\r\n",
            "    Found existing installation: tokenizers 0.10.2\r\n",
            "    Uninstalling tokenizers-0.10.2:\r\n",
            "      Successfully uninstalled tokenizers-0.10.2\r\n",
            "  Attempting uninstall: sentencepiece\r\n",
            "    Found existing installation: sentencepiece 0.1.95\r\n",
            "    Uninstalling sentencepiece-0.1.95:\r\n",
            "      Successfully uninstalled sentencepiece-0.1.95\r\n",
            "  Attempting uninstall: transformers\r\n",
            "    Found existing installation: transformers 4.5.1\r\n",
            "    Uninstalling transformers-4.5.1:\r\n",
            "      Successfully uninstalled transformers-4.5.1\r\n",
            "\u001b[31mERROR: pip's dependency resolver does not currently take into account all the packages that are installed. This behaviour is the source of the following dependency conflicts.\r\n",
            "allennlp 2.3.0 requires transformers<4.6,>=4.1, but you have transformers 3.5.1 which is incompatible.\u001b[0m\r\n",
            "Successfully installed sentencepiece-0.1.91 tokenizers-0.9.3 transformers-3.5.1\r\n",
            "Collecting tensorflow-addons==0.10.0\r\n",
            "  Downloading tensorflow_addons-0.10.0-cp37-cp37m-manylinux2010_x86_64.whl (1.0 MB)\r\n",
            "\u001b[K     |████████████████████████████████| 1.0 MB 868 kB/s \r\n",
            "\u001b[?25hRequirement already satisfied: typeguard>=2.7 in /opt/conda/lib/python3.7/site-packages (from tensorflow-addons==0.10.0) (2.12.0)\r\n",
            "Installing collected packages: tensorflow-addons\r\n",
            "  Attempting uninstall: tensorflow-addons\r\n",
            "    Found existing installation: tensorflow-addons 0.12.1\r\n",
            "    Uninstalling tensorflow-addons-0.12.1:\r\n",
            "      Successfully uninstalled tensorflow-addons-0.12.1\r\n",
            "Successfully installed tensorflow-addons-0.10.0\r\n"
          ],
          "name": "stdout"
        }
      ]
    },
    {
      "cell_type": "markdown",
      "metadata": {
        "papermill": {
          "duration": 0.321654,
          "end_time": "2021-05-01T11:43:45.842127",
          "exception": false,
          "start_time": "2021-05-01T11:43:45.520473",
          "status": "completed"
        },
        "tags": [],
        "id": "headed-salvation"
      },
      "source": [
        "# imports"
      ],
      "id": "headed-salvation"
    },
    {
      "cell_type": "code",
      "metadata": {
        "execution": {
          "iopub.execute_input": "2021-05-01T11:43:46.496946Z",
          "iopub.status.busy": "2021-05-01T11:43:46.496069Z",
          "iopub.status.idle": "2021-05-01T11:43:53.418332Z",
          "shell.execute_reply": "2021-05-01T11:43:53.417790Z"
        },
        "papermill": {
          "duration": 7.254823,
          "end_time": "2021-05-01T11:43:53.418483",
          "exception": false,
          "start_time": "2021-05-01T11:43:46.163660",
          "status": "completed"
        },
        "tags": [],
        "id": "instant-cholesterol"
      },
      "source": [
        "\n",
        "import numpy as np # linear algebra\n",
        "import pandas as pd # data processing, CSV file I/O (e.g. pd.read_csv)\n",
        "\n",
        "\n",
        "import os\n",
        "\n",
        "import matplotlib.pyplot as plt\n",
        "\n",
        "import seaborn as sns\n",
        "\n",
        "\n",
        "\n",
        "import re\n",
        "\n",
        "\n",
        "import numpy as np\n",
        "import pandas as pd\n",
        "import tensorflow as tf\n",
        "from tensorflow.keras.layers import Dense, Input\n",
        "from tensorflow.keras.optimizers import Adam\n",
        "from tensorflow.keras.models import Model\n",
        "\n",
        "import transformers\n",
        "from transformers import TFAutoModel, AutoTokenizer\n",
        "from tqdm.notebook import tqdm\n",
        "from tokenizers import Tokenizer, models, pre_tokenizers, decoders, processors\n",
        "\n",
        "from cloud_tpu_client import Client\n",
        "\n",
        "import tensorflow_addons as tfa\n",
        "\n",
        "from transformers import RobertaTokenizer, RobertaModel\n",
        "\n",
        "import tensorflow.keras.backend as K\n",
        "from IPython.display import SVG\n",
        "\n",
        "from tensorflow.keras.callbacks import EarlyStopping, ModelCheckpoint, LearningRateScheduler\n"
      ],
      "id": "instant-cholesterol",
      "execution_count": null,
      "outputs": []
    },
    {
      "cell_type": "markdown",
      "metadata": {
        "papermill": {
          "duration": 0.354099,
          "end_time": "2021-05-01T11:43:54.120559",
          "exception": false,
          "start_time": "2021-05-01T11:43:53.766460",
          "status": "completed"
        },
        "tags": [],
        "id": "japanese-burlington"
      },
      "source": [
        "# check versions of installed packages in this docker"
      ],
      "id": "japanese-burlington"
    },
    {
      "cell_type": "code",
      "metadata": {
        "execution": {
          "iopub.execute_input": "2021-05-01T11:43:54.790958Z",
          "iopub.status.busy": "2021-05-01T11:43:54.790140Z",
          "iopub.status.idle": "2021-05-01T11:43:54.794090Z",
          "shell.execute_reply": "2021-05-01T11:43:54.794609Z"
        },
        "papermill": {
          "duration": 0.336223,
          "end_time": "2021-05-01T11:43:54.794811",
          "exception": false,
          "start_time": "2021-05-01T11:43:54.458588",
          "status": "completed"
        },
        "tags": [],
        "id": "aggressive-satisfaction",
        "outputId": "5a582ce9-39ee-44f9-a667-e1b7fd689bd5"
      },
      "source": [
        "tf.__version__"
      ],
      "id": "aggressive-satisfaction",
      "execution_count": null,
      "outputs": [
        {
          "output_type": "execute_result",
          "data": {
            "text/plain": [
              "'2.2.0'"
            ]
          },
          "metadata": {
            "tags": []
          },
          "execution_count": 3
        }
      ]
    },
    {
      "cell_type": "code",
      "metadata": {
        "execution": {
          "iopub.execute_input": "2021-05-01T11:43:55.438012Z",
          "iopub.status.busy": "2021-05-01T11:43:55.437236Z",
          "iopub.status.idle": "2021-05-01T11:43:55.441454Z",
          "shell.execute_reply": "2021-05-01T11:43:55.441988Z"
        },
        "papermill": {
          "duration": 0.325685,
          "end_time": "2021-05-01T11:43:55.442154",
          "exception": false,
          "start_time": "2021-05-01T11:43:55.116469",
          "status": "completed"
        },
        "tags": [],
        "id": "every-liquid",
        "outputId": "6581436e-c883-4af1-b2bd-2f4f8e5f8f32"
      },
      "source": [
        "transformers.__version__"
      ],
      "id": "every-liquid",
      "execution_count": null,
      "outputs": [
        {
          "output_type": "execute_result",
          "data": {
            "text/plain": [
              "'3.5.1'"
            ]
          },
          "metadata": {
            "tags": []
          },
          "execution_count": 4
        }
      ]
    },
    {
      "cell_type": "code",
      "metadata": {
        "execution": {
          "iopub.execute_input": "2021-05-01T11:43:56.091945Z",
          "iopub.status.busy": "2021-05-01T11:43:56.090858Z",
          "iopub.status.idle": "2021-05-01T11:44:18.525243Z",
          "shell.execute_reply": "2021-05-01T11:44:18.525798Z"
        },
        "papermill": {
          "duration": 22.767247,
          "end_time": "2021-05-01T11:44:18.526012",
          "exception": false,
          "start_time": "2021-05-01T11:43:55.758765",
          "status": "completed"
        },
        "tags": [],
        "id": "quality-arrangement"
      },
      "source": [
        "# ref : https://github.com/tensorflow/tpu/issues/823\n",
        "\n",
        "Client().configure_tpu_version(tf.__version__, restart_type='ifNeeded')\n"
      ],
      "id": "quality-arrangement",
      "execution_count": null,
      "outputs": []
    },
    {
      "cell_type": "code",
      "metadata": {
        "execution": {
          "iopub.execute_input": "2021-05-01T11:44:19.193151Z",
          "iopub.status.busy": "2021-05-01T11:44:19.192410Z",
          "iopub.status.idle": "2021-05-01T11:44:23.160435Z",
          "shell.execute_reply": "2021-05-01T11:44:23.159843Z"
        },
        "papermill": {
          "duration": 4.30089,
          "end_time": "2021-05-01T11:44:23.160607",
          "exception": false,
          "start_time": "2021-05-01T11:44:18.859717",
          "status": "completed"
        },
        "tags": [],
        "id": "editorial-bunny",
        "outputId": "dbc424dc-b215-43c2-da70-fd5b77f9bd58"
      },
      "source": [
        "!unzip  -o ../input/jigsaw-toxic-comment-classification-challenge/train.csv.zip\n",
        "\n",
        "!unzip  -o ../input/jigsaw-toxic-comment-classification-challenge/test.csv.zip\n",
        "\n",
        "\n",
        "!unzip  -o ../input/jigsaw-toxic-comment-classification-challenge/test_labels.csv.zip\n"
      ],
      "id": "editorial-bunny",
      "execution_count": null,
      "outputs": [
        {
          "output_type": "stream",
          "text": [
            "Archive:  ../input/jigsaw-toxic-comment-classification-challenge/train.csv.zip\r\n",
            "  inflating: train.csv               \r\n",
            "Archive:  ../input/jigsaw-toxic-comment-classification-challenge/test.csv.zip\r\n",
            "  inflating: test.csv                \r\n",
            "Archive:  ../input/jigsaw-toxic-comment-classification-challenge/test_labels.csv.zip\r\n",
            "  inflating: test_labels.csv         \r\n"
          ],
          "name": "stdout"
        }
      ]
    },
    {
      "cell_type": "code",
      "metadata": {
        "execution": {
          "iopub.execute_input": "2021-05-01T11:44:23.833268Z",
          "iopub.status.busy": "2021-05-01T11:44:23.832294Z",
          "iopub.status.idle": "2021-05-01T11:44:23.838460Z",
          "shell.execute_reply": "2021-05-01T11:44:23.839028Z"
        },
        "papermill": {
          "duration": 0.346567,
          "end_time": "2021-05-01T11:44:23.839208",
          "exception": false,
          "start_time": "2021-05-01T11:44:23.492641",
          "status": "completed"
        },
        "tags": [],
        "id": "remarkable-craps",
        "outputId": "14e92485-1d7c-4685-f933-59f6b28c9c11"
      },
      "source": [
        "os.listdir('../working')"
      ],
      "id": "remarkable-craps",
      "execution_count": null,
      "outputs": [
        {
          "output_type": "execute_result",
          "data": {
            "text/plain": [
              "['test_labels.csv', 'train.csv', '__notebook__.ipynb', 'test.csv']"
            ]
          },
          "metadata": {
            "tags": []
          },
          "execution_count": 7
        }
      ]
    },
    {
      "cell_type": "markdown",
      "metadata": {
        "papermill": {
          "duration": 0.321658,
          "end_time": "2021-05-01T11:44:24.488444",
          "exception": false,
          "start_time": "2021-05-01T11:44:24.166786",
          "status": "completed"
        },
        "tags": [],
        "id": "endangered-dayton"
      },
      "source": [
        "# read dataset"
      ],
      "id": "endangered-dayton"
    },
    {
      "cell_type": "code",
      "metadata": {
        "execution": {
          "iopub.execute_input": "2021-05-01T11:44:25.135519Z",
          "iopub.status.busy": "2021-05-01T11:44:25.134678Z",
          "iopub.status.idle": "2021-05-01T11:44:27.577959Z",
          "shell.execute_reply": "2021-05-01T11:44:27.577222Z"
        },
        "papermill": {
          "duration": 2.767464,
          "end_time": "2021-05-01T11:44:27.578128",
          "exception": false,
          "start_time": "2021-05-01T11:44:24.810664",
          "status": "completed"
        },
        "tags": [],
        "id": "incorrect-regression"
      },
      "source": [
        "train=pd.read_csv(\"../working/train.csv\")\n",
        "test=pd.read_csv(\"../working/test.csv\")\n",
        "test_labels=pd.read_csv(\"../working/test_labels.csv\")\n"
      ],
      "id": "incorrect-regression",
      "execution_count": null,
      "outputs": []
    },
    {
      "cell_type": "code",
      "metadata": {
        "execution": {
          "iopub.execute_input": "2021-05-01T11:44:28.232195Z",
          "iopub.status.busy": "2021-05-01T11:44:28.231553Z",
          "iopub.status.idle": "2021-05-01T11:44:28.249338Z",
          "shell.execute_reply": "2021-05-01T11:44:28.249875Z"
        },
        "papermill": {
          "duration": 0.352457,
          "end_time": "2021-05-01T11:44:28.250043",
          "exception": false,
          "start_time": "2021-05-01T11:44:27.897586",
          "status": "completed"
        },
        "tags": [],
        "id": "convertible-strategy",
        "outputId": "3f2895e8-594e-4d1b-e965-fd7688d0f2b6"
      },
      "source": [
        "train.head()"
      ],
      "id": "convertible-strategy",
      "execution_count": null,
      "outputs": [
        {
          "output_type": "execute_result",
          "data": {
            "text/html": [
              "<div>\n",
              "<style scoped>\n",
              "    .dataframe tbody tr th:only-of-type {\n",
              "        vertical-align: middle;\n",
              "    }\n",
              "\n",
              "    .dataframe tbody tr th {\n",
              "        vertical-align: top;\n",
              "    }\n",
              "\n",
              "    .dataframe thead th {\n",
              "        text-align: right;\n",
              "    }\n",
              "</style>\n",
              "<table border=\"1\" class=\"dataframe\">\n",
              "  <thead>\n",
              "    <tr style=\"text-align: right;\">\n",
              "      <th></th>\n",
              "      <th>id</th>\n",
              "      <th>comment_text</th>\n",
              "      <th>toxic</th>\n",
              "      <th>severe_toxic</th>\n",
              "      <th>obscene</th>\n",
              "      <th>threat</th>\n",
              "      <th>insult</th>\n",
              "      <th>identity_hate</th>\n",
              "    </tr>\n",
              "  </thead>\n",
              "  <tbody>\n",
              "    <tr>\n",
              "      <th>0</th>\n",
              "      <td>0000997932d777bf</td>\n",
              "      <td>Explanation\\nWhy the edits made under my usern...</td>\n",
              "      <td>0</td>\n",
              "      <td>0</td>\n",
              "      <td>0</td>\n",
              "      <td>0</td>\n",
              "      <td>0</td>\n",
              "      <td>0</td>\n",
              "    </tr>\n",
              "    <tr>\n",
              "      <th>1</th>\n",
              "      <td>000103f0d9cfb60f</td>\n",
              "      <td>D'aww! He matches this background colour I'm s...</td>\n",
              "      <td>0</td>\n",
              "      <td>0</td>\n",
              "      <td>0</td>\n",
              "      <td>0</td>\n",
              "      <td>0</td>\n",
              "      <td>0</td>\n",
              "    </tr>\n",
              "    <tr>\n",
              "      <th>2</th>\n",
              "      <td>000113f07ec002fd</td>\n",
              "      <td>Hey man, I'm really not trying to edit war. It...</td>\n",
              "      <td>0</td>\n",
              "      <td>0</td>\n",
              "      <td>0</td>\n",
              "      <td>0</td>\n",
              "      <td>0</td>\n",
              "      <td>0</td>\n",
              "    </tr>\n",
              "    <tr>\n",
              "      <th>3</th>\n",
              "      <td>0001b41b1c6bb37e</td>\n",
              "      <td>\"\\nMore\\nI can't make any real suggestions on ...</td>\n",
              "      <td>0</td>\n",
              "      <td>0</td>\n",
              "      <td>0</td>\n",
              "      <td>0</td>\n",
              "      <td>0</td>\n",
              "      <td>0</td>\n",
              "    </tr>\n",
              "    <tr>\n",
              "      <th>4</th>\n",
              "      <td>0001d958c54c6e35</td>\n",
              "      <td>You, sir, are my hero. Any chance you remember...</td>\n",
              "      <td>0</td>\n",
              "      <td>0</td>\n",
              "      <td>0</td>\n",
              "      <td>0</td>\n",
              "      <td>0</td>\n",
              "      <td>0</td>\n",
              "    </tr>\n",
              "  </tbody>\n",
              "</table>\n",
              "</div>"
            ],
            "text/plain": [
              "                 id                                       comment_text  toxic  \\\n",
              "0  0000997932d777bf  Explanation\\nWhy the edits made under my usern...      0   \n",
              "1  000103f0d9cfb60f  D'aww! He matches this background colour I'm s...      0   \n",
              "2  000113f07ec002fd  Hey man, I'm really not trying to edit war. It...      0   \n",
              "3  0001b41b1c6bb37e  \"\\nMore\\nI can't make any real suggestions on ...      0   \n",
              "4  0001d958c54c6e35  You, sir, are my hero. Any chance you remember...      0   \n",
              "\n",
              "   severe_toxic  obscene  threat  insult  identity_hate  \n",
              "0             0        0       0       0              0  \n",
              "1             0        0       0       0              0  \n",
              "2             0        0       0       0              0  \n",
              "3             0        0       0       0              0  \n",
              "4             0        0       0       0              0  "
            ]
          },
          "metadata": {
            "tags": []
          },
          "execution_count": 9
        }
      ]
    },
    {
      "cell_type": "markdown",
      "metadata": {
        "papermill": {
          "duration": 0.316995,
          "end_time": "2021-05-01T11:44:28.883841",
          "exception": false,
          "start_time": "2021-05-01T11:44:28.566846",
          "status": "completed"
        },
        "tags": [],
        "id": "eastern-childhood"
      },
      "source": [
        "# we'll not use test.csv or test_labels.csv as we don't have annotations of these test samples and only kaggle has it's actual annotation,so we can't evaluate our models performance on this test dataset,so for this experiment we will not use it"
      ],
      "id": "eastern-childhood"
    },
    {
      "cell_type": "code",
      "metadata": {
        "execution": {
          "iopub.execute_input": "2021-05-01T11:44:29.522639Z",
          "iopub.status.busy": "2021-05-01T11:44:29.521962Z",
          "iopub.status.idle": "2021-05-01T11:44:29.531413Z",
          "shell.execute_reply": "2021-05-01T11:44:29.530826Z"
        },
        "papermill": {
          "duration": 0.329676,
          "end_time": "2021-05-01T11:44:29.531565",
          "exception": false,
          "start_time": "2021-05-01T11:44:29.201889",
          "status": "completed"
        },
        "tags": [],
        "id": "agreed-istanbul",
        "outputId": "535c55f2-f0b8-4154-b153-0640a77279fc"
      },
      "source": [
        "test.head()"
      ],
      "id": "agreed-istanbul",
      "execution_count": null,
      "outputs": [
        {
          "output_type": "execute_result",
          "data": {
            "text/html": [
              "<div>\n",
              "<style scoped>\n",
              "    .dataframe tbody tr th:only-of-type {\n",
              "        vertical-align: middle;\n",
              "    }\n",
              "\n",
              "    .dataframe tbody tr th {\n",
              "        vertical-align: top;\n",
              "    }\n",
              "\n",
              "    .dataframe thead th {\n",
              "        text-align: right;\n",
              "    }\n",
              "</style>\n",
              "<table border=\"1\" class=\"dataframe\">\n",
              "  <thead>\n",
              "    <tr style=\"text-align: right;\">\n",
              "      <th></th>\n",
              "      <th>id</th>\n",
              "      <th>comment_text</th>\n",
              "    </tr>\n",
              "  </thead>\n",
              "  <tbody>\n",
              "    <tr>\n",
              "      <th>0</th>\n",
              "      <td>00001cee341fdb12</td>\n",
              "      <td>Yo bitch Ja Rule is more succesful then you'll...</td>\n",
              "    </tr>\n",
              "    <tr>\n",
              "      <th>1</th>\n",
              "      <td>0000247867823ef7</td>\n",
              "      <td>== From RfC == \\n\\n The title is fine as it is...</td>\n",
              "    </tr>\n",
              "    <tr>\n",
              "      <th>2</th>\n",
              "      <td>00013b17ad220c46</td>\n",
              "      <td>\" \\n\\n == Sources == \\n\\n * Zawe Ashton on Lap...</td>\n",
              "    </tr>\n",
              "    <tr>\n",
              "      <th>3</th>\n",
              "      <td>00017563c3f7919a</td>\n",
              "      <td>:If you have a look back at the source, the in...</td>\n",
              "    </tr>\n",
              "    <tr>\n",
              "      <th>4</th>\n",
              "      <td>00017695ad8997eb</td>\n",
              "      <td>I don't anonymously edit articles at all.</td>\n",
              "    </tr>\n",
              "  </tbody>\n",
              "</table>\n",
              "</div>"
            ],
            "text/plain": [
              "                 id                                       comment_text\n",
              "0  00001cee341fdb12  Yo bitch Ja Rule is more succesful then you'll...\n",
              "1  0000247867823ef7  == From RfC == \\n\\n The title is fine as it is...\n",
              "2  00013b17ad220c46  \" \\n\\n == Sources == \\n\\n * Zawe Ashton on Lap...\n",
              "3  00017563c3f7919a  :If you have a look back at the source, the in...\n",
              "4  00017695ad8997eb          I don't anonymously edit articles at all."
            ]
          },
          "metadata": {
            "tags": []
          },
          "execution_count": 10
        }
      ]
    },
    {
      "cell_type": "code",
      "metadata": {
        "execution": {
          "iopub.execute_input": "2021-05-01T11:44:30.184772Z",
          "iopub.status.busy": "2021-05-01T11:44:30.180398Z",
          "iopub.status.idle": "2021-05-01T11:44:30.189366Z",
          "shell.execute_reply": "2021-05-01T11:44:30.188658Z"
        },
        "papermill": {
          "duration": 0.337346,
          "end_time": "2021-05-01T11:44:30.189528",
          "exception": false,
          "start_time": "2021-05-01T11:44:29.852182",
          "status": "completed"
        },
        "tags": [],
        "id": "cognitive-welding",
        "outputId": "5c344a7a-d1ac-4416-cf37-355b82a59c26"
      },
      "source": [
        "test_labels.head()"
      ],
      "id": "cognitive-welding",
      "execution_count": null,
      "outputs": [
        {
          "output_type": "execute_result",
          "data": {
            "text/html": [
              "<div>\n",
              "<style scoped>\n",
              "    .dataframe tbody tr th:only-of-type {\n",
              "        vertical-align: middle;\n",
              "    }\n",
              "\n",
              "    .dataframe tbody tr th {\n",
              "        vertical-align: top;\n",
              "    }\n",
              "\n",
              "    .dataframe thead th {\n",
              "        text-align: right;\n",
              "    }\n",
              "</style>\n",
              "<table border=\"1\" class=\"dataframe\">\n",
              "  <thead>\n",
              "    <tr style=\"text-align: right;\">\n",
              "      <th></th>\n",
              "      <th>id</th>\n",
              "      <th>toxic</th>\n",
              "      <th>severe_toxic</th>\n",
              "      <th>obscene</th>\n",
              "      <th>threat</th>\n",
              "      <th>insult</th>\n",
              "      <th>identity_hate</th>\n",
              "    </tr>\n",
              "  </thead>\n",
              "  <tbody>\n",
              "    <tr>\n",
              "      <th>0</th>\n",
              "      <td>00001cee341fdb12</td>\n",
              "      <td>-1</td>\n",
              "      <td>-1</td>\n",
              "      <td>-1</td>\n",
              "      <td>-1</td>\n",
              "      <td>-1</td>\n",
              "      <td>-1</td>\n",
              "    </tr>\n",
              "    <tr>\n",
              "      <th>1</th>\n",
              "      <td>0000247867823ef7</td>\n",
              "      <td>-1</td>\n",
              "      <td>-1</td>\n",
              "      <td>-1</td>\n",
              "      <td>-1</td>\n",
              "      <td>-1</td>\n",
              "      <td>-1</td>\n",
              "    </tr>\n",
              "    <tr>\n",
              "      <th>2</th>\n",
              "      <td>00013b17ad220c46</td>\n",
              "      <td>-1</td>\n",
              "      <td>-1</td>\n",
              "      <td>-1</td>\n",
              "      <td>-1</td>\n",
              "      <td>-1</td>\n",
              "      <td>-1</td>\n",
              "    </tr>\n",
              "    <tr>\n",
              "      <th>3</th>\n",
              "      <td>00017563c3f7919a</td>\n",
              "      <td>-1</td>\n",
              "      <td>-1</td>\n",
              "      <td>-1</td>\n",
              "      <td>-1</td>\n",
              "      <td>-1</td>\n",
              "      <td>-1</td>\n",
              "    </tr>\n",
              "    <tr>\n",
              "      <th>4</th>\n",
              "      <td>00017695ad8997eb</td>\n",
              "      <td>-1</td>\n",
              "      <td>-1</td>\n",
              "      <td>-1</td>\n",
              "      <td>-1</td>\n",
              "      <td>-1</td>\n",
              "      <td>-1</td>\n",
              "    </tr>\n",
              "  </tbody>\n",
              "</table>\n",
              "</div>"
            ],
            "text/plain": [
              "                 id  toxic  severe_toxic  obscene  threat  insult  \\\n",
              "0  00001cee341fdb12     -1            -1       -1      -1      -1   \n",
              "1  0000247867823ef7     -1            -1       -1      -1      -1   \n",
              "2  00013b17ad220c46     -1            -1       -1      -1      -1   \n",
              "3  00017563c3f7919a     -1            -1       -1      -1      -1   \n",
              "4  00017695ad8997eb     -1            -1       -1      -1      -1   \n",
              "\n",
              "   identity_hate  \n",
              "0             -1  \n",
              "1             -1  \n",
              "2             -1  \n",
              "3             -1  \n",
              "4             -1  "
            ]
          },
          "metadata": {
            "tags": []
          },
          "execution_count": 11
        }
      ]
    },
    {
      "cell_type": "code",
      "metadata": {
        "execution": {
          "iopub.execute_input": "2021-05-01T11:44:30.864924Z",
          "iopub.status.busy": "2021-05-01T11:44:30.864159Z",
          "iopub.status.idle": "2021-05-01T11:44:30.869098Z",
          "shell.execute_reply": "2021-05-01T11:44:30.868616Z"
        },
        "papermill": {
          "duration": 0.359092,
          "end_time": "2021-05-01T11:44:30.869235",
          "exception": false,
          "start_time": "2021-05-01T11:44:30.510143",
          "status": "completed"
        },
        "tags": [],
        "id": "impaired-official",
        "outputId": "322a285b-a4a3-4145-a917-3968b9e7dd9f"
      },
      "source": [
        "len(train)"
      ],
      "id": "impaired-official",
      "execution_count": null,
      "outputs": [
        {
          "output_type": "execute_result",
          "data": {
            "text/plain": [
              "159571"
            ]
          },
          "metadata": {
            "tags": []
          },
          "execution_count": 12
        }
      ]
    },
    {
      "cell_type": "markdown",
      "metadata": {
        "papermill": {
          "duration": 0.320809,
          "end_time": "2021-05-01T11:44:31.513799",
          "exception": false,
          "start_time": "2021-05-01T11:44:31.192990",
          "status": "completed"
        },
        "tags": [],
        "id": "dental-disease"
      },
      "source": [
        "# From the graph below we can see that we have very high imbalance dataset"
      ],
      "id": "dental-disease"
    },
    {
      "cell_type": "code",
      "metadata": {
        "execution": {
          "iopub.execute_input": "2021-05-01T11:44:32.166103Z",
          "iopub.status.busy": "2021-05-01T11:44:32.165390Z",
          "iopub.status.idle": "2021-05-01T11:44:32.364636Z",
          "shell.execute_reply": "2021-05-01T11:44:32.365326Z"
        },
        "papermill": {
          "duration": 0.532121,
          "end_time": "2021-05-01T11:44:32.365560",
          "exception": false,
          "start_time": "2021-05-01T11:44:31.833439",
          "status": "completed"
        },
        "tags": [],
        "id": "another-ribbon",
        "outputId": "1022b444-29fc-433e-9036-cdeac1eb2fd7"
      },
      "source": [
        "\n",
        "plt.figure(figsize=(10, 5))\n",
        "plt.subplot(1, 2, 1)\n",
        "sns.countplot(train['toxic'])\n",
        "plt.title('Target on training data')\n",
        "\n",
        "plt.show()"
      ],
      "id": "another-ribbon",
      "execution_count": null,
      "outputs": [
        {
          "output_type": "stream",
          "text": [
            "/opt/conda/lib/python3.7/site-packages/seaborn/_decorators.py:43: FutureWarning: Pass the following variable as a keyword arg: x. From version 0.12, the only valid positional argument will be `data`, and passing other arguments without an explicit keyword will result in an error or misinterpretation.\n",
            "  FutureWarning\n"
          ],
          "name": "stderr"
        },
        {
          "output_type": "display_data",
          "data": {
            "image/png": "[encoded data removed]",
            "text/plain": [
              "<Figure size 720x360 with 1 Axes>"
            ]
          },
          "metadata": {
            "tags": [],
            "needs_background": "light"
          }
        }
      ]
    },
    {
      "cell_type": "markdown",
      "metadata": {
        "papermill": {
          "duration": 0.328576,
          "end_time": "2021-05-01T11:44:33.022147",
          "exception": false,
          "start_time": "2021-05-01T11:44:32.693571",
          "status": "completed"
        },
        "tags": [],
        "id": "urban-battery"
      },
      "source": [
        "# settings for 8 core tpu training"
      ],
      "id": "urban-battery"
    },
    {
      "cell_type": "code",
      "metadata": {
        "execution": {
          "iopub.execute_input": "2021-05-01T11:44:37.774049Z",
          "iopub.status.busy": "2021-05-01T11:44:33.707644Z",
          "iopub.status.idle": "2021-05-01T11:44:47.046129Z",
          "shell.execute_reply": "2021-05-01T11:44:47.046867Z"
        },
        "papermill": {
          "duration": 13.695361,
          "end_time": "2021-05-01T11:44:47.047104",
          "exception": false,
          "start_time": "2021-05-01T11:44:33.351743",
          "status": "completed"
        },
        "tags": [],
        "id": "fitted-transcript",
        "outputId": "bc6c1548-5108-4bfc-8c7d-54e76872bb2e"
      },
      "source": [
        "# Detect hardware, return appropriate distribution strategy\n",
        "try:\n",
        "    # TPU detection. No parameters necessary if TPU_NAME environment variable is\n",
        "    # set: this is always the case on Kaggle.\n",
        "    tpu = tf.distribute.cluster_resolver.TPUClusterResolver()\n",
        "    print('Running on TPU ', tpu.master())\n",
        "except ValueError:\n",
        "    tpu = None\n",
        "\n",
        "if tpu:\n",
        "    tf.config.experimental_connect_to_cluster(tpu)\n",
        "    tf.tpu.experimental.initialize_tpu_system(tpu)\n",
        "    strategy = tf.distribute.experimental.TPUStrategy(tpu)\n",
        "else:\n",
        "    # Default distribution strategy in Tensorflow. Works on CPU and single GPU.\n",
        "    strategy = tf.distribute.get_strategy()\n",
        "\n",
        "print(\"REPLICAS: \", strategy.num_replicas_in_sync)"
      ],
      "id": "fitted-transcript",
      "execution_count": null,
      "outputs": [
        {
          "output_type": "stream",
          "text": [
            "Running on TPU  grpc://10.0.0.2:8470\n",
            "REPLICAS:  8\n"
          ],
          "name": "stdout"
        }
      ]
    },
    {
      "cell_type": "code",
      "metadata": {
        "execution": {
          "iopub.execute_input": "2021-05-01T11:44:47.717085Z",
          "iopub.status.busy": "2021-05-01T11:44:47.716354Z",
          "iopub.status.idle": "2021-05-01T11:44:47.719513Z",
          "shell.execute_reply": "2021-05-01T11:44:47.720064Z"
        },
        "papermill": {
          "duration": 0.331535,
          "end_time": "2021-05-01T11:44:47.720245",
          "exception": false,
          "start_time": "2021-05-01T11:44:47.388710",
          "status": "completed"
        },
        "tags": [],
        "id": "suited-friendly",
        "outputId": "7057e677-4207-4a6f-91a0-66301352e1ff"
      },
      "source": [
        "strategy.num_replicas_in_sync #we've got 8 core"
      ],
      "id": "suited-friendly",
      "execution_count": null,
      "outputs": [
        {
          "output_type": "execute_result",
          "data": {
            "text/plain": [
              "8"
            ]
          },
          "metadata": {
            "tags": []
          },
          "execution_count": 15
        }
      ]
    },
    {
      "cell_type": "markdown",
      "metadata": {
        "papermill": {
          "duration": 0.32318,
          "end_time": "2021-05-01T11:44:48.369595",
          "exception": false,
          "start_time": "2021-05-01T11:44:48.046415",
          "status": "completed"
        },
        "tags": [],
        "id": "developed-ending"
      },
      "source": [
        "# config"
      ],
      "id": "developed-ending"
    },
    {
      "cell_type": "markdown",
      "metadata": {
        "papermill": {
          "duration": 0.322359,
          "end_time": "2021-05-01T11:44:49.017604",
          "exception": false,
          "start_time": "2021-05-01T11:44:48.695245",
          "status": "completed"
        },
        "tags": [],
        "id": "romance-cosmetic"
      },
      "source": [
        "we will use max_len = 256, batch size = 16 * 8 and will train our model for 10 epoch"
      ],
      "id": "romance-cosmetic"
    },
    {
      "cell_type": "code",
      "metadata": {
        "execution": {
          "iopub.execute_input": "2021-05-01T11:44:49.660350Z",
          "iopub.status.busy": "2021-05-01T11:44:49.659738Z",
          "iopub.status.idle": "2021-05-01T11:44:49.664097Z",
          "shell.execute_reply": "2021-05-01T11:44:49.664575Z"
        },
        "papermill": {
          "duration": 0.327426,
          "end_time": "2021-05-01T11:44:49.664785",
          "exception": false,
          "start_time": "2021-05-01T11:44:49.337359",
          "status": "completed"
        },
        "tags": [],
        "id": "mediterranean-daughter"
      },
      "source": [
        "AUTO = tf.data.experimental.AUTOTUNE\n",
        "\n",
        "# Configuration\n",
        "EPOCHS = 10\n",
        "BATCH_SIZE = 16 * strategy.num_replicas_in_sync # 16 * 8\n",
        "MAX_LEN = 256\n",
        "\n",
        "MODEL = 'bert-large-uncased'"
      ],
      "id": "mediterranean-daughter",
      "execution_count": null,
      "outputs": []
    },
    {
      "cell_type": "markdown",
      "metadata": {
        "papermill": {
          "duration": 0.320234,
          "end_time": "2021-05-01T11:44:50.306672",
          "exception": false,
          "start_time": "2021-05-01T11:44:49.986438",
          "status": "completed"
        },
        "tags": [],
        "id": "completed-staff"
      },
      "source": [
        "we will use AutoTokenizer from popular huggingface library which is easy to use and apply appropriate tokenization for chosen model,for better understanding please [check this](https://huggingface.co/transformers/model_doc/auto.html)"
      ],
      "id": "completed-staff"
    },
    {
      "cell_type": "code",
      "metadata": {
        "execution": {
          "iopub.execute_input": "2021-05-01T11:44:50.979523Z",
          "iopub.status.busy": "2021-05-01T11:44:50.978922Z",
          "iopub.status.idle": "2021-05-01T11:44:52.889700Z",
          "shell.execute_reply": "2021-05-01T11:44:52.889142Z"
        },
        "papermill": {
          "duration": 2.26319,
          "end_time": "2021-05-01T11:44:52.889852",
          "exception": false,
          "start_time": "2021-05-01T11:44:50.626662",
          "status": "completed"
        },
        "tags": [],
        "colab": {
          "referenced_widgets": [
            "a86065a1dfd14490bfeffbc8df7900b6",
            "afccf7e6e26c4fe6ba20976c34758181"
          ]
        },
        "id": "tender-former",
        "outputId": "4b4a9c32-a0d5-489a-92aa-684542d232e2"
      },
      "source": [
        "# First load the real tokenizer\n",
        "tokenizer = AutoTokenizer.from_pretrained(MODEL)\n"
      ],
      "id": "tender-former",
      "execution_count": null,
      "outputs": [
        {
          "output_type": "display_data",
          "data": {
            "application/vnd.jupyter.widget-view+json": {
              "model_id": "a86065a1dfd14490bfeffbc8df7900b6",
              "version_major": 2,
              "version_minor": 0
            },
            "text/plain": [
              "Downloading:   0%|          | 0.00/571 [00:00<?, ?B/s]"
            ]
          },
          "metadata": {
            "tags": []
          }
        },
        {
          "output_type": "display_data",
          "data": {
            "application/vnd.jupyter.widget-view+json": {
              "model_id": "afccf7e6e26c4fe6ba20976c34758181",
              "version_major": 2,
              "version_minor": 0
            },
            "text/plain": [
              "Downloading:   0%|          | 0.00/232k [00:00<?, ?B/s]"
            ]
          },
          "metadata": {
            "tags": []
          }
        }
      ]
    },
    {
      "cell_type": "code",
      "metadata": {
        "execution": {
          "iopub.execute_input": "2021-05-01T11:44:53.792965Z",
          "iopub.status.busy": "2021-05-01T11:44:53.792161Z",
          "iopub.status.idle": "2021-05-01T11:44:53.795432Z",
          "shell.execute_reply": "2021-05-01T11:44:53.796035Z"
        },
        "papermill": {
          "duration": 0.533575,
          "end_time": "2021-05-01T11:44:53.796216",
          "exception": false,
          "start_time": "2021-05-01T11:44:53.262641",
          "status": "completed"
        },
        "tags": [],
        "id": "unauthorized-surname",
        "outputId": "f5b36f8b-b474-466d-9deb-8cdbe893019e"
      },
      "source": [
        "train.columns"
      ],
      "id": "unauthorized-surname",
      "execution_count": null,
      "outputs": [
        {
          "output_type": "execute_result",
          "data": {
            "text/plain": [
              "Index(['id', 'comment_text', 'toxic', 'severe_toxic', 'obscene', 'threat',\n",
              "       'insult', 'identity_hate'],\n",
              "      dtype='object')"
            ]
          },
          "metadata": {
            "tags": []
          },
          "execution_count": 18
        }
      ]
    },
    {
      "cell_type": "markdown",
      "metadata": {
        "papermill": {
          "duration": 0.321784,
          "end_time": "2021-05-01T11:44:54.443127",
          "exception": false,
          "start_time": "2021-05-01T11:44:54.121343",
          "status": "completed"
        },
        "tags": [],
        "id": "muslim-greensboro"
      },
      "source": [
        "# text cleaning"
      ],
      "id": "muslim-greensboro"
    },
    {
      "cell_type": "code",
      "metadata": {
        "execution": {
          "iopub.execute_input": "2021-05-01T11:44:55.091447Z",
          "iopub.status.busy": "2021-05-01T11:44:55.090355Z",
          "iopub.status.idle": "2021-05-01T11:44:55.116148Z",
          "shell.execute_reply": "2021-05-01T11:44:55.116637Z"
        },
        "papermill": {
          "duration": 0.351479,
          "end_time": "2021-05-01T11:44:55.116828",
          "exception": false,
          "start_time": "2021-05-01T11:44:54.765349",
          "status": "completed"
        },
        "tags": [],
        "id": "dying-charles"
      },
      "source": [
        "\n",
        "\n",
        "punctuations = [',', '.', '\"', ':', ')', '(', '-', '!', '?', '|', ';', \"'\", '$', '&', '/', '[', ']', '>', '%', '=', '#', '*', '+', '\\\\', '•',  '~', '@', '£',\n",
        " '·', '_', '{', '}', '©', '^', '®', '`',  '<', '→', '°', '€', '™', '›',  '♥', '←', '×', '§', '″', '′', 'Â', '█', '½', 'à', '…', '\\xa0', '\\t',\n",
        " '“', '★', '”', '–', '●', 'â', '►', '−', '¢', '²', '¬', '░', '¶', '↑', '±', '¿', '▾', '═', '¦', '║', '―', '¥', '▓', '—', '‹', '─', '\\u3000', '\\u202f',\n",
        " '▒', '：', '¼', '⊕', '▼', '▪', '†', '■', '’', '▀', '¨', '▄', '♫', '☆', 'é', '¯', '♦', '¤', '▲', 'è', '¸', '¾', 'Ã', '⋅', '‘', '∞', '«',\n",
        " '∙', '）', '↓', '、', '│', '（', '»', '，', '♪', '╩', '╚', '³', '・', '╦', '╣', '╔', '╗', '▬', '❤', 'ï', 'Ø', '¹', '≤', '‡', '√', ]\n",
        "\n",
        "mispell_dict = {\"aren't\" : \"are not\",\n",
        "\"can't\" : \"cannot\",\n",
        "\"couldn't\" : \"could not\",\n",
        "\"couldnt\" : \"could not\",\n",
        "\"didn't\" : \"did not\",\n",
        "\"doesn't\" : \"does not\",\n",
        "\"doesnt\" : \"does not\",\n",
        "\"don't\" : \"do not\",\n",
        "\"hadn't\" : \"had not\",\n",
        "\"hasn't\" : \"has not\",\n",
        "\"haven't\" : \"have not\",\n",
        "\"havent\" : \"have not\",\n",
        "\"he'd\" : \"he would\",\n",
        "\"he'll\" : \"he will\",\n",
        "\"he's\" : \"he is\",\n",
        "\"i'd\" : \"I would\",\n",
        "\"i'd\" : \"I had\",\n",
        "\"i'll\" : \"I will\",\n",
        "\"i'm\" : \"I am\",\n",
        "\"isn't\" : \"is not\",\n",
        "\"it's\" : \"it is\",\n",
        "\"it'll\":\"it will\",\n",
        "\"i've\" : \"I have\",\n",
        "\"let's\" : \"let us\",\n",
        "\"mightn't\" : \"might not\",\n",
        "\"mustn't\" : \"must not\",\n",
        "\"shan't\" : \"shall not\",\n",
        "\"she'd\" : \"she would\",\n",
        "\"she'll\" : \"she will\",\n",
        "\"she's\" : \"she is\",\n",
        "\"shouldn't\" : \"should not\",\n",
        "\"shouldnt\" : \"should not\",\n",
        "\"that's\" : \"that is\",\n",
        "\"thats\" : \"that is\",\n",
        "\"there's\" : \"there is\",\n",
        "\"theres\" : \"there is\",\n",
        "\"they'd\" : \"they would\",\n",
        "\"they'll\" : \"they will\",\n",
        "\"they're\" : \"they are\",\n",
        "\"theyre\":  \"they are\",\n",
        "\"they've\" : \"they have\",\n",
        "\"we'd\" : \"we would\",\n",
        "\"we're\" : \"we are\",\n",
        "\"weren't\" : \"were not\",\n",
        "\"we've\" : \"we have\",\n",
        "\"what'll\" : \"what will\",\n",
        "\"what're\" : \"what are\",\n",
        "\"what's\" : \"what is\",\n",
        "\"what've\" : \"what have\",\n",
        "\"where's\" : \"where is\",\n",
        "\"who'd\" : \"who would\",\n",
        "\"who'll\" : \"who will\",\n",
        "\"who're\" : \"who are\",\n",
        "\"who's\" : \"who is\",\n",
        "\"who've\" : \"who have\",\n",
        "\"won't\" : \"will not\",\n",
        "\"wouldn't\" : \"would not\",\n",
        "\"you'd\" : \"you would\",\n",
        "\"you'll\" : \"you will\",\n",
        "\"you're\" : \"you are\",\n",
        "\"you've\" : \"you have\",\n",
        "\"'re\": \" are\",\n",
        "\"wasn't\": \"was not\",\n",
        "\"we'll\":\" will\",\n",
        "\"didn't\": \"did not\",\n",
        "\"tryin'\":\"trying\"}\n",
        "\n",
        "\n",
        "def text_cleaner(x):\n",
        "    x = str(x).replace(\"\\n\",\"\")\n",
        "    for punctuation in punctuations:\n",
        "        x = x.replace(punctuation, f' {punctuation} ')\n",
        "    return x\n",
        "\n",
        "\n",
        "def numbersCleaner(x):\n",
        "    x = re.sub('[0-9]{5,}', '#####', x)\n",
        "    x = re.sub('[0-9]{4}', '####', x)\n",
        "    x = re.sub('[0-9]{3}', '###', x)\n",
        "    x = re.sub('[0-9]{2}', '##', x)\n",
        "    return x\n",
        "\n",
        "\n",
        "def contractionsHandler(x):\n",
        "    x = tokenizer.tokenize(x)\n",
        "    return x\n",
        "\n",
        "def quoteFixer(data):\n",
        "    data = [x_[1:] if x_.startswith(\"'\") else x_ for x_ in data]\n",
        "    data = ' '.join(data)\n",
        "    return data\n",
        "\n",
        "def missplelling(missplelling_dict):\n",
        "    missplelling_re = re.compile('(%s)' % '|'.join(missplelling_dict.keys()))\n",
        "    return mispell_dict, missplelling_re\n",
        "\n",
        "\n",
        "def replace_misspell(text):\n",
        "    mispellings, mispellings_re = missplelling(mispell_dict)\n",
        "\n",
        "    def replace(match):\n",
        "        return mispellings[match.group(0)]\n",
        "\n",
        "    return mispellings_re.sub(replace, text)\n",
        "\n",
        "\n",
        "def dataCleaner(df, columns: list):\n",
        "    for col in columns:\n",
        "        df[col] = df[col].apply(lambda x: numbersCleaner(x))\n",
        "        df[col] = df[col].apply(lambda x: text_cleaner(x.lower())) \n",
        "        df[col] = df[col].apply(lambda x: replace_misspell(x))\n",
        "        df[col] = df[col].apply(lambda x: contractionsHandler(x))  \n",
        "        df[col] = df[col].apply(lambda x: quoteFixer(x))   \n",
        "    \n",
        "    return df\n",
        "\n"
      ],
      "id": "dying-charles",
      "execution_count": null,
      "outputs": []
    },
    {
      "cell_type": "markdown",
      "metadata": {
        "papermill": {
          "duration": 0.318708,
          "end_time": "2021-05-01T11:44:55.754224",
          "exception": false,
          "start_time": "2021-05-01T11:44:55.435516",
          "status": "completed"
        },
        "tags": [],
        "id": "temporal-tragedy"
      },
      "source": [
        "# applying text cleaning on full training dataset "
      ],
      "id": "temporal-tragedy"
    },
    {
      "cell_type": "code",
      "metadata": {
        "execution": {
          "iopub.execute_input": "2021-05-01T11:44:56.428234Z",
          "iopub.status.busy": "2021-05-01T11:44:56.427147Z",
          "iopub.status.idle": "2021-05-01T11:52:13.045052Z",
          "shell.execute_reply": "2021-05-01T11:52:13.045637Z"
        },
        "papermill": {
          "duration": 436.952987,
          "end_time": "2021-05-01T11:52:13.045829",
          "exception": false,
          "start_time": "2021-05-01T11:44:56.092842",
          "status": "completed"
        },
        "tags": [],
        "id": "white-modern",
        "outputId": "d5d160a8-f563-43c8-80f5-c2a7a633e3f3"
      },
      "source": [
        "%%time\n",
        "input_columns = [\n",
        "    'comment_text'   \n",
        "]\n",
        "\n",
        "'''using text cleaning techniques like clean numbers, clean text,replace some typical misspell,handle some contractions,fix quote \n",
        "on full training data'''\n",
        "\n",
        "train = dataCleaner(train, input_columns ) \n"
      ],
      "id": "white-modern",
      "execution_count": null,
      "outputs": [
        {
          "output_type": "stream",
          "text": [
            "CPU times: user 7min 14s, sys: 1.85 s, total: 7min 16s\n",
            "Wall time: 7min 16s\n"
          ],
          "name": "stdout"
        }
      ]
    },
    {
      "cell_type": "markdown",
      "metadata": {
        "papermill": {
          "duration": 0.325134,
          "end_time": "2021-05-01T11:52:13.700639",
          "exception": false,
          "start_time": "2021-05-01T11:52:13.375505",
          "status": "completed"
        },
        "tags": [],
        "id": "palestinian-joseph"
      },
      "source": [
        "# there are some values in label that are in float,we convert all of them down to 0/1(nearest integer) as we are treating this problem as multi class classification problem so we should fix the label issues"
      ],
      "id": "palestinian-joseph"
    },
    {
      "cell_type": "code",
      "metadata": {
        "execution": {
          "iopub.execute_input": "2021-05-01T11:52:14.377247Z",
          "iopub.status.busy": "2021-05-01T11:52:14.376363Z",
          "iopub.status.idle": "2021-05-01T11:52:14.388897Z",
          "shell.execute_reply": "2021-05-01T11:52:14.388301Z"
        },
        "papermill": {
          "duration": 0.35675,
          "end_time": "2021-05-01T11:52:14.389140",
          "exception": false,
          "start_time": "2021-05-01T11:52:14.032390",
          "status": "completed"
        },
        "tags": [],
        "id": "large-annual"
      },
      "source": [
        "train.toxic = train.toxic.round().astype(int)\n",
        "train.severe_toxic = train.severe_toxic.round().astype(int)\n",
        "train.obscene = train.obscene.round().astype(int)\n",
        "train.threat = train.threat.round().astype(int)\n",
        "train.insult = train.insult.round().astype(int)\n",
        "train.identity_hate = train.identity_hate.round().astype(int)\n"
      ],
      "id": "large-annual",
      "execution_count": null,
      "outputs": []
    },
    {
      "cell_type": "markdown",
      "metadata": {
        "papermill": {
          "duration": 0.326637,
          "end_time": "2021-05-01T11:52:15.044874",
          "exception": false,
          "start_time": "2021-05-01T11:52:14.718237",
          "status": "completed"
        },
        "tags": [],
        "id": "assumed-quick"
      },
      "source": [
        "data distribution of each class"
      ],
      "id": "assumed-quick"
    },
    {
      "cell_type": "code",
      "metadata": {
        "execution": {
          "iopub.execute_input": "2021-05-01T11:52:15.706326Z",
          "iopub.status.busy": "2021-05-01T11:52:15.705606Z",
          "iopub.status.idle": "2021-05-01T11:52:15.746247Z",
          "shell.execute_reply": "2021-05-01T11:52:15.745649Z"
        },
        "papermill": {
          "duration": 0.3754,
          "end_time": "2021-05-01T11:52:15.746394",
          "exception": false,
          "start_time": "2021-05-01T11:52:15.370994",
          "status": "completed"
        },
        "tags": [],
        "id": "collective-elite",
        "outputId": "9113bdcb-ff5a-482a-aa5d-5c5f8961eead"
      },
      "source": [
        "train[['identity_hate']].value_counts(),train[['toxic']].value_counts(),train[['severe_toxic']].value_counts(),train[['obscene']].value_counts(),train[['threat']].value_counts(),train[['insult']].value_counts()"
      ],
      "id": "collective-elite",
      "execution_count": null,
      "outputs": [
        {
          "output_type": "execute_result",
          "data": {
            "text/plain": [
              "(identity_hate\n",
              " 0                158166\n",
              " 1                  1405\n",
              " dtype: int64,\n",
              " toxic\n",
              " 0        144277\n",
              " 1         15294\n",
              " dtype: int64,\n",
              " severe_toxic\n",
              " 0               157976\n",
              " 1                 1595\n",
              " dtype: int64,\n",
              " obscene\n",
              " 0          151122\n",
              " 1            8449\n",
              " dtype: int64,\n",
              " threat\n",
              " 0         159093\n",
              " 1            478\n",
              " dtype: int64,\n",
              " insult\n",
              " 0         151694\n",
              " 1           7877\n",
              " dtype: int64)"
            ]
          },
          "metadata": {
            "tags": []
          },
          "execution_count": 22
        }
      ]
    },
    {
      "cell_type": "markdown",
      "metadata": {
        "papermill": {
          "duration": 0.328504,
          "end_time": "2021-05-01T11:52:16.402598",
          "exception": false,
          "start_time": "2021-05-01T11:52:16.074094",
          "status": "completed"
        },
        "tags": [],
        "id": "driven-image"
      },
      "source": [
        "for validation set we are going to take 70000 non toxic samples and 4000 toxic samples instead of doing simple 80-20 train test split,because that way it's easy to get a validation set which will contain small amount of toxic samples or no toxic samples at all as our dataset is highly imbalanced,so simple 80-20 split is not a good validation strategy here and we can't put enough trust on that validation strategy for this task,we must ensure that the valdiation dataset that we prepare here will contain sufficient positive ,negative samples for each and every class,hope it makes sense."
      ],
      "id": "driven-image"
    },
    {
      "cell_type": "code",
      "metadata": {
        "execution": {
          "iopub.execute_input": "2021-05-01T11:52:17.096162Z",
          "iopub.status.busy": "2021-05-01T11:52:17.090004Z",
          "iopub.status.idle": "2021-05-01T11:52:17.207754Z",
          "shell.execute_reply": "2021-05-01T11:52:17.206506Z"
        },
        "papermill": {
          "duration": 0.47663,
          "end_time": "2021-05-01T11:52:17.207931",
          "exception": false,
          "start_time": "2021-05-01T11:52:16.731301",
          "status": "completed"
        },
        "tags": [],
        "id": "living-working",
        "outputId": "3b1e6ede-73b2-42f7-abb5-630f1434f667"
      },
      "source": [
        "val =  pd.concat([\n",
        "  \n",
        "    train[['toxic', 'comment_text', 'severe_toxic', 'obscene', 'insult', 'threat', 'identity_hate']].query('toxic==0').sample(n=70000, random_state=0),\n",
        "\n",
        "    #train[['toxic', 'comment_text', 'severe_toxic', 'obscene', 'insult', 'threat', 'identity_hate']].query('severe_toxic==1').sample(n=500, random_state=0),\n",
        "    \n",
        "    train[['toxic', 'comment_text', 'severe_toxic', 'obscene', 'insult', 'threat', 'identity_hate']].query('toxic==1').sample(n=4000, random_state=0),\n",
        "\n",
        "    #train[['toxic', 'comment_text', 'severe_toxic', 'obscene', 'insult', 'threat', 'identity_hate']].query('obscene==1').sample(n=2000, random_state=0),\n",
        "\n",
        "    #train[['toxic', 'comment_text', 'severe_toxic', 'obscene', 'insult', 'threat', 'identity_hate']].query('insult==1').sample(n=2000, random_state=0),\n",
        "\n",
        "    #train[['toxic', 'comment_text', 'severe_toxic', 'obscene', 'insult', 'threat', 'identity_hate']].query('threat==1').sample(n=150, random_state=0),\n",
        "\n",
        "    #train[['toxic', 'comment_text', 'severe_toxic', 'obscene', 'insult', 'threat', 'identity_hate']].query('identity_hate==1').sample(n=500, random_state=0)\n",
        "])\n",
        "val.reset_index(inplace = True)\n",
        "len(val)"
      ],
      "id": "living-working",
      "execution_count": null,
      "outputs": [
        {
          "output_type": "execute_result",
          "data": {
            "text/plain": [
              "74000"
            ]
          },
          "metadata": {
            "tags": []
          },
          "execution_count": 23
        }
      ]
    },
    {
      "cell_type": "code",
      "metadata": {
        "execution": {
          "iopub.execute_input": "2021-05-01T11:52:17.863301Z",
          "iopub.status.busy": "2021-05-01T11:52:17.862579Z",
          "iopub.status.idle": "2021-05-01T11:52:18.032810Z",
          "shell.execute_reply": "2021-05-01T11:52:18.032260Z"
        },
        "papermill": {
          "duration": 0.498115,
          "end_time": "2021-05-01T11:52:18.032963",
          "exception": false,
          "start_time": "2021-05-01T11:52:17.534848",
          "status": "completed"
        },
        "tags": [],
        "id": "third-gallery",
        "outputId": "a1e4457e-eedf-439b-b0ef-84bb58a80df8"
      },
      "source": [
        "checkDuplicate = val[val.duplicated()]\n",
        "checkDuplicate"
      ],
      "id": "third-gallery",
      "execution_count": null,
      "outputs": [
        {
          "output_type": "execute_result",
          "data": {
            "text/html": [
              "<div>\n",
              "<style scoped>\n",
              "    .dataframe tbody tr th:only-of-type {\n",
              "        vertical-align: middle;\n",
              "    }\n",
              "\n",
              "    .dataframe tbody tr th {\n",
              "        vertical-align: top;\n",
              "    }\n",
              "\n",
              "    .dataframe thead th {\n",
              "        text-align: right;\n",
              "    }\n",
              "</style>\n",
              "<table border=\"1\" class=\"dataframe\">\n",
              "  <thead>\n",
              "    <tr style=\"text-align: right;\">\n",
              "      <th></th>\n",
              "      <th>index</th>\n",
              "      <th>toxic</th>\n",
              "      <th>comment_text</th>\n",
              "      <th>severe_toxic</th>\n",
              "      <th>obscene</th>\n",
              "      <th>insult</th>\n",
              "      <th>threat</th>\n",
              "      <th>identity_hate</th>\n",
              "    </tr>\n",
              "  </thead>\n",
              "  <tbody>\n",
              "  </tbody>\n",
              "</table>\n",
              "</div>"
            ],
            "text/plain": [
              "Empty DataFrame\n",
              "Columns: [index, toxic, comment_text, severe_toxic, obscene, insult, threat, identity_hate]\n",
              "Index: []"
            ]
          },
          "metadata": {
            "tags": []
          },
          "execution_count": 24
        }
      ]
    },
    {
      "cell_type": "code",
      "metadata": {
        "execution": {
          "iopub.execute_input": "2021-05-01T11:52:18.689695Z",
          "iopub.status.busy": "2021-05-01T11:52:18.689023Z",
          "iopub.status.idle": "2021-05-01T11:52:18.719911Z",
          "shell.execute_reply": "2021-05-01T11:52:18.719379Z"
        },
        "papermill": {
          "duration": 0.359846,
          "end_time": "2021-05-01T11:52:18.720052",
          "exception": false,
          "start_time": "2021-05-01T11:52:18.360206",
          "status": "completed"
        },
        "tags": [],
        "id": "southwest-aspect",
        "outputId": "277290cb-2b95-4b29-e40f-17657df334bb"
      },
      "source": [
        "val[['identity_hate']].value_counts(),val[['toxic']].value_counts(),val[['severe_toxic']].value_counts(),val[['obscene']].value_counts(),val[['threat']].value_counts(),val[['insult']].value_counts()"
      ],
      "id": "southwest-aspect",
      "execution_count": null,
      "outputs": [
        {
          "output_type": "execute_result",
          "data": {
            "text/plain": [
              "(identity_hate\n",
              " 0                73597\n",
              " 1                  403\n",
              " dtype: int64,\n",
              " toxic\n",
              " 0        70000\n",
              " 1         4000\n",
              " dtype: int64,\n",
              " severe_toxic\n",
              " 0               73547\n",
              " 1                 453\n",
              " dtype: int64,\n",
              " obscene\n",
              " 0          71653\n",
              " 1           2347\n",
              " dtype: int64,\n",
              " threat\n",
              " 0         73857\n",
              " 1           143\n",
              " dtype: int64,\n",
              " insult\n",
              " 0         71815\n",
              " 1          2185\n",
              " dtype: int64)"
            ]
          },
          "metadata": {
            "tags": []
          },
          "execution_count": 25
        }
      ]
    },
    {
      "cell_type": "markdown",
      "metadata": {
        "papermill": {
          "duration": 0.326774,
          "end_time": "2021-05-01T11:52:19.373565",
          "exception": false,
          "start_time": "2021-05-01T11:52:19.046791",
          "status": "completed"
        },
        "tags": [],
        "id": "chief-secondary"
      },
      "source": [
        "removing chosen validation indexes from train dataset(as they are no longer our training samples,we will use them for evaluation)"
      ],
      "id": "chief-secondary"
    },
    {
      "cell_type": "code",
      "metadata": {
        "execution": {
          "iopub.execute_input": "2021-05-01T11:52:20.031358Z",
          "iopub.status.busy": "2021-05-01T11:52:20.030658Z",
          "iopub.status.idle": "2021-05-01T11:52:20.034158Z",
          "shell.execute_reply": "2021-05-01T11:52:20.034725Z"
        },
        "papermill": {
          "duration": 0.337352,
          "end_time": "2021-05-01T11:52:20.034915",
          "exception": false,
          "start_time": "2021-05-01T11:52:19.697563",
          "status": "completed"
        },
        "tags": [],
        "id": "built-change",
        "outputId": "2ca43099-3988-477f-ca2d-293e99f41778"
      },
      "source": [
        "list1 = val.index\n",
        "list1"
      ],
      "id": "built-change",
      "execution_count": null,
      "outputs": [
        {
          "output_type": "execute_result",
          "data": {
            "text/plain": [
              "RangeIndex(start=0, stop=74000, step=1)"
            ]
          },
          "metadata": {
            "tags": []
          },
          "execution_count": 26
        }
      ]
    },
    {
      "cell_type": "code",
      "metadata": {
        "execution": {
          "iopub.execute_input": "2021-05-01T11:52:20.693439Z",
          "iopub.status.busy": "2021-05-01T11:52:20.692752Z",
          "iopub.status.idle": "2021-05-01T11:52:20.698898Z",
          "shell.execute_reply": "2021-05-01T11:52:20.699425Z"
        },
        "papermill": {
          "duration": 0.337128,
          "end_time": "2021-05-01T11:52:20.699623",
          "exception": false,
          "start_time": "2021-05-01T11:52:20.362495",
          "status": "completed"
        },
        "tags": [],
        "id": "general-canvas",
        "outputId": "fb801fb1-4ddf-4842-a16f-3b039d8cc96f"
      },
      "source": [
        "len(train)"
      ],
      "id": "general-canvas",
      "execution_count": null,
      "outputs": [
        {
          "output_type": "execute_result",
          "data": {
            "text/plain": [
              "159571"
            ]
          },
          "metadata": {
            "tags": []
          },
          "execution_count": 27
        }
      ]
    },
    {
      "cell_type": "code",
      "metadata": {
        "execution": {
          "iopub.execute_input": "2021-05-01T11:52:21.357808Z",
          "iopub.status.busy": "2021-05-01T11:52:21.357091Z",
          "iopub.status.idle": "2021-05-01T11:52:21.379139Z",
          "shell.execute_reply": "2021-05-01T11:52:21.379774Z"
        },
        "papermill": {
          "duration": 0.354081,
          "end_time": "2021-05-01T11:52:21.379953",
          "exception": false,
          "start_time": "2021-05-01T11:52:21.025872",
          "status": "completed"
        },
        "tags": [],
        "id": "existing-shock",
        "outputId": "5ee7f28a-24ae-4203-d35c-45442d15eba1"
      },
      "source": [
        "train = train.loc[~train.index.isin(list1)]\n",
        "train.reset_index(inplace = True)\n",
        "len(train)"
      ],
      "id": "existing-shock",
      "execution_count": null,
      "outputs": [
        {
          "output_type": "execute_result",
          "data": {
            "text/plain": [
              "85571"
            ]
          },
          "metadata": {
            "tags": []
          },
          "execution_count": 28
        }
      ]
    },
    {
      "cell_type": "markdown",
      "metadata": {
        "papermill": {
          "duration": 0.348797,
          "end_time": "2021-05-01T11:52:22.094206",
          "exception": false,
          "start_time": "2021-05-01T11:52:21.745409",
          "status": "completed"
        },
        "tags": [],
        "id": "tired-approval"
      },
      "source": [
        "# After splitting train and validation dataset,let's check our dataset's present distribution now that we are going to use for model training"
      ],
      "id": "tired-approval"
    },
    {
      "cell_type": "code",
      "metadata": {
        "execution": {
          "iopub.execute_input": "2021-05-01T11:52:22.784204Z",
          "iopub.status.busy": "2021-05-01T11:52:22.768023Z",
          "iopub.status.idle": "2021-05-01T11:52:23.823223Z",
          "shell.execute_reply": "2021-05-01T11:52:23.823709Z"
        },
        "papermill": {
          "duration": 1.394696,
          "end_time": "2021-05-01T11:52:23.823886",
          "exception": false,
          "start_time": "2021-05-01T11:52:22.429190",
          "status": "completed"
        },
        "tags": [],
        "id": "representative-trigger",
        "outputId": "035be45f-6158-4adf-ae9a-14e93fe64e05"
      },
      "source": [
        "fig , axes = plt.subplots(2,3,figsize = (10,10), constrained_layout = True)\n",
        "sns.countplot(ax=axes[0,0],x='toxic',data=train)\n",
        "sns.countplot(ax=axes[0,1],x='severe_toxic',data=train)\n",
        "sns.countplot(ax=axes[0,2],x='obscene',data=train)\n",
        "sns.countplot(ax = axes[1,0],x='threat',data=train)\n",
        "sns.countplot(ax=axes[1,1],x='insult',data=train)\n",
        "sns.countplot(ax=axes[1,2],x='identity_hate',data=train)\n",
        "plt.suptitle('training data distribution of each class')\n",
        "plt.show()"
      ],
      "id": "representative-trigger",
      "execution_count": null,
      "outputs": [
        {
          "output_type": "display_data",
          "data": {
            "image/png": "[encoded data removed]",
            "text/plain": [
              "<Figure size 720x720 with 6 Axes>"
            ]
          },
          "metadata": {
            "tags": [],
            "needs_background": "light"
          }
        }
      ]
    },
    {
      "cell_type": "code",
      "metadata": {
        "execution": {
          "iopub.execute_input": "2021-05-01T11:52:24.595428Z",
          "iopub.status.busy": "2021-05-01T11:52:24.591469Z",
          "iopub.status.idle": "2021-05-01T11:52:25.396442Z",
          "shell.execute_reply": "2021-05-01T11:52:25.397038Z"
        },
        "papermill": {
          "duration": 1.245333,
          "end_time": "2021-05-01T11:52:25.397226",
          "exception": false,
          "start_time": "2021-05-01T11:52:24.151893",
          "status": "completed"
        },
        "tags": [],
        "id": "choice-jewel",
        "outputId": "8d54984e-771d-4f53-8277-dc39e5cc6b12"
      },
      "source": [
        "fig , axes = plt.subplots(2,3,figsize = (10,10), constrained_layout = True)\n",
        "sns.countplot(ax=axes[0,0],x='toxic',data=val)\n",
        "sns.countplot(ax=axes[0,1],x='severe_toxic',data=val)\n",
        "sns.countplot(ax=axes[0,2],x='obscene',data=val)\n",
        "sns.countplot(ax = axes[1,0],x='threat',data=val)\n",
        "sns.countplot(ax=axes[1,1],x='insult',data=val)\n",
        "sns.countplot(ax=axes[1,2],x='identity_hate',data=val)\n",
        "plt.suptitle('validation data distribution of each class')\n",
        "plt.show()"
      ],
      "id": "choice-jewel",
      "execution_count": null,
      "outputs": [
        {
          "output_type": "display_data",
          "data": {
            "image/png": "[encoded data removed]",
            "text/plain": [
              "<Figure size 720x720 with 6 Axes>"
            ]
          },
          "metadata": {
            "tags": [],
            "needs_background": "light"
          }
        }
      ]
    },
    {
      "cell_type": "markdown",
      "metadata": {
        "papermill": {
          "duration": 0.330256,
          "end_time": "2021-05-01T11:52:26.054898",
          "exception": false,
          "start_time": "2021-05-01T11:52:25.724642",
          "status": "completed"
        },
        "tags": [],
        "id": "promising-defendant"
      },
      "source": [
        "from above 2 graphs we can see we have enough dataset in train and validation, and in both dataset we have high imbalance samples for each class but most importantly we can see that our validation dataset's each class containing enough positive negative samples and there are no class where we don't have any toxic samples,,so validation accuracy on this dataset is reliable enough"
      ],
      "id": "promising-defendant"
    },
    {
      "cell_type": "markdown",
      "metadata": {
        "papermill": {
          "duration": 0.32697,
          "end_time": "2021-05-01T11:52:26.713106",
          "exception": false,
          "start_time": "2021-05-01T11:52:26.386136",
          "status": "completed"
        },
        "tags": [],
        "id": "worthy-blond"
      },
      "source": [
        "the function below is used for applying tokenization for our selected model,,for better understanding of selected tokenization method,please [check this](https://huggingface.co/transformers/main_classes/tokenizer.html)"
      ],
      "id": "worthy-blond"
    },
    {
      "cell_type": "code",
      "metadata": {
        "execution": {
          "iopub.execute_input": "2021-05-01T11:52:27.378041Z",
          "iopub.status.busy": "2021-05-01T11:52:27.377251Z",
          "iopub.status.idle": "2021-05-01T11:52:27.382047Z",
          "shell.execute_reply": "2021-05-01T11:52:27.382624Z"
        },
        "papermill": {
          "duration": 0.342912,
          "end_time": "2021-05-01T11:52:27.382816",
          "exception": false,
          "start_time": "2021-05-01T11:52:27.039904",
          "status": "completed"
        },
        "tags": [],
        "id": "decent-detector"
      },
      "source": [
        "def regular_encode(texts, tokenizer, maxlen=512):\n",
        "    enc_di = tokenizer.batch_encode_plus(\n",
        "        texts, \n",
        "        return_attention_mask=False, \n",
        "        return_token_type_ids=False,\n",
        "        pad_to_max_length=True,\n",
        "        max_length=maxlen\n",
        "    )\n",
        "    \n",
        "    return np.array(enc_di['input_ids'])"
      ],
      "id": "decent-detector",
      "execution_count": null,
      "outputs": []
    },
    {
      "cell_type": "markdown",
      "metadata": {
        "papermill": {
          "duration": 0.330554,
          "end_time": "2021-05-01T11:52:28.039199",
          "exception": false,
          "start_time": "2021-05-01T11:52:27.708645",
          "status": "completed"
        },
        "tags": [],
        "id": "political-dispute"
      },
      "source": [
        "# we will use focal loss as our loss function as our dataset is highly imbalanced and focal loss does well when dataset is highly imbalance"
      ],
      "id": "political-dispute"
    },
    {
      "cell_type": "code",
      "metadata": {
        "execution": {
          "iopub.execute_input": "2021-05-01T11:52:28.709393Z",
          "iopub.status.busy": "2021-05-01T11:52:28.708773Z",
          "iopub.status.idle": "2021-05-01T11:52:28.712294Z",
          "shell.execute_reply": "2021-05-01T11:52:28.711766Z"
        },
        "papermill": {
          "duration": 0.340485,
          "end_time": "2021-05-01T11:52:28.712446",
          "exception": false,
          "start_time": "2021-05-01T11:52:28.371961",
          "status": "completed"
        },
        "tags": [],
        "id": "double-establishment"
      },
      "source": [
        "\n",
        "\n",
        "def focal_loss(gamma=2., alpha=.2):\n",
        "    def focal_loss_fixed(y_true, y_pred):\n",
        "        pt_1 = tf.where(tf.equal(y_true, 1), y_pred, tf.ones_like(y_pred))\n",
        "        pt_0 = tf.where(tf.equal(y_true, 0), y_pred, tf.zeros_like(y_pred))\n",
        "        return -K.mean(alpha * K.pow(1. - pt_1, gamma) * K.log(pt_1)) - K.mean((1 - alpha) * K.pow(pt_0, gamma) * K.log(1. - pt_0))\n",
        "    return focal_loss_fixed"
      ],
      "id": "double-establishment",
      "execution_count": null,
      "outputs": []
    },
    {
      "cell_type": "markdown",
      "metadata": {
        "papermill": {
          "duration": 0.333035,
          "end_time": "2021-05-01T11:52:29.372524",
          "exception": false,
          "start_time": "2021-05-01T11:52:29.039489",
          "status": "completed"
        },
        "tags": [],
        "id": "significant-ferry"
      },
      "source": [
        "# the function below will help us load our model and as metric we will use multilable AUC and recall"
      ],
      "id": "significant-ferry"
    },
    {
      "cell_type": "code",
      "metadata": {
        "execution": {
          "iopub.execute_input": "2021-05-01T11:52:30.052480Z",
          "iopub.status.busy": "2021-05-01T11:52:30.051817Z",
          "iopub.status.idle": "2021-05-01T11:52:30.055087Z",
          "shell.execute_reply": "2021-05-01T11:52:30.054512Z"
        },
        "papermill": {
          "duration": 0.341265,
          "end_time": "2021-05-01T11:52:30.055244",
          "exception": false,
          "start_time": "2021-05-01T11:52:29.713979",
          "status": "completed"
        },
        "tags": [],
        "id": "potential-montgomery"
      },
      "source": [
        "def build_model(transformer, loss, max_len=512):\n",
        "  \n",
        "    input_word_ids = Input(shape=(max_len,), dtype=tf.int32, name=\"input_word_ids\")\n",
        "    sequence_output = transformer(input_word_ids)[0]\n",
        "    cls_token = sequence_output[:, 0, :]\n",
        "    x = tf.keras.layers.Dropout(0.3)(cls_token)\n",
        "    out = Dense(6, activation='sigmoid')(cls_token) # we have 6 class\n",
        "    \n",
        "\n",
        "    model = Model(inputs=input_word_ids, outputs=out)\n",
        "    model.compile(Adam(lr=1e-5), loss=loss, metrics=[tf.keras.metrics.AUC(multi_label = True),tf.keras.metrics.Recall()])\n",
        "    \n",
        "    return model"
      ],
      "id": "potential-montgomery",
      "execution_count": null,
      "outputs": []
    },
    {
      "cell_type": "markdown",
      "metadata": {
        "papermill": {
          "duration": 0.328756,
          "end_time": "2021-05-01T11:52:30.714147",
          "exception": false,
          "start_time": "2021-05-01T11:52:30.385391",
          "status": "completed"
        },
        "tags": [],
        "id": "otherwise-pierce"
      },
      "source": [
        "encoding our train and validation dataset using regular encode class as discussed above"
      ],
      "id": "otherwise-pierce"
    },
    {
      "cell_type": "code",
      "metadata": {
        "execution": {
          "iopub.execute_input": "2021-05-01T11:52:31.382668Z",
          "iopub.status.busy": "2021-05-01T11:52:31.381646Z",
          "iopub.status.idle": "2021-05-01T12:00:14.396384Z",
          "shell.execute_reply": "2021-05-01T12:00:14.396927Z"
        },
        "papermill": {
          "duration": 463.35253,
          "end_time": "2021-05-01T12:00:14.397123",
          "exception": false,
          "start_time": "2021-05-01T11:52:31.044593",
          "status": "completed"
        },
        "tags": [],
        "id": "caroline-membrane",
        "outputId": "02bf0d32-c7eb-4150-9ca4-b40c128ed1d4"
      },
      "source": [
        "%%time \n",
        "\n",
        "x_train = regular_encode(train.comment_text.values, tokenizer, maxlen=MAX_LEN)\n",
        "x_valid = regular_encode(val.comment_text.values, tokenizer, maxlen=MAX_LEN)\n",
        "\n",
        "\n",
        "y_train = np.stack([train.toxic.values, train.severe_toxic.values, train.obscene.values, train.threat.values, train.insult.values, train.identity_hate.values], axis = 1)\n",
        "\n",
        "y_valid = np.stack([val.toxic.values, val.severe_toxic.values, val.obscene.values, val.threat.values, val.insult.values, val.identity_hate.values], axis = 1)\n"
      ],
      "id": "caroline-membrane",
      "execution_count": null,
      "outputs": [
        {
          "output_type": "stream",
          "text": [
            "Truncation was not explicitly activated but `max_length` is provided a specific value, please use `truncation=True` to explicitly truncate examples to max length. Defaulting to 'longest_first' truncation strategy. If you encode pairs of sequences (GLUE-style) with the tokenizer you can select this strategy more precisely by providing a specific strategy to `truncation`.\n",
            "/opt/conda/lib/python3.7/site-packages/transformers/tokenization_utils_base.py:2022: FutureWarning: The `pad_to_max_length` argument is deprecated and will be removed in a future version, use `padding=True` or `padding='longest'` to pad to the longest sequence in the batch, or use `padding='max_length'` to pad to a max length. In this case, you can give a specific length with `max_length` (e.g. `max_length=45`) or leave max_length to None to pad to the maximal input size of the model (e.g. 512 for Bert).\n",
            "  FutureWarning,\n"
          ],
          "name": "stderr"
        },
        {
          "output_type": "stream",
          "text": [
            "CPU times: user 7min 41s, sys: 948 ms, total: 7min 42s\n",
            "Wall time: 7min 42s\n"
          ],
          "name": "stdout"
        }
      ]
    },
    {
      "cell_type": "code",
      "metadata": {
        "execution": {
          "iopub.execute_input": "2021-05-01T12:00:15.066068Z",
          "iopub.status.busy": "2021-05-01T12:00:15.065374Z",
          "iopub.status.idle": "2021-05-01T12:00:15.068464Z",
          "shell.execute_reply": "2021-05-01T12:00:15.068986Z"
        },
        "papermill": {
          "duration": 0.339875,
          "end_time": "2021-05-01T12:00:15.069178",
          "exception": false,
          "start_time": "2021-05-01T12:00:14.729303",
          "status": "completed"
        },
        "tags": [],
        "id": "enclosed-martin",
        "outputId": "82caaef3-d79c-459f-9d21-77e50a647055"
      },
      "source": [
        "y_train.shape"
      ],
      "id": "enclosed-martin",
      "execution_count": null,
      "outputs": [
        {
          "output_type": "execute_result",
          "data": {
            "text/plain": [
              "(85571, 6)"
            ]
          },
          "metadata": {
            "tags": []
          },
          "execution_count": 35
        }
      ]
    },
    {
      "cell_type": "markdown",
      "metadata": {
        "papermill": {
          "duration": 0.335464,
          "end_time": "2021-05-01T12:00:15.737589",
          "exception": false,
          "start_time": "2021-05-01T12:00:15.402125",
          "status": "completed"
        },
        "tags": [],
        "id": "productive-voluntary"
      },
      "source": [
        "after encoding we will pass the encoded data to tf.data api for preparing our final training and validation dataset which we will be able to use in our model finally"
      ],
      "id": "productive-voluntary"
    },
    {
      "cell_type": "code",
      "metadata": {
        "execution": {
          "iopub.execute_input": "2021-05-01T12:00:16.408892Z",
          "iopub.status.busy": "2021-05-01T12:00:16.408221Z",
          "iopub.status.idle": "2021-05-01T12:00:18.191990Z",
          "shell.execute_reply": "2021-05-01T12:00:18.191424Z"
        },
        "papermill": {
          "duration": 2.12144,
          "end_time": "2021-05-01T12:00:18.192141",
          "exception": false,
          "start_time": "2021-05-01T12:00:16.070701",
          "status": "completed"
        },
        "tags": [],
        "id": "upper-brief"
      },
      "source": [
        "\n",
        "train_dataset = (\n",
        "    tf.data.Dataset\n",
        "    .from_tensor_slices((x_train, y_train))\n",
        "    .repeat()\n",
        "    .shuffle(2048)\n",
        "    .batch(BATCH_SIZE)\n",
        "    .prefetch(AUTO)\n",
        ")\n",
        "\n",
        "\n",
        "\n",
        "valid_dataset = (\n",
        "    tf.data.Dataset\n",
        "    .from_tensor_slices((x_valid, y_valid))\n",
        "    .batch(BATCH_SIZE)\n",
        "    .cache()\n",
        "    .prefetch(AUTO)\n",
        ")\n"
      ],
      "id": "upper-brief",
      "execution_count": null,
      "outputs": []
    },
    {
      "cell_type": "markdown",
      "metadata": {
        "papermill": {
          "duration": 0.331871,
          "end_time": "2021-05-01T12:00:18.866158",
          "exception": false,
          "start_time": "2021-05-01T12:00:18.534287",
          "status": "completed"
        },
        "tags": [],
        "id": "higher-matrix"
      },
      "source": [
        "# load the pretrained model that we are going to use for finetuning"
      ],
      "id": "higher-matrix"
    },
    {
      "cell_type": "code",
      "metadata": {
        "execution": {
          "iopub.execute_input": "2021-05-01T12:00:19.792124Z",
          "iopub.status.busy": "2021-05-01T12:00:19.789501Z",
          "iopub.status.idle": "2021-05-01T12:01:55.900679Z",
          "shell.execute_reply": "2021-05-01T12:01:55.899919Z"
        },
        "papermill": {
          "duration": 96.673539,
          "end_time": "2021-05-01T12:01:55.900844",
          "exception": false,
          "start_time": "2021-05-01T12:00:19.227305",
          "status": "completed"
        },
        "tags": [],
        "id": "therapeutic-hartford",
        "outputId": "75e9e3b9-3e69-4363-d7a2-7145421a56cd"
      },
      "source": [
        "%%time\n",
        "with strategy.scope():\n",
        "    transformer_layer = TFAutoModel.from_pretrained(MODEL)\n",
        "    model = build_model(transformer_layer,loss = focal_loss(), max_len=MAX_LEN)\n",
        "model.summary()"
      ],
      "id": "therapeutic-hartford",
      "execution_count": null,
      "outputs": [
        {
          "output_type": "display_data",
          "data": {
            "application/vnd.jupyter.widget-view+json": {
              "model_id": "bd2728544f6d4f0e82e7bfba01597b33",
              "version_major": 2,
              "version_minor": 0
            },
            "text/plain": [
              "Downloading:   0%|          | 0.00/1.47G [00:00<?, ?B/s]"
            ]
          },
          "metadata": {
            "tags": []
          }
        },
        {
          "output_type": "stream",
          "text": [
            "Some layers from the model checkpoint at bert-large-uncased were not used when initializing TFBertModel: ['nsp___cls', 'mlm___cls']\n",
            "- This IS expected if you are initializing TFBertModel from the checkpoint of a model trained on another task or with another architecture (e.g. initializing a BertForSequenceClassification model from a BertForPreTraining model).\n",
            "- This IS NOT expected if you are initializing TFBertModel from the checkpoint of a model that you expect to be exactly identical (initializing a BertForSequenceClassification model from a BertForSequenceClassification model).\n",
            "All the layers of TFBertModel were initialized from the model checkpoint at bert-large-uncased.\n",
            "If your task is similar to the task the model of the checkpoint was trained on, you can already use TFBertModel for predictions without further training.\n"
          ],
          "name": "stderr"
        },
        {
          "output_type": "stream",
          "text": [
            "Model: \"model\"\n",
            "_________________________________________________________________\n",
            "Layer (type)                 Output Shape              Param #   \n",
            "=================================================================\n",
            "input_word_ids (InputLayer)  [(None, 256)]             0         \n",
            "_________________________________________________________________\n",
            "tf_bert_model (TFBertModel)  ((None, 256, 1024), (None 335141888 \n",
            "_________________________________________________________________\n",
            "tf_op_layer_strided_slice (T [(None, 1024)]            0         \n",
            "_________________________________________________________________\n",
            "dense (Dense)                (None, 6)                 6150      \n",
            "=================================================================\n",
            "Total params: 335,148,038\n",
            "Trainable params: 335,148,038\n",
            "Non-trainable params: 0\n",
            "_________________________________________________________________\n",
            "CPU times: user 1min 4s, sys: 25.2 s, total: 1min 30s\n",
            "Wall time: 1min 36s\n"
          ],
          "name": "stdout"
        }
      ]
    },
    {
      "cell_type": "markdown",
      "metadata": {
        "papermill": {
          "duration": 0.327745,
          "end_time": "2021-05-01T12:01:56.560363",
          "exception": false,
          "start_time": "2021-05-01T12:01:56.232618",
          "status": "completed"
        },
        "tags": [],
        "id": "danish-handy"
      },
      "source": [
        "# check our model summary as a picture/image"
      ],
      "id": "danish-handy"
    },
    {
      "cell_type": "code",
      "metadata": {
        "execution": {
          "iopub.execute_input": "2021-05-01T12:01:57.227486Z",
          "iopub.status.busy": "2021-05-01T12:01:57.226596Z",
          "iopub.status.idle": "2021-05-01T12:01:57.819733Z",
          "shell.execute_reply": "2021-05-01T12:01:57.818986Z"
        },
        "papermill": {
          "duration": 0.929879,
          "end_time": "2021-05-01T12:01:57.819894",
          "exception": false,
          "start_time": "2021-05-01T12:01:56.890015",
          "status": "completed"
        },
        "tags": [],
        "id": "taken-hypothesis",
        "outputId": "42b61c4d-34bf-4438-db82-75ce428a4dba"
      },
      "source": [
        "\n",
        "SVG(tf.keras.utils.model_to_dot(model, dpi=70).create(prog='dot', format='svg'))"
      ],
      "id": "taken-hypothesis",
      "execution_count": null,
      "outputs": [
        {
          "output_type": "execute_result",
          "data": {
            "image/svg+xml": "<svg height=\"257pt\" viewBox=\"0.00 0.00 350.00 264.00\" width=\"340pt\" xmlns=\"http://www.w3.org/2000/svg\" xmlns:xlink=\"http://www.w3.org/1999/xlink\">\n<g class=\"graph\" id=\"graph0\" transform=\"scale(0.97 0.97) rotate(0) translate(4 260)\">\n<title>G</title>\n<polygon fill=\"white\" points=\"-4,4 -4,-260 346,-260 346,4 -4,4\" stroke=\"transparent\"/>\n<!-- 139764616693456 -->\n<g class=\"node\" id=\"node1\">\n<title>139764616693456</title>\n<polygon fill=\"none\" points=\"66,-219.5 66,-255.5 276,-255.5 276,-219.5 66,-219.5\" stroke=\"black\"/>\n<text font-family=\"Times-Roman\" font-size=\"14.00\" text-anchor=\"middle\" x=\"171\" y=\"-233.8\">input_word_ids: InputLayer</text>\n</g>\n<!-- 139764915421712 -->\n<g class=\"node\" id=\"node2\">\n<title>139764915421712</title>\n<polygon fill=\"none\" points=\"63.5,-146.5 63.5,-182.5 278.5,-182.5 278.5,-146.5 63.5,-146.5\" stroke=\"black\"/>\n<text font-family=\"Times-Roman\" font-size=\"14.00\" text-anchor=\"middle\" x=\"171\" y=\"-160.8\">tf_bert_model: TFBertModel</text>\n</g>\n<!-- 139764616693456&#45;&gt;139764915421712 -->\n<g class=\"edge\" id=\"edge1\">\n<title>139764616693456-&gt;139764915421712</title>\n<path d=\"M171,-219.31C171,-211.29 171,-201.55 171,-192.57\" fill=\"none\" stroke=\"black\"/>\n<polygon fill=\"black\" points=\"174.5,-192.53 171,-182.53 167.5,-192.53 174.5,-192.53\" stroke=\"black\"/>\n</g>\n<!-- 139762116531600 -->\n<g class=\"node\" id=\"node3\">\n<title>139762116531600</title>\n<polygon fill=\"none\" points=\"0,-73.5 0,-109.5 342,-109.5 342,-73.5 0,-73.5\" stroke=\"black\"/>\n<text font-family=\"Times-Roman\" font-size=\"14.00\" text-anchor=\"middle\" x=\"171\" y=\"-87.8\">tf_op_layer_strided_slice: TensorFlowOpLayer</text>\n</g>\n<!-- 139764915421712&#45;&gt;139762116531600 -->\n<g class=\"edge\" id=\"edge2\">\n<title>139764915421712-&gt;139762116531600</title>\n<path d=\"M171,-146.31C171,-138.29 171,-128.55 171,-119.57\" fill=\"none\" stroke=\"black\"/>\n<polygon fill=\"black\" points=\"174.5,-119.53 171,-109.53 167.5,-119.53 174.5,-119.53\" stroke=\"black\"/>\n</g>\n<!-- 139764611405776 -->\n<g class=\"node\" id=\"node4\">\n<title>139764611405776</title>\n<polygon fill=\"none\" points=\"113.5,-0.5 113.5,-36.5 228.5,-36.5 228.5,-0.5 113.5,-0.5\" stroke=\"black\"/>\n<text font-family=\"Times-Roman\" font-size=\"14.00\" text-anchor=\"middle\" x=\"171\" y=\"-14.8\">dense: Dense</text>\n</g>\n<!-- 139762116531600&#45;&gt;139764611405776 -->\n<g class=\"edge\" id=\"edge3\">\n<title>139762116531600-&gt;139764611405776</title>\n<path d=\"M171,-73.31C171,-65.29 171,-55.55 171,-46.57\" fill=\"none\" stroke=\"black\"/>\n<polygon fill=\"black\" points=\"174.5,-46.53 171,-36.53 167.5,-46.53 174.5,-46.53\" stroke=\"black\"/>\n</g>\n</g>\n</svg>",
            "text/plain": [
              "<IPython.core.display.SVG object>"
            ]
          },
          "metadata": {
            "tags": []
          },
          "execution_count": 38
        }
      ]
    },
    {
      "cell_type": "markdown",
      "metadata": {
        "papermill": {
          "duration": 0.333409,
          "end_time": "2021-05-01T12:01:58.485965",
          "exception": false,
          "start_time": "2021-05-01T12:01:58.152556",
          "status": "completed"
        },
        "tags": [],
        "id": "outstanding-sunset"
      },
      "source": [
        "for callback we use early stopping with patience = 2, means when validation accuracy will not improve after 2 consecutive epoch,training will stop and we also try to save the best model based on best validation accuracy"
      ],
      "id": "outstanding-sunset"
    },
    {
      "cell_type": "code",
      "metadata": {
        "execution": {
          "iopub.execute_input": "2021-05-01T12:01:59.170085Z",
          "iopub.status.busy": "2021-05-01T12:01:59.166506Z",
          "iopub.status.idle": "2021-05-01T12:01:59.173448Z",
          "shell.execute_reply": "2021-05-01T12:01:59.172876Z"
        },
        "papermill": {
          "duration": 0.345889,
          "end_time": "2021-05-01T12:01:59.173617",
          "exception": false,
          "start_time": "2021-05-01T12:01:58.827728",
          "status": "completed"
        },
        "tags": [],
        "id": "narrative-board"
      },
      "source": [
        "\n",
        "model_path = 'bert_large.h5'\n",
        "\n",
        "#checkpoint = ModelCheckpoint(filepath=model_path,save_weights_only=True, monitor='val_accuracy', mode='max', save_best_only=True)\n",
        "\n",
        "# Verbosity\n",
        "VERBOSE = 2\n",
        "\n",
        "checkpoint = tf.keras.callbacks.ModelCheckpoint(model_path, monitor = 'val_auc', verbose = VERBOSE, save_best_only = True,save_weights_only = True, mode = 'max')\n",
        "\n",
        "es = EarlyStopping(monitor='val_accuracy', mode='max', patience=2, \n",
        "                   restore_best_weights=True, verbose=1)\n",
        "\n",
        "callback_list = [checkpoint,  es]"
      ],
      "id": "narrative-board",
      "execution_count": null,
      "outputs": []
    },
    {
      "cell_type": "markdown",
      "metadata": {
        "papermill": {
          "duration": 0.334404,
          "end_time": "2021-05-01T12:01:59.838281",
          "exception": false,
          "start_time": "2021-05-01T12:01:59.503877",
          "status": "completed"
        },
        "tags": [],
        "id": "authorized-paint"
      },
      "source": [
        "# model 1 : train bert large uncased for 10 epochs"
      ],
      "id": "authorized-paint"
    },
    {
      "cell_type": "code",
      "metadata": {
        "execution": {
          "iopub.execute_input": "2021-05-01T12:02:00.527820Z",
          "iopub.status.busy": "2021-05-01T12:02:00.526792Z",
          "iopub.status.idle": "2021-05-01T13:13:50.605241Z",
          "shell.execute_reply": "2021-05-01T13:13:50.604565Z"
        },
        "papermill": {
          "duration": 4310.428206,
          "end_time": "2021-05-01T13:13:50.605458",
          "exception": false,
          "start_time": "2021-05-01T12:02:00.177252",
          "status": "completed"
        },
        "tags": [],
        "id": "productive-demonstration",
        "outputId": "2621bf52-7471-49b9-fd34-46663aca0bf6"
      },
      "source": [
        "%%time\n",
        "\n",
        "n_steps = x_train.shape[0] // BATCH_SIZE\n",
        "train_history = model.fit(\n",
        "    train_dataset,\n",
        "    steps_per_epoch=n_steps,\n",
        "    validation_data=valid_dataset,\n",
        "    callbacks=callback_list,\n",
        "    epochs=EPOCHS\n",
        ")"
      ],
      "id": "productive-demonstration",
      "execution_count": null,
      "outputs": [
        {
          "output_type": "stream",
          "text": [
            "Epoch 1/10\n",
            "668/668 [==============================] - ETA: 0s - recall: 0.3187 - auc: 0.9296 - loss: 0.0065\n",
            "Epoch 00001: val_auc improved from -inf to 0.98576, saving model to bert_large.h5\n",
            "668/668 [==============================] - 462s 691ms/step - recall: 0.3187 - auc: 0.9296 - loss: 0.0065 - val_recall: 0.5991 - val_auc: 0.9858 - val_loss: 0.0030\n",
            "Epoch 2/10\n",
            "668/668 [==============================] - ETA: 0s - recall: 0.4902 - auc: 0.9844 - loss: 0.0040\n",
            "Epoch 00002: val_auc improved from 0.98576 to 0.99171, saving model to bert_large.h5\n",
            "668/668 [==============================] - 409s 613ms/step - recall: 0.4902 - auc: 0.9844 - loss: 0.0040 - val_recall: 0.6875 - val_auc: 0.9917 - val_loss: 0.0033\n",
            "Epoch 3/10\n",
            "668/668 [==============================] - ETA: 0s - recall: 0.5302 - auc: 0.9900 - loss: 0.0036\n",
            "Epoch 00003: val_auc improved from 0.99171 to 0.99315, saving model to bert_large.h5\n",
            "668/668 [==============================] - 408s 611ms/step - recall: 0.5302 - auc: 0.9900 - loss: 0.0036 - val_recall: 0.6314 - val_auc: 0.9931 - val_loss: 0.0025\n",
            "Epoch 4/10\n",
            "668/668 [==============================] - ETA: 0s - recall: 0.5574 - auc: 0.9920 - loss: 0.0033\n",
            "Epoch 00004: val_auc improved from 0.99315 to 0.99441, saving model to bert_large.h5\n",
            "668/668 [==============================] - 407s 610ms/step - recall: 0.5574 - auc: 0.9920 - loss: 0.0033 - val_recall: 0.6038 - val_auc: 0.9944 - val_loss: 0.0022\n",
            "Epoch 5/10\n",
            "668/668 [==============================] - ETA: 0s - recall: 0.5925 - auc: 0.9937 - loss: 0.0030\n",
            "Epoch 00005: val_auc improved from 0.99441 to 0.99473, saving model to bert_large.h5\n",
            "668/668 [==============================] - 408s 611ms/step - recall: 0.5925 - auc: 0.9937 - loss: 0.0030 - val_recall: 0.7055 - val_auc: 0.9947 - val_loss: 0.0023\n",
            "Epoch 6/10\n",
            "668/668 [==============================] - ETA: 0s - recall: 0.6172 - auc: 0.9945 - loss: 0.0028\n",
            "Epoch 00006: val_auc improved from 0.99473 to 0.99477, saving model to bert_large.h5\n",
            "668/668 [==============================] - 408s 611ms/step - recall: 0.6172 - auc: 0.9945 - loss: 0.0028 - val_recall: 0.6756 - val_auc: 0.9948 - val_loss: 0.0021\n",
            "Epoch 7/10\n",
            "668/668 [==============================] - ETA: 0s - recall: 0.6464 - auc: 0.9955 - loss: 0.0026\n",
            "Epoch 00007: val_auc did not improve from 0.99477\n",
            "668/668 [==============================] - 402s 602ms/step - recall: 0.6464 - auc: 0.9955 - loss: 0.0026 - val_recall: 0.7376 - val_auc: 0.9946 - val_loss: 0.0023\n",
            "Epoch 8/10\n",
            "668/668 [==============================] - ETA: 0s - recall: 0.6692 - auc: 0.9960 - loss: 0.0025\n",
            "Epoch 00008: val_auc improved from 0.99477 to 0.99495, saving model to bert_large.h5\n",
            "668/668 [==============================] - 409s 613ms/step - recall: 0.6692 - auc: 0.9960 - loss: 0.0025 - val_recall: 0.7028 - val_auc: 0.9949 - val_loss: 0.0022\n",
            "Epoch 9/10\n",
            "668/668 [==============================] - ETA: 0s - recall: 0.7198 - auc: 0.9970 - loss: 0.0021\n",
            "Epoch 00009: val_auc improved from 0.99495 to 0.99522, saving model to bert_large.h5\n",
            "668/668 [==============================] - 409s 612ms/step - recall: 0.7198 - auc: 0.9970 - loss: 0.0021 - val_recall: 0.7724 - val_auc: 0.9952 - val_loss: 0.0024\n",
            "Epoch 10/10\n",
            "668/668 [==============================] - ETA: 0s - recall: 0.7694 - auc: 0.9980 - loss: 0.0017\n",
            "Epoch 00010: val_auc did not improve from 0.99522\n",
            "668/668 [==============================] - 400s 600ms/step - recall: 0.7694 - auc: 0.9980 - loss: 0.0017 - val_recall: 0.7833 - val_auc: 0.9944 - val_loss: 0.0025\n",
            "CPU times: user 7min 5s, sys: 53.9 s, total: 7min 59s\n",
            "Wall time: 1h 11min 47s\n"
          ],
          "name": "stdout"
        }
      ]
    },
    {
      "cell_type": "code",
      "metadata": {
        "execution": {
          "iopub.execute_input": "2021-05-01T13:13:55.395494Z",
          "iopub.status.busy": "2021-05-01T13:13:55.394832Z",
          "iopub.status.idle": "2021-05-01T13:14:01.666885Z",
          "shell.execute_reply": "2021-05-01T13:14:01.667405Z"
        },
        "papermill": {
          "duration": 8.659726,
          "end_time": "2021-05-01T13:14:01.667653",
          "exception": false,
          "start_time": "2021-05-01T13:13:53.007927",
          "status": "completed"
        },
        "tags": [],
        "id": "beautiful-hudson"
      },
      "source": [
        "model.save_weights('model_checkpoint_0.h5')"
      ],
      "id": "beautiful-hudson",
      "execution_count": null,
      "outputs": []
    },
    {
      "cell_type": "markdown",
      "metadata": {
        "papermill": {
          "duration": 2.4917,
          "end_time": "2021-05-01T13:14:06.669675",
          "exception": false,
          "start_time": "2021-05-01T13:14:04.177975",
          "status": "completed"
        },
        "tags": [],
        "id": "accredited-dutch"
      },
      "source": [
        "from the trained log above our validation accuracy metric let's us know about our models performance"
      ],
      "id": "accredited-dutch"
    },
    {
      "cell_type": "markdown",
      "metadata": {
        "papermill": {
          "duration": 4.938391,
          "end_time": "2021-05-01T13:14:14.068487",
          "exception": false,
          "start_time": "2021-05-01T13:14:09.130096",
          "status": "completed"
        },
        "tags": [],
        "id": "therapeutic-chapel"
      },
      "source": [
        "# confusion matrix "
      ],
      "id": "therapeutic-chapel"
    },
    {
      "cell_type": "code",
      "metadata": {
        "execution": {
          "iopub.execute_input": "2021-05-01T13:14:18.848886Z",
          "iopub.status.busy": "2021-05-01T13:14:18.848155Z",
          "iopub.status.idle": "2021-05-01T13:16:42.220641Z",
          "shell.execute_reply": "2021-05-01T13:16:42.217551Z"
        },
        "papermill": {
          "duration": 145.792563,
          "end_time": "2021-05-01T13:16:42.220790",
          "exception": false,
          "start_time": "2021-05-01T13:14:16.428227",
          "status": "completed"
        },
        "tags": [],
        "id": "northern-judgment",
        "outputId": "d3332571-1ea6-4f43-c200-c89c976b434c"
      },
      "source": [
        "from sklearn.metrics import confusion_matrix,  multilabel_confusion_matrix\n",
        "from sklearn.preprocessing import MultiLabelBinarizer\n",
        "\n",
        "classes_ = ['toxic', 'severe_toxic', 'obscene', 'threat', 'insult', 'identity_hate']\n",
        "\n",
        "\n",
        "\n",
        "preds = model.predict(valid_dataset, verbose = 1)\n",
        "preds = np.where(preds < 0.5, 0, 1)\n",
        "\n",
        "# Creating multilabel confusion matrix\n",
        "confusion = multilabel_confusion_matrix(y_valid, preds)\n",
        "\n",
        "# Plot confusion matrix \n",
        "fig = plt.figure(figsize = (14, 8))\n",
        "for i, (label, matrix) in enumerate(zip(classes_, confusion)):\n",
        "    plt.subplot(f'23{i+1}')\n",
        "    labels = [f'not_{label}', label]\n",
        "    sns.heatmap(matrix, annot = True, square = True, fmt = 'd', cbar = False, cmap = 'rainbow', \n",
        "                xticklabels = labels, yticklabels = labels, linecolor = 'black', linewidth = 1)\n",
        "    plt.title(labels[0])\n",
        "\n",
        "plt.tight_layout()\n",
        "plt.show()"
      ],
      "id": "northern-judgment",
      "execution_count": null,
      "outputs": [
        {
          "output_type": "stream",
          "text": [
            "579/579 [==============================] - 100s 173ms/step\n"
          ],
          "name": "stdout"
        },
        {
          "output_type": "stream",
          "text": [
            "/opt/conda/lib/python3.7/site-packages/ipykernel_launcher.py:17: MatplotlibDeprecationWarning: Passing non-integers as three-element position specification is deprecated since 3.3 and will be removed two minor releases later.\n"
          ],
          "name": "stderr"
        },
        {
          "output_type": "display_data",
          "data": {
            "image/png": "[encoded data removed]",
            "text/plain": [
              "<Figure size 1008x576 with 6 Axes>"
            ]
          },
          "metadata": {
            "tags": [],
            "needs_background": "light"
          }
        }
      ]
    },
    {
      "cell_type": "code",
      "metadata": {
        "execution": {
          "iopub.execute_input": "2021-05-01T13:16:47.436053Z",
          "iopub.status.busy": "2021-05-01T13:16:47.435291Z",
          "iopub.status.idle": "2021-05-01T13:16:47.545576Z",
          "shell.execute_reply": "2021-05-01T13:16:47.545013Z"
        },
        "papermill": {
          "duration": 2.679152,
          "end_time": "2021-05-01T13:16:47.545741",
          "exception": false,
          "start_time": "2021-05-01T13:16:44.866589",
          "status": "completed"
        },
        "tags": [],
        "id": "classical-thermal",
        "outputId": "cf3c047d-c7b0-4ab6-8867-3a60ab00105d"
      },
      "source": [
        "from sklearn import metrics\n",
        "# Faced similar issue : https://stackoverflow.com/questions/61899676/tensorflow-model-evaluate-and-model-predict-very-different-results\n",
        "\n",
        "#accuracy = metrics.accuracy_score(y_valid, preds)\n",
        "f1_score_micro = metrics.f1_score(y_valid, preds, average='micro')\n",
        "f1_score_macro = metrics.f1_score(y_valid, preds, average='macro')\n",
        "#print(f\"Accuracy Score = {accuracy}\")\n",
        "print(f\"F1 Score (Micro) = {f1_score_micro}\")\n",
        "print(f\"F1 Score (Macro) = {f1_score_macro}\")\n",
        "\n",
        "    "
      ],
      "id": "classical-thermal",
      "execution_count": null,
      "outputs": [
        {
          "output_type": "stream",
          "text": [
            "F1 Score (Micro) = 0.8308479857556198\n",
            "F1 Score (Macro) = 0.729415431754587\n"
          ],
          "name": "stdout"
        }
      ]
    },
    {
      "cell_type": "markdown",
      "metadata": {
        "id": "hlUsaSAyGZEf"
      },
      "source": [
        "we can see we have got validation accuracy over 99% and validation recall 0.78+ after 10 epoch and seems like more trianing could yield better result and this recall score along with high validation accuracy telling us that our overall model performance is good enough for this dataset,however hopefully we could achieve much better f1 score and recall if we had more toxic samples in validation and training and little bit less non toxic samples in validation phase as it is dominating over small toxic samples a lot in validation set,or maybe with focal loss parameter tuning we could get overall better recall and f1 score"
      ],
      "id": "hlUsaSAyGZEf"
    },
    {
      "cell_type": "code",
      "metadata": {
        "papermill": {
          "duration": 2.593435,
          "end_time": "2021-05-01T13:16:52.812365",
          "exception": false,
          "start_time": "2021-05-01T13:16:50.218930",
          "status": "completed"
        },
        "tags": [],
        "id": "ideal-binding"
      },
      "source": [
        ""
      ],
      "id": "ideal-binding",
      "execution_count": null,
      "outputs": []
    }
  ]
}