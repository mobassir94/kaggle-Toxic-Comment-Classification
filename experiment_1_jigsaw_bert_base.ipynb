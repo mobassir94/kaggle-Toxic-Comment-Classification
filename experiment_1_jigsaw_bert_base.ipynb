{
  "nbformat": 4,
  "nbformat_minor": 5,
  "metadata": {
    "kernelspec": {
      "display_name": "Python 3",
      "language": "python",
      "name": "python3"
    },
    "language_info": {
      "codemirror_mode": {
        "name": "ipython",
        "version": 3
      },
      "file_extension": ".py",
      "mimetype": "text/x-python",
      "name": "python",
      "nbconvert_exporter": "python",
      "pygments_lexer": "ipython3",
      "version": "3.7.10"
    },
    "papermill": {
      "default_parameters": {},
      "duration": 4500.819001,
      "end_time": "2021-05-01T11:25:01.724543",
      "environment_variables": {},
      "exception": null,
      "input_path": "__notebook__.ipynb",
      "output_path": "__notebook__.ipynb",
      "parameters": {},
      "start_time": "2021-05-01T10:10:00.905542",
      "version": "2.3.3"
    },
    "widgets": {
      "application/vnd.jupyter.widget-state+json": {}
    },
    "colab": {
      "name": "experiment 1 : jigsaw-bert-base.ipynb",
      "provenance": []
    }
  },
  "cells": [
    {
      "cell_type": "markdown",
      "metadata": {
        "_cell_guid": "b1076dfc-b9ad-4769-8c92-a6c4dae69d19",
        "_uuid": "8f2839f25d086af736a60e9eeb907d3b93b6e0e5",
        "papermill": {
          "duration": 0.043595,
          "end_time": "2021-05-01T10:10:09.241677",
          "exception": false,
          "start_time": "2021-05-01T10:10:09.198082",
          "status": "completed"
        },
        "tags": [],
        "id": "nearby-concern"
      },
      "source": [
        "in this notebook i will use tensorflow tpu v3.8 of kaggle for faster experiment,kaggle tpu is very fast and has more vram which lets us do very fancy experiments with ease,i will use it with immensely popular  python library called huggingface, which provides many pretrained models both in pytorch and tensorflow which is extraordinarily useful for various NLP tasks."
      ],
      "id": "nearby-concern"
    },
    {
      "cell_type": "code",
      "metadata": {
        "execution": {
          "iopub.execute_input": "2021-05-01T10:10:09.333051Z",
          "iopub.status.busy": "2021-05-01T10:10:09.331258Z",
          "iopub.status.idle": "2021-05-01T10:12:02.995218Z",
          "shell.execute_reply": "2021-05-01T10:12:02.994126Z"
        },
        "papermill": {
          "duration": 113.710542,
          "end_time": "2021-05-01T10:12:02.995514",
          "exception": false,
          "start_time": "2021-05-01T10:10:09.284972",
          "status": "completed"
        },
        "tags": [],
        "id": "raising-benjamin",
        "outputId": "fbccbc2c-9261-4c02-99d0-0281e50f3b7b"
      },
      "source": [
        "!pip install cloud-tpu-client\n",
        "!pip install tensorflow==2.2.0 \n",
        "\n",
        "#!pip install tensorflow~=2.2.0 tensorflow_gcs_config~=2.2.0\n",
        "!pip install transformers==3.5.1\n",
        "!pip install tensorflow-addons==0.10.0"
      ],
      "id": "raising-benjamin",
      "execution_count": null,
      "outputs": [
        {
          "output_type": "stream",
          "text": [
            "Requirement already satisfied: cloud-tpu-client in /opt/conda/lib/python3.7/site-packages (0.10)\r\n",
            "Requirement already satisfied: google-api-python-client==1.8.0 in /opt/conda/lib/python3.7/site-packages (from cloud-tpu-client) (1.8.0)\r\n",
            "Requirement already satisfied: oauth2client in /opt/conda/lib/python3.7/site-packages (from cloud-tpu-client) (4.1.3)\r\n",
            "Requirement already satisfied: google-auth>=1.4.1 in /opt/conda/lib/python3.7/site-packages (from google-api-python-client==1.8.0->cloud-tpu-client) (1.26.1)\r\n",
            "Requirement already satisfied: google-auth-httplib2>=0.0.3 in /opt/conda/lib/python3.7/site-packages (from google-api-python-client==1.8.0->cloud-tpu-client) (0.0.4)\r\n",
            "Requirement already satisfied: six<2dev,>=1.6.1 in /opt/conda/lib/python3.7/site-packages (from google-api-python-client==1.8.0->cloud-tpu-client) (1.15.0)\r\n",
            "Requirement already satisfied: httplib2<1dev,>=0.9.2 in /opt/conda/lib/python3.7/site-packages (from google-api-python-client==1.8.0->cloud-tpu-client) (0.19.0)\r\n",
            "Requirement already satisfied: uritemplate<4dev,>=3.0.0 in /opt/conda/lib/python3.7/site-packages (from google-api-python-client==1.8.0->cloud-tpu-client) (3.0.1)\r\n",
            "Requirement already satisfied: google-api-core<2dev,>=1.13.0 in /opt/conda/lib/python3.7/site-packages (from google-api-python-client==1.8.0->cloud-tpu-client) (1.26.2)\r\n",
            "Requirement already satisfied: packaging>=14.3 in /opt/conda/lib/python3.7/site-packages (from google-api-core<2dev,>=1.13.0->google-api-python-client==1.8.0->cloud-tpu-client) (20.9)\r\n",
            "Requirement already satisfied: pytz in /opt/conda/lib/python3.7/site-packages (from google-api-core<2dev,>=1.13.0->google-api-python-client==1.8.0->cloud-tpu-client) (2021.1)\r\n",
            "Requirement already satisfied: setuptools>=40.3.0 in /opt/conda/lib/python3.7/site-packages (from google-api-core<2dev,>=1.13.0->google-api-python-client==1.8.0->cloud-tpu-client) (49.6.0.post20210108)\r\n",
            "Requirement already satisfied: protobuf>=3.12.0 in /opt/conda/lib/python3.7/site-packages (from google-api-core<2dev,>=1.13.0->google-api-python-client==1.8.0->cloud-tpu-client) (3.15.8)\r\n",
            "Requirement already satisfied: googleapis-common-protos<2.0dev,>=1.6.0 in /opt/conda/lib/python3.7/site-packages (from google-api-core<2dev,>=1.13.0->google-api-python-client==1.8.0->cloud-tpu-client) (1.53.0)\r\n",
            "Requirement already satisfied: requests<3.0.0dev,>=2.18.0 in /opt/conda/lib/python3.7/site-packages (from google-api-core<2dev,>=1.13.0->google-api-python-client==1.8.0->cloud-tpu-client) (2.25.1)\r\n",
            "Requirement already satisfied: pyasn1-modules>=0.2.1 in /opt/conda/lib/python3.7/site-packages (from google-auth>=1.4.1->google-api-python-client==1.8.0->cloud-tpu-client) (0.2.7)\r\n",
            "Requirement already satisfied: rsa<5,>=3.1.4 in /opt/conda/lib/python3.7/site-packages (from google-auth>=1.4.1->google-api-python-client==1.8.0->cloud-tpu-client) (4.7.2)\r\n",
            "Requirement already satisfied: cachetools<5.0,>=2.0.0 in /opt/conda/lib/python3.7/site-packages (from google-auth>=1.4.1->google-api-python-client==1.8.0->cloud-tpu-client) (4.2.1)\r\n",
            "Requirement already satisfied: pyparsing<3,>=2.4.2 in /opt/conda/lib/python3.7/site-packages (from httplib2<1dev,>=0.9.2->google-api-python-client==1.8.0->cloud-tpu-client) (2.4.7)\r\n",
            "Requirement already satisfied: pyasn1<0.5.0,>=0.4.6 in /opt/conda/lib/python3.7/site-packages (from pyasn1-modules>=0.2.1->google-auth>=1.4.1->google-api-python-client==1.8.0->cloud-tpu-client) (0.4.8)\r\n",
            "Requirement already satisfied: urllib3<1.27,>=1.21.1 in /opt/conda/lib/python3.7/site-packages (from requests<3.0.0dev,>=2.18.0->google-api-core<2dev,>=1.13.0->google-api-python-client==1.8.0->cloud-tpu-client) (1.26.4)\r\n",
            "Requirement already satisfied: idna<3,>=2.5 in /opt/conda/lib/python3.7/site-packages (from requests<3.0.0dev,>=2.18.0->google-api-core<2dev,>=1.13.0->google-api-python-client==1.8.0->cloud-tpu-client) (2.10)\r\n",
            "Requirement already satisfied: certifi>=2017.4.17 in /opt/conda/lib/python3.7/site-packages (from requests<3.0.0dev,>=2.18.0->google-api-core<2dev,>=1.13.0->google-api-python-client==1.8.0->cloud-tpu-client) (2020.12.5)\r\n",
            "Requirement already satisfied: chardet<5,>=3.0.2 in /opt/conda/lib/python3.7/site-packages (from requests<3.0.0dev,>=2.18.0->google-api-core<2dev,>=1.13.0->google-api-python-client==1.8.0->cloud-tpu-client) (4.0.0)\r\n",
            "Collecting tensorflow==2.2.0\r\n",
            "  Downloading tensorflow-2.2.0-cp37-cp37m-manylinux2010_x86_64.whl (516.2 MB)\r\n",
            "\u001b[K     |████████████████████████████████| 516.2 MB 2.7 kB/s \r\n",
            "\u001b[?25hRequirement already satisfied: opt-einsum>=2.3.2 in /opt/conda/lib/python3.7/site-packages (from tensorflow==2.2.0) (3.3.0)\r\n",
            "Requirement already satisfied: wheel>=0.26 in /opt/conda/lib/python3.7/site-packages (from tensorflow==2.2.0) (0.36.2)\r\n",
            "Requirement already satisfied: protobuf>=3.8.0 in /opt/conda/lib/python3.7/site-packages (from tensorflow==2.2.0) (3.15.8)\r\n",
            "Requirement already satisfied: google-pasta>=0.1.8 in /opt/conda/lib/python3.7/site-packages (from tensorflow==2.2.0) (0.2.0)\r\n",
            "Requirement already satisfied: wrapt>=1.11.1 in /opt/conda/lib/python3.7/site-packages (from tensorflow==2.2.0) (1.12.1)\r\n",
            "Requirement already satisfied: astunparse==1.6.3 in /opt/conda/lib/python3.7/site-packages (from tensorflow==2.2.0) (1.6.3)\r\n",
            "Requirement already satisfied: gast==0.3.3 in /opt/conda/lib/python3.7/site-packages (from tensorflow==2.2.0) (0.3.3)\r\n",
            "Collecting tensorflow-estimator<2.3.0,>=2.2.0\r\n",
            "  Downloading tensorflow_estimator-2.2.0-py2.py3-none-any.whl (454 kB)\r\n",
            "\u001b[K     |████████████████████████████████| 454 kB 40.1 MB/s \r\n",
            "\u001b[?25hRequirement already satisfied: grpcio>=1.8.6 in /opt/conda/lib/python3.7/site-packages (from tensorflow==2.2.0) (1.32.0)\r\n",
            "Collecting scipy==1.4.1\r\n",
            "  Downloading scipy-1.4.1-cp37-cp37m-manylinux1_x86_64.whl (26.1 MB)\r\n",
            "\u001b[K     |████████████████████████████████| 26.1 MB 52.2 MB/s \r\n",
            "\u001b[?25hRequirement already satisfied: six>=1.12.0 in /opt/conda/lib/python3.7/site-packages (from tensorflow==2.2.0) (1.15.0)\r\n",
            "Collecting tensorboard<2.3.0,>=2.2.0\r\n",
            "  Downloading tensorboard-2.2.2-py3-none-any.whl (3.0 MB)\r\n",
            "\u001b[K     |████████████████████████████████| 3.0 MB 39.6 MB/s \r\n",
            "\u001b[?25hRequirement already satisfied: termcolor>=1.1.0 in /opt/conda/lib/python3.7/site-packages (from tensorflow==2.2.0) (1.1.0)\r\n",
            "Requirement already satisfied: numpy<2.0,>=1.16.0 in /opt/conda/lib/python3.7/site-packages (from tensorflow==2.2.0) (1.19.5)\r\n",
            "Requirement already satisfied: absl-py>=0.7.0 in /opt/conda/lib/python3.7/site-packages (from tensorflow==2.2.0) (0.12.0)\r\n",
            "Requirement already satisfied: keras-preprocessing>=1.1.0 in /opt/conda/lib/python3.7/site-packages (from tensorflow==2.2.0) (1.1.2)\r\n",
            "Requirement already satisfied: h5py<2.11.0,>=2.10.0 in /opt/conda/lib/python3.7/site-packages (from tensorflow==2.2.0) (2.10.0)\r\n",
            "Requirement already satisfied: google-auth<2,>=1.6.3 in /opt/conda/lib/python3.7/site-packages (from tensorboard<2.3.0,>=2.2.0->tensorflow==2.2.0) (1.26.1)\r\n",
            "Requirement already satisfied: google-auth-oauthlib<0.5,>=0.4.1 in /opt/conda/lib/python3.7/site-packages (from tensorboard<2.3.0,>=2.2.0->tensorflow==2.2.0) (0.4.3)\r\n",
            "Requirement already satisfied: requests<3,>=2.21.0 in /opt/conda/lib/python3.7/site-packages (from tensorboard<2.3.0,>=2.2.0->tensorflow==2.2.0) (2.25.1)\r\n",
            "Requirement already satisfied: tensorboard-plugin-wit>=1.6.0 in /opt/conda/lib/python3.7/site-packages (from tensorboard<2.3.0,>=2.2.0->tensorflow==2.2.0) (1.8.0)\r\n",
            "Requirement already satisfied: werkzeug>=0.11.15 in /opt/conda/lib/python3.7/site-packages (from tensorboard<2.3.0,>=2.2.0->tensorflow==2.2.0) (1.0.1)\r\n",
            "Requirement already satisfied: setuptools>=41.0.0 in /opt/conda/lib/python3.7/site-packages (from tensorboard<2.3.0,>=2.2.0->tensorflow==2.2.0) (49.6.0.post20210108)\r\n",
            "Requirement already satisfied: markdown>=2.6.8 in /opt/conda/lib/python3.7/site-packages (from tensorboard<2.3.0,>=2.2.0->tensorflow==2.2.0) (3.3.4)\r\n",
            "Requirement already satisfied: rsa<5,>=3.1.4 in /opt/conda/lib/python3.7/site-packages (from google-auth<2,>=1.6.3->tensorboard<2.3.0,>=2.2.0->tensorflow==2.2.0) (4.7.2)\r\n",
            "Requirement already satisfied: pyasn1-modules>=0.2.1 in /opt/conda/lib/python3.7/site-packages (from google-auth<2,>=1.6.3->tensorboard<2.3.0,>=2.2.0->tensorflow==2.2.0) (0.2.7)\r\n",
            "Requirement already satisfied: cachetools<5.0,>=2.0.0 in /opt/conda/lib/python3.7/site-packages (from google-auth<2,>=1.6.3->tensorboard<2.3.0,>=2.2.0->tensorflow==2.2.0) (4.2.1)\r\n",
            "Requirement already satisfied: requests-oauthlib>=0.7.0 in /opt/conda/lib/python3.7/site-packages (from google-auth-oauthlib<0.5,>=0.4.1->tensorboard<2.3.0,>=2.2.0->tensorflow==2.2.0) (1.3.0)\r\n",
            "Requirement already satisfied: importlib-metadata in /opt/conda/lib/python3.7/site-packages (from markdown>=2.6.8->tensorboard<2.3.0,>=2.2.0->tensorflow==2.2.0) (3.4.0)\r\n",
            "Requirement already satisfied: pyasn1<0.5.0,>=0.4.6 in /opt/conda/lib/python3.7/site-packages (from pyasn1-modules>=0.2.1->google-auth<2,>=1.6.3->tensorboard<2.3.0,>=2.2.0->tensorflow==2.2.0) (0.4.8)\r\n",
            "Requirement already satisfied: chardet<5,>=3.0.2 in /opt/conda/lib/python3.7/site-packages (from requests<3,>=2.21.0->tensorboard<2.3.0,>=2.2.0->tensorflow==2.2.0) (4.0.0)\r\n",
            "Requirement already satisfied: idna<3,>=2.5 in /opt/conda/lib/python3.7/site-packages (from requests<3,>=2.21.0->tensorboard<2.3.0,>=2.2.0->tensorflow==2.2.0) (2.10)\r\n",
            "Requirement already satisfied: urllib3<1.27,>=1.21.1 in /opt/conda/lib/python3.7/site-packages (from requests<3,>=2.21.0->tensorboard<2.3.0,>=2.2.0->tensorflow==2.2.0) (1.26.4)\r\n",
            "Requirement already satisfied: certifi>=2017.4.17 in /opt/conda/lib/python3.7/site-packages (from requests<3,>=2.21.0->tensorboard<2.3.0,>=2.2.0->tensorflow==2.2.0) (2020.12.5)\r\n",
            "Requirement already satisfied: oauthlib>=3.0.0 in /opt/conda/lib/python3.7/site-packages (from requests-oauthlib>=0.7.0->google-auth-oauthlib<0.5,>=0.4.1->tensorboard<2.3.0,>=2.2.0->tensorflow==2.2.0) (3.0.1)\r\n",
            "Requirement already satisfied: typing-extensions>=3.6.4 in /opt/conda/lib/python3.7/site-packages (from importlib-metadata->markdown>=2.6.8->tensorboard<2.3.0,>=2.2.0->tensorflow==2.2.0) (3.7.4.3)\r\n",
            "Requirement already satisfied: zipp>=0.5 in /opt/conda/lib/python3.7/site-packages (from importlib-metadata->markdown>=2.6.8->tensorboard<2.3.0,>=2.2.0->tensorflow==2.2.0) (3.4.1)\r\n",
            "Installing collected packages: tensorflow-estimator, tensorboard, scipy, tensorflow\r\n",
            "  Attempting uninstall: tensorflow-estimator\r\n",
            "    Found existing installation: tensorflow-estimator 2.4.0\r\n",
            "    Uninstalling tensorflow-estimator-2.4.0:\r\n",
            "      Successfully uninstalled tensorflow-estimator-2.4.0\r\n",
            "  Attempting uninstall: tensorboard\r\n",
            "    Found existing installation: tensorboard 2.4.1\r\n",
            "    Uninstalling tensorboard-2.4.1:\r\n",
            "      Successfully uninstalled tensorboard-2.4.1\r\n",
            "  Attempting uninstall: scipy\r\n",
            "    Found existing installation: scipy 1.5.4\r\n",
            "    Uninstalling scipy-1.5.4:\r\n",
            "      Successfully uninstalled scipy-1.5.4\r\n",
            "  Attempting uninstall: tensorflow\r\n",
            "    Found existing installation: tensorflow 2.4.1\r\n",
            "    Uninstalling tensorflow-2.4.1:\r\n",
            "      Successfully uninstalled tensorflow-2.4.1\r\n",
            "\u001b[31mERROR: pip's dependency resolver does not currently take into account all the packages that are installed. This behaviour is the source of the following dependency conflicts.\r\n",
            "tensorflow-cloud 0.1.13 requires tensorboard>=2.3.0, but you have tensorboard 2.2.2 which is incompatible.\r\n",
            "stumpy 1.8.0 requires scipy>=1.5, but you have scipy 1.4.1 which is incompatible.\r\n",
            "sklearn-pandas 2.1.0 requires scipy>=1.5.1, but you have scipy 1.4.1 which is incompatible.\r\n",
            "pyldavis 3.3.1 requires numpy>=1.20.0, but you have numpy 1.19.5 which is incompatible.\r\n",
            "plotnine 0.8.0 requires scipy>=1.5.0, but you have scipy 1.4.1 which is incompatible.\r\n",
            "phik 0.11.2 requires scipy>=1.5.2, but you have scipy 1.4.1 which is incompatible.\r\n",
            "pdpbox 0.2.1 requires matplotlib==3.1.1, but you have matplotlib 3.4.1 which is incompatible.\r\n",
            "matrixprofile 1.1.10 requires protobuf==3.11.2, but you have protobuf 3.15.8 which is incompatible.\r\n",
            "autogluon-core 0.1.0 requires scipy==1.5.4, but you have scipy 1.4.1 which is incompatible.\u001b[0m\r\n",
            "Successfully installed scipy-1.4.1 tensorboard-2.2.2 tensorflow-2.2.0 tensorflow-estimator-2.2.0\r\n",
            "Collecting transformers==3.5.1\r\n",
            "  Downloading transformers-3.5.1-py3-none-any.whl (1.3 MB)\r\n",
            "\u001b[K     |████████████████████████████████| 1.3 MB 2.9 MB/s \r\n",
            "\u001b[?25hRequirement already satisfied: regex!=2019.12.17 in /opt/conda/lib/python3.7/site-packages (from transformers==3.5.1) (2021.3.17)\r\n",
            "Requirement already satisfied: protobuf in /opt/conda/lib/python3.7/site-packages (from transformers==3.5.1) (3.15.8)\r\n",
            "Requirement already satisfied: tqdm>=4.27 in /opt/conda/lib/python3.7/site-packages (from transformers==3.5.1) (4.59.0)\r\n",
            "Requirement already satisfied: numpy in /opt/conda/lib/python3.7/site-packages (from transformers==3.5.1) (1.19.5)\r\n",
            "Requirement already satisfied: filelock in /opt/conda/lib/python3.7/site-packages (from transformers==3.5.1) (3.0.12)\r\n",
            "Requirement already satisfied: sacremoses in /opt/conda/lib/python3.7/site-packages (from transformers==3.5.1) (0.0.45)\r\n",
            "Requirement already satisfied: requests in /opt/conda/lib/python3.7/site-packages (from transformers==3.5.1) (2.25.1)\r\n",
            "Requirement already satisfied: packaging in /opt/conda/lib/python3.7/site-packages (from transformers==3.5.1) (20.9)\r\n",
            "Collecting sentencepiece==0.1.91\r\n",
            "  Downloading sentencepiece-0.1.91-cp37-cp37m-manylinux1_x86_64.whl (1.1 MB)\r\n",
            "\u001b[K     |████████████████████████████████| 1.1 MB 10.4 MB/s \r\n",
            "\u001b[?25hCollecting tokenizers==0.9.3\r\n",
            "  Downloading tokenizers-0.9.3-cp37-cp37m-manylinux1_x86_64.whl (2.9 MB)\r\n",
            "\u001b[K     |████████████████████████████████| 2.9 MB 13.7 MB/s \r\n",
            "\u001b[?25hRequirement already satisfied: pyparsing>=2.0.2 in /opt/conda/lib/python3.7/site-packages (from packaging->transformers==3.5.1) (2.4.7)\r\n",
            "Requirement already satisfied: six>=1.9 in /opt/conda/lib/python3.7/site-packages (from protobuf->transformers==3.5.1) (1.15.0)\r\n",
            "Requirement already satisfied: urllib3<1.27,>=1.21.1 in /opt/conda/lib/python3.7/site-packages (from requests->transformers==3.5.1) (1.26.4)\r\n",
            "Requirement already satisfied: chardet<5,>=3.0.2 in /opt/conda/lib/python3.7/site-packages (from requests->transformers==3.5.1) (4.0.0)\r\n",
            "Requirement already satisfied: idna<3,>=2.5 in /opt/conda/lib/python3.7/site-packages (from requests->transformers==3.5.1) (2.10)\r\n",
            "Requirement already satisfied: certifi>=2017.4.17 in /opt/conda/lib/python3.7/site-packages (from requests->transformers==3.5.1) (2020.12.5)\r\n",
            "Requirement already satisfied: click in /opt/conda/lib/python3.7/site-packages (from sacremoses->transformers==3.5.1) (7.1.2)\r\n",
            "Requirement already satisfied: joblib in /opt/conda/lib/python3.7/site-packages (from sacremoses->transformers==3.5.1) (1.0.1)\r\n",
            "Installing collected packages: tokenizers, sentencepiece, transformers\r\n",
            "  Attempting uninstall: tokenizers\r\n",
            "    Found existing installation: tokenizers 0.10.2\r\n",
            "    Uninstalling tokenizers-0.10.2:\r\n",
            "      Successfully uninstalled tokenizers-0.10.2\r\n",
            "  Attempting uninstall: sentencepiece\r\n",
            "    Found existing installation: sentencepiece 0.1.95\r\n",
            "    Uninstalling sentencepiece-0.1.95:\r\n",
            "      Successfully uninstalled sentencepiece-0.1.95\r\n",
            "  Attempting uninstall: transformers\r\n",
            "    Found existing installation: transformers 4.5.1\r\n",
            "    Uninstalling transformers-4.5.1:\r\n",
            "      Successfully uninstalled transformers-4.5.1\r\n",
            "\u001b[31mERROR: pip's dependency resolver does not currently take into account all the packages that are installed. This behaviour is the source of the following dependency conflicts.\r\n",
            "allennlp 2.3.0 requires transformers<4.6,>=4.1, but you have transformers 3.5.1 which is incompatible.\u001b[0m\r\n",
            "Successfully installed sentencepiece-0.1.91 tokenizers-0.9.3 transformers-3.5.1\r\n",
            "Collecting tensorflow-addons==0.10.0\r\n",
            "  Downloading tensorflow_addons-0.10.0-cp37-cp37m-manylinux2010_x86_64.whl (1.0 MB)\r\n",
            "\u001b[K     |████████████████████████████████| 1.0 MB 2.8 MB/s \r\n",
            "\u001b[?25hRequirement already satisfied: typeguard>=2.7 in /opt/conda/lib/python3.7/site-packages (from tensorflow-addons==0.10.0) (2.12.0)\r\n",
            "Installing collected packages: tensorflow-addons\r\n",
            "  Attempting uninstall: tensorflow-addons\r\n",
            "    Found existing installation: tensorflow-addons 0.12.1\r\n",
            "    Uninstalling tensorflow-addons-0.12.1:\r\n",
            "      Successfully uninstalled tensorflow-addons-0.12.1\r\n",
            "Successfully installed tensorflow-addons-0.10.0\r\n"
          ],
          "name": "stdout"
        }
      ]
    },
    {
      "cell_type": "markdown",
      "metadata": {
        "papermill": {
          "duration": 0.270842,
          "end_time": "2021-05-01T10:12:03.543530",
          "exception": false,
          "start_time": "2021-05-01T10:12:03.272688",
          "status": "completed"
        },
        "tags": [],
        "id": "infrared-delay"
      },
      "source": [
        "# imports"
      ],
      "id": "infrared-delay"
    },
    {
      "cell_type": "code",
      "metadata": {
        "execution": {
          "iopub.execute_input": "2021-05-01T10:12:04.095122Z",
          "iopub.status.busy": "2021-05-01T10:12:04.094298Z",
          "iopub.status.idle": "2021-05-01T10:12:11.237972Z",
          "shell.execute_reply": "2021-05-01T10:12:11.238591Z"
        },
        "papermill": {
          "duration": 7.42763,
          "end_time": "2021-05-01T10:12:11.238788",
          "exception": false,
          "start_time": "2021-05-01T10:12:03.811158",
          "status": "completed"
        },
        "tags": [],
        "id": "bulgarian-probe"
      },
      "source": [
        "\n",
        "import numpy as np # linear algebra\n",
        "import pandas as pd # data processing, CSV file I/O (e.g. pd.read_csv)\n",
        "\n",
        "\n",
        "import os\n",
        "\n",
        "import matplotlib.pyplot as plt\n",
        "\n",
        "import seaborn as sns\n",
        "\n",
        "\n",
        "\n",
        "import re\n",
        "\n",
        "\n",
        "import numpy as np\n",
        "import pandas as pd\n",
        "import tensorflow as tf\n",
        "from tensorflow.keras.layers import Dense, Input\n",
        "from tensorflow.keras.optimizers import Adam\n",
        "from tensorflow.keras.models import Model\n",
        "\n",
        "import transformers\n",
        "from transformers import TFAutoModel, AutoTokenizer\n",
        "from tqdm.notebook import tqdm\n",
        "from tokenizers import Tokenizer, models, pre_tokenizers, decoders, processors\n",
        "\n",
        "from cloud_tpu_client import Client\n",
        "\n",
        "import tensorflow_addons as tfa\n",
        "\n",
        "from transformers import RobertaTokenizer, RobertaModel\n",
        "\n",
        "import tensorflow.keras.backend as K\n",
        "from IPython.display import SVG\n",
        "\n",
        "from tensorflow.keras.callbacks import EarlyStopping, ModelCheckpoint, LearningRateScheduler\n"
      ],
      "id": "bulgarian-probe",
      "execution_count": null,
      "outputs": []
    },
    {
      "cell_type": "markdown",
      "metadata": {
        "papermill": {
          "duration": 0.271191,
          "end_time": "2021-05-01T10:12:11.807694",
          "exception": false,
          "start_time": "2021-05-01T10:12:11.536503",
          "status": "completed"
        },
        "tags": [],
        "id": "scientific-plumbing"
      },
      "source": [
        "# check versions of installed packages in this docker"
      ],
      "id": "scientific-plumbing"
    },
    {
      "cell_type": "code",
      "metadata": {
        "execution": {
          "iopub.execute_input": "2021-05-01T10:12:12.358713Z",
          "iopub.status.busy": "2021-05-01T10:12:12.357908Z",
          "iopub.status.idle": "2021-05-01T10:12:12.366670Z",
          "shell.execute_reply": "2021-05-01T10:12:12.367288Z"
        },
        "papermill": {
          "duration": 0.282721,
          "end_time": "2021-05-01T10:12:12.367547",
          "exception": false,
          "start_time": "2021-05-01T10:12:12.084826",
          "status": "completed"
        },
        "tags": [],
        "id": "ahead-nitrogen",
        "outputId": "d7f38111-fd48-4c20-aeab-0072ead79af5"
      },
      "source": [
        "tf.__version__"
      ],
      "id": "ahead-nitrogen",
      "execution_count": null,
      "outputs": [
        {
          "output_type": "execute_result",
          "data": {
            "text/plain": [
              "'2.2.0'"
            ]
          },
          "metadata": {
            "tags": []
          },
          "execution_count": 3
        }
      ]
    },
    {
      "cell_type": "code",
      "metadata": {
        "execution": {
          "iopub.execute_input": "2021-05-01T10:12:12.905172Z",
          "iopub.status.busy": "2021-05-01T10:12:12.904537Z",
          "iopub.status.idle": "2021-05-01T10:12:12.909276Z",
          "shell.execute_reply": "2021-05-01T10:12:12.909934Z"
        },
        "papermill": {
          "duration": 0.273947,
          "end_time": "2021-05-01T10:12:12.910109",
          "exception": false,
          "start_time": "2021-05-01T10:12:12.636162",
          "status": "completed"
        },
        "tags": [],
        "id": "progressive-reggae",
        "outputId": "1cd30787-a58c-4878-ddb9-60ce560fd8fc"
      },
      "source": [
        "transformers.__version__"
      ],
      "id": "progressive-reggae",
      "execution_count": null,
      "outputs": [
        {
          "output_type": "execute_result",
          "data": {
            "text/plain": [
              "'3.5.1'"
            ]
          },
          "metadata": {
            "tags": []
          },
          "execution_count": 4
        }
      ]
    },
    {
      "cell_type": "code",
      "metadata": {
        "execution": {
          "iopub.execute_input": "2021-05-01T10:12:13.452468Z",
          "iopub.status.busy": "2021-05-01T10:12:13.451636Z",
          "iopub.status.idle": "2021-05-01T10:12:32.183114Z",
          "shell.execute_reply": "2021-05-01T10:12:32.183730Z"
        },
        "papermill": {
          "duration": 19.008185,
          "end_time": "2021-05-01T10:12:32.183913",
          "exception": false,
          "start_time": "2021-05-01T10:12:13.175728",
          "status": "completed"
        },
        "tags": [],
        "id": "sapphire-burke"
      },
      "source": [
        "# ref : https://github.com/tensorflow/tpu/issues/823\n",
        "\n",
        "Client().configure_tpu_version(tf.__version__, restart_type='ifNeeded')\n"
      ],
      "id": "sapphire-burke",
      "execution_count": null,
      "outputs": []
    },
    {
      "cell_type": "code",
      "metadata": {
        "execution": {
          "iopub.execute_input": "2021-05-01T10:12:32.752974Z",
          "iopub.status.busy": "2021-05-01T10:12:32.752335Z",
          "iopub.status.idle": "2021-05-01T10:12:36.754811Z",
          "shell.execute_reply": "2021-05-01T10:12:36.755488Z"
        },
        "papermill": {
          "duration": 4.270544,
          "end_time": "2021-05-01T10:12:36.755672",
          "exception": false,
          "start_time": "2021-05-01T10:12:32.485128",
          "status": "completed"
        },
        "tags": [],
        "id": "valid-woman",
        "outputId": "75311afa-5cf6-44f8-d851-496147ea332f"
      },
      "source": [
        "!unzip  -o ../input/jigsaw-toxic-comment-classification-challenge/train.csv.zip\n",
        "\n",
        "!unzip  -o ../input/jigsaw-toxic-comment-classification-challenge/test.csv.zip\n",
        "\n",
        "\n",
        "!unzip  -o ../input/jigsaw-toxic-comment-classification-challenge/test_labels.csv.zip\n"
      ],
      "id": "valid-woman",
      "execution_count": null,
      "outputs": [
        {
          "output_type": "stream",
          "text": [
            "Archive:  ../input/jigsaw-toxic-comment-classification-challenge/train.csv.zip\r\n",
            "  inflating: train.csv               \r\n",
            "Archive:  ../input/jigsaw-toxic-comment-classification-challenge/test.csv.zip\r\n",
            "  inflating: test.csv                \r\n",
            "Archive:  ../input/jigsaw-toxic-comment-classification-challenge/test_labels.csv.zip\r\n",
            "  inflating: test_labels.csv         \r\n"
          ],
          "name": "stdout"
        }
      ]
    },
    {
      "cell_type": "code",
      "metadata": {
        "execution": {
          "iopub.execute_input": "2021-05-01T10:12:37.334958Z",
          "iopub.status.busy": "2021-05-01T10:12:37.333788Z",
          "iopub.status.idle": "2021-05-01T10:12:37.338688Z",
          "shell.execute_reply": "2021-05-01T10:12:37.339146Z"
        },
        "papermill": {
          "duration": 0.286998,
          "end_time": "2021-05-01T10:12:37.339343",
          "exception": false,
          "start_time": "2021-05-01T10:12:37.052345",
          "status": "completed"
        },
        "tags": [],
        "id": "decent-processing",
        "outputId": "04fd2b8c-fe36-4f86-9d42-9033f83a0128"
      },
      "source": [
        "os.listdir('../working')"
      ],
      "id": "decent-processing",
      "execution_count": null,
      "outputs": [
        {
          "output_type": "execute_result",
          "data": {
            "text/plain": [
              "['train.csv', '__notebook__.ipynb', 'test_labels.csv', 'test.csv']"
            ]
          },
          "metadata": {
            "tags": []
          },
          "execution_count": 7
        }
      ]
    },
    {
      "cell_type": "markdown",
      "metadata": {
        "papermill": {
          "duration": 0.27185,
          "end_time": "2021-05-01T10:12:37.877011",
          "exception": false,
          "start_time": "2021-05-01T10:12:37.605161",
          "status": "completed"
        },
        "tags": [],
        "id": "multiple-pepper"
      },
      "source": [
        "# read dataset"
      ],
      "id": "multiple-pepper"
    },
    {
      "cell_type": "code",
      "metadata": {
        "execution": {
          "iopub.execute_input": "2021-05-01T10:12:38.422288Z",
          "iopub.status.busy": "2021-05-01T10:12:38.421096Z",
          "iopub.status.idle": "2021-05-01T10:12:40.876722Z",
          "shell.execute_reply": "2021-05-01T10:12:40.876069Z"
        },
        "papermill": {
          "duration": 2.733768,
          "end_time": "2021-05-01T10:12:40.876872",
          "exception": false,
          "start_time": "2021-05-01T10:12:38.143104",
          "status": "completed"
        },
        "tags": [],
        "id": "brown-clause"
      },
      "source": [
        "train=pd.read_csv(\"../working/train.csv\")\n",
        "test=pd.read_csv(\"../working/test.csv\")\n",
        "test_labels=pd.read_csv(\"../working/test_labels.csv\")\n"
      ],
      "id": "brown-clause",
      "execution_count": null,
      "outputs": []
    },
    {
      "cell_type": "code",
      "metadata": {
        "execution": {
          "iopub.execute_input": "2021-05-01T10:12:41.434857Z",
          "iopub.status.busy": "2021-05-01T10:12:41.433855Z",
          "iopub.status.idle": "2021-05-01T10:12:41.453476Z",
          "shell.execute_reply": "2021-05-01T10:12:41.452930Z"
        },
        "papermill": {
          "duration": 0.296706,
          "end_time": "2021-05-01T10:12:41.453627",
          "exception": false,
          "start_time": "2021-05-01T10:12:41.156921",
          "status": "completed"
        },
        "tags": [],
        "id": "italian-fourth",
        "outputId": "a9cb67e2-8d34-41f6-a342-b93b77ff6988"
      },
      "source": [
        "train.head()"
      ],
      "id": "italian-fourth",
      "execution_count": null,
      "outputs": [
        {
          "output_type": "execute_result",
          "data": {
            "text/html": [
              "<div>\n",
              "<style scoped>\n",
              "    .dataframe tbody tr th:only-of-type {\n",
              "        vertical-align: middle;\n",
              "    }\n",
              "\n",
              "    .dataframe tbody tr th {\n",
              "        vertical-align: top;\n",
              "    }\n",
              "\n",
              "    .dataframe thead th {\n",
              "        text-align: right;\n",
              "    }\n",
              "</style>\n",
              "<table border=\"1\" class=\"dataframe\">\n",
              "  <thead>\n",
              "    <tr style=\"text-align: right;\">\n",
              "      <th></th>\n",
              "      <th>id</th>\n",
              "      <th>comment_text</th>\n",
              "      <th>toxic</th>\n",
              "      <th>severe_toxic</th>\n",
              "      <th>obscene</th>\n",
              "      <th>threat</th>\n",
              "      <th>insult</th>\n",
              "      <th>identity_hate</th>\n",
              "    </tr>\n",
              "  </thead>\n",
              "  <tbody>\n",
              "    <tr>\n",
              "      <th>0</th>\n",
              "      <td>0000997932d777bf</td>\n",
              "      <td>Explanation\\nWhy the edits made under my usern...</td>\n",
              "      <td>0</td>\n",
              "      <td>0</td>\n",
              "      <td>0</td>\n",
              "      <td>0</td>\n",
              "      <td>0</td>\n",
              "      <td>0</td>\n",
              "    </tr>\n",
              "    <tr>\n",
              "      <th>1</th>\n",
              "      <td>000103f0d9cfb60f</td>\n",
              "      <td>D'aww! He matches this background colour I'm s...</td>\n",
              "      <td>0</td>\n",
              "      <td>0</td>\n",
              "      <td>0</td>\n",
              "      <td>0</td>\n",
              "      <td>0</td>\n",
              "      <td>0</td>\n",
              "    </tr>\n",
              "    <tr>\n",
              "      <th>2</th>\n",
              "      <td>000113f07ec002fd</td>\n",
              "      <td>Hey man, I'm really not trying to edit war. It...</td>\n",
              "      <td>0</td>\n",
              "      <td>0</td>\n",
              "      <td>0</td>\n",
              "      <td>0</td>\n",
              "      <td>0</td>\n",
              "      <td>0</td>\n",
              "    </tr>\n",
              "    <tr>\n",
              "      <th>3</th>\n",
              "      <td>0001b41b1c6bb37e</td>\n",
              "      <td>\"\\nMore\\nI can't make any real suggestions on ...</td>\n",
              "      <td>0</td>\n",
              "      <td>0</td>\n",
              "      <td>0</td>\n",
              "      <td>0</td>\n",
              "      <td>0</td>\n",
              "      <td>0</td>\n",
              "    </tr>\n",
              "    <tr>\n",
              "      <th>4</th>\n",
              "      <td>0001d958c54c6e35</td>\n",
              "      <td>You, sir, are my hero. Any chance you remember...</td>\n",
              "      <td>0</td>\n",
              "      <td>0</td>\n",
              "      <td>0</td>\n",
              "      <td>0</td>\n",
              "      <td>0</td>\n",
              "      <td>0</td>\n",
              "    </tr>\n",
              "  </tbody>\n",
              "</table>\n",
              "</div>"
            ],
            "text/plain": [
              "                 id                                       comment_text  toxic  \\\n",
              "0  0000997932d777bf  Explanation\\nWhy the edits made under my usern...      0   \n",
              "1  000103f0d9cfb60f  D'aww! He matches this background colour I'm s...      0   \n",
              "2  000113f07ec002fd  Hey man, I'm really not trying to edit war. It...      0   \n",
              "3  0001b41b1c6bb37e  \"\\nMore\\nI can't make any real suggestions on ...      0   \n",
              "4  0001d958c54c6e35  You, sir, are my hero. Any chance you remember...      0   \n",
              "\n",
              "   severe_toxic  obscene  threat  insult  identity_hate  \n",
              "0             0        0       0       0              0  \n",
              "1             0        0       0       0              0  \n",
              "2             0        0       0       0              0  \n",
              "3             0        0       0       0              0  \n",
              "4             0        0       0       0              0  "
            ]
          },
          "metadata": {
            "tags": []
          },
          "execution_count": 9
        }
      ]
    },
    {
      "cell_type": "markdown",
      "metadata": {
        "papermill": {
          "duration": 0.266943,
          "end_time": "2021-05-01T10:12:41.985749",
          "exception": false,
          "start_time": "2021-05-01T10:12:41.718806",
          "status": "completed"
        },
        "tags": [],
        "id": "competitive-breast"
      },
      "source": [
        "# i'll not use test.csv or test_labels.csv as i don't have annotations of these test samples and only kaggle has it's actual annotation,so i can't evaluate my models performance on this test dataset,so for this experiment i will not use it"
      ],
      "id": "competitive-breast"
    },
    {
      "cell_type": "code",
      "metadata": {
        "execution": {
          "iopub.execute_input": "2021-05-01T10:12:42.529893Z",
          "iopub.status.busy": "2021-05-01T10:12:42.529028Z",
          "iopub.status.idle": "2021-05-01T10:12:42.531828Z",
          "shell.execute_reply": "2021-05-01T10:12:42.532420Z"
        },
        "papermill": {
          "duration": 0.278844,
          "end_time": "2021-05-01T10:12:42.532588",
          "exception": false,
          "start_time": "2021-05-01T10:12:42.253744",
          "status": "completed"
        },
        "tags": [],
        "id": "inner-hygiene",
        "outputId": "aa1d9d02-12b6-44bc-8267-924dfa14f6bd"
      },
      "source": [
        "test.head()"
      ],
      "id": "inner-hygiene",
      "execution_count": null,
      "outputs": [
        {
          "output_type": "execute_result",
          "data": {
            "text/html": [
              "<div>\n",
              "<style scoped>\n",
              "    .dataframe tbody tr th:only-of-type {\n",
              "        vertical-align: middle;\n",
              "    }\n",
              "\n",
              "    .dataframe tbody tr th {\n",
              "        vertical-align: top;\n",
              "    }\n",
              "\n",
              "    .dataframe thead th {\n",
              "        text-align: right;\n",
              "    }\n",
              "</style>\n",
              "<table border=\"1\" class=\"dataframe\">\n",
              "  <thead>\n",
              "    <tr style=\"text-align: right;\">\n",
              "      <th></th>\n",
              "      <th>id</th>\n",
              "      <th>comment_text</th>\n",
              "    </tr>\n",
              "  </thead>\n",
              "  <tbody>\n",
              "    <tr>\n",
              "      <th>0</th>\n",
              "      <td>00001cee341fdb12</td>\n",
              "      <td>Yo bitch Ja Rule is more succesful then you'll...</td>\n",
              "    </tr>\n",
              "    <tr>\n",
              "      <th>1</th>\n",
              "      <td>0000247867823ef7</td>\n",
              "      <td>== From RfC == \\n\\n The title is fine as it is...</td>\n",
              "    </tr>\n",
              "    <tr>\n",
              "      <th>2</th>\n",
              "      <td>00013b17ad220c46</td>\n",
              "      <td>\" \\n\\n == Sources == \\n\\n * Zawe Ashton on Lap...</td>\n",
              "    </tr>\n",
              "    <tr>\n",
              "      <th>3</th>\n",
              "      <td>00017563c3f7919a</td>\n",
              "      <td>:If you have a look back at the source, the in...</td>\n",
              "    </tr>\n",
              "    <tr>\n",
              "      <th>4</th>\n",
              "      <td>00017695ad8997eb</td>\n",
              "      <td>I don't anonymously edit articles at all.</td>\n",
              "    </tr>\n",
              "  </tbody>\n",
              "</table>\n",
              "</div>"
            ],
            "text/plain": [
              "                 id                                       comment_text\n",
              "0  00001cee341fdb12  Yo bitch Ja Rule is more succesful then you'll...\n",
              "1  0000247867823ef7  == From RfC == \\n\\n The title is fine as it is...\n",
              "2  00013b17ad220c46  \" \\n\\n == Sources == \\n\\n * Zawe Ashton on Lap...\n",
              "3  00017563c3f7919a  :If you have a look back at the source, the in...\n",
              "4  00017695ad8997eb          I don't anonymously edit articles at all."
            ]
          },
          "metadata": {
            "tags": []
          },
          "execution_count": 10
        }
      ]
    },
    {
      "cell_type": "code",
      "metadata": {
        "execution": {
          "iopub.execute_input": "2021-05-01T10:12:43.071362Z",
          "iopub.status.busy": "2021-05-01T10:12:43.070559Z",
          "iopub.status.idle": "2021-05-01T10:12:43.081869Z",
          "shell.execute_reply": "2021-05-01T10:12:43.082438Z"
        },
        "papermill": {
          "duration": 0.284199,
          "end_time": "2021-05-01T10:12:43.082621",
          "exception": false,
          "start_time": "2021-05-01T10:12:42.798422",
          "status": "completed"
        },
        "tags": [],
        "id": "arabic-baseline",
        "outputId": "e3b908dc-ab65-4da6-8d15-d292bf30f223"
      },
      "source": [
        "test_labels.head()"
      ],
      "id": "arabic-baseline",
      "execution_count": null,
      "outputs": [
        {
          "output_type": "execute_result",
          "data": {
            "text/html": [
              "<div>\n",
              "<style scoped>\n",
              "    .dataframe tbody tr th:only-of-type {\n",
              "        vertical-align: middle;\n",
              "    }\n",
              "\n",
              "    .dataframe tbody tr th {\n",
              "        vertical-align: top;\n",
              "    }\n",
              "\n",
              "    .dataframe thead th {\n",
              "        text-align: right;\n",
              "    }\n",
              "</style>\n",
              "<table border=\"1\" class=\"dataframe\">\n",
              "  <thead>\n",
              "    <tr style=\"text-align: right;\">\n",
              "      <th></th>\n",
              "      <th>id</th>\n",
              "      <th>toxic</th>\n",
              "      <th>severe_toxic</th>\n",
              "      <th>obscene</th>\n",
              "      <th>threat</th>\n",
              "      <th>insult</th>\n",
              "      <th>identity_hate</th>\n",
              "    </tr>\n",
              "  </thead>\n",
              "  <tbody>\n",
              "    <tr>\n",
              "      <th>0</th>\n",
              "      <td>00001cee341fdb12</td>\n",
              "      <td>-1</td>\n",
              "      <td>-1</td>\n",
              "      <td>-1</td>\n",
              "      <td>-1</td>\n",
              "      <td>-1</td>\n",
              "      <td>-1</td>\n",
              "    </tr>\n",
              "    <tr>\n",
              "      <th>1</th>\n",
              "      <td>0000247867823ef7</td>\n",
              "      <td>-1</td>\n",
              "      <td>-1</td>\n",
              "      <td>-1</td>\n",
              "      <td>-1</td>\n",
              "      <td>-1</td>\n",
              "      <td>-1</td>\n",
              "    </tr>\n",
              "    <tr>\n",
              "      <th>2</th>\n",
              "      <td>00013b17ad220c46</td>\n",
              "      <td>-1</td>\n",
              "      <td>-1</td>\n",
              "      <td>-1</td>\n",
              "      <td>-1</td>\n",
              "      <td>-1</td>\n",
              "      <td>-1</td>\n",
              "    </tr>\n",
              "    <tr>\n",
              "      <th>3</th>\n",
              "      <td>00017563c3f7919a</td>\n",
              "      <td>-1</td>\n",
              "      <td>-1</td>\n",
              "      <td>-1</td>\n",
              "      <td>-1</td>\n",
              "      <td>-1</td>\n",
              "      <td>-1</td>\n",
              "    </tr>\n",
              "    <tr>\n",
              "      <th>4</th>\n",
              "      <td>00017695ad8997eb</td>\n",
              "      <td>-1</td>\n",
              "      <td>-1</td>\n",
              "      <td>-1</td>\n",
              "      <td>-1</td>\n",
              "      <td>-1</td>\n",
              "      <td>-1</td>\n",
              "    </tr>\n",
              "  </tbody>\n",
              "</table>\n",
              "</div>"
            ],
            "text/plain": [
              "                 id  toxic  severe_toxic  obscene  threat  insult  \\\n",
              "0  00001cee341fdb12     -1            -1       -1      -1      -1   \n",
              "1  0000247867823ef7     -1            -1       -1      -1      -1   \n",
              "2  00013b17ad220c46     -1            -1       -1      -1      -1   \n",
              "3  00017563c3f7919a     -1            -1       -1      -1      -1   \n",
              "4  00017695ad8997eb     -1            -1       -1      -1      -1   \n",
              "\n",
              "   identity_hate  \n",
              "0             -1  \n",
              "1             -1  \n",
              "2             -1  \n",
              "3             -1  \n",
              "4             -1  "
            ]
          },
          "metadata": {
            "tags": []
          },
          "execution_count": 11
        }
      ]
    },
    {
      "cell_type": "code",
      "metadata": {
        "execution": {
          "iopub.execute_input": "2021-05-01T10:12:43.651227Z",
          "iopub.status.busy": "2021-05-01T10:12:43.650535Z",
          "iopub.status.idle": "2021-05-01T10:12:43.653502Z",
          "shell.execute_reply": "2021-05-01T10:12:43.654023Z"
        },
        "papermill": {
          "duration": 0.298097,
          "end_time": "2021-05-01T10:12:43.654231",
          "exception": false,
          "start_time": "2021-05-01T10:12:43.356134",
          "status": "completed"
        },
        "tags": [],
        "id": "documented-drama",
        "outputId": "1e6fa5d7-363c-4cfa-bd0f-8b5f722ece35"
      },
      "source": [
        "len(train)"
      ],
      "id": "documented-drama",
      "execution_count": null,
      "outputs": [
        {
          "output_type": "execute_result",
          "data": {
            "text/plain": [
              "159571"
            ]
          },
          "metadata": {
            "tags": []
          },
          "execution_count": 12
        }
      ]
    },
    {
      "cell_type": "markdown",
      "metadata": {
        "papermill": {
          "duration": 0.269803,
          "end_time": "2021-05-01T10:12:44.191112",
          "exception": false,
          "start_time": "2021-05-01T10:12:43.921309",
          "status": "completed"
        },
        "tags": [],
        "id": "numeric-bachelor"
      },
      "source": [
        "# From the graph below i can see that i have a very high imbalance dataset for this experiment"
      ],
      "id": "numeric-bachelor"
    },
    {
      "cell_type": "code",
      "metadata": {
        "execution": {
          "iopub.execute_input": "2021-05-01T10:12:44.729286Z",
          "iopub.status.busy": "2021-05-01T10:12:44.728485Z",
          "iopub.status.idle": "2021-05-01T10:12:44.927330Z",
          "shell.execute_reply": "2021-05-01T10:12:44.926673Z"
        },
        "papermill": {
          "duration": 0.468878,
          "end_time": "2021-05-01T10:12:44.927473",
          "exception": false,
          "start_time": "2021-05-01T10:12:44.458595",
          "status": "completed"
        },
        "tags": [],
        "id": "separated-grain",
        "outputId": "96e58f8f-530a-414a-9101-b36c1b6cc08c"
      },
      "source": [
        "\n",
        "plt.figure(figsize=(10, 5))\n",
        "plt.subplot(1, 2, 1)\n",
        "sns.countplot(train['toxic'])\n",
        "plt.title('Target on training data')\n",
        "\n",
        "plt.show()"
      ],
      "id": "separated-grain",
      "execution_count": null,
      "outputs": [
        {
          "output_type": "stream",
          "text": [
            "/opt/conda/lib/python3.7/site-packages/seaborn/_decorators.py:43: FutureWarning: Pass the following variable as a keyword arg: x. From version 0.12, the only valid positional argument will be `data`, and passing other arguments without an explicit keyword will result in an error or misinterpretation.\n",
            "  FutureWarning\n"
          ],
          "name": "stderr"
        },
        {
          "output_type": "display_data",
          "data": {
            "image/png": "[encoded data removed]",
            "text/plain": [
              "<Figure size 720x360 with 1 Axes>"
            ]
          },
          "metadata": {
            "tags": [],
            "needs_background": "light"
          }
        }
      ]
    },
    {
      "cell_type": "markdown",
      "metadata": {
        "papermill": {
          "duration": 0.274071,
          "end_time": "2021-05-01T10:12:45.468624",
          "exception": false,
          "start_time": "2021-05-01T10:12:45.194553",
          "status": "completed"
        },
        "tags": [],
        "id": "little-lloyd"
      },
      "source": [
        "# settings for 8 core tpu training"
      ],
      "id": "little-lloyd"
    },
    {
      "cell_type": "code",
      "metadata": {
        "execution": {
          "iopub.execute_input": "2021-05-01T10:12:51.568103Z",
          "iopub.status.busy": "2021-05-01T10:12:46.033247Z",
          "iopub.status.idle": "2021-05-01T10:13:00.976045Z",
          "shell.execute_reply": "2021-05-01T10:13:00.975498Z"
        },
        "papermill": {
          "duration": 15.228748,
          "end_time": "2021-05-01T10:13:00.976209",
          "exception": false,
          "start_time": "2021-05-01T10:12:45.747461",
          "status": "completed"
        },
        "tags": [],
        "id": "serial-maldives",
        "outputId": "a666c824-9167-492b-9a96-31522f3416a8"
      },
      "source": [
        "# Detect hardware, return appropriate distribution strategy\n",
        "try:\n",
        "    # TPU detection. No parameters necessary if TPU_NAME environment variable is\n",
        "    # set: this is always the case on Kaggle.\n",
        "    tpu = tf.distribute.cluster_resolver.TPUClusterResolver()\n",
        "    print('Running on TPU ', tpu.master())\n",
        "except ValueError:\n",
        "    tpu = None\n",
        "\n",
        "if tpu:\n",
        "    tf.config.experimental_connect_to_cluster(tpu)\n",
        "    tf.tpu.experimental.initialize_tpu_system(tpu)\n",
        "    strategy = tf.distribute.experimental.TPUStrategy(tpu)\n",
        "else:\n",
        "    # Default distribution strategy in Tensorflow. Works on CPU and single GPU.\n",
        "    strategy = tf.distribute.get_strategy()\n",
        "\n",
        "print(\"REPLICAS: \", strategy.num_replicas_in_sync)"
      ],
      "id": "serial-maldives",
      "execution_count": null,
      "outputs": [
        {
          "output_type": "stream",
          "text": [
            "Running on TPU  grpc://10.0.0.2:8470\n",
            "REPLICAS:  8\n"
          ],
          "name": "stdout"
        }
      ]
    },
    {
      "cell_type": "code",
      "metadata": {
        "execution": {
          "iopub.execute_input": "2021-05-01T10:13:01.545312Z",
          "iopub.status.busy": "2021-05-01T10:13:01.544642Z",
          "iopub.status.idle": "2021-05-01T10:13:01.547563Z",
          "shell.execute_reply": "2021-05-01T10:13:01.548214Z"
        },
        "papermill": {
          "duration": 0.277103,
          "end_time": "2021-05-01T10:13:01.548388",
          "exception": false,
          "start_time": "2021-05-01T10:13:01.271285",
          "status": "completed"
        },
        "tags": [],
        "id": "commercial-heater",
        "outputId": "36f6ecba-13d1-412c-a7af-3b0160662431"
      },
      "source": [
        "strategy.num_replicas_in_sync #we've got 8 core"
      ],
      "id": "commercial-heater",
      "execution_count": null,
      "outputs": [
        {
          "output_type": "execute_result",
          "data": {
            "text/plain": [
              "8"
            ]
          },
          "metadata": {
            "tags": []
          },
          "execution_count": 15
        }
      ]
    },
    {
      "cell_type": "markdown",
      "metadata": {
        "papermill": {
          "duration": 0.271072,
          "end_time": "2021-05-01T10:13:02.086747",
          "exception": false,
          "start_time": "2021-05-01T10:13:01.815675",
          "status": "completed"
        },
        "tags": [],
        "id": "unlimited-affairs"
      },
      "source": [
        "# config"
      ],
      "id": "unlimited-affairs"
    },
    {
      "cell_type": "markdown",
      "metadata": {
        "papermill": {
          "duration": 0.267033,
          "end_time": "2021-05-01T10:13:02.621659",
          "exception": false,
          "start_time": "2021-05-01T10:13:02.354626",
          "status": "completed"
        },
        "tags": [],
        "id": "protecting-applicant"
      },
      "source": [
        "i will use max_len = 512, batch size = 24 * 8 and will train bert base uncased model for 10 epoch"
      ],
      "id": "protecting-applicant"
    },
    {
      "cell_type": "code",
      "metadata": {
        "execution": {
          "iopub.execute_input": "2021-05-01T10:13:03.162705Z",
          "iopub.status.busy": "2021-05-01T10:13:03.161968Z",
          "iopub.status.idle": "2021-05-01T10:13:03.166968Z",
          "shell.execute_reply": "2021-05-01T10:13:03.167505Z"
        },
        "papermill": {
          "duration": 0.279367,
          "end_time": "2021-05-01T10:13:03.167689",
          "exception": false,
          "start_time": "2021-05-01T10:13:02.888322",
          "status": "completed"
        },
        "tags": [],
        "id": "pharmaceutical-noise"
      },
      "source": [
        "AUTO = tf.data.experimental.AUTOTUNE\n",
        "\n",
        "# Configuration\n",
        "EPOCHS = 10\n",
        "BATCH_SIZE = 24 * strategy.num_replicas_in_sync # 24 * 8\n",
        "MAX_LEN = 512\n",
        "\n",
        "MODEL = 'bert-base-uncased'"
      ],
      "id": "pharmaceutical-noise",
      "execution_count": null,
      "outputs": []
    },
    {
      "cell_type": "markdown",
      "metadata": {
        "papermill": {
          "duration": 0.267194,
          "end_time": "2021-05-01T10:13:03.700849",
          "exception": false,
          "start_time": "2021-05-01T10:13:03.433655",
          "status": "completed"
        },
        "tags": [],
        "id": "binary-twist"
      },
      "source": [
        "i will use AutoTokenizer from popular huggingface library which is easy to use and apply appropriate tokenization for chosen model,for better understanding please [check this](https://huggingface.co/transformers/model_doc/auto.html)"
      ],
      "id": "binary-twist"
    },
    {
      "cell_type": "code",
      "metadata": {
        "execution": {
          "iopub.execute_input": "2021-05-01T10:13:04.252668Z",
          "iopub.status.busy": "2021-05-01T10:13:04.251672Z",
          "iopub.status.idle": "2021-05-01T10:13:05.014768Z",
          "shell.execute_reply": "2021-05-01T10:13:05.015288Z"
        },
        "papermill": {
          "duration": 1.037155,
          "end_time": "2021-05-01T10:13:05.015483",
          "exception": false,
          "start_time": "2021-05-01T10:13:03.978328",
          "status": "completed"
        },
        "tags": [],
        "colab": {
          "referenced_widgets": [
            "93c84269f7d94d32a80ae9a2326f46f1",
            "c493b7943df64d7c8927c89c14e1ce8e"
          ]
        },
        "id": "sufficient-irish",
        "outputId": "43fe4c16-0164-4e5b-a4cd-01b9d2b15f3d"
      },
      "source": [
        "# First load the real tokenizer\n",
        "tokenizer = AutoTokenizer.from_pretrained(MODEL)\n"
      ],
      "id": "sufficient-irish",
      "execution_count": null,
      "outputs": [
        {
          "output_type": "display_data",
          "data": {
            "application/vnd.jupyter.widget-view+json": {
              "model_id": "93c84269f7d94d32a80ae9a2326f46f1",
              "version_major": 2,
              "version_minor": 0
            },
            "text/plain": [
              "Downloading:   0%|          | 0.00/570 [00:00<?, ?B/s]"
            ]
          },
          "metadata": {
            "tags": []
          }
        },
        {
          "output_type": "display_data",
          "data": {
            "application/vnd.jupyter.widget-view+json": {
              "model_id": "c493b7943df64d7c8927c89c14e1ce8e",
              "version_major": 2,
              "version_minor": 0
            },
            "text/plain": [
              "Downloading:   0%|          | 0.00/232k [00:00<?, ?B/s]"
            ]
          },
          "metadata": {
            "tags": []
          }
        }
      ]
    },
    {
      "cell_type": "code",
      "metadata": {
        "execution": {
          "iopub.execute_input": "2021-05-01T10:13:05.601029Z",
          "iopub.status.busy": "2021-05-01T10:13:05.599613Z",
          "iopub.status.idle": "2021-05-01T10:13:05.607268Z",
          "shell.execute_reply": "2021-05-01T10:13:05.607845Z"
        },
        "papermill": {
          "duration": 0.314052,
          "end_time": "2021-05-01T10:13:05.608023",
          "exception": false,
          "start_time": "2021-05-01T10:13:05.293971",
          "status": "completed"
        },
        "tags": [],
        "id": "proprietary-occasions",
        "outputId": "a3201e5a-9bc1-45a9-9483-8f97a532e91b"
      },
      "source": [
        "train.columns"
      ],
      "id": "proprietary-occasions",
      "execution_count": null,
      "outputs": [
        {
          "output_type": "execute_result",
          "data": {
            "text/plain": [
              "Index(['id', 'comment_text', 'toxic', 'severe_toxic', 'obscene', 'threat',\n",
              "       'insult', 'identity_hate'],\n",
              "      dtype='object')"
            ]
          },
          "metadata": {
            "tags": []
          },
          "execution_count": 18
        }
      ]
    },
    {
      "cell_type": "markdown",
      "metadata": {
        "papermill": {
          "duration": 0.276476,
          "end_time": "2021-05-01T10:13:06.157153",
          "exception": false,
          "start_time": "2021-05-01T10:13:05.880677",
          "status": "completed"
        },
        "tags": [],
        "id": "round-winning"
      },
      "source": [
        "# text cleaning"
      ],
      "id": "round-winning"
    },
    {
      "cell_type": "code",
      "metadata": {
        "execution": {
          "iopub.execute_input": "2021-05-01T10:13:07.064610Z",
          "iopub.status.busy": "2021-05-01T10:13:07.063773Z",
          "iopub.status.idle": "2021-05-01T10:13:07.090812Z",
          "shell.execute_reply": "2021-05-01T10:13:07.091809Z"
        },
        "papermill": {
          "duration": 0.660684,
          "end_time": "2021-05-01T10:13:07.092006",
          "exception": false,
          "start_time": "2021-05-01T10:13:06.431322",
          "status": "completed"
        },
        "tags": [],
        "id": "chicken-genius"
      },
      "source": [
        "\n",
        "\n",
        "punctuations = [',', '.', '\"', ':', ')', '(', '-', '!', '?', '|', ';', \"'\", '$', '&', '/', '[', ']', '>', '%', '=', '#', '*', '+', '\\\\', '•',  '~', '@', '£',\n",
        " '·', '_', '{', '}', '©', '^', '®', '`',  '<', '→', '°', '€', '™', '›',  '♥', '←', '×', '§', '″', '′', 'Â', '█', '½', 'à', '…', '\\xa0', '\\t',\n",
        " '“', '★', '”', '–', '●', 'â', '►', '−', '¢', '²', '¬', '░', '¶', '↑', '±', '¿', '▾', '═', '¦', '║', '―', '¥', '▓', '—', '‹', '─', '\\u3000', '\\u202f',\n",
        " '▒', '：', '¼', '⊕', '▼', '▪', '†', '■', '’', '▀', '¨', '▄', '♫', '☆', 'é', '¯', '♦', '¤', '▲', 'è', '¸', '¾', 'Ã', '⋅', '‘', '∞', '«',\n",
        " '∙', '）', '↓', '、', '│', '（', '»', '，', '♪', '╩', '╚', '³', '・', '╦', '╣', '╔', '╗', '▬', '❤', 'ï', 'Ø', '¹', '≤', '‡', '√', ]\n",
        "\n",
        "mispell_dict = {\"aren't\" : \"are not\",\n",
        "\"can't\" : \"cannot\",\n",
        "\"couldn't\" : \"could not\",\n",
        "\"couldnt\" : \"could not\",\n",
        "\"didn't\" : \"did not\",\n",
        "\"doesn't\" : \"does not\",\n",
        "\"doesnt\" : \"does not\",\n",
        "\"don't\" : \"do not\",\n",
        "\"hadn't\" : \"had not\",\n",
        "\"hasn't\" : \"has not\",\n",
        "\"haven't\" : \"have not\",\n",
        "\"havent\" : \"have not\",\n",
        "\"he'd\" : \"he would\",\n",
        "\"he'll\" : \"he will\",\n",
        "\"he's\" : \"he is\",\n",
        "\"i'd\" : \"I would\",\n",
        "\"i'd\" : \"I had\",\n",
        "\"i'll\" : \"I will\",\n",
        "\"i'm\" : \"I am\",\n",
        "\"isn't\" : \"is not\",\n",
        "\"it's\" : \"it is\",\n",
        "\"it'll\":\"it will\",\n",
        "\"i've\" : \"I have\",\n",
        "\"let's\" : \"let us\",\n",
        "\"mightn't\" : \"might not\",\n",
        "\"mustn't\" : \"must not\",\n",
        "\"shan't\" : \"shall not\",\n",
        "\"she'd\" : \"she would\",\n",
        "\"she'll\" : \"she will\",\n",
        "\"she's\" : \"she is\",\n",
        "\"shouldn't\" : \"should not\",\n",
        "\"shouldnt\" : \"should not\",\n",
        "\"that's\" : \"that is\",\n",
        "\"thats\" : \"that is\",\n",
        "\"there's\" : \"there is\",\n",
        "\"theres\" : \"there is\",\n",
        "\"they'd\" : \"they would\",\n",
        "\"they'll\" : \"they will\",\n",
        "\"they're\" : \"they are\",\n",
        "\"theyre\":  \"they are\",\n",
        "\"they've\" : \"they have\",\n",
        "\"we'd\" : \"we would\",\n",
        "\"we're\" : \"we are\",\n",
        "\"weren't\" : \"were not\",\n",
        "\"we've\" : \"we have\",\n",
        "\"what'll\" : \"what will\",\n",
        "\"what're\" : \"what are\",\n",
        "\"what's\" : \"what is\",\n",
        "\"what've\" : \"what have\",\n",
        "\"where's\" : \"where is\",\n",
        "\"who'd\" : \"who would\",\n",
        "\"who'll\" : \"who will\",\n",
        "\"who're\" : \"who are\",\n",
        "\"who's\" : \"who is\",\n",
        "\"who've\" : \"who have\",\n",
        "\"won't\" : \"will not\",\n",
        "\"wouldn't\" : \"would not\",\n",
        "\"you'd\" : \"you would\",\n",
        "\"you'll\" : \"you will\",\n",
        "\"you're\" : \"you are\",\n",
        "\"you've\" : \"you have\",\n",
        "\"'re\": \" are\",\n",
        "\"wasn't\": \"was not\",\n",
        "\"we'll\":\" will\",\n",
        "\"didn't\": \"did not\",\n",
        "\"tryin'\":\"trying\"}\n",
        "\n",
        "\n",
        "def text_cleaner(x):\n",
        "    x = str(x).replace(\"\\n\",\"\")\n",
        "    for punctuation in punctuations:\n",
        "        x = x.replace(punctuation, f' {punctuation} ')\n",
        "    return x\n",
        "\n",
        "\n",
        "def numbersCleaner(x):\n",
        "    x = re.sub('[0-9]{5,}', '#####', x)\n",
        "    x = re.sub('[0-9]{4}', '####', x)\n",
        "    x = re.sub('[0-9]{3}', '###', x)\n",
        "    x = re.sub('[0-9]{2}', '##', x)\n",
        "    return x\n",
        "\n",
        "\n",
        "def contractionsHandler(x):\n",
        "    x = tokenizer.tokenize(x)\n",
        "    return x\n",
        "\n",
        "def quoteFixer(data):\n",
        "    data = [x_[1:] if x_.startswith(\"'\") else x_ for x_ in data]\n",
        "    data = ' '.join(data)\n",
        "    return data\n",
        "\n",
        "def missplelling(missplelling_dict):\n",
        "    missplelling_re = re.compile('(%s)' % '|'.join(missplelling_dict.keys()))\n",
        "    return mispell_dict, missplelling_re\n",
        "\n",
        "\n",
        "def replace_misspell(text):\n",
        "    mispellings, mispellings_re = missplelling(mispell_dict)\n",
        "\n",
        "    def replace(match):\n",
        "        return mispellings[match.group(0)]\n",
        "\n",
        "    return mispellings_re.sub(replace, text)\n",
        "\n",
        "\n",
        "def dataCleaner(df, columns: list):\n",
        "    for col in columns:\n",
        "        df[col] = df[col].apply(lambda x: numbersCleaner(x))\n",
        "        df[col] = df[col].apply(lambda x: text_cleaner(x.lower())) \n",
        "        df[col] = df[col].apply(lambda x: replace_misspell(x))\n",
        "        df[col] = df[col].apply(lambda x: contractionsHandler(x))  \n",
        "        df[col] = df[col].apply(lambda x: quoteFixer(x))   \n",
        "    \n",
        "    return df\n",
        "\n"
      ],
      "id": "chicken-genius",
      "execution_count": null,
      "outputs": []
    },
    {
      "cell_type": "markdown",
      "metadata": {
        "papermill": {
          "duration": 0.27197,
          "end_time": "2021-05-01T10:13:07.649786",
          "exception": false,
          "start_time": "2021-05-01T10:13:07.377816",
          "status": "completed"
        },
        "tags": [],
        "id": "disabled-profile"
      },
      "source": [
        "# applying text cleaning on full training dataset "
      ],
      "id": "disabled-profile"
    },
    {
      "cell_type": "code",
      "metadata": {
        "execution": {
          "iopub.execute_input": "2021-05-01T10:13:08.201014Z",
          "iopub.status.busy": "2021-05-01T10:13:08.195742Z",
          "iopub.status.idle": "2021-05-01T10:20:25.662282Z",
          "shell.execute_reply": "2021-05-01T10:20:25.662835Z"
        },
        "papermill": {
          "duration": 437.744269,
          "end_time": "2021-05-01T10:20:25.663141",
          "exception": false,
          "start_time": "2021-05-01T10:13:07.918872",
          "status": "completed"
        },
        "tags": [],
        "id": "medium-inflation",
        "outputId": "633acd5e-3031-4912-e287-256a2a0fdce6"
      },
      "source": [
        "%%time\n",
        "input_columns = [\n",
        "    'comment_text'   \n",
        "]\n",
        "\n",
        "'''using text cleaning techniques like clean numbers, clean text,replace some typical misspell,handle some contractions,fix quote \n",
        "on full training data'''\n",
        "\n",
        "train = dataCleaner(train, input_columns ) \n"
      ],
      "id": "medium-inflation",
      "execution_count": null,
      "outputs": [
        {
          "output_type": "stream",
          "text": [
            "CPU times: user 7min 15s, sys: 1.88 s, total: 7min 17s\n",
            "Wall time: 7min 17s\n"
          ],
          "name": "stdout"
        }
      ]
    },
    {
      "cell_type": "markdown",
      "metadata": {
        "papermill": {
          "duration": 0.273219,
          "end_time": "2021-05-01T10:20:26.208442",
          "exception": false,
          "start_time": "2021-05-01T10:20:25.935223",
          "status": "completed"
        },
        "tags": [],
        "id": "seventh-handy"
      },
      "source": [
        "# there are some values in label that are in float,i convert all of them down to 0/1(nearest integer) as i am treating this problem as multi class classification problem so i should fix the label issues"
      ],
      "id": "seventh-handy"
    },
    {
      "cell_type": "code",
      "metadata": {
        "execution": {
          "iopub.execute_input": "2021-05-01T10:20:26.871084Z",
          "iopub.status.busy": "2021-05-01T10:20:26.869770Z",
          "iopub.status.idle": "2021-05-01T10:20:26.880300Z",
          "shell.execute_reply": "2021-05-01T10:20:26.879778Z"
        },
        "papermill": {
          "duration": 0.28957,
          "end_time": "2021-05-01T10:20:26.880447",
          "exception": false,
          "start_time": "2021-05-01T10:20:26.590877",
          "status": "completed"
        },
        "tags": [],
        "id": "dying-fancy"
      },
      "source": [
        "train.toxic = train.toxic.round().astype(int)\n",
        "train.severe_toxic = train.severe_toxic.round().astype(int)\n",
        "train.obscene = train.obscene.round().astype(int)\n",
        "train.threat = train.threat.round().astype(int)\n",
        "train.insult = train.insult.round().astype(int)\n",
        "train.identity_hate = train.identity_hate.round().astype(int)\n"
      ],
      "id": "dying-fancy",
      "execution_count": null,
      "outputs": []
    },
    {
      "cell_type": "markdown",
      "metadata": {
        "papermill": {
          "duration": 0.273358,
          "end_time": "2021-05-01T10:20:27.427068",
          "exception": false,
          "start_time": "2021-05-01T10:20:27.153710",
          "status": "completed"
        },
        "tags": [],
        "id": "everyday-weather"
      },
      "source": [
        "data distribution of each class"
      ],
      "id": "everyday-weather"
    },
    {
      "cell_type": "code",
      "metadata": {
        "execution": {
          "iopub.execute_input": "2021-05-01T10:20:27.971990Z",
          "iopub.status.busy": "2021-05-01T10:20:27.971356Z",
          "iopub.status.idle": "2021-05-01T10:20:28.020610Z",
          "shell.execute_reply": "2021-05-01T10:20:28.019867Z"
        },
        "papermill": {
          "duration": 0.321887,
          "end_time": "2021-05-01T10:20:28.020762",
          "exception": false,
          "start_time": "2021-05-01T10:20:27.698875",
          "status": "completed"
        },
        "tags": [],
        "id": "velvet-communist",
        "outputId": "5b44cd7f-202e-416f-916b-ed3c6734e0be"
      },
      "source": [
        "train[['identity_hate']].value_counts(),train[['toxic']].value_counts(),train[['severe_toxic']].value_counts(),train[['obscene']].value_counts(),train[['threat']].value_counts(),train[['insult']].value_counts()"
      ],
      "id": "velvet-communist",
      "execution_count": null,
      "outputs": [
        {
          "output_type": "execute_result",
          "data": {
            "text/plain": [
              "(identity_hate\n",
              " 0                158166\n",
              " 1                  1405\n",
              " dtype: int64,\n",
              " toxic\n",
              " 0        144277\n",
              " 1         15294\n",
              " dtype: int64,\n",
              " severe_toxic\n",
              " 0               157976\n",
              " 1                 1595\n",
              " dtype: int64,\n",
              " obscene\n",
              " 0          151122\n",
              " 1            8449\n",
              " dtype: int64,\n",
              " threat\n",
              " 0         159093\n",
              " 1            478\n",
              " dtype: int64,\n",
              " insult\n",
              " 0         151694\n",
              " 1           7877\n",
              " dtype: int64)"
            ]
          },
          "metadata": {
            "tags": []
          },
          "execution_count": 22
        }
      ]
    },
    {
      "cell_type": "markdown",
      "metadata": {
        "papermill": {
          "duration": 0.272755,
          "end_time": "2021-05-01T10:20:28.571676",
          "exception": false,
          "start_time": "2021-05-01T10:20:28.298921",
          "status": "completed"
        },
        "tags": [],
        "id": "responsible-therapist"
      },
      "source": [
        "for validation set i am going to take 50000 non toxic samples and 7000 toxic samples instead of doing simple 80-20 train test split,because that way it's easy to get a validation set which will contain small amount of toxic samples or no toxic samples at all as this dataset is highly imbalanced,so simple 80-20 split is not a good validation strategy here and i can't put enough trust on that validation strategy for this task,i must ensure that the valdiation dataset that i have prepare here will contain sufficient positive ,negative samples for each and every class,hope it makes sense."
      ],
      "id": "responsible-therapist"
    },
    {
      "cell_type": "code",
      "metadata": {
        "execution": {
          "iopub.execute_input": "2021-05-01T10:20:29.135561Z",
          "iopub.status.busy": "2021-05-01T10:20:29.134866Z",
          "iopub.status.idle": "2021-05-01T10:20:29.237407Z",
          "shell.execute_reply": "2021-05-01T10:20:29.237981Z"
        },
        "papermill": {
          "duration": 0.393568,
          "end_time": "2021-05-01T10:20:29.238155",
          "exception": false,
          "start_time": "2021-05-01T10:20:28.844587",
          "status": "completed"
        },
        "tags": [],
        "id": "marine-civilian",
        "outputId": "3ccc6b80-ba42-44af-e82b-a019820f9dea"
      },
      "source": [
        "val =  pd.concat([\n",
        "  \n",
        "    train[['toxic', 'comment_text', 'severe_toxic', 'obscene', 'insult', 'threat', 'identity_hate']].query('toxic==0').sample(n=50000, random_state=0),\n",
        "\n",
        "    #train[['toxic', 'comment_text', 'severe_toxic', 'obscene', 'insult', 'threat', 'identity_hate']].query('severe_toxic==1').sample(n=500, random_state=0),\n",
        "    \n",
        "    train[['toxic', 'comment_text', 'severe_toxic', 'obscene', 'insult', 'threat', 'identity_hate']].query('toxic==1').sample(n=7000, random_state=0),\n",
        "\n",
        "    #train[['toxic', 'comment_text', 'severe_toxic', 'obscene', 'insult', 'threat', 'identity_hate']].query('obscene==1').sample(n=2000, random_state=0),\n",
        "\n",
        "    #train[['toxic', 'comment_text', 'severe_toxic', 'obscene', 'insult', 'threat', 'identity_hate']].query('insult==1').sample(n=2000, random_state=0),\n",
        "\n",
        "    #train[['toxic', 'comment_text', 'severe_toxic', 'obscene', 'insult', 'threat', 'identity_hate']].query('threat==1').sample(n=150, random_state=0),\n",
        "\n",
        "    #train[['toxic', 'comment_text', 'severe_toxic', 'obscene', 'insult', 'threat', 'identity_hate']].query('identity_hate==1').sample(n=500, random_state=0)\n",
        "])\n",
        "val.reset_index(inplace = True)\n",
        "len(val)"
      ],
      "id": "marine-civilian",
      "execution_count": null,
      "outputs": [
        {
          "output_type": "execute_result",
          "data": {
            "text/plain": [
              "57000"
            ]
          },
          "metadata": {
            "tags": []
          },
          "execution_count": 23
        }
      ]
    },
    {
      "cell_type": "code",
      "metadata": {
        "execution": {
          "iopub.execute_input": "2021-05-01T10:20:29.789432Z",
          "iopub.status.busy": "2021-05-01T10:20:29.788777Z",
          "iopub.status.idle": "2021-05-01T10:20:29.973462Z",
          "shell.execute_reply": "2021-05-01T10:20:29.972915Z"
        },
        "papermill": {
          "duration": 0.464444,
          "end_time": "2021-05-01T10:20:29.973615",
          "exception": false,
          "start_time": "2021-05-01T10:20:29.509171",
          "status": "completed"
        },
        "tags": [],
        "id": "italian-classic",
        "outputId": "bca18695-2848-41f6-a11b-30e2d0a6fda4"
      },
      "source": [
        "checkDuplicate = val[val.duplicated()]\n",
        "checkDuplicate"
      ],
      "id": "italian-classic",
      "execution_count": null,
      "outputs": [
        {
          "output_type": "execute_result",
          "data": {
            "text/html": [
              "<div>\n",
              "<style scoped>\n",
              "    .dataframe tbody tr th:only-of-type {\n",
              "        vertical-align: middle;\n",
              "    }\n",
              "\n",
              "    .dataframe tbody tr th {\n",
              "        vertical-align: top;\n",
              "    }\n",
              "\n",
              "    .dataframe thead th {\n",
              "        text-align: right;\n",
              "    }\n",
              "</style>\n",
              "<table border=\"1\" class=\"dataframe\">\n",
              "  <thead>\n",
              "    <tr style=\"text-align: right;\">\n",
              "      <th></th>\n",
              "      <th>index</th>\n",
              "      <th>toxic</th>\n",
              "      <th>comment_text</th>\n",
              "      <th>severe_toxic</th>\n",
              "      <th>obscene</th>\n",
              "      <th>insult</th>\n",
              "      <th>threat</th>\n",
              "      <th>identity_hate</th>\n",
              "    </tr>\n",
              "  </thead>\n",
              "  <tbody>\n",
              "  </tbody>\n",
              "</table>\n",
              "</div>"
            ],
            "text/plain": [
              "Empty DataFrame\n",
              "Columns: [index, toxic, comment_text, severe_toxic, obscene, insult, threat, identity_hate]\n",
              "Index: []"
            ]
          },
          "metadata": {
            "tags": []
          },
          "execution_count": 24
        }
      ]
    },
    {
      "cell_type": "code",
      "metadata": {
        "execution": {
          "iopub.execute_input": "2021-05-01T10:20:30.525286Z",
          "iopub.status.busy": "2021-05-01T10:20:30.524260Z",
          "iopub.status.idle": "2021-05-01T10:20:30.548401Z",
          "shell.execute_reply": "2021-05-01T10:20:30.548868Z"
        },
        "papermill": {
          "duration": 0.302947,
          "end_time": "2021-05-01T10:20:30.549057",
          "exception": false,
          "start_time": "2021-05-01T10:20:30.246110",
          "status": "completed"
        },
        "tags": [],
        "id": "spare-study",
        "outputId": "bbcf67f2-0bf4-4a36-bf4b-a6f2c16c6fe1"
      },
      "source": [
        "val[['identity_hate']].value_counts(),val[['toxic']].value_counts(),val[['severe_toxic']].value_counts(),val[['obscene']].value_counts(),val[['threat']].value_counts(),val[['insult']].value_counts()"
      ],
      "id": "spare-study",
      "execution_count": null,
      "outputs": [
        {
          "output_type": "execute_result",
          "data": {
            "text/plain": [
              "(identity_hate\n",
              " 0                56365\n",
              " 1                  635\n",
              " dtype: int64,\n",
              " toxic\n",
              " 0        50000\n",
              " 1         7000\n",
              " dtype: int64,\n",
              " severe_toxic\n",
              " 0               56253\n",
              " 1                 747\n",
              " dtype: int64,\n",
              " obscene\n",
              " 0          53132\n",
              " 1           3868\n",
              " dtype: int64,\n",
              " threat\n",
              " 0         56778\n",
              " 1           222\n",
              " dtype: int64,\n",
              " insult\n",
              " 0         53429\n",
              " 1          3571\n",
              " dtype: int64)"
            ]
          },
          "metadata": {
            "tags": []
          },
          "execution_count": 25
        }
      ]
    },
    {
      "cell_type": "markdown",
      "metadata": {
        "papermill": {
          "duration": 0.2741,
          "end_time": "2021-05-01T10:20:31.096437",
          "exception": false,
          "start_time": "2021-05-01T10:20:30.822337",
          "status": "completed"
        },
        "tags": [],
        "id": "reported-saturn"
      },
      "source": [
        "removing chosen validation indexes from train dataset(as they are no longer my  training samples,i will use them for evaluation)"
      ],
      "id": "reported-saturn"
    },
    {
      "cell_type": "code",
      "metadata": {
        "execution": {
          "iopub.execute_input": "2021-05-01T10:20:31.644238Z",
          "iopub.status.busy": "2021-05-01T10:20:31.643366Z",
          "iopub.status.idle": "2021-05-01T10:20:31.647210Z",
          "shell.execute_reply": "2021-05-01T10:20:31.647657Z"
        },
        "papermill": {
          "duration": 0.279254,
          "end_time": "2021-05-01T10:20:31.647827",
          "exception": false,
          "start_time": "2021-05-01T10:20:31.368573",
          "status": "completed"
        },
        "tags": [],
        "id": "stuffed-statement",
        "outputId": "e22a477d-34db-42ed-e7ba-987f995bc89e"
      },
      "source": [
        "list1 = val.index\n",
        "list1"
      ],
      "id": "stuffed-statement",
      "execution_count": null,
      "outputs": [
        {
          "output_type": "execute_result",
          "data": {
            "text/plain": [
              "RangeIndex(start=0, stop=57000, step=1)"
            ]
          },
          "metadata": {
            "tags": []
          },
          "execution_count": 26
        }
      ]
    },
    {
      "cell_type": "code",
      "metadata": {
        "execution": {
          "iopub.execute_input": "2021-05-01T10:20:32.195581Z",
          "iopub.status.busy": "2021-05-01T10:20:32.194448Z",
          "iopub.status.idle": "2021-05-01T10:20:32.199722Z",
          "shell.execute_reply": "2021-05-01T10:20:32.200217Z"
        },
        "papermill": {
          "duration": 0.281001,
          "end_time": "2021-05-01T10:20:32.200387",
          "exception": false,
          "start_time": "2021-05-01T10:20:31.919386",
          "status": "completed"
        },
        "tags": [],
        "id": "gorgeous-miniature",
        "outputId": "65e271da-c23e-497f-bfe8-44990c91c727"
      },
      "source": [
        "len(train)"
      ],
      "id": "gorgeous-miniature",
      "execution_count": null,
      "outputs": [
        {
          "output_type": "execute_result",
          "data": {
            "text/plain": [
              "159571"
            ]
          },
          "metadata": {
            "tags": []
          },
          "execution_count": 27
        }
      ]
    },
    {
      "cell_type": "code",
      "metadata": {
        "execution": {
          "iopub.execute_input": "2021-05-01T10:20:32.743418Z",
          "iopub.status.busy": "2021-05-01T10:20:32.742426Z",
          "iopub.status.idle": "2021-05-01T10:20:32.766048Z",
          "shell.execute_reply": "2021-05-01T10:20:32.765456Z"
        },
        "papermill": {
          "duration": 0.296511,
          "end_time": "2021-05-01T10:20:32.766281",
          "exception": false,
          "start_time": "2021-05-01T10:20:32.469770",
          "status": "completed"
        },
        "tags": [],
        "id": "dense-calvin",
        "outputId": "9790d872-6341-4f51-f015-70ae68cad244"
      },
      "source": [
        "train = train.loc[~train.index.isin(list1)]\n",
        "train.reset_index(inplace = True)\n",
        "len(train)"
      ],
      "id": "dense-calvin",
      "execution_count": null,
      "outputs": [
        {
          "output_type": "execute_result",
          "data": {
            "text/plain": [
              "102571"
            ]
          },
          "metadata": {
            "tags": []
          },
          "execution_count": 28
        }
      ]
    },
    {
      "cell_type": "markdown",
      "metadata": {
        "papermill": {
          "duration": 0.273674,
          "end_time": "2021-05-01T10:20:33.313269",
          "exception": false,
          "start_time": "2021-05-01T10:20:33.039595",
          "status": "completed"
        },
        "tags": [],
        "id": "figured-fusion"
      },
      "source": [
        "# After splitting train and validation dataset,let's check my dataset's present distribution now that i am going to use for model training"
      ],
      "id": "figured-fusion"
    },
    {
      "cell_type": "code",
      "metadata": {
        "execution": {
          "iopub.execute_input": "2021-05-01T10:20:33.860782Z",
          "iopub.status.busy": "2021-05-01T10:20:33.860005Z",
          "iopub.status.idle": "2021-05-01T10:20:34.653973Z",
          "shell.execute_reply": "2021-05-01T10:20:34.654577Z"
        },
        "papermill": {
          "duration": 1.070343,
          "end_time": "2021-05-01T10:20:34.654754",
          "exception": false,
          "start_time": "2021-05-01T10:20:33.584411",
          "status": "completed"
        },
        "tags": [],
        "id": "maritime-lending",
        "outputId": "df3dc35f-8eac-45ec-ef5a-6818fb8f91c8"
      },
      "source": [
        "fig , axes = plt.subplots(2,3,figsize = (10,10), constrained_layout = True)\n",
        "sns.countplot(ax=axes[0,0],x='toxic',data=train)\n",
        "sns.countplot(ax=axes[0,1],x='severe_toxic',data=train)\n",
        "sns.countplot(ax=axes[0,2],x='obscene',data=train)\n",
        "sns.countplot(ax = axes[1,0],x='threat',data=train)\n",
        "sns.countplot(ax=axes[1,1],x='insult',data=train)\n",
        "sns.countplot(ax=axes[1,2],x='identity_hate',data=train)\n",
        "plt.suptitle('training data distribution of each class')\n",
        "plt.show()"
      ],
      "id": "maritime-lending",
      "execution_count": null,
      "outputs": [
        {
          "output_type": "display_data",
          "data": {
            "image/png": "[encoded data removed]",
            "text/plain": [
              "<Figure size 720x720 with 6 Axes>"
            ]
          },
          "metadata": {
            "tags": [],
            "needs_background": "light"
          }
        }
      ]
    },
    {
      "cell_type": "code",
      "metadata": {
        "execution": {
          "iopub.execute_input": "2021-05-01T10:20:35.210874Z",
          "iopub.status.busy": "2021-05-01T10:20:35.209762Z",
          "iopub.status.idle": "2021-05-01T10:20:36.022442Z",
          "shell.execute_reply": "2021-05-01T10:20:36.022910Z"
        },
        "papermill": {
          "duration": 1.093847,
          "end_time": "2021-05-01T10:20:36.023098",
          "exception": false,
          "start_time": "2021-05-01T10:20:34.929251",
          "status": "completed"
        },
        "tags": [],
        "id": "heavy-flashing",
        "outputId": "11bbf69c-f9a6-4b0d-bbc9-9270938d3087"
      },
      "source": [
        "fig , axes = plt.subplots(2,3,figsize = (10,10), constrained_layout = True)\n",
        "sns.countplot(ax=axes[0,0],x='toxic',data=val)\n",
        "sns.countplot(ax=axes[0,1],x='severe_toxic',data=val)\n",
        "sns.countplot(ax=axes[0,2],x='obscene',data=val)\n",
        "sns.countplot(ax = axes[1,0],x='threat',data=val)\n",
        "sns.countplot(ax=axes[1,1],x='insult',data=val)\n",
        "sns.countplot(ax=axes[1,2],x='identity_hate',data=val)\n",
        "plt.suptitle('validation data distribution of each class')\n",
        "plt.show()"
      ],
      "id": "heavy-flashing",
      "execution_count": null,
      "outputs": [
        {
          "output_type": "display_data",
          "data": {
            "image/png": "[encoded data removed]",
            "text/plain": [
              "<Figure size 720x720 with 6 Axes>"
            ]
          },
          "metadata": {
            "tags": [],
            "needs_background": "light"
          }
        }
      ]
    },
    {
      "cell_type": "markdown",
      "metadata": {
        "papermill": {
          "duration": 0.305437,
          "end_time": "2021-05-01T10:20:36.610804",
          "exception": false,
          "start_time": "2021-05-01T10:20:36.305367",
          "status": "completed"
        },
        "tags": [],
        "id": "completed-manner"
      },
      "source": [
        "from above 2 graphs i can see i have enough dataset in train and validation, and in both dataset i have high imbalance samples for each class but most importantly i can see that our validation dataset's each class containing enough positive negative samples and there are no class where i don't have any toxic samples,,so validation accuracy on this dataset is reliable enough"
      ],
      "id": "completed-manner"
    },
    {
      "cell_type": "markdown",
      "metadata": {
        "papermill": {
          "duration": 0.275298,
          "end_time": "2021-05-01T10:20:37.160751",
          "exception": false,
          "start_time": "2021-05-01T10:20:36.885453",
          "status": "completed"
        },
        "tags": [],
        "id": "overhead-miller"
      },
      "source": [
        "the function below is used for applying tokenization for my selected model,,for better understanding of selected tokenization method,please [check this](https://huggingface.co/transformers/main_classes/tokenizer.html)"
      ],
      "id": "overhead-miller"
    },
    {
      "cell_type": "code",
      "metadata": {
        "execution": {
          "iopub.execute_input": "2021-05-01T10:20:37.723508Z",
          "iopub.status.busy": "2021-05-01T10:20:37.722747Z",
          "iopub.status.idle": "2021-05-01T10:20:37.726138Z",
          "shell.execute_reply": "2021-05-01T10:20:37.725641Z"
        },
        "papermill": {
          "duration": 0.287341,
          "end_time": "2021-05-01T10:20:37.726351",
          "exception": false,
          "start_time": "2021-05-01T10:20:37.439010",
          "status": "completed"
        },
        "tags": [],
        "id": "artificial-wireless"
      },
      "source": [
        "def regular_encode(texts, tokenizer, maxlen=512):\n",
        "    enc_di = tokenizer.batch_encode_plus(\n",
        "        texts, \n",
        "        return_attention_mask=False, \n",
        "        return_token_type_ids=False,\n",
        "        pad_to_max_length=True,\n",
        "        max_length=maxlen\n",
        "    )\n",
        "    \n",
        "    return np.array(enc_di['input_ids'])"
      ],
      "id": "artificial-wireless",
      "execution_count": null,
      "outputs": []
    },
    {
      "cell_type": "markdown",
      "metadata": {
        "papermill": {
          "duration": 0.279682,
          "end_time": "2021-05-01T10:20:38.282725",
          "exception": false,
          "start_time": "2021-05-01T10:20:38.003043",
          "status": "completed"
        },
        "tags": [],
        "id": "practical-invention"
      },
      "source": [
        "# i will use focal loss as my loss function as my dataset is highly imbalanced and focal loss does well when dataset is highly imbalance"
      ],
      "id": "practical-invention"
    },
    {
      "cell_type": "code",
      "metadata": {
        "execution": {
          "iopub.execute_input": "2021-05-01T10:20:38.841823Z",
          "iopub.status.busy": "2021-05-01T10:20:38.841109Z",
          "iopub.status.idle": "2021-05-01T10:20:38.844870Z",
          "shell.execute_reply": "2021-05-01T10:20:38.844171Z"
        },
        "papermill": {
          "duration": 0.285346,
          "end_time": "2021-05-01T10:20:38.845017",
          "exception": false,
          "start_time": "2021-05-01T10:20:38.559671",
          "status": "completed"
        },
        "tags": [],
        "id": "premium-moisture"
      },
      "source": [
        "\n",
        "\n",
        "def focal_loss(gamma=2., alpha=.2):\n",
        "    def focal_loss_fixed(y_true, y_pred):\n",
        "        pt_1 = tf.where(tf.equal(y_true, 1), y_pred, tf.ones_like(y_pred))\n",
        "        pt_0 = tf.where(tf.equal(y_true, 0), y_pred, tf.zeros_like(y_pred))\n",
        "        return -K.mean(alpha * K.pow(1. - pt_1, gamma) * K.log(pt_1)) - K.mean((1 - alpha) * K.pow(pt_0, gamma) * K.log(1. - pt_0))\n",
        "    return focal_loss_fixed"
      ],
      "id": "premium-moisture",
      "execution_count": null,
      "outputs": []
    },
    {
      "cell_type": "markdown",
      "metadata": {
        "papermill": {
          "duration": 0.278077,
          "end_time": "2021-05-01T10:20:39.400771",
          "exception": false,
          "start_time": "2021-05-01T10:20:39.122694",
          "status": "completed"
        },
        "tags": [],
        "id": "injured-graduation"
      },
      "source": [
        "# the function below will help me load my model and as metric i will use multilable AUC and recall"
      ],
      "id": "injured-graduation"
    },
    {
      "cell_type": "code",
      "metadata": {
        "execution": {
          "iopub.execute_input": "2021-05-01T10:20:39.967865Z",
          "iopub.status.busy": "2021-05-01T10:20:39.967208Z",
          "iopub.status.idle": "2021-05-01T10:20:39.970983Z",
          "shell.execute_reply": "2021-05-01T10:20:39.969984Z"
        },
        "papermill": {
          "duration": 0.295257,
          "end_time": "2021-05-01T10:20:39.971144",
          "exception": false,
          "start_time": "2021-05-01T10:20:39.675887",
          "status": "completed"
        },
        "tags": [],
        "id": "wireless-termination"
      },
      "source": [
        "def build_model(transformer, loss, max_len=512):\n",
        "  \n",
        "    input_word_ids = Input(shape=(max_len,), dtype=tf.int32, name=\"input_word_ids\")\n",
        "    sequence_output = transformer(input_word_ids)[0]\n",
        "    cls_token = sequence_output[:, 0, :]\n",
        "    x = tf.keras.layers.Dropout(0.3)(cls_token)\n",
        "    out = Dense(6, activation='sigmoid')(cls_token) # we have 6 class\n",
        "    \n",
        "\n",
        "    model = Model(inputs=input_word_ids, outputs=out)\n",
        "    model.compile(Adam(lr=1e-5), loss=loss, metrics=[tf.keras.metrics.AUC(multi_label = True),tf.keras.metrics.Recall()])\n",
        "    \n",
        "    return model"
      ],
      "id": "wireless-termination",
      "execution_count": null,
      "outputs": []
    },
    {
      "cell_type": "markdown",
      "metadata": {
        "papermill": {
          "duration": 0.276788,
          "end_time": "2021-05-01T10:20:40.525332",
          "exception": false,
          "start_time": "2021-05-01T10:20:40.248544",
          "status": "completed"
        },
        "tags": [],
        "id": "vocal-yesterday"
      },
      "source": [
        "encoding our train and validation dataset using regular encode class as discussed above"
      ],
      "id": "vocal-yesterday"
    },
    {
      "cell_type": "code",
      "metadata": {
        "execution": {
          "iopub.execute_input": "2021-05-01T10:20:41.086337Z",
          "iopub.status.busy": "2021-05-01T10:20:41.085551Z",
          "iopub.status.idle": "2021-05-01T10:28:25.865005Z",
          "shell.execute_reply": "2021-05-01T10:28:25.865654Z"
        },
        "papermill": {
          "duration": 465.064008,
          "end_time": "2021-05-01T10:28:25.865846",
          "exception": false,
          "start_time": "2021-05-01T10:20:40.801838",
          "status": "completed"
        },
        "tags": [],
        "id": "needed-moldova",
        "outputId": "35e55551-8cdf-436c-9acb-e1f2c87b53c5"
      },
      "source": [
        "%%time \n",
        "\n",
        "x_train = regular_encode(train.comment_text.values, tokenizer, maxlen=MAX_LEN)\n",
        "x_valid = regular_encode(val.comment_text.values, tokenizer, maxlen=MAX_LEN)\n",
        "\n",
        "\n",
        "y_train = np.stack([train.toxic.values, train.severe_toxic.values, train.obscene.values, train.threat.values, train.insult.values, train.identity_hate.values], axis = 1)\n",
        "\n",
        "y_valid = np.stack([val.toxic.values, val.severe_toxic.values, val.obscene.values, val.threat.values, val.insult.values, val.identity_hate.values], axis = 1)\n"
      ],
      "id": "needed-moldova",
      "execution_count": null,
      "outputs": [
        {
          "output_type": "stream",
          "text": [
            "Truncation was not explicitly activated but `max_length` is provided a specific value, please use `truncation=True` to explicitly truncate examples to max length. Defaulting to 'longest_first' truncation strategy. If you encode pairs of sequences (GLUE-style) with the tokenizer you can select this strategy more precisely by providing a specific strategy to `truncation`.\n",
            "/opt/conda/lib/python3.7/site-packages/transformers/tokenization_utils_base.py:2022: FutureWarning: The `pad_to_max_length` argument is deprecated and will be removed in a future version, use `padding=True` or `padding='longest'` to pad to the longest sequence in the batch, or use `padding='max_length'` to pad to a max length. In this case, you can give a specific length with `max_length` (e.g. `max_length=45`) or leave max_length to None to pad to the maximal input size of the model (e.g. 512 for Bert).\n",
            "  FutureWarning,\n"
          ],
          "name": "stderr"
        },
        {
          "output_type": "stream",
          "text": [
            "CPU times: user 7min 42s, sys: 1.82 s, total: 7min 44s\n",
            "Wall time: 7min 44s\n"
          ],
          "name": "stdout"
        }
      ]
    },
    {
      "cell_type": "code",
      "metadata": {
        "execution": {
          "iopub.execute_input": "2021-05-01T10:28:26.426621Z",
          "iopub.status.busy": "2021-05-01T10:28:26.425584Z",
          "iopub.status.idle": "2021-05-01T10:28:26.430372Z",
          "shell.execute_reply": "2021-05-01T10:28:26.430999Z"
        },
        "papermill": {
          "duration": 0.289086,
          "end_time": "2021-05-01T10:28:26.431175",
          "exception": false,
          "start_time": "2021-05-01T10:28:26.142089",
          "status": "completed"
        },
        "tags": [],
        "id": "sorted-warner",
        "outputId": "f6273c74-ac4a-4c07-e6ae-05b237d17d90"
      },
      "source": [
        "y_train.shape"
      ],
      "id": "sorted-warner",
      "execution_count": null,
      "outputs": [
        {
          "output_type": "execute_result",
          "data": {
            "text/plain": [
              "(102571, 6)"
            ]
          },
          "metadata": {
            "tags": []
          },
          "execution_count": 35
        }
      ]
    },
    {
      "cell_type": "markdown",
      "metadata": {
        "papermill": {
          "duration": 0.280088,
          "end_time": "2021-05-01T10:28:26.988544",
          "exception": false,
          "start_time": "2021-05-01T10:28:26.708456",
          "status": "completed"
        },
        "tags": [],
        "id": "binary-salem"
      },
      "source": [
        "after encoding we will pass the encoded data to tf.data api for preparing our final training and validation dataset which we will be able to use in our model finally"
      ],
      "id": "binary-salem"
    },
    {
      "cell_type": "code",
      "metadata": {
        "execution": {
          "iopub.execute_input": "2021-05-01T10:28:27.557329Z",
          "iopub.status.busy": "2021-05-01T10:28:27.556584Z",
          "iopub.status.idle": "2021-05-01T10:28:31.000236Z",
          "shell.execute_reply": "2021-05-01T10:28:31.001069Z"
        },
        "papermill": {
          "duration": 3.732374,
          "end_time": "2021-05-01T10:28:31.001338",
          "exception": false,
          "start_time": "2021-05-01T10:28:27.268964",
          "status": "completed"
        },
        "tags": [],
        "id": "aerial-title"
      },
      "source": [
        "\n",
        "train_dataset = (\n",
        "    tf.data.Dataset\n",
        "    .from_tensor_slices((x_train, y_train))\n",
        "    .repeat()\n",
        "    .shuffle(2048)\n",
        "    .batch(BATCH_SIZE)\n",
        "    .prefetch(AUTO)\n",
        ")\n",
        "\n",
        "\n",
        "\n",
        "valid_dataset = (\n",
        "    tf.data.Dataset\n",
        "    .from_tensor_slices((x_valid, y_valid))\n",
        "    .batch(BATCH_SIZE)\n",
        "    .cache()\n",
        "    .prefetch(AUTO)\n",
        ")\n"
      ],
      "id": "aerial-title",
      "execution_count": null,
      "outputs": []
    },
    {
      "cell_type": "markdown",
      "metadata": {
        "papermill": {
          "duration": 0.277298,
          "end_time": "2021-05-01T10:28:31.569966",
          "exception": false,
          "start_time": "2021-05-01T10:28:31.292668",
          "status": "completed"
        },
        "tags": [],
        "id": "funny-difference"
      },
      "source": [
        "# loading the pretrained model that i am going to use for finetuning"
      ],
      "id": "funny-difference"
    },
    {
      "cell_type": "code",
      "metadata": {
        "execution": {
          "iopub.execute_input": "2021-05-01T10:28:32.128268Z",
          "iopub.status.busy": "2021-05-01T10:28:32.127261Z",
          "iopub.status.idle": "2021-05-01T10:29:09.870942Z",
          "shell.execute_reply": "2021-05-01T10:29:09.871569Z"
        },
        "papermill": {
          "duration": 38.024781,
          "end_time": "2021-05-01T10:29:09.871751",
          "exception": false,
          "start_time": "2021-05-01T10:28:31.846970",
          "status": "completed"
        },
        "tags": [],
        "colab": {
          "referenced_widgets": [
            "46e733b29ad540e58d9b73eac6131270"
          ]
        },
        "id": "altered-symphony",
        "outputId": "9457ea2c-14a2-418b-9829-31da23a129db"
      },
      "source": [
        "%%time\n",
        "with strategy.scope():\n",
        "    transformer_layer = TFAutoModel.from_pretrained(MODEL)\n",
        "    model = build_model(transformer_layer,loss = focal_loss(), max_len=MAX_LEN)\n",
        "model.summary()"
      ],
      "id": "altered-symphony",
      "execution_count": null,
      "outputs": [
        {
          "output_type": "display_data",
          "data": {
            "application/vnd.jupyter.widget-view+json": {
              "model_id": "46e733b29ad540e58d9b73eac6131270",
              "version_major": 2,
              "version_minor": 0
            },
            "text/plain": [
              "Downloading:   0%|          | 0.00/536M [00:00<?, ?B/s]"
            ]
          },
          "metadata": {
            "tags": []
          }
        },
        {
          "output_type": "stream",
          "text": [
            "Some layers from the model checkpoint at bert-base-uncased were not used when initializing TFBertModel: ['mlm___cls', 'nsp___cls']\n",
            "- This IS expected if you are initializing TFBertModel from the checkpoint of a model trained on another task or with another architecture (e.g. initializing a BertForSequenceClassification model from a BertForPreTraining model).\n",
            "- This IS NOT expected if you are initializing TFBertModel from the checkpoint of a model that you expect to be exactly identical (initializing a BertForSequenceClassification model from a BertForSequenceClassification model).\n",
            "All the layers of TFBertModel were initialized from the model checkpoint at bert-base-uncased.\n",
            "If your task is similar to the task the model of the checkpoint was trained on, you can already use TFBertModel for predictions without further training.\n"
          ],
          "name": "stderr"
        },
        {
          "output_type": "stream",
          "text": [
            "Model: \"model\"\n",
            "_________________________________________________________________\n",
            "Layer (type)                 Output Shape              Param #   \n",
            "=================================================================\n",
            "input_word_ids (InputLayer)  [(None, 512)]             0         \n",
            "_________________________________________________________________\n",
            "tf_bert_model (TFBertModel)  ((None, 512, 768), (None, 109482240 \n",
            "_________________________________________________________________\n",
            "tf_op_layer_strided_slice (T [(None, 768)]             0         \n",
            "_________________________________________________________________\n",
            "dense (Dense)                (None, 6)                 4614      \n",
            "=================================================================\n",
            "Total params: 109,486,854\n",
            "Trainable params: 109,486,854\n",
            "Non-trainable params: 0\n",
            "_________________________________________________________________\n",
            "CPU times: user 28.4 s, sys: 7.29 s, total: 35.7 s\n",
            "Wall time: 37.5 s\n"
          ],
          "name": "stdout"
        }
      ]
    },
    {
      "cell_type": "markdown",
      "metadata": {
        "papermill": {
          "duration": 0.278963,
          "end_time": "2021-05-01T10:29:10.429884",
          "exception": false,
          "start_time": "2021-05-01T10:29:10.150921",
          "status": "completed"
        },
        "tags": [],
        "id": "limiting-harris"
      },
      "source": [
        "# check my model summary as a picture/image"
      ],
      "id": "limiting-harris"
    },
    {
      "cell_type": "code",
      "metadata": {
        "execution": {
          "iopub.execute_input": "2021-05-01T10:29:10.992304Z",
          "iopub.status.busy": "2021-05-01T10:29:10.991547Z",
          "iopub.status.idle": "2021-05-01T10:29:11.533471Z",
          "shell.execute_reply": "2021-05-01T10:29:11.533967Z"
        },
        "papermill": {
          "duration": 0.826158,
          "end_time": "2021-05-01T10:29:11.534159",
          "exception": false,
          "start_time": "2021-05-01T10:29:10.708001",
          "status": "completed"
        },
        "tags": [],
        "id": "protecting-suspension",
        "outputId": "e46f60a1-d518-4e56-fd4d-fa7b53ef49c3"
      },
      "source": [
        "\n",
        "SVG(tf.keras.utils.model_to_dot(model, dpi=70).create(prog='dot', format='svg'))"
      ],
      "id": "protecting-suspension",
      "execution_count": null,
      "outputs": [
        {
          "output_type": "execute_result",
          "data": {
            "image/svg+xml": "<svg height=\"257pt\" viewBox=\"0.00 0.00 350.00 264.00\" width=\"340pt\" xmlns=\"http://www.w3.org/2000/svg\" xmlns:xlink=\"http://www.w3.org/1999/xlink\">\n<g class=\"graph\" id=\"graph0\" transform=\"scale(0.97 0.97) rotate(0) translate(4 260)\">\n<title>G</title>\n<polygon fill=\"white\" points=\"-4,4 -4,-260 346,-260 346,4 -4,4\" stroke=\"transparent\"/>\n<!-- 140205586607952 -->\n<g class=\"node\" id=\"node1\">\n<title>140205586607952</title>\n<polygon fill=\"none\" points=\"66,-219.5 66,-255.5 276,-255.5 276,-219.5 66,-219.5\" stroke=\"black\"/>\n<text font-family=\"Times-Roman\" font-size=\"14.00\" text-anchor=\"middle\" x=\"171\" y=\"-233.8\">input_word_ids: InputLayer</text>\n</g>\n<!-- 140203224830224 -->\n<g class=\"node\" id=\"node2\">\n<title>140203224830224</title>\n<polygon fill=\"none\" points=\"63.5,-146.5 63.5,-182.5 278.5,-182.5 278.5,-146.5 63.5,-146.5\" stroke=\"black\"/>\n<text font-family=\"Times-Roman\" font-size=\"14.00\" text-anchor=\"middle\" x=\"171\" y=\"-160.8\">tf_bert_model: TFBertModel</text>\n</g>\n<!-- 140205586607952&#45;&gt;140203224830224 -->\n<g class=\"edge\" id=\"edge1\">\n<title>140205586607952-&gt;140203224830224</title>\n<path d=\"M171,-219.31C171,-211.29 171,-201.55 171,-192.57\" fill=\"none\" stroke=\"black\"/>\n<polygon fill=\"black\" points=\"174.5,-192.53 171,-182.53 167.5,-192.53 174.5,-192.53\" stroke=\"black\"/>\n</g>\n<!-- 140203941606416 -->\n<g class=\"node\" id=\"node3\">\n<title>140203941606416</title>\n<polygon fill=\"none\" points=\"0,-73.5 0,-109.5 342,-109.5 342,-73.5 0,-73.5\" stroke=\"black\"/>\n<text font-family=\"Times-Roman\" font-size=\"14.00\" text-anchor=\"middle\" x=\"171\" y=\"-87.8\">tf_op_layer_strided_slice: TensorFlowOpLayer</text>\n</g>\n<!-- 140203224830224&#45;&gt;140203941606416 -->\n<g class=\"edge\" id=\"edge2\">\n<title>140203224830224-&gt;140203941606416</title>\n<path d=\"M171,-146.31C171,-138.29 171,-128.55 171,-119.57\" fill=\"none\" stroke=\"black\"/>\n<polygon fill=\"black\" points=\"174.5,-119.53 171,-109.53 167.5,-119.53 174.5,-119.53\" stroke=\"black\"/>\n</g>\n<!-- 140203802692048 -->\n<g class=\"node\" id=\"node4\">\n<title>140203802692048</title>\n<polygon fill=\"none\" points=\"113.5,-0.5 113.5,-36.5 228.5,-36.5 228.5,-0.5 113.5,-0.5\" stroke=\"black\"/>\n<text font-family=\"Times-Roman\" font-size=\"14.00\" text-anchor=\"middle\" x=\"171\" y=\"-14.8\">dense: Dense</text>\n</g>\n<!-- 140203941606416&#45;&gt;140203802692048 -->\n<g class=\"edge\" id=\"edge3\">\n<title>140203941606416-&gt;140203802692048</title>\n<path d=\"M171,-73.31C171,-65.29 171,-55.55 171,-46.57\" fill=\"none\" stroke=\"black\"/>\n<polygon fill=\"black\" points=\"174.5,-46.53 171,-36.53 167.5,-46.53 174.5,-46.53\" stroke=\"black\"/>\n</g>\n</g>\n</svg>",
            "text/plain": [
              "<IPython.core.display.SVG object>"
            ]
          },
          "metadata": {
            "tags": []
          },
          "execution_count": 38
        }
      ]
    },
    {
      "cell_type": "markdown",
      "metadata": {
        "papermill": {
          "duration": 0.281011,
          "end_time": "2021-05-01T10:29:12.095353",
          "exception": false,
          "start_time": "2021-05-01T10:29:11.814342",
          "status": "completed"
        },
        "tags": [],
        "id": "auburn-smith"
      },
      "source": [
        "for callback we use early stopping with patience = 2, means when validation accuracy will not improve after 2 consecutive epoch,training will stop and we also try to save the best model based on best validation accuracy"
      ],
      "id": "auburn-smith"
    },
    {
      "cell_type": "code",
      "metadata": {
        "execution": {
          "iopub.execute_input": "2021-05-01T10:29:12.678804Z",
          "iopub.status.busy": "2021-05-01T10:29:12.677699Z",
          "iopub.status.idle": "2021-05-01T10:29:12.681291Z",
          "shell.execute_reply": "2021-05-01T10:29:12.680754Z"
        },
        "papermill": {
          "duration": 0.29814,
          "end_time": "2021-05-01T10:29:12.682119",
          "exception": false,
          "start_time": "2021-05-01T10:29:12.383979",
          "status": "completed"
        },
        "tags": [],
        "id": "comprehensive-spouse"
      },
      "source": [
        "\n",
        "model_path = 'bert_base.h5'\n",
        "\n",
        "#checkpoint = ModelCheckpoint(filepath=model_path,save_weights_only=True, monitor='val_accuracy', mode='max', save_best_only=True)\n",
        "\n",
        "# Verbosity\n",
        "VERBOSE = 2\n",
        "\n",
        "checkpoint = tf.keras.callbacks.ModelCheckpoint(model_path, monitor = 'val_auc', verbose = VERBOSE, save_best_only = True,save_weights_only = True, mode = 'max')\n",
        "\n",
        "es = EarlyStopping(monitor='val_accuracy', mode='max', patience=2, \n",
        "                   restore_best_weights=True, verbose=1)\n",
        "\n",
        "callback_list = [checkpoint,  es]"
      ],
      "id": "comprehensive-spouse",
      "execution_count": null,
      "outputs": []
    },
    {
      "cell_type": "markdown",
      "metadata": {
        "papermill": {
          "duration": 0.300879,
          "end_time": "2021-05-01T10:29:13.265164",
          "exception": false,
          "start_time": "2021-05-01T10:29:12.964285",
          "status": "completed"
        },
        "tags": [],
        "id": "developmental-scottish"
      },
      "source": [
        "# model 1 : train bert base for 10 epochs"
      ],
      "id": "developmental-scottish"
    },
    {
      "cell_type": "code",
      "metadata": {
        "execution": {
          "iopub.execute_input": "2021-05-01T10:29:13.900873Z",
          "iopub.status.busy": "2021-05-01T10:29:13.898846Z",
          "iopub.status.idle": "2021-05-01T11:22:53.922087Z",
          "shell.execute_reply": "2021-05-01T11:22:53.922610Z"
        },
        "papermill": {
          "duration": 3220.322306,
          "end_time": "2021-05-01T11:22:53.922821",
          "exception": false,
          "start_time": "2021-05-01T10:29:13.600515",
          "status": "completed"
        },
        "tags": [],
        "id": "secret-anatomy",
        "outputId": "db1d090b-0cb1-473c-d73d-3f82b2004736"
      },
      "source": [
        "%%time\n",
        "\n",
        "n_steps = x_train.shape[0] // BATCH_SIZE\n",
        "train_history = model.fit(\n",
        "    train_dataset,\n",
        "    steps_per_epoch=n_steps,\n",
        "    validation_data=valid_dataset,\n",
        "    callbacks=callback_list,\n",
        "    epochs=EPOCHS\n",
        ")"
      ],
      "id": "secret-anatomy",
      "execution_count": null,
      "outputs": [
        {
          "output_type": "stream",
          "text": [
            "Epoch 1/10\n",
            "534/534 [==============================] - ETA: 0s - auc: 0.8977 - recall: 0.2602 - loss: 0.0075\n",
            "Epoch 00001: val_auc improved from -inf to 0.97944, saving model to bert_base.h5\n",
            "534/534 [==============================] - 351s 657ms/step - auc: 0.8977 - recall: 0.2602 - loss: 0.0075 - val_auc: 0.9794 - val_recall: 0.5353 - val_loss: 0.0050\n",
            "Epoch 2/10\n",
            "534/534 [==============================] - ETA: 0s - auc: 0.9836 - recall: 0.4988 - loss: 0.0040\n",
            "Epoch 00002: val_auc improved from 0.97944 to 0.98817, saving model to bert_base.h5\n",
            "534/534 [==============================] - 307s 575ms/step - auc: 0.9836 - recall: 0.4988 - loss: 0.0040 - val_auc: 0.9882 - val_recall: 0.6366 - val_loss: 0.0045\n",
            "Epoch 3/10\n",
            "534/534 [==============================] - ETA: 0s - auc: 0.9892 - recall: 0.5389 - loss: 0.0035\n",
            "Epoch 00003: val_auc improved from 0.98817 to 0.99087, saving model to bert_base.h5\n",
            "534/534 [==============================] - 308s 576ms/step - auc: 0.9892 - recall: 0.5389 - loss: 0.0035 - val_auc: 0.9909 - val_recall: 0.6575 - val_loss: 0.0041\n",
            "Epoch 4/10\n",
            "534/534 [==============================] - ETA: 0s - auc: 0.9918 - recall: 0.5640 - loss: 0.0033\n",
            "Epoch 00004: val_auc improved from 0.99087 to 0.99205, saving model to bert_base.h5\n",
            "534/534 [==============================] - 307s 575ms/step - auc: 0.9918 - recall: 0.5640 - loss: 0.0033 - val_auc: 0.9920 - val_recall: 0.6688 - val_loss: 0.0039\n",
            "Epoch 5/10\n",
            "534/534 [==============================] - ETA: 0s - auc: 0.9932 - recall: 0.5922 - loss: 0.0030\n",
            "Epoch 00005: val_auc improved from 0.99205 to 0.99318, saving model to bert_base.h5\n",
            "534/534 [==============================] - 308s 576ms/step - auc: 0.9932 - recall: 0.5922 - loss: 0.0030 - val_auc: 0.9932 - val_recall: 0.7235 - val_loss: 0.0037\n",
            "Epoch 6/10\n",
            "534/534 [==============================] - ETA: 0s - auc: 0.9945 - recall: 0.6197 - loss: 0.0028\n",
            "Epoch 00006: val_auc improved from 0.99318 to 0.99357, saving model to bert_base.h5\n",
            "534/534 [==============================] - 307s 575ms/step - auc: 0.9945 - recall: 0.6197 - loss: 0.0028 - val_auc: 0.9936 - val_recall: 0.6792 - val_loss: 0.0035\n",
            "Epoch 7/10\n",
            "534/534 [==============================] - ETA: 0s - auc: 0.9954 - recall: 0.6473 - loss: 0.0026\n",
            "Epoch 00007: val_auc improved from 0.99357 to 0.99433, saving model to bert_base.h5\n",
            "534/534 [==============================] - 306s 574ms/step - auc: 0.9954 - recall: 0.6473 - loss: 0.0026 - val_auc: 0.9943 - val_recall: 0.7130 - val_loss: 0.0035\n",
            "Epoch 8/10\n",
            "534/534 [==============================] - ETA: 0s - auc: 0.9962 - recall: 0.6839 - loss: 0.0023\n",
            "Epoch 00008: val_auc improved from 0.99433 to 0.99457, saving model to bert_base.h5\n",
            "534/534 [==============================] - 307s 575ms/step - auc: 0.9962 - recall: 0.6839 - loss: 0.0023 - val_auc: 0.9946 - val_recall: 0.7898 - val_loss: 0.0035\n",
            "Epoch 9/10\n",
            "534/534 [==============================] - ETA: 0s - auc: 0.9969 - recall: 0.7204 - loss: 0.0021\n",
            "Epoch 00009: val_auc improved from 0.99457 to 0.99512, saving model to bert_base.h5\n",
            "534/534 [==============================] - 310s 580ms/step - auc: 0.9969 - recall: 0.7204 - loss: 0.0021 - val_auc: 0.9951 - val_recall: 0.8164 - val_loss: 0.0034\n",
            "Epoch 10/10\n",
            "534/534 [==============================] - ETA: 0s - auc: 0.9976 - recall: 0.7552 - loss: 0.0018\n",
            "Epoch 00010: val_auc improved from 0.99512 to 0.99520, saving model to bert_base.h5\n",
            "534/534 [==============================] - 308s 577ms/step - auc: 0.9976 - recall: 0.7552 - loss: 0.0018 - val_auc: 0.9952 - val_recall: 0.8130 - val_loss: 0.0031\n",
            "CPU times: user 3min 23s, sys: 30.1 s, total: 3min 53s\n",
            "Wall time: 53min 40s\n"
          ],
          "name": "stdout"
        }
      ]
    },
    {
      "cell_type": "code",
      "metadata": {
        "execution": {
          "iopub.execute_input": "2021-05-01T11:22:57.894571Z",
          "iopub.status.busy": "2021-05-01T11:22:57.893614Z",
          "iopub.status.idle": "2021-05-01T11:23:00.222705Z",
          "shell.execute_reply": "2021-05-01T11:23:00.222015Z"
        },
        "papermill": {
          "duration": 4.321907,
          "end_time": "2021-05-01T11:23:00.222860",
          "exception": false,
          "start_time": "2021-05-01T11:22:55.900953",
          "status": "completed"
        },
        "tags": [],
        "id": "eight-doubt"
      },
      "source": [
        "model.save_weights('model_checkpoint_0.h5')"
      ],
      "id": "eight-doubt",
      "execution_count": null,
      "outputs": []
    },
    {
      "cell_type": "markdown",
      "metadata": {
        "papermill": {
          "duration": 2.002475,
          "end_time": "2021-05-01T11:23:04.147140",
          "exception": false,
          "start_time": "2021-05-01T11:23:02.144665",
          "status": "completed"
        },
        "tags": [],
        "id": "infinite-agency"
      },
      "source": [
        "from the trained log above our validation accuracy metric let's us know about our models performance"
      ],
      "id": "infinite-agency"
    },
    {
      "cell_type": "markdown",
      "metadata": {
        "papermill": {
          "duration": 1.967516,
          "end_time": "2021-05-01T11:23:08.089431",
          "exception": false,
          "start_time": "2021-05-01T11:23:06.121915",
          "status": "completed"
        },
        "tags": [],
        "id": "expired-witch"
      },
      "source": [
        "# confusion matrix "
      ],
      "id": "expired-witch"
    },
    {
      "cell_type": "code",
      "metadata": {
        "execution": {
          "iopub.execute_input": "2021-05-01T11:23:12.005704Z",
          "iopub.status.busy": "2021-05-01T11:23:12.004516Z",
          "iopub.status.idle": "2021-05-01T11:24:48.553645Z",
          "shell.execute_reply": "2021-05-01T11:24:48.554634Z"
        },
        "papermill": {
          "duration": 98.53967,
          "end_time": "2021-05-01T11:24:48.554967",
          "exception": false,
          "start_time": "2021-05-01T11:23:10.015297",
          "status": "completed"
        },
        "tags": [],
        "id": "tested-chocolate",
        "outputId": "b43d07a8-6fa8-4163-f7df-5d47714040ac"
      },
      "source": [
        "from sklearn.metrics import confusion_matrix,  multilabel_confusion_matrix\n",
        "from sklearn.preprocessing import MultiLabelBinarizer\n",
        "\n",
        "classes_ = ['toxic', 'severe_toxic', 'obscene', 'threat', 'insult', 'identity_hate']\n",
        "\n",
        "\n",
        "\n",
        "preds = model.predict(valid_dataset, verbose = 1)\n",
        "preds = np.where(preds < 0.5, 0, 1)\n",
        "\n",
        "# Creating multilabel confusion matrix\n",
        "confusion = multilabel_confusion_matrix(y_valid, preds)\n",
        "\n",
        "# Plot confusion matrix \n",
        "fig = plt.figure(figsize = (14, 8))\n",
        "for i, (label, matrix) in enumerate(zip(classes_, confusion)):\n",
        "    plt.subplot(f'23{i+1}')\n",
        "    labels = [f'not_{label}', label]\n",
        "    sns.heatmap(matrix, annot = True, square = True, fmt = 'd', cbar = False, cmap = 'rainbow', \n",
        "                xticklabels = labels, yticklabels = labels, linecolor = 'black', linewidth = 1)\n",
        "    plt.title(labels[0])\n",
        "\n",
        "plt.tight_layout()\n",
        "plt.show()"
      ],
      "id": "tested-chocolate",
      "execution_count": null,
      "outputs": [
        {
          "output_type": "stream",
          "text": [
            "297/297 [==============================] - 68s 227ms/step\n"
          ],
          "name": "stdout"
        },
        {
          "output_type": "stream",
          "text": [
            "/opt/conda/lib/python3.7/site-packages/ipykernel_launcher.py:17: MatplotlibDeprecationWarning: Passing non-integers as three-element position specification is deprecated since 3.3 and will be removed two minor releases later.\n"
          ],
          "name": "stderr"
        },
        {
          "output_type": "display_data",
          "data": {
            "image/png": "[encoded data removed]",
            "text/plain": [
              "<Figure size 1008x576 with 6 Axes>"
            ]
          },
          "metadata": {
            "tags": [],
            "needs_background": "light"
          }
        }
      ]
    },
    {
      "cell_type": "code",
      "metadata": {
        "execution": {
          "iopub.execute_input": "2021-05-01T11:24:52.591288Z",
          "iopub.status.busy": "2021-05-01T11:24:52.590449Z",
          "iopub.status.idle": "2021-05-01T11:24:52.683041Z",
          "shell.execute_reply": "2021-05-01T11:24:52.683653Z"
        },
        "papermill": {
          "duration": 2.117743,
          "end_time": "2021-05-01T11:24:52.683835",
          "exception": false,
          "start_time": "2021-05-01T11:24:50.566092",
          "status": "completed"
        },
        "tags": [],
        "id": "alternative-approach",
        "outputId": "dd520fa1-0c5c-4880-f906-81d515ef3740"
      },
      "source": [
        "from sklearn import metrics\n",
        "# Faced similar issue : https://stackoverflow.com/questions/61899676/tensorflow-model-evaluate-and-model-predict-very-different-results\n",
        "\n",
        "#accuracy = metrics.accuracy_score(y_valid, preds)\n",
        "f1_score_micro = metrics.f1_score(y_valid, preds, average='micro')\n",
        "f1_score_macro = metrics.f1_score(y_valid, preds, average='macro')\n",
        "#print(f\"Accuracy Score = {accuracy}\")\n",
        "print(f\"F1 Score (Micro) = {f1_score_micro}\")\n",
        "print(f\"F1 Score (Macro) = {f1_score_macro}\")\n",
        "\n",
        "    "
      ],
      "id": "alternative-approach",
      "execution_count": null,
      "outputs": [
        {
          "output_type": "stream",
          "text": [
            "F1 Score (Micro) = 0.8726749632008564\n",
            "F1 Score (Macro) = 0.7428449463546047\n"
          ],
          "name": "stdout"
        }
      ]
    },
    {
      "cell_type": "markdown",
      "metadata": {
        "id": "Xu0AAtlNzV5M"
      },
      "source": [
        "we can see we have got validation recall 0.8130 after 10 epoch and seems like more trianing could yeld better result and this recall score along with high validation accuracy telling us that our overall model performance is good,however hopefully we could achieve much better f1 score and recall if we had more toxic samples in training set"
      ],
      "id": "Xu0AAtlNzV5M"
    },
    {
      "cell_type": "code",
      "metadata": {
        "papermill": {
          "duration": 2.025034,
          "end_time": "2021-05-01T11:24:56.791952",
          "exception": false,
          "start_time": "2021-05-01T11:24:54.766918",
          "status": "completed"
        },
        "tags": [],
        "id": "willing-retention"
      },
      "source": [
        ""
      ],
      "id": "willing-retention",
      "execution_count": null,
      "outputs": []
    }
  ]
}