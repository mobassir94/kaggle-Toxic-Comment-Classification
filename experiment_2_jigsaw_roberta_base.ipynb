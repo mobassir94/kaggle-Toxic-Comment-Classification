{
  "nbformat": 4,
  "nbformat_minor": 5,
  "metadata": {
    "kernelspec": {
      "display_name": "Python 3",
      "language": "python",
      "name": "python3"
    },
    "language_info": {
      "codemirror_mode": {
        "name": "ipython",
        "version": 3
      },
      "file_extension": ".py",
      "mimetype": "text/x-python",
      "name": "python",
      "nbconvert_exporter": "python",
      "pygments_lexer": "ipython3",
      "version": "3.7.10"
    },
    "papermill": {
      "default_parameters": {},
      "duration": 3864.421107,
      "end_time": "2021-05-01T11:22:06.725591",
      "environment_variables": {},
      "exception": null,
      "input_path": "__notebook__.ipynb",
      "output_path": "__notebook__.ipynb",
      "parameters": {},
      "start_time": "2021-05-01T10:17:42.304484",
      "version": "2.3.3"
    },
    "widgets": {
      "application/vnd.jupyter.widget-state+json": {}
    },
    "colab": {
      "name": "experiment 2 : jigsaw-roberta-base.ipynb",
      "provenance": []
    }
  },
  "cells": [
    {
      "cell_type": "markdown",
      "metadata": {
        "_cell_guid": "b1076dfc-b9ad-4769-8c92-a6c4dae69d19",
        "_uuid": "8f2839f25d086af736a60e9eeb907d3b93b6e0e5",
        "papermill": {
          "duration": 0.043455,
          "end_time": "2021-05-01T10:17:50.458695",
          "exception": false,
          "start_time": "2021-05-01T10:17:50.415240",
          "status": "completed"
        },
        "tags": [],
        "id": "saving-sauce"
      },
      "source": [
        "in this notebook we will use tensorflow tpu v3.8 of kaggle for faster experiment,kaggle tpu is very fast and has more vram which lets us do very fancy experiments with ease,we will use it with immensely popular  python library called huggingface, which provides many pretrained models both in pytorch and tensorflow which is extraordinarily useful for various NLP tasks."
      ],
      "id": "saving-sauce"
    },
    {
      "cell_type": "code",
      "metadata": {
        "execution": {
          "iopub.execute_input": "2021-05-01T10:17:50.547586Z",
          "iopub.status.busy": "2021-05-01T10:17:50.546404Z",
          "iopub.status.idle": "2021-05-01T10:19:45.501001Z",
          "shell.execute_reply": "2021-05-01T10:19:45.500175Z"
        },
        "papermill": {
          "duration": 115.000066,
          "end_time": "2021-05-01T10:19:45.501194",
          "exception": false,
          "start_time": "2021-05-01T10:17:50.501128",
          "status": "completed"
        },
        "tags": [],
        "id": "worthy-sussex",
        "outputId": "230446bf-e392-4485-f5e0-00bf6d806623"
      },
      "source": [
        "!pip install cloud-tpu-client\n",
        "!pip install tensorflow==2.2.0 \n",
        "\n",
        "#!pip install tensorflow~=2.2.0 tensorflow_gcs_config~=2.2.0\n",
        "!pip install transformers==3.5.1\n",
        "!pip install tensorflow-addons==0.10.0"
      ],
      "id": "worthy-sussex",
      "execution_count": null,
      "outputs": [
        {
          "output_type": "stream",
          "text": [
            "Requirement already satisfied: cloud-tpu-client in /opt/conda/lib/python3.7/site-packages (0.10)\r\n",
            "Requirement already satisfied: oauth2client in /opt/conda/lib/python3.7/site-packages (from cloud-tpu-client) (4.1.3)\r\n",
            "Requirement already satisfied: google-api-python-client==1.8.0 in /opt/conda/lib/python3.7/site-packages (from cloud-tpu-client) (1.8.0)\r\n",
            "Requirement already satisfied: google-auth>=1.4.1 in /opt/conda/lib/python3.7/site-packages (from google-api-python-client==1.8.0->cloud-tpu-client) (1.26.1)\r\n",
            "Requirement already satisfied: google-auth-httplib2>=0.0.3 in /opt/conda/lib/python3.7/site-packages (from google-api-python-client==1.8.0->cloud-tpu-client) (0.0.4)\r\n",
            "Requirement already satisfied: httplib2<1dev,>=0.9.2 in /opt/conda/lib/python3.7/site-packages (from google-api-python-client==1.8.0->cloud-tpu-client) (0.19.0)\r\n",
            "Requirement already satisfied: uritemplate<4dev,>=3.0.0 in /opt/conda/lib/python3.7/site-packages (from google-api-python-client==1.8.0->cloud-tpu-client) (3.0.1)\r\n",
            "Requirement already satisfied: six<2dev,>=1.6.1 in /opt/conda/lib/python3.7/site-packages (from google-api-python-client==1.8.0->cloud-tpu-client) (1.15.0)\r\n",
            "Requirement already satisfied: google-api-core<2dev,>=1.13.0 in /opt/conda/lib/python3.7/site-packages (from google-api-python-client==1.8.0->cloud-tpu-client) (1.26.2)\r\n",
            "Requirement already satisfied: protobuf>=3.12.0 in /opt/conda/lib/python3.7/site-packages (from google-api-core<2dev,>=1.13.0->google-api-python-client==1.8.0->cloud-tpu-client) (3.15.8)\r\n",
            "Requirement already satisfied: requests<3.0.0dev,>=2.18.0 in /opt/conda/lib/python3.7/site-packages (from google-api-core<2dev,>=1.13.0->google-api-python-client==1.8.0->cloud-tpu-client) (2.25.1)\r\n",
            "Requirement already satisfied: googleapis-common-protos<2.0dev,>=1.6.0 in /opt/conda/lib/python3.7/site-packages (from google-api-core<2dev,>=1.13.0->google-api-python-client==1.8.0->cloud-tpu-client) (1.53.0)\r\n",
            "Requirement already satisfied: setuptools>=40.3.0 in /opt/conda/lib/python3.7/site-packages (from google-api-core<2dev,>=1.13.0->google-api-python-client==1.8.0->cloud-tpu-client) (49.6.0.post20210108)\r\n",
            "Requirement already satisfied: packaging>=14.3 in /opt/conda/lib/python3.7/site-packages (from google-api-core<2dev,>=1.13.0->google-api-python-client==1.8.0->cloud-tpu-client) (20.9)\r\n",
            "Requirement already satisfied: pytz in /opt/conda/lib/python3.7/site-packages (from google-api-core<2dev,>=1.13.0->google-api-python-client==1.8.0->cloud-tpu-client) (2021.1)\r\n",
            "Requirement already satisfied: pyasn1-modules>=0.2.1 in /opt/conda/lib/python3.7/site-packages (from google-auth>=1.4.1->google-api-python-client==1.8.0->cloud-tpu-client) (0.2.7)\r\n",
            "Requirement already satisfied: cachetools<5.0,>=2.0.0 in /opt/conda/lib/python3.7/site-packages (from google-auth>=1.4.1->google-api-python-client==1.8.0->cloud-tpu-client) (4.2.1)\r\n",
            "Requirement already satisfied: rsa<5,>=3.1.4 in /opt/conda/lib/python3.7/site-packages (from google-auth>=1.4.1->google-api-python-client==1.8.0->cloud-tpu-client) (4.7.2)\r\n",
            "Requirement already satisfied: pyparsing<3,>=2.4.2 in /opt/conda/lib/python3.7/site-packages (from httplib2<1dev,>=0.9.2->google-api-python-client==1.8.0->cloud-tpu-client) (2.4.7)\r\n",
            "Requirement already satisfied: pyasn1<0.5.0,>=0.4.6 in /opt/conda/lib/python3.7/site-packages (from pyasn1-modules>=0.2.1->google-auth>=1.4.1->google-api-python-client==1.8.0->cloud-tpu-client) (0.4.8)\r\n",
            "Requirement already satisfied: certifi>=2017.4.17 in /opt/conda/lib/python3.7/site-packages (from requests<3.0.0dev,>=2.18.0->google-api-core<2dev,>=1.13.0->google-api-python-client==1.8.0->cloud-tpu-client) (2020.12.5)\r\n",
            "Requirement already satisfied: idna<3,>=2.5 in /opt/conda/lib/python3.7/site-packages (from requests<3.0.0dev,>=2.18.0->google-api-core<2dev,>=1.13.0->google-api-python-client==1.8.0->cloud-tpu-client) (2.10)\r\n",
            "Requirement already satisfied: urllib3<1.27,>=1.21.1 in /opt/conda/lib/python3.7/site-packages (from requests<3.0.0dev,>=2.18.0->google-api-core<2dev,>=1.13.0->google-api-python-client==1.8.0->cloud-tpu-client) (1.26.4)\r\n",
            "Requirement already satisfied: chardet<5,>=3.0.2 in /opt/conda/lib/python3.7/site-packages (from requests<3.0.0dev,>=2.18.0->google-api-core<2dev,>=1.13.0->google-api-python-client==1.8.0->cloud-tpu-client) (4.0.0)\r\n",
            "Collecting tensorflow==2.2.0\r\n",
            "  Downloading tensorflow-2.2.0-cp37-cp37m-manylinux2010_x86_64.whl (516.2 MB)\r\n",
            "\u001b[K     |████████████████████████████████| 516.2 MB 3.4 kB/s \r\n",
            "\u001b[?25hRequirement already satisfied: keras-preprocessing>=1.1.0 in /opt/conda/lib/python3.7/site-packages (from tensorflow==2.2.0) (1.1.2)\r\n",
            "Requirement already satisfied: absl-py>=0.7.0 in /opt/conda/lib/python3.7/site-packages (from tensorflow==2.2.0) (0.12.0)\r\n",
            "Requirement already satisfied: astunparse==1.6.3 in /opt/conda/lib/python3.7/site-packages (from tensorflow==2.2.0) (1.6.3)\r\n",
            "Requirement already satisfied: protobuf>=3.8.0 in /opt/conda/lib/python3.7/site-packages (from tensorflow==2.2.0) (3.15.8)\r\n",
            "Requirement already satisfied: gast==0.3.3 in /opt/conda/lib/python3.7/site-packages (from tensorflow==2.2.0) (0.3.3)\r\n",
            "Requirement already satisfied: h5py<2.11.0,>=2.10.0 in /opt/conda/lib/python3.7/site-packages (from tensorflow==2.2.0) (2.10.0)\r\n",
            "Requirement already satisfied: six>=1.12.0 in /opt/conda/lib/python3.7/site-packages (from tensorflow==2.2.0) (1.15.0)\r\n",
            "Collecting tensorflow-estimator<2.3.0,>=2.2.0\r\n",
            "  Downloading tensorflow_estimator-2.2.0-py2.py3-none-any.whl (454 kB)\r\n",
            "\u001b[K     |████████████████████████████████| 454 kB 40.0 MB/s \r\n",
            "\u001b[?25hCollecting tensorboard<2.3.0,>=2.2.0\r\n",
            "  Downloading tensorboard-2.2.2-py3-none-any.whl (3.0 MB)\r\n",
            "\u001b[K     |████████████████████████████████| 3.0 MB 45.4 MB/s \r\n",
            "\u001b[?25hRequirement already satisfied: wrapt>=1.11.1 in /opt/conda/lib/python3.7/site-packages (from tensorflow==2.2.0) (1.12.1)\r\n",
            "Collecting scipy==1.4.1\r\n",
            "  Downloading scipy-1.4.1-cp37-cp37m-manylinux1_x86_64.whl (26.1 MB)\r\n",
            "\u001b[K     |████████████████████████████████| 26.1 MB 41.6 MB/s \r\n",
            "\u001b[?25hRequirement already satisfied: numpy<2.0,>=1.16.0 in /opt/conda/lib/python3.7/site-packages (from tensorflow==2.2.0) (1.19.5)\r\n",
            "Requirement already satisfied: google-pasta>=0.1.8 in /opt/conda/lib/python3.7/site-packages (from tensorflow==2.2.0) (0.2.0)\r\n",
            "Requirement already satisfied: termcolor>=1.1.0 in /opt/conda/lib/python3.7/site-packages (from tensorflow==2.2.0) (1.1.0)\r\n",
            "Requirement already satisfied: grpcio>=1.8.6 in /opt/conda/lib/python3.7/site-packages (from tensorflow==2.2.0) (1.32.0)\r\n",
            "Requirement already satisfied: wheel>=0.26 in /opt/conda/lib/python3.7/site-packages (from tensorflow==2.2.0) (0.36.2)\r\n",
            "Requirement already satisfied: opt-einsum>=2.3.2 in /opt/conda/lib/python3.7/site-packages (from tensorflow==2.2.0) (3.3.0)\r\n",
            "Requirement already satisfied: tensorboard-plugin-wit>=1.6.0 in /opt/conda/lib/python3.7/site-packages (from tensorboard<2.3.0,>=2.2.0->tensorflow==2.2.0) (1.8.0)\r\n",
            "Requirement already satisfied: markdown>=2.6.8 in /opt/conda/lib/python3.7/site-packages (from tensorboard<2.3.0,>=2.2.0->tensorflow==2.2.0) (3.3.4)\r\n",
            "Requirement already satisfied: setuptools>=41.0.0 in /opt/conda/lib/python3.7/site-packages (from tensorboard<2.3.0,>=2.2.0->tensorflow==2.2.0) (49.6.0.post20210108)\r\n",
            "Requirement already satisfied: werkzeug>=0.11.15 in /opt/conda/lib/python3.7/site-packages (from tensorboard<2.3.0,>=2.2.0->tensorflow==2.2.0) (1.0.1)\r\n",
            "Requirement already satisfied: google-auth-oauthlib<0.5,>=0.4.1 in /opt/conda/lib/python3.7/site-packages (from tensorboard<2.3.0,>=2.2.0->tensorflow==2.2.0) (0.4.3)\r\n",
            "Requirement already satisfied: requests<3,>=2.21.0 in /opt/conda/lib/python3.7/site-packages (from tensorboard<2.3.0,>=2.2.0->tensorflow==2.2.0) (2.25.1)\r\n",
            "Requirement already satisfied: google-auth<2,>=1.6.3 in /opt/conda/lib/python3.7/site-packages (from tensorboard<2.3.0,>=2.2.0->tensorflow==2.2.0) (1.26.1)\r\n",
            "Requirement already satisfied: pyasn1-modules>=0.2.1 in /opt/conda/lib/python3.7/site-packages (from google-auth<2,>=1.6.3->tensorboard<2.3.0,>=2.2.0->tensorflow==2.2.0) (0.2.7)\r\n",
            "Requirement already satisfied: cachetools<5.0,>=2.0.0 in /opt/conda/lib/python3.7/site-packages (from google-auth<2,>=1.6.3->tensorboard<2.3.0,>=2.2.0->tensorflow==2.2.0) (4.2.1)\r\n",
            "Requirement already satisfied: rsa<5,>=3.1.4 in /opt/conda/lib/python3.7/site-packages (from google-auth<2,>=1.6.3->tensorboard<2.3.0,>=2.2.0->tensorflow==2.2.0) (4.7.2)\r\n",
            "Requirement already satisfied: requests-oauthlib>=0.7.0 in /opt/conda/lib/python3.7/site-packages (from google-auth-oauthlib<0.5,>=0.4.1->tensorboard<2.3.0,>=2.2.0->tensorflow==2.2.0) (1.3.0)\r\n",
            "Requirement already satisfied: importlib-metadata in /opt/conda/lib/python3.7/site-packages (from markdown>=2.6.8->tensorboard<2.3.0,>=2.2.0->tensorflow==2.2.0) (3.4.0)\r\n",
            "Requirement already satisfied: pyasn1<0.5.0,>=0.4.6 in /opt/conda/lib/python3.7/site-packages (from pyasn1-modules>=0.2.1->google-auth<2,>=1.6.3->tensorboard<2.3.0,>=2.2.0->tensorflow==2.2.0) (0.4.8)\r\n",
            "Requirement already satisfied: idna<3,>=2.5 in /opt/conda/lib/python3.7/site-packages (from requests<3,>=2.21.0->tensorboard<2.3.0,>=2.2.0->tensorflow==2.2.0) (2.10)\r\n",
            "Requirement already satisfied: chardet<5,>=3.0.2 in /opt/conda/lib/python3.7/site-packages (from requests<3,>=2.21.0->tensorboard<2.3.0,>=2.2.0->tensorflow==2.2.0) (4.0.0)\r\n",
            "Requirement already satisfied: certifi>=2017.4.17 in /opt/conda/lib/python3.7/site-packages (from requests<3,>=2.21.0->tensorboard<2.3.0,>=2.2.0->tensorflow==2.2.0) (2020.12.5)\r\n",
            "Requirement already satisfied: urllib3<1.27,>=1.21.1 in /opt/conda/lib/python3.7/site-packages (from requests<3,>=2.21.0->tensorboard<2.3.0,>=2.2.0->tensorflow==2.2.0) (1.26.4)\r\n",
            "Requirement already satisfied: oauthlib>=3.0.0 in /opt/conda/lib/python3.7/site-packages (from requests-oauthlib>=0.7.0->google-auth-oauthlib<0.5,>=0.4.1->tensorboard<2.3.0,>=2.2.0->tensorflow==2.2.0) (3.0.1)\r\n",
            "Requirement already satisfied: typing-extensions>=3.6.4 in /opt/conda/lib/python3.7/site-packages (from importlib-metadata->markdown>=2.6.8->tensorboard<2.3.0,>=2.2.0->tensorflow==2.2.0) (3.7.4.3)\r\n",
            "Requirement already satisfied: zipp>=0.5 in /opt/conda/lib/python3.7/site-packages (from importlib-metadata->markdown>=2.6.8->tensorboard<2.3.0,>=2.2.0->tensorflow==2.2.0) (3.4.1)\r\n",
            "Installing collected packages: tensorflow-estimator, tensorboard, scipy, tensorflow\r\n",
            "  Attempting uninstall: tensorflow-estimator\r\n",
            "    Found existing installation: tensorflow-estimator 2.4.0\r\n",
            "    Uninstalling tensorflow-estimator-2.4.0:\r\n",
            "      Successfully uninstalled tensorflow-estimator-2.4.0\r\n",
            "  Attempting uninstall: tensorboard\r\n",
            "    Found existing installation: tensorboard 2.4.1\r\n",
            "    Uninstalling tensorboard-2.4.1:\r\n",
            "      Successfully uninstalled tensorboard-2.4.1\r\n",
            "  Attempting uninstall: scipy\r\n",
            "    Found existing installation: scipy 1.5.4\r\n",
            "    Uninstalling scipy-1.5.4:\r\n",
            "      Successfully uninstalled scipy-1.5.4\r\n",
            "  Attempting uninstall: tensorflow\r\n",
            "    Found existing installation: tensorflow 2.4.1\r\n",
            "    Uninstalling tensorflow-2.4.1:\r\n",
            "      Successfully uninstalled tensorflow-2.4.1\r\n",
            "\u001b[31mERROR: pip's dependency resolver does not currently take into account all the packages that are installed. This behaviour is the source of the following dependency conflicts.\r\n",
            "tensorflow-cloud 0.1.13 requires tensorboard>=2.3.0, but you have tensorboard 2.2.2 which is incompatible.\r\n",
            "stumpy 1.8.0 requires scipy>=1.5, but you have scipy 1.4.1 which is incompatible.\r\n",
            "sklearn-pandas 2.1.0 requires scipy>=1.5.1, but you have scipy 1.4.1 which is incompatible.\r\n",
            "pyldavis 3.3.1 requires numpy>=1.20.0, but you have numpy 1.19.5 which is incompatible.\r\n",
            "plotnine 0.8.0 requires scipy>=1.5.0, but you have scipy 1.4.1 which is incompatible.\r\n",
            "phik 0.11.2 requires scipy>=1.5.2, but you have scipy 1.4.1 which is incompatible.\r\n",
            "pdpbox 0.2.1 requires matplotlib==3.1.1, but you have matplotlib 3.4.1 which is incompatible.\r\n",
            "matrixprofile 1.1.10 requires protobuf==3.11.2, but you have protobuf 3.15.8 which is incompatible.\r\n",
            "autogluon-core 0.1.0 requires scipy==1.5.4, but you have scipy 1.4.1 which is incompatible.\u001b[0m\r\n",
            "Successfully installed scipy-1.4.1 tensorboard-2.2.2 tensorflow-2.2.0 tensorflow-estimator-2.2.0\r\n",
            "Collecting transformers==3.5.1\r\n",
            "  Downloading transformers-3.5.1-py3-none-any.whl (1.3 MB)\r\n",
            "\u001b[K     |████████████████████████████████| 1.3 MB 3.0 MB/s \r\n",
            "\u001b[?25hRequirement already satisfied: numpy in /opt/conda/lib/python3.7/site-packages (from transformers==3.5.1) (1.19.5)\r\n",
            "Requirement already satisfied: protobuf in /opt/conda/lib/python3.7/site-packages (from transformers==3.5.1) (3.15.8)\r\n",
            "Requirement already satisfied: tqdm>=4.27 in /opt/conda/lib/python3.7/site-packages (from transformers==3.5.1) (4.59.0)\r\n",
            "Requirement already satisfied: sacremoses in /opt/conda/lib/python3.7/site-packages (from transformers==3.5.1) (0.0.45)\r\n",
            "Requirement already satisfied: filelock in /opt/conda/lib/python3.7/site-packages (from transformers==3.5.1) (3.0.12)\r\n",
            "Requirement already satisfied: packaging in /opt/conda/lib/python3.7/site-packages (from transformers==3.5.1) (20.9)\r\n",
            "Requirement already satisfied: regex!=2019.12.17 in /opt/conda/lib/python3.7/site-packages (from transformers==3.5.1) (2021.3.17)\r\n",
            "Collecting sentencepiece==0.1.91\r\n",
            "  Downloading sentencepiece-0.1.91-cp37-cp37m-manylinux1_x86_64.whl (1.1 MB)\r\n",
            "\u001b[K     |████████████████████████████████| 1.1 MB 19.7 MB/s \r\n",
            "\u001b[?25hRequirement already satisfied: requests in /opt/conda/lib/python3.7/site-packages (from transformers==3.5.1) (2.25.1)\r\n",
            "Collecting tokenizers==0.9.3\r\n",
            "  Downloading tokenizers-0.9.3-cp37-cp37m-manylinux1_x86_64.whl (2.9 MB)\r\n",
            "\u001b[K     |████████████████████████████████| 2.9 MB 25.6 MB/s \r\n",
            "\u001b[?25hRequirement already satisfied: pyparsing>=2.0.2 in /opt/conda/lib/python3.7/site-packages (from packaging->transformers==3.5.1) (2.4.7)\r\n",
            "Requirement already satisfied: six>=1.9 in /opt/conda/lib/python3.7/site-packages (from protobuf->transformers==3.5.1) (1.15.0)\r\n",
            "Requirement already satisfied: idna<3,>=2.5 in /opt/conda/lib/python3.7/site-packages (from requests->transformers==3.5.1) (2.10)\r\n",
            "Requirement already satisfied: chardet<5,>=3.0.2 in /opt/conda/lib/python3.7/site-packages (from requests->transformers==3.5.1) (4.0.0)\r\n",
            "Requirement already satisfied: certifi>=2017.4.17 in /opt/conda/lib/python3.7/site-packages (from requests->transformers==3.5.1) (2020.12.5)\r\n",
            "Requirement already satisfied: urllib3<1.27,>=1.21.1 in /opt/conda/lib/python3.7/site-packages (from requests->transformers==3.5.1) (1.26.4)\r\n",
            "Requirement already satisfied: joblib in /opt/conda/lib/python3.7/site-packages (from sacremoses->transformers==3.5.1) (1.0.1)\r\n",
            "Requirement already satisfied: click in /opt/conda/lib/python3.7/site-packages (from sacremoses->transformers==3.5.1) (7.1.2)\r\n",
            "Installing collected packages: tokenizers, sentencepiece, transformers\r\n",
            "  Attempting uninstall: tokenizers\r\n",
            "    Found existing installation: tokenizers 0.10.2\r\n",
            "    Uninstalling tokenizers-0.10.2:\r\n",
            "      Successfully uninstalled tokenizers-0.10.2\r\n",
            "  Attempting uninstall: sentencepiece\r\n",
            "    Found existing installation: sentencepiece 0.1.95\r\n",
            "    Uninstalling sentencepiece-0.1.95:\r\n",
            "      Successfully uninstalled sentencepiece-0.1.95\r\n",
            "  Attempting uninstall: transformers\r\n",
            "    Found existing installation: transformers 4.5.1\r\n",
            "    Uninstalling transformers-4.5.1:\r\n",
            "      Successfully uninstalled transformers-4.5.1\r\n",
            "\u001b[31mERROR: pip's dependency resolver does not currently take into account all the packages that are installed. This behaviour is the source of the following dependency conflicts.\r\n",
            "allennlp 2.3.0 requires transformers<4.6,>=4.1, but you have transformers 3.5.1 which is incompatible.\u001b[0m\r\n",
            "Successfully installed sentencepiece-0.1.91 tokenizers-0.9.3 transformers-3.5.1\r\n",
            "Collecting tensorflow-addons==0.10.0\r\n",
            "  Downloading tensorflow_addons-0.10.0-cp37-cp37m-manylinux2010_x86_64.whl (1.0 MB)\r\n",
            "\u001b[K     |████████████████████████████████| 1.0 MB 2.9 MB/s \r\n",
            "\u001b[?25hRequirement already satisfied: typeguard>=2.7 in /opt/conda/lib/python3.7/site-packages (from tensorflow-addons==0.10.0) (2.12.0)\r\n",
            "Installing collected packages: tensorflow-addons\r\n",
            "  Attempting uninstall: tensorflow-addons\r\n",
            "    Found existing installation: tensorflow-addons 0.12.1\r\n",
            "    Uninstalling tensorflow-addons-0.12.1:\r\n",
            "      Successfully uninstalled tensorflow-addons-0.12.1\r\n",
            "Successfully installed tensorflow-addons-0.10.0\r\n"
          ],
          "name": "stdout"
        }
      ]
    },
    {
      "cell_type": "markdown",
      "metadata": {
        "papermill": {
          "duration": 0.258433,
          "end_time": "2021-05-01T10:19:46.023738",
          "exception": false,
          "start_time": "2021-05-01T10:19:45.765305",
          "status": "completed"
        },
        "tags": [],
        "id": "partial-cheat"
      },
      "source": [
        "# imports"
      ],
      "id": "partial-cheat"
    },
    {
      "cell_type": "code",
      "metadata": {
        "execution": {
          "iopub.execute_input": "2021-05-01T10:19:46.555727Z",
          "iopub.status.busy": "2021-05-01T10:19:46.555084Z",
          "iopub.status.idle": "2021-05-01T10:19:52.190870Z",
          "shell.execute_reply": "2021-05-01T10:19:52.191451Z"
        },
        "papermill": {
          "duration": 5.906795,
          "end_time": "2021-05-01T10:19:52.191630",
          "exception": false,
          "start_time": "2021-05-01T10:19:46.284835",
          "status": "completed"
        },
        "tags": [],
        "id": "angry-program"
      },
      "source": [
        "\n",
        "import numpy as np # linear algebra\n",
        "import pandas as pd # data processing, CSV file I/O (e.g. pd.read_csv)\n",
        "\n",
        "\n",
        "import os\n",
        "\n",
        "import matplotlib.pyplot as plt\n",
        "\n",
        "import seaborn as sns\n",
        "\n",
        "\n",
        "\n",
        "import re\n",
        "\n",
        "\n",
        "import numpy as np\n",
        "import pandas as pd\n",
        "import tensorflow as tf\n",
        "from tensorflow.keras.layers import Dense, Input\n",
        "from tensorflow.keras.optimizers import Adam\n",
        "from tensorflow.keras.models import Model\n",
        "\n",
        "import transformers\n",
        "from transformers import TFAutoModel, AutoTokenizer\n",
        "from tqdm.notebook import tqdm\n",
        "from tokenizers import Tokenizer, models, pre_tokenizers, decoders, processors\n",
        "\n",
        "from cloud_tpu_client import Client\n",
        "\n",
        "import tensorflow_addons as tfa\n",
        "\n",
        "from transformers import RobertaTokenizer, RobertaModel\n",
        "\n",
        "import tensorflow.keras.backend as K\n",
        "from IPython.display import SVG\n",
        "\n",
        "from tensorflow.keras.callbacks import EarlyStopping, ModelCheckpoint, LearningRateScheduler\n"
      ],
      "id": "angry-program",
      "execution_count": null,
      "outputs": []
    },
    {
      "cell_type": "markdown",
      "metadata": {
        "papermill": {
          "duration": 0.257378,
          "end_time": "2021-05-01T10:19:52.703845",
          "exception": false,
          "start_time": "2021-05-01T10:19:52.446467",
          "status": "completed"
        },
        "tags": [],
        "id": "julian-shareware"
      },
      "source": [
        "# check versions of installed packages in this docker"
      ],
      "id": "julian-shareware"
    },
    {
      "cell_type": "code",
      "metadata": {
        "execution": {
          "iopub.execute_input": "2021-05-01T10:19:53.227923Z",
          "iopub.status.busy": "2021-05-01T10:19:53.227058Z",
          "iopub.status.idle": "2021-05-01T10:19:53.230819Z",
          "shell.execute_reply": "2021-05-01T10:19:53.231278Z"
        },
        "papermill": {
          "duration": 0.270996,
          "end_time": "2021-05-01T10:19:53.231444",
          "exception": false,
          "start_time": "2021-05-01T10:19:52.960448",
          "status": "completed"
        },
        "tags": [],
        "id": "equipped-seafood",
        "outputId": "8b4f4be7-957d-4dfc-a635-502fe90de343"
      },
      "source": [
        "tf.__version__"
      ],
      "id": "equipped-seafood",
      "execution_count": null,
      "outputs": [
        {
          "output_type": "execute_result",
          "data": {
            "text/plain": [
              "'2.2.0'"
            ]
          },
          "metadata": {
            "tags": []
          },
          "execution_count": 3
        }
      ]
    },
    {
      "cell_type": "code",
      "metadata": {
        "execution": {
          "iopub.execute_input": "2021-05-01T10:19:53.749395Z",
          "iopub.status.busy": "2021-05-01T10:19:53.748579Z",
          "iopub.status.idle": "2021-05-01T10:19:53.752649Z",
          "shell.execute_reply": "2021-05-01T10:19:53.752050Z"
        },
        "papermill": {
          "duration": 0.265825,
          "end_time": "2021-05-01T10:19:53.752786",
          "exception": false,
          "start_time": "2021-05-01T10:19:53.486961",
          "status": "completed"
        },
        "tags": [],
        "id": "aging-denver",
        "outputId": "46f2091d-13c6-4a56-e9a8-9bd664d068ae"
      },
      "source": [
        "transformers.__version__"
      ],
      "id": "aging-denver",
      "execution_count": null,
      "outputs": [
        {
          "output_type": "execute_result",
          "data": {
            "text/plain": [
              "'3.5.1'"
            ]
          },
          "metadata": {
            "tags": []
          },
          "execution_count": 4
        }
      ]
    },
    {
      "cell_type": "code",
      "metadata": {
        "execution": {
          "iopub.execute_input": "2021-05-01T10:19:54.273209Z",
          "iopub.status.busy": "2021-05-01T10:19:54.272594Z",
          "iopub.status.idle": "2021-05-01T10:20:13.433852Z",
          "shell.execute_reply": "2021-05-01T10:20:13.434373Z"
        },
        "papermill": {
          "duration": 19.424959,
          "end_time": "2021-05-01T10:20:13.434553",
          "exception": false,
          "start_time": "2021-05-01T10:19:54.009594",
          "status": "completed"
        },
        "tags": [],
        "id": "tight-physiology"
      },
      "source": [
        "# ref : https://github.com/tensorflow/tpu/issues/823\n",
        "\n",
        "Client().configure_tpu_version(tf.__version__, restart_type='ifNeeded')\n"
      ],
      "id": "tight-physiology",
      "execution_count": null,
      "outputs": []
    },
    {
      "cell_type": "code",
      "metadata": {
        "execution": {
          "iopub.execute_input": "2021-05-01T10:20:13.985468Z",
          "iopub.status.busy": "2021-05-01T10:20:13.984767Z",
          "iopub.status.idle": "2021-05-01T10:20:17.822226Z",
          "shell.execute_reply": "2021-05-01T10:20:17.822727Z"
        },
        "papermill": {
          "duration": 4.101671,
          "end_time": "2021-05-01T10:20:17.822937",
          "exception": false,
          "start_time": "2021-05-01T10:20:13.721266",
          "status": "completed"
        },
        "tags": [],
        "id": "furnished-southeast",
        "outputId": "bf918e52-905b-480d-e5bd-9bfe556a31e0"
      },
      "source": [
        "!unzip  -o ../input/jigsaw-toxic-comment-classification-challenge/train.csv.zip\n",
        "\n",
        "!unzip  -o ../input/jigsaw-toxic-comment-classification-challenge/test.csv.zip\n",
        "\n",
        "\n",
        "!unzip  -o ../input/jigsaw-toxic-comment-classification-challenge/test_labels.csv.zip\n"
      ],
      "id": "furnished-southeast",
      "execution_count": null,
      "outputs": [
        {
          "output_type": "stream",
          "text": [
            "Archive:  ../input/jigsaw-toxic-comment-classification-challenge/train.csv.zip\r\n",
            "  inflating: train.csv               \r\n",
            "Archive:  ../input/jigsaw-toxic-comment-classification-challenge/test.csv.zip\r\n",
            "  inflating: test.csv                \r\n",
            "Archive:  ../input/jigsaw-toxic-comment-classification-challenge/test_labels.csv.zip\r\n",
            "  inflating: test_labels.csv         \r\n"
          ],
          "name": "stdout"
        }
      ]
    },
    {
      "cell_type": "code",
      "metadata": {
        "execution": {
          "iopub.execute_input": "2021-05-01T10:20:18.351012Z",
          "iopub.status.busy": "2021-05-01T10:20:18.349146Z",
          "iopub.status.idle": "2021-05-01T10:20:18.355540Z",
          "shell.execute_reply": "2021-05-01T10:20:18.354970Z"
        },
        "papermill": {
          "duration": 0.2729,
          "end_time": "2021-05-01T10:20:18.355681",
          "exception": false,
          "start_time": "2021-05-01T10:20:18.082781",
          "status": "completed"
        },
        "tags": [],
        "id": "rough-cycle",
        "outputId": "49b67d7f-5581-4e47-dab2-38fd12c37d1a"
      },
      "source": [
        "os.listdir('../working')"
      ],
      "id": "rough-cycle",
      "execution_count": null,
      "outputs": [
        {
          "output_type": "execute_result",
          "data": {
            "text/plain": [
              "['test_labels.csv', '__notebook__.ipynb', 'test.csv', 'train.csv']"
            ]
          },
          "metadata": {
            "tags": []
          },
          "execution_count": 7
        }
      ]
    },
    {
      "cell_type": "markdown",
      "metadata": {
        "papermill": {
          "duration": 0.263365,
          "end_time": "2021-05-01T10:20:18.880059",
          "exception": false,
          "start_time": "2021-05-01T10:20:18.616694",
          "status": "completed"
        },
        "tags": [],
        "id": "incomplete-cancer"
      },
      "source": [
        "# read dataset"
      ],
      "id": "incomplete-cancer"
    },
    {
      "cell_type": "code",
      "metadata": {
        "execution": {
          "iopub.execute_input": "2021-05-01T10:20:19.413934Z",
          "iopub.status.busy": "2021-05-01T10:20:19.413282Z",
          "iopub.status.idle": "2021-05-01T10:20:21.472676Z",
          "shell.execute_reply": "2021-05-01T10:20:21.473512Z"
        },
        "papermill": {
          "duration": 2.326842,
          "end_time": "2021-05-01T10:20:21.473747",
          "exception": false,
          "start_time": "2021-05-01T10:20:19.146905",
          "status": "completed"
        },
        "tags": [],
        "id": "broke-banks"
      },
      "source": [
        "train=pd.read_csv(\"../working/train.csv\")\n",
        "test=pd.read_csv(\"../working/test.csv\")\n",
        "test_labels=pd.read_csv(\"../working/test_labels.csv\")\n"
      ],
      "id": "broke-banks",
      "execution_count": null,
      "outputs": []
    },
    {
      "cell_type": "code",
      "metadata": {
        "execution": {
          "iopub.execute_input": "2021-05-01T10:20:22.015517Z",
          "iopub.status.busy": "2021-05-01T10:20:22.014550Z",
          "iopub.status.idle": "2021-05-01T10:20:22.031095Z",
          "shell.execute_reply": "2021-05-01T10:20:22.031557Z"
        },
        "papermill": {
          "duration": 0.288005,
          "end_time": "2021-05-01T10:20:22.031728",
          "exception": false,
          "start_time": "2021-05-01T10:20:21.743723",
          "status": "completed"
        },
        "tags": [],
        "id": "sharing-berlin",
        "outputId": "b3665d62-5328-4881-cd34-fa799ca62839"
      },
      "source": [
        "train.head()"
      ],
      "id": "sharing-berlin",
      "execution_count": null,
      "outputs": [
        {
          "output_type": "execute_result",
          "data": {
            "text/html": [
              "<div>\n",
              "<style scoped>\n",
              "    .dataframe tbody tr th:only-of-type {\n",
              "        vertical-align: middle;\n",
              "    }\n",
              "\n",
              "    .dataframe tbody tr th {\n",
              "        vertical-align: top;\n",
              "    }\n",
              "\n",
              "    .dataframe thead th {\n",
              "        text-align: right;\n",
              "    }\n",
              "</style>\n",
              "<table border=\"1\" class=\"dataframe\">\n",
              "  <thead>\n",
              "    <tr style=\"text-align: right;\">\n",
              "      <th></th>\n",
              "      <th>id</th>\n",
              "      <th>comment_text</th>\n",
              "      <th>toxic</th>\n",
              "      <th>severe_toxic</th>\n",
              "      <th>obscene</th>\n",
              "      <th>threat</th>\n",
              "      <th>insult</th>\n",
              "      <th>identity_hate</th>\n",
              "    </tr>\n",
              "  </thead>\n",
              "  <tbody>\n",
              "    <tr>\n",
              "      <th>0</th>\n",
              "      <td>0000997932d777bf</td>\n",
              "      <td>Explanation\\nWhy the edits made under my usern...</td>\n",
              "      <td>0</td>\n",
              "      <td>0</td>\n",
              "      <td>0</td>\n",
              "      <td>0</td>\n",
              "      <td>0</td>\n",
              "      <td>0</td>\n",
              "    </tr>\n",
              "    <tr>\n",
              "      <th>1</th>\n",
              "      <td>000103f0d9cfb60f</td>\n",
              "      <td>D'aww! He matches this background colour I'm s...</td>\n",
              "      <td>0</td>\n",
              "      <td>0</td>\n",
              "      <td>0</td>\n",
              "      <td>0</td>\n",
              "      <td>0</td>\n",
              "      <td>0</td>\n",
              "    </tr>\n",
              "    <tr>\n",
              "      <th>2</th>\n",
              "      <td>000113f07ec002fd</td>\n",
              "      <td>Hey man, I'm really not trying to edit war. It...</td>\n",
              "      <td>0</td>\n",
              "      <td>0</td>\n",
              "      <td>0</td>\n",
              "      <td>0</td>\n",
              "      <td>0</td>\n",
              "      <td>0</td>\n",
              "    </tr>\n",
              "    <tr>\n",
              "      <th>3</th>\n",
              "      <td>0001b41b1c6bb37e</td>\n",
              "      <td>\"\\nMore\\nI can't make any real suggestions on ...</td>\n",
              "      <td>0</td>\n",
              "      <td>0</td>\n",
              "      <td>0</td>\n",
              "      <td>0</td>\n",
              "      <td>0</td>\n",
              "      <td>0</td>\n",
              "    </tr>\n",
              "    <tr>\n",
              "      <th>4</th>\n",
              "      <td>0001d958c54c6e35</td>\n",
              "      <td>You, sir, are my hero. Any chance you remember...</td>\n",
              "      <td>0</td>\n",
              "      <td>0</td>\n",
              "      <td>0</td>\n",
              "      <td>0</td>\n",
              "      <td>0</td>\n",
              "      <td>0</td>\n",
              "    </tr>\n",
              "  </tbody>\n",
              "</table>\n",
              "</div>"
            ],
            "text/plain": [
              "                 id                                       comment_text  toxic  \\\n",
              "0  0000997932d777bf  Explanation\\nWhy the edits made under my usern...      0   \n",
              "1  000103f0d9cfb60f  D'aww! He matches this background colour I'm s...      0   \n",
              "2  000113f07ec002fd  Hey man, I'm really not trying to edit war. It...      0   \n",
              "3  0001b41b1c6bb37e  \"\\nMore\\nI can't make any real suggestions on ...      0   \n",
              "4  0001d958c54c6e35  You, sir, are my hero. Any chance you remember...      0   \n",
              "\n",
              "   severe_toxic  obscene  threat  insult  identity_hate  \n",
              "0             0        0       0       0              0  \n",
              "1             0        0       0       0              0  \n",
              "2             0        0       0       0              0  \n",
              "3             0        0       0       0              0  \n",
              "4             0        0       0       0              0  "
            ]
          },
          "metadata": {
            "tags": []
          },
          "execution_count": 9
        }
      ]
    },
    {
      "cell_type": "markdown",
      "metadata": {
        "papermill": {
          "duration": 0.259332,
          "end_time": "2021-05-01T10:20:22.547576",
          "exception": false,
          "start_time": "2021-05-01T10:20:22.288244",
          "status": "completed"
        },
        "tags": [],
        "id": "mounted-japan"
      },
      "source": [
        "# we'll not use test.csv or test_labels.csv as we don't have annotations of these test samples and only kaggle has it's actual annotation,so we can't evaluate our models performance on this test dataset,so for this experiment we will not use it"
      ],
      "id": "mounted-japan"
    },
    {
      "cell_type": "code",
      "metadata": {
        "execution": {
          "iopub.execute_input": "2021-05-01T10:20:23.070291Z",
          "iopub.status.busy": "2021-05-01T10:20:23.069292Z",
          "iopub.status.idle": "2021-05-01T10:20:23.079052Z",
          "shell.execute_reply": "2021-05-01T10:20:23.079595Z"
        },
        "papermill": {
          "duration": 0.274125,
          "end_time": "2021-05-01T10:20:23.079768",
          "exception": false,
          "start_time": "2021-05-01T10:20:22.805643",
          "status": "completed"
        },
        "tags": [],
        "id": "modern-affair",
        "outputId": "6a7b4fec-30dd-41d9-a343-8a1c90ba38f4"
      },
      "source": [
        "test.head()"
      ],
      "id": "modern-affair",
      "execution_count": null,
      "outputs": [
        {
          "output_type": "execute_result",
          "data": {
            "text/html": [
              "<div>\n",
              "<style scoped>\n",
              "    .dataframe tbody tr th:only-of-type {\n",
              "        vertical-align: middle;\n",
              "    }\n",
              "\n",
              "    .dataframe tbody tr th {\n",
              "        vertical-align: top;\n",
              "    }\n",
              "\n",
              "    .dataframe thead th {\n",
              "        text-align: right;\n",
              "    }\n",
              "</style>\n",
              "<table border=\"1\" class=\"dataframe\">\n",
              "  <thead>\n",
              "    <tr style=\"text-align: right;\">\n",
              "      <th></th>\n",
              "      <th>id</th>\n",
              "      <th>comment_text</th>\n",
              "    </tr>\n",
              "  </thead>\n",
              "  <tbody>\n",
              "    <tr>\n",
              "      <th>0</th>\n",
              "      <td>00001cee341fdb12</td>\n",
              "      <td>Yo bitch Ja Rule is more succesful then you'll...</td>\n",
              "    </tr>\n",
              "    <tr>\n",
              "      <th>1</th>\n",
              "      <td>0000247867823ef7</td>\n",
              "      <td>== From RfC == \\n\\n The title is fine as it is...</td>\n",
              "    </tr>\n",
              "    <tr>\n",
              "      <th>2</th>\n",
              "      <td>00013b17ad220c46</td>\n",
              "      <td>\" \\n\\n == Sources == \\n\\n * Zawe Ashton on Lap...</td>\n",
              "    </tr>\n",
              "    <tr>\n",
              "      <th>3</th>\n",
              "      <td>00017563c3f7919a</td>\n",
              "      <td>:If you have a look back at the source, the in...</td>\n",
              "    </tr>\n",
              "    <tr>\n",
              "      <th>4</th>\n",
              "      <td>00017695ad8997eb</td>\n",
              "      <td>I don't anonymously edit articles at all.</td>\n",
              "    </tr>\n",
              "  </tbody>\n",
              "</table>\n",
              "</div>"
            ],
            "text/plain": [
              "                 id                                       comment_text\n",
              "0  00001cee341fdb12  Yo bitch Ja Rule is more succesful then you'll...\n",
              "1  0000247867823ef7  == From RfC == \\n\\n The title is fine as it is...\n",
              "2  00013b17ad220c46  \" \\n\\n == Sources == \\n\\n * Zawe Ashton on Lap...\n",
              "3  00017563c3f7919a  :If you have a look back at the source, the in...\n",
              "4  00017695ad8997eb          I don't anonymously edit articles at all."
            ]
          },
          "metadata": {
            "tags": []
          },
          "execution_count": 10
        }
      ]
    },
    {
      "cell_type": "code",
      "metadata": {
        "execution": {
          "iopub.execute_input": "2021-05-01T10:20:23.602710Z",
          "iopub.status.busy": "2021-05-01T10:20:23.600823Z",
          "iopub.status.idle": "2021-05-01T10:20:23.614068Z",
          "shell.execute_reply": "2021-05-01T10:20:23.614543Z"
        },
        "papermill": {
          "duration": 0.277172,
          "end_time": "2021-05-01T10:20:23.614714",
          "exception": false,
          "start_time": "2021-05-01T10:20:23.337542",
          "status": "completed"
        },
        "tags": [],
        "id": "detected-shoot",
        "outputId": "4461039b-17c1-46cd-cb9c-07e4b8a33ad6"
      },
      "source": [
        "test_labels.head()"
      ],
      "id": "detected-shoot",
      "execution_count": null,
      "outputs": [
        {
          "output_type": "execute_result",
          "data": {
            "text/html": [
              "<div>\n",
              "<style scoped>\n",
              "    .dataframe tbody tr th:only-of-type {\n",
              "        vertical-align: middle;\n",
              "    }\n",
              "\n",
              "    .dataframe tbody tr th {\n",
              "        vertical-align: top;\n",
              "    }\n",
              "\n",
              "    .dataframe thead th {\n",
              "        text-align: right;\n",
              "    }\n",
              "</style>\n",
              "<table border=\"1\" class=\"dataframe\">\n",
              "  <thead>\n",
              "    <tr style=\"text-align: right;\">\n",
              "      <th></th>\n",
              "      <th>id</th>\n",
              "      <th>toxic</th>\n",
              "      <th>severe_toxic</th>\n",
              "      <th>obscene</th>\n",
              "      <th>threat</th>\n",
              "      <th>insult</th>\n",
              "      <th>identity_hate</th>\n",
              "    </tr>\n",
              "  </thead>\n",
              "  <tbody>\n",
              "    <tr>\n",
              "      <th>0</th>\n",
              "      <td>00001cee341fdb12</td>\n",
              "      <td>-1</td>\n",
              "      <td>-1</td>\n",
              "      <td>-1</td>\n",
              "      <td>-1</td>\n",
              "      <td>-1</td>\n",
              "      <td>-1</td>\n",
              "    </tr>\n",
              "    <tr>\n",
              "      <th>1</th>\n",
              "      <td>0000247867823ef7</td>\n",
              "      <td>-1</td>\n",
              "      <td>-1</td>\n",
              "      <td>-1</td>\n",
              "      <td>-1</td>\n",
              "      <td>-1</td>\n",
              "      <td>-1</td>\n",
              "    </tr>\n",
              "    <tr>\n",
              "      <th>2</th>\n",
              "      <td>00013b17ad220c46</td>\n",
              "      <td>-1</td>\n",
              "      <td>-1</td>\n",
              "      <td>-1</td>\n",
              "      <td>-1</td>\n",
              "      <td>-1</td>\n",
              "      <td>-1</td>\n",
              "    </tr>\n",
              "    <tr>\n",
              "      <th>3</th>\n",
              "      <td>00017563c3f7919a</td>\n",
              "      <td>-1</td>\n",
              "      <td>-1</td>\n",
              "      <td>-1</td>\n",
              "      <td>-1</td>\n",
              "      <td>-1</td>\n",
              "      <td>-1</td>\n",
              "    </tr>\n",
              "    <tr>\n",
              "      <th>4</th>\n",
              "      <td>00017695ad8997eb</td>\n",
              "      <td>-1</td>\n",
              "      <td>-1</td>\n",
              "      <td>-1</td>\n",
              "      <td>-1</td>\n",
              "      <td>-1</td>\n",
              "      <td>-1</td>\n",
              "    </tr>\n",
              "  </tbody>\n",
              "</table>\n",
              "</div>"
            ],
            "text/plain": [
              "                 id  toxic  severe_toxic  obscene  threat  insult  \\\n",
              "0  00001cee341fdb12     -1            -1       -1      -1      -1   \n",
              "1  0000247867823ef7     -1            -1       -1      -1      -1   \n",
              "2  00013b17ad220c46     -1            -1       -1      -1      -1   \n",
              "3  00017563c3f7919a     -1            -1       -1      -1      -1   \n",
              "4  00017695ad8997eb     -1            -1       -1      -1      -1   \n",
              "\n",
              "   identity_hate  \n",
              "0             -1  \n",
              "1             -1  \n",
              "2             -1  \n",
              "3             -1  \n",
              "4             -1  "
            ]
          },
          "metadata": {
            "tags": []
          },
          "execution_count": 11
        }
      ]
    },
    {
      "cell_type": "code",
      "metadata": {
        "execution": {
          "iopub.execute_input": "2021-05-01T10:20:24.151038Z",
          "iopub.status.busy": "2021-05-01T10:20:24.148218Z",
          "iopub.status.idle": "2021-05-01T10:20:24.154842Z",
          "shell.execute_reply": "2021-05-01T10:20:24.154306Z"
        },
        "papermill": {
          "duration": 0.275359,
          "end_time": "2021-05-01T10:20:24.155020",
          "exception": false,
          "start_time": "2021-05-01T10:20:23.879661",
          "status": "completed"
        },
        "tags": [],
        "id": "accurate-comedy",
        "outputId": "ee178748-fc1d-4420-b1ab-9c0299402dd5"
      },
      "source": [
        "len(train)"
      ],
      "id": "accurate-comedy",
      "execution_count": null,
      "outputs": [
        {
          "output_type": "execute_result",
          "data": {
            "text/plain": [
              "159571"
            ]
          },
          "metadata": {
            "tags": []
          },
          "execution_count": 12
        }
      ]
    },
    {
      "cell_type": "markdown",
      "metadata": {
        "papermill": {
          "duration": 0.278563,
          "end_time": "2021-05-01T10:20:24.693704",
          "exception": false,
          "start_time": "2021-05-01T10:20:24.415141",
          "status": "completed"
        },
        "tags": [],
        "id": "vocational-freeze"
      },
      "source": [
        "# From the graph below we can see that we have very high imbalance dataset"
      ],
      "id": "vocational-freeze"
    },
    {
      "cell_type": "code",
      "metadata": {
        "execution": {
          "iopub.execute_input": "2021-05-01T10:20:25.216635Z",
          "iopub.status.busy": "2021-05-01T10:20:25.215653Z",
          "iopub.status.idle": "2021-05-01T10:20:25.384996Z",
          "shell.execute_reply": "2021-05-01T10:20:25.385454Z"
        },
        "papermill": {
          "duration": 0.43046,
          "end_time": "2021-05-01T10:20:25.385616",
          "exception": false,
          "start_time": "2021-05-01T10:20:24.955156",
          "status": "completed"
        },
        "tags": [],
        "id": "technological-emission",
        "outputId": "5601a5d2-7abb-4c54-ccaf-47a01e104a69"
      },
      "source": [
        "\n",
        "plt.figure(figsize=(10, 5))\n",
        "plt.subplot(1, 2, 1)\n",
        "sns.countplot(train['toxic'])\n",
        "plt.title('Target on training data')\n",
        "\n",
        "plt.show()"
      ],
      "id": "technological-emission",
      "execution_count": null,
      "outputs": [
        {
          "output_type": "stream",
          "text": [
            "/opt/conda/lib/python3.7/site-packages/seaborn/_decorators.py:43: FutureWarning: Pass the following variable as a keyword arg: x. From version 0.12, the only valid positional argument will be `data`, and passing other arguments without an explicit keyword will result in an error or misinterpretation.\n",
            "  FutureWarning\n"
          ],
          "name": "stderr"
        },
        {
          "output_type": "display_data",
          "data": {
            "image/png": "[encoded data removed]",
            "text/plain": [
              "<Figure size 720x360 with 1 Axes>"
            ]
          },
          "metadata": {
            "tags": [],
            "needs_background": "light"
          }
        }
      ]
    },
    {
      "cell_type": "markdown",
      "metadata": {
        "papermill": {
          "duration": 0.268621,
          "end_time": "2021-05-01T10:20:25.920160",
          "exception": false,
          "start_time": "2021-05-01T10:20:25.651539",
          "status": "completed"
        },
        "tags": [],
        "id": "dramatic-registration"
      },
      "source": [
        "# settings for 8 core tpu training"
      ],
      "id": "dramatic-registration"
    },
    {
      "cell_type": "code",
      "metadata": {
        "execution": {
          "iopub.execute_input": "2021-05-01T10:20:26.445543Z",
          "iopub.status.busy": "2021-05-01T10:20:26.444807Z",
          "iopub.status.idle": "2021-05-01T10:20:42.235769Z",
          "shell.execute_reply": "2021-05-01T10:20:42.235255Z"
        },
        "papermill": {
          "duration": 16.054907,
          "end_time": "2021-05-01T10:20:42.235938",
          "exception": false,
          "start_time": "2021-05-01T10:20:26.181031",
          "status": "completed"
        },
        "tags": [],
        "id": "formal-ballet",
        "outputId": "bbd047a0-3577-4e74-a58e-a08b593a644b"
      },
      "source": [
        "# Detect hardware, return appropriate distribution strategy\n",
        "try:\n",
        "    # TPU detection. No parameters necessary if TPU_NAME environment variable is\n",
        "    # set: this is always the case on Kaggle.\n",
        "    tpu = tf.distribute.cluster_resolver.TPUClusterResolver()\n",
        "    print('Running on TPU ', tpu.master())\n",
        "except ValueError:\n",
        "    tpu = None\n",
        "\n",
        "if tpu:\n",
        "    tf.config.experimental_connect_to_cluster(tpu)\n",
        "    tf.tpu.experimental.initialize_tpu_system(tpu)\n",
        "    strategy = tf.distribute.experimental.TPUStrategy(tpu)\n",
        "else:\n",
        "    # Default distribution strategy in Tensorflow. Works on CPU and single GPU.\n",
        "    strategy = tf.distribute.get_strategy()\n",
        "\n",
        "print(\"REPLICAS: \", strategy.num_replicas_in_sync)"
      ],
      "id": "formal-ballet",
      "execution_count": null,
      "outputs": [
        {
          "output_type": "stream",
          "text": [
            "Running on TPU  grpc://10.0.0.2:8470\n",
            "REPLICAS:  8\n"
          ],
          "name": "stdout"
        }
      ]
    },
    {
      "cell_type": "code",
      "metadata": {
        "execution": {
          "iopub.execute_input": "2021-05-01T10:20:42.765283Z",
          "iopub.status.busy": "2021-05-01T10:20:42.764318Z",
          "iopub.status.idle": "2021-05-01T10:20:42.768731Z",
          "shell.execute_reply": "2021-05-01T10:20:42.768261Z"
        },
        "papermill": {
          "duration": 0.270042,
          "end_time": "2021-05-01T10:20:42.768889",
          "exception": false,
          "start_time": "2021-05-01T10:20:42.498847",
          "status": "completed"
        },
        "tags": [],
        "id": "afraid-depression",
        "outputId": "893d06b9-42a3-4cd8-90d3-966f8edeb71f"
      },
      "source": [
        "strategy.num_replicas_in_sync #we've got 8 core"
      ],
      "id": "afraid-depression",
      "execution_count": null,
      "outputs": [
        {
          "output_type": "execute_result",
          "data": {
            "text/plain": [
              "8"
            ]
          },
          "metadata": {
            "tags": []
          },
          "execution_count": 15
        }
      ]
    },
    {
      "cell_type": "markdown",
      "metadata": {
        "papermill": {
          "duration": 0.263147,
          "end_time": "2021-05-01T10:20:43.294861",
          "exception": false,
          "start_time": "2021-05-01T10:20:43.031714",
          "status": "completed"
        },
        "tags": [],
        "id": "political-elite"
      },
      "source": [
        "# config"
      ],
      "id": "political-elite"
    },
    {
      "cell_type": "markdown",
      "metadata": {
        "papermill": {
          "duration": 0.2609,
          "end_time": "2021-05-01T10:20:43.816916",
          "exception": false,
          "start_time": "2021-05-01T10:20:43.556016",
          "status": "completed"
        },
        "tags": [],
        "id": "suitable-fitness"
      },
      "source": [
        "we will use max_len = 512, batch size = 24 * 8 and will train our model for 10 epoch"
      ],
      "id": "suitable-fitness"
    },
    {
      "cell_type": "code",
      "metadata": {
        "execution": {
          "iopub.execute_input": "2021-05-01T10:20:44.341765Z",
          "iopub.status.busy": "2021-05-01T10:20:44.341130Z",
          "iopub.status.idle": "2021-05-01T10:20:44.344972Z",
          "shell.execute_reply": "2021-05-01T10:20:44.345562Z"
        },
        "papermill": {
          "duration": 0.269396,
          "end_time": "2021-05-01T10:20:44.345722",
          "exception": false,
          "start_time": "2021-05-01T10:20:44.076326",
          "status": "completed"
        },
        "tags": [],
        "id": "dominican-ukraine"
      },
      "source": [
        "AUTO = tf.data.experimental.AUTOTUNE\n",
        "\n",
        "# Configuration\n",
        "EPOCHS = 10\n",
        "BATCH_SIZE = 24 * strategy.num_replicas_in_sync # 24 * 8\n",
        "MAX_LEN = 512\n",
        "\n",
        "MODEL = 'roberta-base'"
      ],
      "id": "dominican-ukraine",
      "execution_count": null,
      "outputs": []
    },
    {
      "cell_type": "markdown",
      "metadata": {
        "papermill": {
          "duration": 0.259753,
          "end_time": "2021-05-01T10:20:44.865472",
          "exception": false,
          "start_time": "2021-05-01T10:20:44.605719",
          "status": "completed"
        },
        "tags": [],
        "id": "coral-banks"
      },
      "source": [
        "we will use AutoTokenizer from popular huggingface library which is easy to use and apply appropriate tokenization for chosen model,for better understanding please [check this](https://huggingface.co/transformers/model_doc/auto.html)"
      ],
      "id": "coral-banks"
    },
    {
      "cell_type": "code",
      "metadata": {
        "execution": {
          "iopub.execute_input": "2021-05-01T10:20:45.390375Z",
          "iopub.status.busy": "2021-05-01T10:20:45.389450Z",
          "iopub.status.idle": "2021-05-01T10:20:46.702889Z",
          "shell.execute_reply": "2021-05-01T10:20:46.702166Z"
        },
        "papermill": {
          "duration": 1.57643,
          "end_time": "2021-05-01T10:20:46.703049",
          "exception": false,
          "start_time": "2021-05-01T10:20:45.126619",
          "status": "completed"
        },
        "tags": [],
        "colab": {
          "referenced_widgets": [
            "db7a35aa55b14848b176b3b7db552e38",
            "5352cb1c564a427db16e7368b9244b3a",
            "a5bc73e37351454aa6d22bab6f4a2664"
          ]
        },
        "id": "activated-device",
        "outputId": "8fb0c041-cfc0-425d-8b29-e97e3fa67189"
      },
      "source": [
        "# First load the real tokenizer\n",
        "tokenizer = AutoTokenizer.from_pretrained(MODEL)\n"
      ],
      "id": "activated-device",
      "execution_count": null,
      "outputs": [
        {
          "output_type": "display_data",
          "data": {
            "application/vnd.jupyter.widget-view+json": {
              "model_id": "db7a35aa55b14848b176b3b7db552e38",
              "version_major": 2,
              "version_minor": 0
            },
            "text/plain": [
              "Downloading:   0%|          | 0.00/481 [00:00<?, ?B/s]"
            ]
          },
          "metadata": {
            "tags": []
          }
        },
        {
          "output_type": "display_data",
          "data": {
            "application/vnd.jupyter.widget-view+json": {
              "model_id": "5352cb1c564a427db16e7368b9244b3a",
              "version_major": 2,
              "version_minor": 0
            },
            "text/plain": [
              "Downloading:   0%|          | 0.00/899k [00:00<?, ?B/s]"
            ]
          },
          "metadata": {
            "tags": []
          }
        },
        {
          "output_type": "display_data",
          "data": {
            "application/vnd.jupyter.widget-view+json": {
              "model_id": "a5bc73e37351454aa6d22bab6f4a2664",
              "version_major": 2,
              "version_minor": 0
            },
            "text/plain": [
              "Downloading:   0%|          | 0.00/456k [00:00<?, ?B/s]"
            ]
          },
          "metadata": {
            "tags": []
          }
        }
      ]
    },
    {
      "cell_type": "code",
      "metadata": {
        "execution": {
          "iopub.execute_input": "2021-05-01T10:20:47.247268Z",
          "iopub.status.busy": "2021-05-01T10:20:47.246541Z",
          "iopub.status.idle": "2021-05-01T10:20:47.250513Z",
          "shell.execute_reply": "2021-05-01T10:20:47.249379Z"
        },
        "papermill": {
          "duration": 0.271313,
          "end_time": "2021-05-01T10:20:47.250675",
          "exception": false,
          "start_time": "2021-05-01T10:20:46.979362",
          "status": "completed"
        },
        "tags": [],
        "id": "accepted-california",
        "outputId": "da18a32f-da2e-4cb7-de36-430cb3424997"
      },
      "source": [
        "train.columns"
      ],
      "id": "accepted-california",
      "execution_count": null,
      "outputs": [
        {
          "output_type": "execute_result",
          "data": {
            "text/plain": [
              "Index(['id', 'comment_text', 'toxic', 'severe_toxic', 'obscene', 'threat',\n",
              "       'insult', 'identity_hate'],\n",
              "      dtype='object')"
            ]
          },
          "metadata": {
            "tags": []
          },
          "execution_count": 18
        }
      ]
    },
    {
      "cell_type": "markdown",
      "metadata": {
        "papermill": {
          "duration": 0.492816,
          "end_time": "2021-05-01T10:20:48.007794",
          "exception": false,
          "start_time": "2021-05-01T10:20:47.514978",
          "status": "completed"
        },
        "tags": [],
        "id": "white-major"
      },
      "source": [
        "# text cleaning"
      ],
      "id": "white-major"
    },
    {
      "cell_type": "code",
      "metadata": {
        "execution": {
          "iopub.execute_input": "2021-05-01T10:20:48.575926Z",
          "iopub.status.busy": "2021-05-01T10:20:48.575124Z",
          "iopub.status.idle": "2021-05-01T10:20:48.578212Z",
          "shell.execute_reply": "2021-05-01T10:20:48.577674Z"
        },
        "papermill": {
          "duration": 0.303304,
          "end_time": "2021-05-01T10:20:48.578360",
          "exception": false,
          "start_time": "2021-05-01T10:20:48.275056",
          "status": "completed"
        },
        "tags": [],
        "id": "alien-reply"
      },
      "source": [
        "\n",
        "\n",
        "punctuations = [',', '.', '\"', ':', ')', '(', '-', '!', '?', '|', ';', \"'\", '$', '&', '/', '[', ']', '>', '%', '=', '#', '*', '+', '\\\\', '•',  '~', '@', '£',\n",
        " '·', '_', '{', '}', '©', '^', '®', '`',  '<', '→', '°', '€', '™', '›',  '♥', '←', '×', '§', '″', '′', 'Â', '█', '½', 'à', '…', '\\xa0', '\\t',\n",
        " '“', '★', '”', '–', '●', 'â', '►', '−', '¢', '²', '¬', '░', '¶', '↑', '±', '¿', '▾', '═', '¦', '║', '―', '¥', '▓', '—', '‹', '─', '\\u3000', '\\u202f',\n",
        " '▒', '：', '¼', '⊕', '▼', '▪', '†', '■', '’', '▀', '¨', '▄', '♫', '☆', 'é', '¯', '♦', '¤', '▲', 'è', '¸', '¾', 'Ã', '⋅', '‘', '∞', '«',\n",
        " '∙', '）', '↓', '、', '│', '（', '»', '，', '♪', '╩', '╚', '³', '・', '╦', '╣', '╔', '╗', '▬', '❤', 'ï', 'Ø', '¹', '≤', '‡', '√', ]\n",
        "\n",
        "mispell_dict = {\"aren't\" : \"are not\",\n",
        "\"can't\" : \"cannot\",\n",
        "\"couldn't\" : \"could not\",\n",
        "\"couldnt\" : \"could not\",\n",
        "\"didn't\" : \"did not\",\n",
        "\"doesn't\" : \"does not\",\n",
        "\"doesnt\" : \"does not\",\n",
        "\"don't\" : \"do not\",\n",
        "\"hadn't\" : \"had not\",\n",
        "\"hasn't\" : \"has not\",\n",
        "\"haven't\" : \"have not\",\n",
        "\"havent\" : \"have not\",\n",
        "\"he'd\" : \"he would\",\n",
        "\"he'll\" : \"he will\",\n",
        "\"he's\" : \"he is\",\n",
        "\"i'd\" : \"I would\",\n",
        "\"i'd\" : \"I had\",\n",
        "\"i'll\" : \"I will\",\n",
        "\"i'm\" : \"I am\",\n",
        "\"isn't\" : \"is not\",\n",
        "\"it's\" : \"it is\",\n",
        "\"it'll\":\"it will\",\n",
        "\"i've\" : \"I have\",\n",
        "\"let's\" : \"let us\",\n",
        "\"mightn't\" : \"might not\",\n",
        "\"mustn't\" : \"must not\",\n",
        "\"shan't\" : \"shall not\",\n",
        "\"she'd\" : \"she would\",\n",
        "\"she'll\" : \"she will\",\n",
        "\"she's\" : \"she is\",\n",
        "\"shouldn't\" : \"should not\",\n",
        "\"shouldnt\" : \"should not\",\n",
        "\"that's\" : \"that is\",\n",
        "\"thats\" : \"that is\",\n",
        "\"there's\" : \"there is\",\n",
        "\"theres\" : \"there is\",\n",
        "\"they'd\" : \"they would\",\n",
        "\"they'll\" : \"they will\",\n",
        "\"they're\" : \"they are\",\n",
        "\"theyre\":  \"they are\",\n",
        "\"they've\" : \"they have\",\n",
        "\"we'd\" : \"we would\",\n",
        "\"we're\" : \"we are\",\n",
        "\"weren't\" : \"were not\",\n",
        "\"we've\" : \"we have\",\n",
        "\"what'll\" : \"what will\",\n",
        "\"what're\" : \"what are\",\n",
        "\"what's\" : \"what is\",\n",
        "\"what've\" : \"what have\",\n",
        "\"where's\" : \"where is\",\n",
        "\"who'd\" : \"who would\",\n",
        "\"who'll\" : \"who will\",\n",
        "\"who're\" : \"who are\",\n",
        "\"who's\" : \"who is\",\n",
        "\"who've\" : \"who have\",\n",
        "\"won't\" : \"will not\",\n",
        "\"wouldn't\" : \"would not\",\n",
        "\"you'd\" : \"you would\",\n",
        "\"you'll\" : \"you will\",\n",
        "\"you're\" : \"you are\",\n",
        "\"you've\" : \"you have\",\n",
        "\"'re\": \" are\",\n",
        "\"wasn't\": \"was not\",\n",
        "\"we'll\":\" will\",\n",
        "\"didn't\": \"did not\",\n",
        "\"tryin'\":\"trying\"}\n",
        "\n",
        "\n",
        "def text_cleaner(x):\n",
        "    x = str(x).replace(\"\\n\",\"\")\n",
        "    for punctuation in punctuations:\n",
        "        x = x.replace(punctuation, f' {punctuation} ')\n",
        "    return x\n",
        "\n",
        "\n",
        "def numbersCleaner(x):\n",
        "    x = re.sub('[0-9]{5,}', '#####', x)\n",
        "    x = re.sub('[0-9]{4}', '####', x)\n",
        "    x = re.sub('[0-9]{3}', '###', x)\n",
        "    x = re.sub('[0-9]{2}', '##', x)\n",
        "    return x\n",
        "\n",
        "\n",
        "def contractionsHandler(x):\n",
        "    x = tokenizer.tokenize(x)\n",
        "    return x\n",
        "\n",
        "def quoteFixer(data):\n",
        "    data = [x_[1:] if x_.startswith(\"'\") else x_ for x_ in data]\n",
        "    data = ' '.join(data)\n",
        "    return data\n",
        "\n",
        "def missplelling(missplelling_dict):\n",
        "    missplelling_re = re.compile('(%s)' % '|'.join(missplelling_dict.keys()))\n",
        "    return mispell_dict, missplelling_re\n",
        "\n",
        "\n",
        "def replace_misspell(text):\n",
        "    mispellings, mispellings_re = missplelling(mispell_dict)\n",
        "\n",
        "    def replace(match):\n",
        "        return mispellings[match.group(0)]\n",
        "\n",
        "    return mispellings_re.sub(replace, text)\n",
        "\n",
        "\n",
        "def dataCleaner(df, columns: list):\n",
        "    for col in columns:\n",
        "        df[col] = df[col].apply(lambda x: numbersCleaner(x))\n",
        "        df[col] = df[col].apply(lambda x: text_cleaner(x.lower())) \n",
        "        df[col] = df[col].apply(lambda x: replace_misspell(x))\n",
        "        df[col] = df[col].apply(lambda x: contractionsHandler(x))  \n",
        "        df[col] = df[col].apply(lambda x: quoteFixer(x))   \n",
        "    \n",
        "    return df\n",
        "\n"
      ],
      "id": "alien-reply",
      "execution_count": null,
      "outputs": []
    },
    {
      "cell_type": "markdown",
      "metadata": {
        "papermill": {
          "duration": 0.264894,
          "end_time": "2021-05-01T10:20:49.105857",
          "exception": false,
          "start_time": "2021-05-01T10:20:48.840963",
          "status": "completed"
        },
        "tags": [],
        "id": "assisted-balloon"
      },
      "source": [
        "# applying text cleaning on full training dataset "
      ],
      "id": "assisted-balloon"
    },
    {
      "cell_type": "code",
      "metadata": {
        "execution": {
          "iopub.execute_input": "2021-05-01T10:20:49.654015Z",
          "iopub.status.busy": "2021-05-01T10:20:49.643392Z",
          "iopub.status.idle": "2021-05-01T10:23:00.834590Z",
          "shell.execute_reply": "2021-05-01T10:23:00.835163Z"
        },
        "papermill": {
          "duration": 131.465866,
          "end_time": "2021-05-01T10:23:00.835506",
          "exception": false,
          "start_time": "2021-05-01T10:20:49.369640",
          "status": "completed"
        },
        "tags": [],
        "id": "metropolitan-gibraltar",
        "outputId": "0157704a-7577-4cfc-e5d0-a44370c3446c"
      },
      "source": [
        "%%time\n",
        "input_columns = [\n",
        "    'comment_text'   \n",
        "]\n",
        "\n",
        "'''using text cleaning techniques like clean numbers, clean text,replace some typical misspell,handle some contractions,fix quote \n",
        "on full training data'''\n",
        "\n",
        "train = dataCleaner(train, input_columns ) \n"
      ],
      "id": "metropolitan-gibraltar",
      "execution_count": null,
      "outputs": [
        {
          "output_type": "stream",
          "text": [
            "CPU times: user 2min 9s, sys: 980 ms, total: 2min 10s\n",
            "Wall time: 2min 10s\n"
          ],
          "name": "stdout"
        }
      ]
    },
    {
      "cell_type": "markdown",
      "metadata": {
        "papermill": {
          "duration": 0.26298,
          "end_time": "2021-05-01T10:23:01.375717",
          "exception": false,
          "start_time": "2021-05-01T10:23:01.112737",
          "status": "completed"
        },
        "tags": [],
        "id": "conservative-cheat"
      },
      "source": [
        "# there are some values in label that are in float,we convert all of them down to 0/1(nearest integer) as we are treating this problem as multi class classification problem so we should fix the label issues"
      ],
      "id": "conservative-cheat"
    },
    {
      "cell_type": "code",
      "metadata": {
        "execution": {
          "iopub.execute_input": "2021-05-01T10:23:01.989842Z",
          "iopub.status.busy": "2021-05-01T10:23:01.989110Z",
          "iopub.status.idle": "2021-05-01T10:23:02.002385Z",
          "shell.execute_reply": "2021-05-01T10:23:02.003054Z"
        },
        "papermill": {
          "duration": 0.364038,
          "end_time": "2021-05-01T10:23:02.003230",
          "exception": false,
          "start_time": "2021-05-01T10:23:01.639192",
          "status": "completed"
        },
        "tags": [],
        "id": "shaped-casting"
      },
      "source": [
        "train.toxic = train.toxic.round().astype(int)\n",
        "train.severe_toxic = train.severe_toxic.round().astype(int)\n",
        "train.obscene = train.obscene.round().astype(int)\n",
        "train.threat = train.threat.round().astype(int)\n",
        "train.insult = train.insult.round().astype(int)\n",
        "train.identity_hate = train.identity_hate.round().astype(int)\n"
      ],
      "id": "shaped-casting",
      "execution_count": null,
      "outputs": []
    },
    {
      "cell_type": "markdown",
      "metadata": {
        "papermill": {
          "duration": 0.265109,
          "end_time": "2021-05-01T10:23:02.534477",
          "exception": false,
          "start_time": "2021-05-01T10:23:02.269368",
          "status": "completed"
        },
        "tags": [],
        "id": "increasing-fleece"
      },
      "source": [
        "data distribution of each class"
      ],
      "id": "increasing-fleece"
    },
    {
      "cell_type": "code",
      "metadata": {
        "execution": {
          "iopub.execute_input": "2021-05-01T10:23:03.067270Z",
          "iopub.status.busy": "2021-05-01T10:23:03.066509Z",
          "iopub.status.idle": "2021-05-01T10:23:03.112151Z",
          "shell.execute_reply": "2021-05-01T10:23:03.111532Z"
        },
        "papermill": {
          "duration": 0.311928,
          "end_time": "2021-05-01T10:23:03.112355",
          "exception": false,
          "start_time": "2021-05-01T10:23:02.800427",
          "status": "completed"
        },
        "tags": [],
        "id": "thrown-layer",
        "outputId": "a719d8b1-0a0b-4f62-b979-b6bb563176cb"
      },
      "source": [
        "train[['identity_hate']].value_counts(),train[['toxic']].value_counts(),train[['severe_toxic']].value_counts(),train[['obscene']].value_counts(),train[['threat']].value_counts(),train[['insult']].value_counts()"
      ],
      "id": "thrown-layer",
      "execution_count": null,
      "outputs": [
        {
          "output_type": "execute_result",
          "data": {
            "text/plain": [
              "(identity_hate\n",
              " 0                158166\n",
              " 1                  1405\n",
              " dtype: int64,\n",
              " toxic\n",
              " 0        144277\n",
              " 1         15294\n",
              " dtype: int64,\n",
              " severe_toxic\n",
              " 0               157976\n",
              " 1                 1595\n",
              " dtype: int64,\n",
              " obscene\n",
              " 0          151122\n",
              " 1            8449\n",
              " dtype: int64,\n",
              " threat\n",
              " 0         159093\n",
              " 1            478\n",
              " dtype: int64,\n",
              " insult\n",
              " 0         151694\n",
              " 1           7877\n",
              " dtype: int64)"
            ]
          },
          "metadata": {
            "tags": []
          },
          "execution_count": 22
        }
      ]
    },
    {
      "cell_type": "markdown",
      "metadata": {
        "papermill": {
          "duration": 0.283877,
          "end_time": "2021-05-01T10:23:03.670943",
          "exception": false,
          "start_time": "2021-05-01T10:23:03.387066",
          "status": "completed"
        },
        "tags": [],
        "id": "reserved-davis"
      },
      "source": [
        "for validation set we are going to take 60000 non toxic samples and 6000 toxic samples instead of doing simple 80-20 train test split,because that way it's easy to get a validation set which will contain small amount of toxic samples or no toxic samples at all as our dataset is highly imbalanced,so simple 80-20 split is not a good validation strategy here and we can't put enough trust on that validation strategy for this task,we must ensure that the valdiation dataset that we prepare here will contain sufficient positive ,negative samples for each and every class,hope it makes sense."
      ],
      "id": "reserved-davis"
    },
    {
      "cell_type": "code",
      "metadata": {
        "execution": {
          "iopub.execute_input": "2021-05-01T10:23:04.195883Z",
          "iopub.status.busy": "2021-05-01T10:23:04.195253Z",
          "iopub.status.idle": "2021-05-01T10:23:04.314560Z",
          "shell.execute_reply": "2021-05-01T10:23:04.314016Z"
        },
        "papermill": {
          "duration": 0.383032,
          "end_time": "2021-05-01T10:23:04.314757",
          "exception": false,
          "start_time": "2021-05-01T10:23:03.931725",
          "status": "completed"
        },
        "tags": [],
        "id": "invisible-bicycle",
        "outputId": "295c4faa-0346-4c99-9393-d74d5bd1ee6d"
      },
      "source": [
        "val =  pd.concat([\n",
        "  \n",
        "    train[['toxic', 'comment_text', 'severe_toxic', 'obscene', 'insult', 'threat', 'identity_hate']].query('toxic==0').sample(n=60000, random_state=0),\n",
        "\n",
        "    #train[['toxic', 'comment_text', 'severe_toxic', 'obscene', 'insult', 'threat', 'identity_hate']].query('severe_toxic==1').sample(n=500, random_state=0),\n",
        "    \n",
        "    train[['toxic', 'comment_text', 'severe_toxic', 'obscene', 'insult', 'threat', 'identity_hate']].query('toxic==1').sample(n=6000, random_state=0),\n",
        "\n",
        "    #train[['toxic', 'comment_text', 'severe_toxic', 'obscene', 'insult', 'threat', 'identity_hate']].query('obscene==1').sample(n=2000, random_state=0),\n",
        "\n",
        "    #train[['toxic', 'comment_text', 'severe_toxic', 'obscene', 'insult', 'threat', 'identity_hate']].query('insult==1').sample(n=2000, random_state=0),\n",
        "\n",
        "    #train[['toxic', 'comment_text', 'severe_toxic', 'obscene', 'insult', 'threat', 'identity_hate']].query('threat==1').sample(n=150, random_state=0),\n",
        "\n",
        "    #train[['toxic', 'comment_text', 'severe_toxic', 'obscene', 'insult', 'threat', 'identity_hate']].query('identity_hate==1').sample(n=500, random_state=0)\n",
        "])\n",
        "val.reset_index(inplace = True)\n",
        "len(val)"
      ],
      "id": "invisible-bicycle",
      "execution_count": null,
      "outputs": [
        {
          "output_type": "execute_result",
          "data": {
            "text/plain": [
              "66000"
            ]
          },
          "metadata": {
            "tags": []
          },
          "execution_count": 23
        }
      ]
    },
    {
      "cell_type": "code",
      "metadata": {
        "execution": {
          "iopub.execute_input": "2021-05-01T10:23:04.862762Z",
          "iopub.status.busy": "2021-05-01T10:23:04.862107Z",
          "iopub.status.idle": "2021-05-01T10:23:05.178169Z",
          "shell.execute_reply": "2021-05-01T10:23:05.178635Z"
        },
        "papermill": {
          "duration": 0.593222,
          "end_time": "2021-05-01T10:23:05.178832",
          "exception": false,
          "start_time": "2021-05-01T10:23:04.585610",
          "status": "completed"
        },
        "tags": [],
        "id": "assigned-distributor",
        "outputId": "12e6d4e9-ba57-47f6-e897-72dfdcfe2537"
      },
      "source": [
        "checkDuplicate = val[val.duplicated()]\n",
        "checkDuplicate"
      ],
      "id": "assigned-distributor",
      "execution_count": null,
      "outputs": [
        {
          "output_type": "execute_result",
          "data": {
            "text/html": [
              "<div>\n",
              "<style scoped>\n",
              "    .dataframe tbody tr th:only-of-type {\n",
              "        vertical-align: middle;\n",
              "    }\n",
              "\n",
              "    .dataframe tbody tr th {\n",
              "        vertical-align: top;\n",
              "    }\n",
              "\n",
              "    .dataframe thead th {\n",
              "        text-align: right;\n",
              "    }\n",
              "</style>\n",
              "<table border=\"1\" class=\"dataframe\">\n",
              "  <thead>\n",
              "    <tr style=\"text-align: right;\">\n",
              "      <th></th>\n",
              "      <th>index</th>\n",
              "      <th>toxic</th>\n",
              "      <th>comment_text</th>\n",
              "      <th>severe_toxic</th>\n",
              "      <th>obscene</th>\n",
              "      <th>insult</th>\n",
              "      <th>threat</th>\n",
              "      <th>identity_hate</th>\n",
              "    </tr>\n",
              "  </thead>\n",
              "  <tbody>\n",
              "  </tbody>\n",
              "</table>\n",
              "</div>"
            ],
            "text/plain": [
              "Empty DataFrame\n",
              "Columns: [index, toxic, comment_text, severe_toxic, obscene, insult, threat, identity_hate]\n",
              "Index: []"
            ]
          },
          "metadata": {
            "tags": []
          },
          "execution_count": 24
        }
      ]
    },
    {
      "cell_type": "code",
      "metadata": {
        "execution": {
          "iopub.execute_input": "2021-05-01T10:23:05.731649Z",
          "iopub.status.busy": "2021-05-01T10:23:05.730618Z",
          "iopub.status.idle": "2021-05-01T10:23:05.755352Z",
          "shell.execute_reply": "2021-05-01T10:23:05.754838Z"
        },
        "papermill": {
          "duration": 0.308009,
          "end_time": "2021-05-01T10:23:05.755501",
          "exception": false,
          "start_time": "2021-05-01T10:23:05.447492",
          "status": "completed"
        },
        "tags": [],
        "id": "digital-kazakhstan",
        "outputId": "88c308f5-98d9-4b75-d21d-0ee9c3152338"
      },
      "source": [
        "val[['identity_hate']].value_counts(),val[['toxic']].value_counts(),val[['severe_toxic']].value_counts(),val[['obscene']].value_counts(),val[['threat']].value_counts(),val[['insult']].value_counts()"
      ],
      "id": "digital-kazakhstan",
      "execution_count": null,
      "outputs": [
        {
          "output_type": "execute_result",
          "data": {
            "text/plain": [
              "(identity_hate\n",
              " 0                65427\n",
              " 1                  573\n",
              " dtype: int64,\n",
              " toxic\n",
              " 0        60000\n",
              " 1         6000\n",
              " dtype: int64,\n",
              " severe_toxic\n",
              " 0               65331\n",
              " 1                 669\n",
              " dtype: int64,\n",
              " obscene\n",
              " 0          62593\n",
              " 1           3407\n",
              " dtype: int64,\n",
              " threat\n",
              " 0         65806\n",
              " 1           194\n",
              " dtype: int64,\n",
              " insult\n",
              " 0         62855\n",
              " 1          3145\n",
              " dtype: int64)"
            ]
          },
          "metadata": {
            "tags": []
          },
          "execution_count": 25
        }
      ]
    },
    {
      "cell_type": "markdown",
      "metadata": {
        "papermill": {
          "duration": 0.272918,
          "end_time": "2021-05-01T10:23:06.303857",
          "exception": false,
          "start_time": "2021-05-01T10:23:06.030939",
          "status": "completed"
        },
        "tags": [],
        "id": "portuguese-lloyd"
      },
      "source": [
        "removing chosen validation indexes from train dataset(as they are no longer our training samples,we will use them for evaluation)"
      ],
      "id": "portuguese-lloyd"
    },
    {
      "cell_type": "code",
      "metadata": {
        "execution": {
          "iopub.execute_input": "2021-05-01T10:23:06.839084Z",
          "iopub.status.busy": "2021-05-01T10:23:06.838364Z",
          "iopub.status.idle": "2021-05-01T10:23:06.844058Z",
          "shell.execute_reply": "2021-05-01T10:23:06.844526Z"
        },
        "papermill": {
          "duration": 0.27301,
          "end_time": "2021-05-01T10:23:06.844741",
          "exception": false,
          "start_time": "2021-05-01T10:23:06.571731",
          "status": "completed"
        },
        "tags": [],
        "id": "interested-demand",
        "outputId": "67431d07-c90b-49d4-a8ad-a79de82847e7"
      },
      "source": [
        "list1 = val.index\n",
        "list1"
      ],
      "id": "interested-demand",
      "execution_count": null,
      "outputs": [
        {
          "output_type": "execute_result",
          "data": {
            "text/plain": [
              "RangeIndex(start=0, stop=66000, step=1)"
            ]
          },
          "metadata": {
            "tags": []
          },
          "execution_count": 26
        }
      ]
    },
    {
      "cell_type": "code",
      "metadata": {
        "execution": {
          "iopub.execute_input": "2021-05-01T10:23:07.388406Z",
          "iopub.status.busy": "2021-05-01T10:23:07.387772Z",
          "iopub.status.idle": "2021-05-01T10:23:07.394254Z",
          "shell.execute_reply": "2021-05-01T10:23:07.393716Z"
        },
        "papermill": {
          "duration": 0.278453,
          "end_time": "2021-05-01T10:23:07.394390",
          "exception": false,
          "start_time": "2021-05-01T10:23:07.115937",
          "status": "completed"
        },
        "tags": [],
        "id": "circular-vegetation",
        "outputId": "0f22b1c2-2a87-45f0-a716-5bb58fa6d912"
      },
      "source": [
        "len(train)"
      ],
      "id": "circular-vegetation",
      "execution_count": null,
      "outputs": [
        {
          "output_type": "execute_result",
          "data": {
            "text/plain": [
              "159571"
            ]
          },
          "metadata": {
            "tags": []
          },
          "execution_count": 27
        }
      ]
    },
    {
      "cell_type": "code",
      "metadata": {
        "execution": {
          "iopub.execute_input": "2021-05-01T10:23:07.943253Z",
          "iopub.status.busy": "2021-05-01T10:23:07.942513Z",
          "iopub.status.idle": "2021-05-01T10:23:07.959049Z",
          "shell.execute_reply": "2021-05-01T10:23:07.958537Z"
        },
        "papermill": {
          "duration": 0.29401,
          "end_time": "2021-05-01T10:23:07.959188",
          "exception": false,
          "start_time": "2021-05-01T10:23:07.665178",
          "status": "completed"
        },
        "tags": [],
        "id": "younger-chosen",
        "outputId": "a9f283b8-5323-4796-ffa5-4f92ab896101"
      },
      "source": [
        "train = train.loc[~train.index.isin(list1)]\n",
        "train.reset_index(inplace = True)\n",
        "len(train)"
      ],
      "id": "younger-chosen",
      "execution_count": null,
      "outputs": [
        {
          "output_type": "execute_result",
          "data": {
            "text/plain": [
              "93571"
            ]
          },
          "metadata": {
            "tags": []
          },
          "execution_count": 28
        }
      ]
    },
    {
      "cell_type": "markdown",
      "metadata": {
        "papermill": {
          "duration": 0.269688,
          "end_time": "2021-05-01T10:23:08.503259",
          "exception": false,
          "start_time": "2021-05-01T10:23:08.233571",
          "status": "completed"
        },
        "tags": [],
        "id": "united-crime"
      },
      "source": [
        "# After splitting train and validation dataset,let's check our dataset's present distribution now that we are going to use for model training"
      ],
      "id": "united-crime"
    },
    {
      "cell_type": "code",
      "metadata": {
        "execution": {
          "iopub.execute_input": "2021-05-01T10:23:09.082176Z",
          "iopub.status.busy": "2021-05-01T10:23:09.080612Z",
          "iopub.status.idle": "2021-05-01T10:23:09.879935Z",
          "shell.execute_reply": "2021-05-01T10:23:09.879173Z"
        },
        "papermill": {
          "duration": 1.098849,
          "end_time": "2021-05-01T10:23:09.880099",
          "exception": false,
          "start_time": "2021-05-01T10:23:08.781250",
          "status": "completed"
        },
        "tags": [],
        "id": "amateur-remains",
        "outputId": "98efd3f9-934d-4a7f-a82b-e636f7e99c58"
      },
      "source": [
        "fig , axes = plt.subplots(2,3,figsize = (10,10), constrained_layout = True)\n",
        "sns.countplot(ax=axes[0,0],x='toxic',data=train)\n",
        "sns.countplot(ax=axes[0,1],x='severe_toxic',data=train)\n",
        "sns.countplot(ax=axes[0,2],x='obscene',data=train)\n",
        "sns.countplot(ax = axes[1,0],x='threat',data=train)\n",
        "sns.countplot(ax=axes[1,1],x='insult',data=train)\n",
        "sns.countplot(ax=axes[1,2],x='identity_hate',data=train)\n",
        "plt.suptitle('training data distribution of each class')\n",
        "plt.show()"
      ],
      "id": "amateur-remains",
      "execution_count": null,
      "outputs": [
        {
          "output_type": "display_data",
          "data": {
            "image/png": "[encoded data removed]",
            "text/plain": [
              "<Figure size 720x720 with 6 Axes>"
            ]
          },
          "metadata": {
            "tags": [],
            "needs_background": "light"
          }
        }
      ]
    },
    {
      "cell_type": "code",
      "metadata": {
        "execution": {
          "iopub.execute_input": "2021-05-01T10:23:10.439650Z",
          "iopub.status.busy": "2021-05-01T10:23:10.438639Z",
          "iopub.status.idle": "2021-05-01T10:23:11.216738Z",
          "shell.execute_reply": "2021-05-01T10:23:11.215657Z"
        },
        "papermill": {
          "duration": 1.046348,
          "end_time": "2021-05-01T10:23:11.216957",
          "exception": false,
          "start_time": "2021-05-01T10:23:10.170609",
          "status": "completed"
        },
        "tags": [],
        "id": "played-minister",
        "outputId": "07f17551-2e37-48d0-d9e2-927f1441f139"
      },
      "source": [
        "fig , axes = plt.subplots(2,3,figsize = (10,10), constrained_layout = True)\n",
        "sns.countplot(ax=axes[0,0],x='toxic',data=val)\n",
        "sns.countplot(ax=axes[0,1],x='severe_toxic',data=val)\n",
        "sns.countplot(ax=axes[0,2],x='obscene',data=val)\n",
        "sns.countplot(ax = axes[1,0],x='threat',data=val)\n",
        "sns.countplot(ax=axes[1,1],x='insult',data=val)\n",
        "sns.countplot(ax=axes[1,2],x='identity_hate',data=val)\n",
        "plt.suptitle('validation data distribution of each class')\n",
        "plt.show()"
      ],
      "id": "played-minister",
      "execution_count": null,
      "outputs": [
        {
          "output_type": "display_data",
          "data": {
            "image/png": "[encoded data removed]",
            "text/plain": [
              "<Figure size 720x720 with 6 Axes>"
            ]
          },
          "metadata": {
            "tags": [],
            "needs_background": "light"
          }
        }
      ]
    },
    {
      "cell_type": "markdown",
      "metadata": {
        "papermill": {
          "duration": 0.275381,
          "end_time": "2021-05-01T10:23:11.766836",
          "exception": false,
          "start_time": "2021-05-01T10:23:11.491455",
          "status": "completed"
        },
        "tags": [],
        "id": "broke-ultimate"
      },
      "source": [
        "from above 2 graphs we can see we have enough dataset in train and validation, and in both dataset we have high imbalance samples for each class but most importantly we can see that our validation dataset's each class containing enough positive negative samples and there are no class where we don't have any toxic samples,,so validation accuracy on this dataset is reliable enough"
      ],
      "id": "broke-ultimate"
    },
    {
      "cell_type": "markdown",
      "metadata": {
        "papermill": {
          "duration": 0.265002,
          "end_time": "2021-05-01T10:23:12.298716",
          "exception": false,
          "start_time": "2021-05-01T10:23:12.033714",
          "status": "completed"
        },
        "tags": [],
        "id": "worldwide-adoption"
      },
      "source": [
        "the function below is used for applying tokenization for our selected model,,for better understanding of selected tokenization method,please [check this](https://huggingface.co/transformers/main_classes/tokenizer.html)"
      ],
      "id": "worldwide-adoption"
    },
    {
      "cell_type": "code",
      "metadata": {
        "execution": {
          "iopub.execute_input": "2021-05-01T10:23:12.843180Z",
          "iopub.status.busy": "2021-05-01T10:23:12.842508Z",
          "iopub.status.idle": "2021-05-01T10:23:12.848187Z",
          "shell.execute_reply": "2021-05-01T10:23:12.847667Z"
        },
        "papermill": {
          "duration": 0.277085,
          "end_time": "2021-05-01T10:23:12.848378",
          "exception": false,
          "start_time": "2021-05-01T10:23:12.571293",
          "status": "completed"
        },
        "tags": [],
        "id": "heated-investigator"
      },
      "source": [
        "def regular_encode(texts, tokenizer, maxlen=512):\n",
        "    enc_di = tokenizer.batch_encode_plus(\n",
        "        texts, \n",
        "        return_attention_mask=False, \n",
        "        return_token_type_ids=False,\n",
        "        pad_to_max_length=True,\n",
        "        max_length=maxlen\n",
        "    )\n",
        "    \n",
        "    return np.array(enc_di['input_ids'])"
      ],
      "id": "heated-investigator",
      "execution_count": null,
      "outputs": []
    },
    {
      "cell_type": "markdown",
      "metadata": {
        "papermill": {
          "duration": 0.266154,
          "end_time": "2021-05-01T10:23:13.386154",
          "exception": false,
          "start_time": "2021-05-01T10:23:13.120000",
          "status": "completed"
        },
        "tags": [],
        "id": "reverse-affect"
      },
      "source": [
        "# we will use focal loss as our loss function as our dataset is highly imbalanced and focal loss does well when dataset is highly imbalance"
      ],
      "id": "reverse-affect"
    },
    {
      "cell_type": "code",
      "metadata": {
        "execution": {
          "iopub.execute_input": "2021-05-01T10:23:13.925964Z",
          "iopub.status.busy": "2021-05-01T10:23:13.925303Z",
          "iopub.status.idle": "2021-05-01T10:23:13.927302Z",
          "shell.execute_reply": "2021-05-01T10:23:13.927828Z"
        },
        "papermill": {
          "duration": 0.275776,
          "end_time": "2021-05-01T10:23:13.928032",
          "exception": false,
          "start_time": "2021-05-01T10:23:13.652256",
          "status": "completed"
        },
        "tags": [],
        "id": "senior-north"
      },
      "source": [
        "\n",
        "\n",
        "def focal_loss(gamma=2., alpha=.2):\n",
        "    def focal_loss_fixed(y_true, y_pred):\n",
        "        pt_1 = tf.where(tf.equal(y_true, 1), y_pred, tf.ones_like(y_pred))\n",
        "        pt_0 = tf.where(tf.equal(y_true, 0), y_pred, tf.zeros_like(y_pred))\n",
        "        return -K.mean(alpha * K.pow(1. - pt_1, gamma) * K.log(pt_1)) - K.mean((1 - alpha) * K.pow(pt_0, gamma) * K.log(1. - pt_0))\n",
        "    return focal_loss_fixed"
      ],
      "id": "senior-north",
      "execution_count": null,
      "outputs": []
    },
    {
      "cell_type": "markdown",
      "metadata": {
        "papermill": {
          "duration": 0.267568,
          "end_time": "2021-05-01T10:23:14.461631",
          "exception": false,
          "start_time": "2021-05-01T10:23:14.194063",
          "status": "completed"
        },
        "tags": [],
        "id": "aquatic-operations"
      },
      "source": [
        "# the function below will help us load our model and as metric we will use multilable AUC"
      ],
      "id": "aquatic-operations"
    },
    {
      "cell_type": "code",
      "metadata": {
        "execution": {
          "iopub.execute_input": "2021-05-01T10:23:15.005434Z",
          "iopub.status.busy": "2021-05-01T10:23:15.004765Z",
          "iopub.status.idle": "2021-05-01T10:23:15.011377Z",
          "shell.execute_reply": "2021-05-01T10:23:15.012005Z"
        },
        "papermill": {
          "duration": 0.27847,
          "end_time": "2021-05-01T10:23:15.012174",
          "exception": false,
          "start_time": "2021-05-01T10:23:14.733704",
          "status": "completed"
        },
        "tags": [],
        "id": "empty-bradford"
      },
      "source": [
        "def build_model(transformer, loss, max_len=512):\n",
        "  \n",
        "    input_word_ids = Input(shape=(max_len,), dtype=tf.int32, name=\"input_word_ids\")\n",
        "    sequence_output = transformer(input_word_ids)[0]\n",
        "    cls_token = sequence_output[:, 0, :]\n",
        "    x = tf.keras.layers.Dropout(0.3)(cls_token)\n",
        "    out = Dense(6, activation='sigmoid')(cls_token) # we have 6 class\n",
        "    \n",
        "    model = Model(inputs=input_word_ids, outputs=out)\n",
        "    model.compile(Adam(lr=1e-5), loss=loss, metrics=[tf.keras.metrics.AUC(multi_label = True),tf.keras.metrics.Recall()])\n",
        "    \n",
        "    return model"
      ],
      "id": "empty-bradford",
      "execution_count": null,
      "outputs": []
    },
    {
      "cell_type": "markdown",
      "metadata": {
        "papermill": {
          "duration": 0.268552,
          "end_time": "2021-05-01T10:23:15.547498",
          "exception": false,
          "start_time": "2021-05-01T10:23:15.278946",
          "status": "completed"
        },
        "tags": [],
        "id": "private-authentication"
      },
      "source": [
        "encoding our train and validation dataset using regular encode class as discussed above"
      ],
      "id": "private-authentication"
    },
    {
      "cell_type": "code",
      "metadata": {
        "execution": {
          "iopub.execute_input": "2021-05-01T10:23:16.102636Z",
          "iopub.status.busy": "2021-05-01T10:23:16.101520Z",
          "iopub.status.idle": "2021-05-01T10:27:40.764321Z",
          "shell.execute_reply": "2021-05-01T10:27:40.765323Z"
        },
        "papermill": {
          "duration": 264.944564,
          "end_time": "2021-05-01T10:27:40.765664",
          "exception": false,
          "start_time": "2021-05-01T10:23:15.821100",
          "status": "completed"
        },
        "tags": [],
        "id": "worse-footwear",
        "outputId": "25d1c181-ad76-44bd-d034-0aa85e8fc0a3"
      },
      "source": [
        "%%time \n",
        "\n",
        "x_train = regular_encode(train.comment_text.values, tokenizer, maxlen=MAX_LEN)\n",
        "x_valid = regular_encode(val.comment_text.values, tokenizer, maxlen=MAX_LEN)\n",
        "\n",
        "\n",
        "y_train = np.stack([train.toxic.values, train.severe_toxic.values, train.obscene.values, train.threat.values, train.insult.values, train.identity_hate.values], axis = 1)\n",
        "\n",
        "y_valid = np.stack([val.toxic.values, val.severe_toxic.values, val.obscene.values, val.threat.values, val.insult.values, val.identity_hate.values], axis = 1)\n"
      ],
      "id": "worse-footwear",
      "execution_count": null,
      "outputs": [
        {
          "output_type": "stream",
          "text": [
            "Truncation was not explicitly activated but `max_length` is provided a specific value, please use `truncation=True` to explicitly truncate examples to max length. Defaulting to 'longest_first' truncation strategy. If you encode pairs of sequences (GLUE-style) with the tokenizer you can select this strategy more precisely by providing a specific strategy to `truncation`.\n",
            "/opt/conda/lib/python3.7/site-packages/transformers/tokenization_utils_base.py:2022: FutureWarning: The `pad_to_max_length` argument is deprecated and will be removed in a future version, use `padding=True` or `padding='longest'` to pad to the longest sequence in the batch, or use `padding='max_length'` to pad to a max length. In this case, you can give a specific length with `max_length` (e.g. `max_length=45`) or leave max_length to None to pad to the maximal input size of the model (e.g. 512 for Bert).\n",
            "  FutureWarning,\n"
          ],
          "name": "stderr"
        },
        {
          "output_type": "stream",
          "text": [
            "CPU times: user 4min 23s, sys: 1.45 s, total: 4min 24s\n",
            "Wall time: 4min 24s\n"
          ],
          "name": "stdout"
        }
      ]
    },
    {
      "cell_type": "code",
      "metadata": {
        "execution": {
          "iopub.execute_input": "2021-05-01T10:27:41.309456Z",
          "iopub.status.busy": "2021-05-01T10:27:41.308413Z",
          "iopub.status.idle": "2021-05-01T10:27:41.312746Z",
          "shell.execute_reply": "2021-05-01T10:27:41.313411Z"
        },
        "papermill": {
          "duration": 0.27815,
          "end_time": "2021-05-01T10:27:41.313588",
          "exception": false,
          "start_time": "2021-05-01T10:27:41.035438",
          "status": "completed"
        },
        "tags": [],
        "id": "fantastic-basement",
        "outputId": "5ca16f5a-505f-49e9-ffee-54f8860fa4ea"
      },
      "source": [
        "y_train.shape"
      ],
      "id": "fantastic-basement",
      "execution_count": null,
      "outputs": [
        {
          "output_type": "execute_result",
          "data": {
            "text/plain": [
              "(93571, 6)"
            ]
          },
          "metadata": {
            "tags": []
          },
          "execution_count": 35
        }
      ]
    },
    {
      "cell_type": "markdown",
      "metadata": {
        "papermill": {
          "duration": 0.267489,
          "end_time": "2021-05-01T10:27:41.849506",
          "exception": false,
          "start_time": "2021-05-01T10:27:41.582017",
          "status": "completed"
        },
        "tags": [],
        "id": "retained-weather"
      },
      "source": [
        "after encoding we will pass the encoded data to tf.data api for preparing our final training and validation dataset which we will be able to use in our model finally"
      ],
      "id": "retained-weather"
    },
    {
      "cell_type": "code",
      "metadata": {
        "execution": {
          "iopub.execute_input": "2021-05-01T10:27:43.512460Z",
          "iopub.status.busy": "2021-05-01T10:27:43.510207Z",
          "iopub.status.idle": "2021-05-01T10:27:45.215846Z",
          "shell.execute_reply": "2021-05-01T10:27:45.216675Z"
        },
        "papermill": {
          "duration": 3.100818,
          "end_time": "2021-05-01T10:27:45.216875",
          "exception": false,
          "start_time": "2021-05-01T10:27:42.116057",
          "status": "completed"
        },
        "tags": [],
        "id": "amber-remark"
      },
      "source": [
        "\n",
        "train_dataset = (\n",
        "    tf.data.Dataset\n",
        "    .from_tensor_slices((x_train, y_train))\n",
        "    .repeat()\n",
        "    .shuffle(2048)\n",
        "    .batch(BATCH_SIZE)\n",
        "    .prefetch(AUTO)\n",
        ")\n",
        "\n",
        "\n",
        "\n",
        "valid_dataset = (\n",
        "    tf.data.Dataset\n",
        "    .from_tensor_slices((x_valid, y_valid))\n",
        "    .batch(BATCH_SIZE)\n",
        "    .cache()\n",
        "    .prefetch(AUTO)\n",
        ")\n"
      ],
      "id": "amber-remark",
      "execution_count": null,
      "outputs": []
    },
    {
      "cell_type": "markdown",
      "metadata": {
        "papermill": {
          "duration": 0.265598,
          "end_time": "2021-05-01T10:27:45.748430",
          "exception": false,
          "start_time": "2021-05-01T10:27:45.482832",
          "status": "completed"
        },
        "tags": [],
        "id": "subjective-setup"
      },
      "source": [
        "# load the pretrained model that we are going to use for finetuning"
      ],
      "id": "subjective-setup"
    },
    {
      "cell_type": "code",
      "metadata": {
        "execution": {
          "iopub.execute_input": "2021-05-01T10:27:46.288512Z",
          "iopub.status.busy": "2021-05-01T10:27:46.287549Z",
          "iopub.status.idle": "2021-05-01T10:28:26.540256Z",
          "shell.execute_reply": "2021-05-01T10:28:26.539695Z"
        },
        "papermill": {
          "duration": 40.523497,
          "end_time": "2021-05-01T10:28:26.540416",
          "exception": false,
          "start_time": "2021-05-01T10:27:46.016919",
          "status": "completed"
        },
        "tags": [],
        "id": "forbidden-support",
        "outputId": "7e0670e6-8779-4d1c-be0c-ab353cdac58c"
      },
      "source": [
        "%%time\n",
        "with strategy.scope():\n",
        "    transformer_layer = TFAutoModel.from_pretrained(MODEL)\n",
        "    model = build_model(transformer_layer,loss = focal_loss(), max_len=MAX_LEN)\n",
        "model.summary()"
      ],
      "id": "forbidden-support",
      "execution_count": null,
      "outputs": [
        {
          "output_type": "display_data",
          "data": {
            "application/vnd.jupyter.widget-view+json": {
              "model_id": "ae4d6a2f5f7e490996b95ee57c8cb9a1",
              "version_major": 2,
              "version_minor": 0
            },
            "text/plain": [
              "Downloading:   0%|          | 0.00/657M [00:00<?, ?B/s]"
            ]
          },
          "metadata": {
            "tags": []
          }
        },
        {
          "output_type": "stream",
          "text": [
            "Some layers from the model checkpoint at roberta-base were not used when initializing TFRobertaModel: ['lm_head']\n",
            "- This IS expected if you are initializing TFRobertaModel from the checkpoint of a model trained on another task or with another architecture (e.g. initializing a BertForSequenceClassification model from a BertForPreTraining model).\n",
            "- This IS NOT expected if you are initializing TFRobertaModel from the checkpoint of a model that you expect to be exactly identical (initializing a BertForSequenceClassification model from a BertForSequenceClassification model).\n",
            "All the layers of TFRobertaModel were initialized from the model checkpoint at roberta-base.\n",
            "If your task is similar to the task the model of the checkpoint was trained on, you can already use TFRobertaModel for predictions without further training.\n"
          ],
          "name": "stderr"
        },
        {
          "output_type": "stream",
          "text": [
            "Model: \"model\"\n",
            "_________________________________________________________________\n",
            "Layer (type)                 Output Shape              Param #   \n",
            "=================================================================\n",
            "input_word_ids (InputLayer)  [(None, 512)]             0         \n",
            "_________________________________________________________________\n",
            "tf_roberta_model (TFRobertaM ((None, 512, 768), (None, 124645632 \n",
            "_________________________________________________________________\n",
            "tf_op_layer_strided_slice (T [(None, 768)]             0         \n",
            "_________________________________________________________________\n",
            "dense (Dense)                (None, 6)                 4614      \n",
            "=================================================================\n",
            "Total params: 124,650,246\n",
            "Trainable params: 124,650,246\n",
            "Non-trainable params: 0\n",
            "_________________________________________________________________\n",
            "CPU times: user 29.5 s, sys: 8.05 s, total: 37.6 s\n",
            "Wall time: 40.2 s\n"
          ],
          "name": "stdout"
        }
      ]
    },
    {
      "cell_type": "markdown",
      "metadata": {
        "papermill": {
          "duration": 0.265351,
          "end_time": "2021-05-01T10:28:27.079043",
          "exception": false,
          "start_time": "2021-05-01T10:28:26.813692",
          "status": "completed"
        },
        "tags": [],
        "id": "spread-rebel"
      },
      "source": [
        "# check our model summary as a picture/image"
      ],
      "id": "spread-rebel"
    },
    {
      "cell_type": "code",
      "metadata": {
        "execution": {
          "iopub.execute_input": "2021-05-01T10:28:27.619409Z",
          "iopub.status.busy": "2021-05-01T10:28:27.618710Z",
          "iopub.status.idle": "2021-05-01T10:28:28.095159Z",
          "shell.execute_reply": "2021-05-01T10:28:28.094611Z"
        },
        "papermill": {
          "duration": 0.747461,
          "end_time": "2021-05-01T10:28:28.095351",
          "exception": false,
          "start_time": "2021-05-01T10:28:27.347890",
          "status": "completed"
        },
        "tags": [],
        "id": "subject-realtor",
        "outputId": "13b50b73-470b-4285-b34d-d5993b0ca187"
      },
      "source": [
        "\n",
        "SVG(tf.keras.utils.model_to_dot(model, dpi=70).create(prog='dot', format='svg'))"
      ],
      "id": "subject-realtor",
      "execution_count": null,
      "outputs": [
        {
          "output_type": "execute_result",
          "data": {
            "image/svg+xml": "<svg height=\"257pt\" viewBox=\"0.00 0.00 350.00 264.00\" width=\"340pt\" xmlns=\"http://www.w3.org/2000/svg\" xmlns:xlink=\"http://www.w3.org/1999/xlink\">\n<g class=\"graph\" id=\"graph0\" transform=\"scale(0.97 0.97) rotate(0) translate(4 260)\">\n<title>G</title>\n<polygon fill=\"white\" points=\"-4,4 -4,-260 346,-260 346,4 -4,4\" stroke=\"transparent\"/>\n<!-- 139712292394512 -->\n<g class=\"node\" id=\"node1\">\n<title>139712292394512</title>\n<polygon fill=\"none\" points=\"66,-219.5 66,-255.5 276,-255.5 276,-219.5 66,-219.5\" stroke=\"black\"/>\n<text font-family=\"Times-Roman\" font-size=\"14.00\" text-anchor=\"middle\" x=\"171\" y=\"-233.8\">input_word_ids: InputLayer</text>\n</g>\n<!-- 139712291581136 -->\n<g class=\"node\" id=\"node2\">\n<title>139712291581136</title>\n<polygon fill=\"none\" points=\"38,-146.5 38,-182.5 304,-182.5 304,-146.5 38,-146.5\" stroke=\"black\"/>\n<text font-family=\"Times-Roman\" font-size=\"14.00\" text-anchor=\"middle\" x=\"171\" y=\"-160.8\">tf_roberta_model: TFRobertaModel</text>\n</g>\n<!-- 139712292394512&#45;&gt;139712291581136 -->\n<g class=\"edge\" id=\"edge1\">\n<title>139712292394512-&gt;139712291581136</title>\n<path d=\"M171,-219.31C171,-211.29 171,-201.55 171,-192.57\" fill=\"none\" stroke=\"black\"/>\n<polygon fill=\"black\" points=\"174.5,-192.53 171,-182.53 167.5,-192.53 174.5,-192.53\" stroke=\"black\"/>\n</g>\n<!-- 139712295930704 -->\n<g class=\"node\" id=\"node3\">\n<title>139712295930704</title>\n<polygon fill=\"none\" points=\"0,-73.5 0,-109.5 342,-109.5 342,-73.5 0,-73.5\" stroke=\"black\"/>\n<text font-family=\"Times-Roman\" font-size=\"14.00\" text-anchor=\"middle\" x=\"171\" y=\"-87.8\">tf_op_layer_strided_slice: TensorFlowOpLayer</text>\n</g>\n<!-- 139712291581136&#45;&gt;139712295930704 -->\n<g class=\"edge\" id=\"edge2\">\n<title>139712291581136-&gt;139712295930704</title>\n<path d=\"M171,-146.31C171,-138.29 171,-128.55 171,-119.57\" fill=\"none\" stroke=\"black\"/>\n<polygon fill=\"black\" points=\"174.5,-119.53 171,-109.53 167.5,-119.53 174.5,-119.53\" stroke=\"black\"/>\n</g>\n<!-- 139712294527696 -->\n<g class=\"node\" id=\"node4\">\n<title>139712294527696</title>\n<polygon fill=\"none\" points=\"113.5,-0.5 113.5,-36.5 228.5,-36.5 228.5,-0.5 113.5,-0.5\" stroke=\"black\"/>\n<text font-family=\"Times-Roman\" font-size=\"14.00\" text-anchor=\"middle\" x=\"171\" y=\"-14.8\">dense: Dense</text>\n</g>\n<!-- 139712295930704&#45;&gt;139712294527696 -->\n<g class=\"edge\" id=\"edge3\">\n<title>139712295930704-&gt;139712294527696</title>\n<path d=\"M171,-73.31C171,-65.29 171,-55.55 171,-46.57\" fill=\"none\" stroke=\"black\"/>\n<polygon fill=\"black\" points=\"174.5,-46.53 171,-36.53 167.5,-46.53 174.5,-46.53\" stroke=\"black\"/>\n</g>\n</g>\n</svg>",
            "text/plain": [
              "<IPython.core.display.SVG object>"
            ]
          },
          "metadata": {
            "tags": []
          },
          "execution_count": 38
        }
      ]
    },
    {
      "cell_type": "markdown",
      "metadata": {
        "papermill": {
          "duration": 0.286874,
          "end_time": "2021-05-01T10:28:28.648327",
          "exception": false,
          "start_time": "2021-05-01T10:28:28.361453",
          "status": "completed"
        },
        "tags": [],
        "id": "monthly-rehabilitation"
      },
      "source": [
        "for callback we use early stopping with patience = 2, means when validation accuracy will not improve after 2 consecutive epoch,training will stop and we also try to save the best model based on best validation accuracy"
      ],
      "id": "monthly-rehabilitation"
    },
    {
      "cell_type": "code",
      "metadata": {
        "execution": {
          "iopub.execute_input": "2021-05-01T10:28:29.200634Z",
          "iopub.status.busy": "2021-05-01T10:28:29.200041Z",
          "iopub.status.idle": "2021-05-01T10:28:29.202186Z",
          "shell.execute_reply": "2021-05-01T10:28:29.202790Z"
        },
        "papermill": {
          "duration": 0.278963,
          "end_time": "2021-05-01T10:28:29.202969",
          "exception": false,
          "start_time": "2021-05-01T10:28:28.924006",
          "status": "completed"
        },
        "tags": [],
        "id": "designing-lafayette"
      },
      "source": [
        "\n",
        "model_path = 'roberta_base.h5'\n",
        "\n",
        "#checkpoint = ModelCheckpoint(filepath=model_path,save_weights_only=True, monitor='val_accuracy', mode='max', save_best_only=True)\n",
        "\n",
        "# Verbosity\n",
        "VERBOSE = 2\n",
        "\n",
        "checkpoint = tf.keras.callbacks.ModelCheckpoint(model_path, monitor = 'val_auc', verbose = VERBOSE, save_best_only = True,save_weights_only = True, mode = 'max')\n",
        "\n",
        "es = EarlyStopping(monitor='val_accuracy', mode='max', patience=2, \n",
        "                   restore_best_weights=True, verbose=1)\n",
        "\n",
        "callback_list = [checkpoint,  es]"
      ],
      "id": "designing-lafayette",
      "execution_count": null,
      "outputs": []
    },
    {
      "cell_type": "markdown",
      "metadata": {
        "papermill": {
          "duration": 0.265296,
          "end_time": "2021-05-01T10:28:29.732719",
          "exception": false,
          "start_time": "2021-05-01T10:28:29.467423",
          "status": "completed"
        },
        "tags": [],
        "id": "intimate-devil"
      },
      "source": [
        "# model 1 : train roberta base for 10 epochs"
      ],
      "id": "intimate-devil"
    },
    {
      "cell_type": "code",
      "metadata": {
        "execution": {
          "iopub.execute_input": "2021-05-01T10:28:30.274038Z",
          "iopub.status.busy": "2021-05-01T10:28:30.272975Z",
          "iopub.status.idle": "2021-05-01T11:19:55.904344Z",
          "shell.execute_reply": "2021-05-01T11:19:55.905156Z"
        },
        "papermill": {
          "duration": 3085.906902,
          "end_time": "2021-05-01T11:19:55.905470",
          "exception": false,
          "start_time": "2021-05-01T10:28:29.998568",
          "status": "completed"
        },
        "tags": [],
        "id": "married-management",
        "outputId": "c5f4e9e2-f02d-4e9d-908b-c640c7d7094d"
      },
      "source": [
        "%%time\n",
        "\n",
        "n_steps = x_train.shape[0] // BATCH_SIZE\n",
        "train_history = model.fit(\n",
        "    train_dataset,\n",
        "    steps_per_epoch=n_steps,\n",
        "    validation_data=valid_dataset,\n",
        "    callbacks=callback_list,\n",
        "    epochs=EPOCHS\n",
        ")"
      ],
      "id": "married-management",
      "execution_count": null,
      "outputs": [
        {
          "output_type": "stream",
          "text": [
            "Epoch 1/10\n",
            "487/487 [==============================] - ETA: 0s - loss: 0.0111 - auc: 0.7730 - recall: 0.1121\n",
            "Epoch 00001: val_auc improved from -inf to 0.93930, saving model to roberta_base.h5\n",
            "487/487 [==============================] - 340s 698ms/step - loss: 0.0111 - auc: 0.7730 - recall: 0.1121 - val_loss: 0.0065 - val_auc: 0.9393 - val_recall: 0.4219\n",
            "Epoch 2/10\n",
            "487/487 [==============================] - ETA: 0s - loss: 0.0060 - auc: 0.9358 - recall: 0.3351\n",
            "Epoch 00002: val_auc improved from 0.93930 to 0.96358, saving model to roberta_base.h5\n",
            "487/487 [==============================] - 297s 609ms/step - loss: 0.0060 - auc: 0.9358 - recall: 0.3351 - val_loss: 0.0058 - val_auc: 0.9636 - val_recall: 0.5632\n",
            "Epoch 3/10\n",
            "487/487 [==============================] - ETA: 0s - loss: 0.0053 - auc: 0.9552 - recall: 0.3896\n",
            "Epoch 00003: val_auc improved from 0.96358 to 0.97199, saving model to roberta_base.h5\n",
            "487/487 [==============================] - 293s 601ms/step - loss: 0.0053 - auc: 0.9552 - recall: 0.3896 - val_loss: 0.0054 - val_auc: 0.9720 - val_recall: 0.5927\n",
            "Epoch 4/10\n",
            "487/487 [==============================] - ETA: 0s - loss: 0.0049 - auc: 0.9648 - recall: 0.4213\n",
            "Epoch 00004: val_auc improved from 0.97199 to 0.97483, saving model to roberta_base.h5\n",
            "487/487 [==============================] - 292s 600ms/step - loss: 0.0049 - auc: 0.9648 - recall: 0.4213 - val_loss: 0.0054 - val_auc: 0.9748 - val_recall: 0.6343\n",
            "Epoch 5/10\n",
            "487/487 [==============================] - ETA: 0s - loss: 0.0047 - auc: 0.9712 - recall: 0.4385\n",
            "Epoch 00005: val_auc improved from 0.97483 to 0.97865, saving model to roberta_base.h5\n",
            "487/487 [==============================] - 293s 602ms/step - loss: 0.0047 - auc: 0.9712 - recall: 0.4385 - val_loss: 0.0055 - val_auc: 0.9787 - val_recall: 0.6397\n",
            "Epoch 6/10\n",
            "487/487 [==============================] - ETA: 0s - loss: 0.0044 - auc: 0.9767 - recall: 0.4647\n",
            "Epoch 00006: val_auc improved from 0.97865 to 0.98146, saving model to roberta_base.h5\n",
            "487/487 [==============================] - 294s 603ms/step - loss: 0.0044 - auc: 0.9767 - recall: 0.4647 - val_loss: 0.0042 - val_auc: 0.9815 - val_recall: 0.5708\n",
            "Epoch 7/10\n",
            "487/487 [==============================] - ETA: 0s - loss: 0.0042 - auc: 0.9775 - recall: 0.4781\n",
            "Epoch 00007: val_auc improved from 0.98146 to 0.98362, saving model to roberta_base.h5\n",
            "487/487 [==============================] - 295s 605ms/step - loss: 0.0042 - auc: 0.9775 - recall: 0.4781 - val_loss: 0.0042 - val_auc: 0.9836 - val_recall: 0.6489\n",
            "Epoch 8/10\n",
            "487/487 [==============================] - ETA: 0s - loss: 0.0040 - auc: 0.9821 - recall: 0.4898\n",
            "Epoch 00008: val_auc improved from 0.98362 to 0.98513, saving model to roberta_base.h5\n",
            "487/487 [==============================] - 294s 604ms/step - loss: 0.0040 - auc: 0.9821 - recall: 0.4898 - val_loss: 0.0040 - val_auc: 0.9851 - val_recall: 0.6115\n",
            "Epoch 9/10\n",
            "487/487 [==============================] - ETA: 0s - loss: 0.0038 - auc: 0.9838 - recall: 0.5108\n",
            "Epoch 00009: val_auc improved from 0.98513 to 0.98552, saving model to roberta_base.h5\n",
            "487/487 [==============================] - 295s 606ms/step - loss: 0.0038 - auc: 0.9838 - recall: 0.5108 - val_loss: 0.0036 - val_auc: 0.9855 - val_recall: 0.5548\n",
            "Epoch 10/10\n",
            "487/487 [==============================] - ETA: 0s - loss: 0.0037 - auc: 0.9864 - recall: 0.5216\n",
            "Epoch 00010: val_auc improved from 0.98552 to 0.98686, saving model to roberta_base.h5\n",
            "487/487 [==============================] - 295s 605ms/step - loss: 0.0037 - auc: 0.9864 - recall: 0.5216 - val_loss: 0.0040 - val_auc: 0.9869 - val_recall: 0.6651\n",
            "CPU times: user 3min 13s, sys: 29.2 s, total: 3min 42s\n",
            "Wall time: 51min 25s\n"
          ],
          "name": "stdout"
        }
      ]
    },
    {
      "cell_type": "code",
      "metadata": {
        "execution": {
          "iopub.execute_input": "2021-05-01T11:19:59.500209Z",
          "iopub.status.busy": "2021-05-01T11:19:59.498701Z",
          "iopub.status.idle": "2021-05-01T11:20:02.230033Z",
          "shell.execute_reply": "2021-05-01T11:20:02.228895Z"
        },
        "papermill": {
          "duration": 4.524644,
          "end_time": "2021-05-01T11:20:02.230207",
          "exception": false,
          "start_time": "2021-05-01T11:19:57.705563",
          "status": "completed"
        },
        "tags": [],
        "id": "found-lotus"
      },
      "source": [
        "model.save_weights('model_checkpoint_0.h5')"
      ],
      "id": "found-lotus",
      "execution_count": null,
      "outputs": []
    },
    {
      "cell_type": "markdown",
      "metadata": {
        "papermill": {
          "duration": 1.770219,
          "end_time": "2021-05-01T11:20:05.816767",
          "exception": false,
          "start_time": "2021-05-01T11:20:04.046548",
          "status": "completed"
        },
        "tags": [],
        "id": "parallel-witness"
      },
      "source": [
        "# confusion matrix"
      ],
      "id": "parallel-witness"
    },
    {
      "cell_type": "code",
      "metadata": {
        "execution": {
          "iopub.execute_input": "2021-05-01T11:20:09.356903Z",
          "iopub.status.busy": "2021-05-01T11:20:09.356122Z",
          "iopub.status.idle": "2021-05-01T11:21:50.119807Z",
          "shell.execute_reply": "2021-05-01T11:21:50.116233Z"
        },
        "papermill": {
          "duration": 102.536191,
          "end_time": "2021-05-01T11:21:50.119988",
          "exception": false,
          "start_time": "2021-05-01T11:20:07.583797",
          "status": "completed"
        },
        "tags": [],
        "id": "computational-covering",
        "outputId": "8078abd9-22c7-4503-a8e2-8441cc66a0a6"
      },
      "source": [
        "from sklearn.metrics import confusion_matrix,  multilabel_confusion_matrix\n",
        "from sklearn.preprocessing import MultiLabelBinarizer\n",
        "\n",
        "classes_ = ['toxic', 'severe_toxic', 'obscene', 'threat', 'insult', 'identity_hate']\n",
        "\n",
        "\n",
        "\n",
        "preds = model.predict(valid_dataset, verbose = 1)\n",
        "preds = np.where(preds < 0.5, 0, 1)\n",
        "\n",
        "# Creating multilabel confusion matrix\n",
        "confusion = multilabel_confusion_matrix(y_valid, preds)\n",
        "\n",
        "# Plot confusion matrix \n",
        "fig = plt.figure(figsize = (14, 8))\n",
        "for i, (label, matrix) in enumerate(zip(classes_, confusion)):\n",
        "    plt.subplot(f'23{i+1}')\n",
        "    labels = [f'not_{label}', label]\n",
        "    sns.heatmap(matrix, annot = True, square = True, fmt = 'd', cbar = False, cmap = 'rainbow', \n",
        "                xticklabels = labels, yticklabels = labels, linecolor = 'black', linewidth = 1)\n",
        "    plt.title(labels[0])\n",
        "\n",
        "plt.tight_layout()\n",
        "plt.show()"
      ],
      "id": "computational-covering",
      "execution_count": null,
      "outputs": [
        {
          "output_type": "stream",
          "text": [
            "344/344 [==============================] - 74s 214ms/step\n"
          ],
          "name": "stdout"
        },
        {
          "output_type": "stream",
          "text": [
            "/opt/conda/lib/python3.7/site-packages/ipykernel_launcher.py:17: MatplotlibDeprecationWarning: Passing non-integers as three-element position specification is deprecated since 3.3 and will be removed two minor releases later.\n"
          ],
          "name": "stderr"
        },
        {
          "output_type": "display_data",
          "data": {
            "image/png": "[encoded data removed]",
            "text/plain": [
              "<Figure size 1008x576 with 6 Axes>"
            ]
          },
          "metadata": {
            "tags": [],
            "needs_background": "light"
          }
        }
      ]
    },
    {
      "cell_type": "code",
      "metadata": {
        "execution": {
          "iopub.execute_input": "2021-05-01T11:21:53.978500Z",
          "iopub.status.busy": "2021-05-01T11:21:53.977769Z",
          "iopub.status.idle": "2021-05-01T11:21:54.080433Z",
          "shell.execute_reply": "2021-05-01T11:21:54.080937Z"
        },
        "papermill": {
          "duration": 2.08492,
          "end_time": "2021-05-01T11:21:54.081134",
          "exception": false,
          "start_time": "2021-05-01T11:21:51.996214",
          "status": "completed"
        },
        "tags": [],
        "id": "upset-helmet",
        "outputId": "2eebba49-fa37-4d65-cd0f-fe0597c7de4a"
      },
      "source": [
        "from sklearn import metrics\n",
        "# Faced similar issue : https://stackoverflow.com/questions/61899676/tensorflow-model-evaluate-and-model-predict-very-different-results\n",
        "\n",
        "#accuracy = metrics.accuracy_score(y_valid, preds)\n",
        "f1_score_micro = metrics.f1_score(y_valid, preds, average='micro')\n",
        "f1_score_macro = metrics.f1_score(y_valid, preds, average='macro')\n",
        "#print(f\"Accuracy Score = {accuracy}\")\n",
        "print(f\"F1 Score (Micro) = {f1_score_micro}\")\n",
        "print(f\"F1 Score (Macro) = {f1_score_macro}\")\n",
        "\n",
        "    "
      ],
      "id": "upset-helmet",
      "execution_count": null,
      "outputs": [
        {
          "output_type": "stream",
          "text": [
            "F1 Score (Micro) = 0.7544599416153098\n",
            "F1 Score (Macro) = 0.4725512388585848\n"
          ],
          "name": "stdout"
        }
      ]
    },
    {
      "cell_type": "markdown",
      "metadata": {
        "papermill": {
          "duration": 1.895609,
          "end_time": "2021-05-01T11:21:57.899602",
          "exception": false,
          "start_time": "2021-05-01T11:21:56.003993",
          "status": "completed"
        },
        "tags": [],
        "id": "reduced-macro"
      },
      "source": [
        "we can see we have got validation accuracy over 98% but validation recall 0.61 after 10 epoch and seems like more trianing could yield better result and this recall score along with high validation accuracy telling us that our overall model performance is average,however hopefully we could achieve much better f1 score and recall if we had more toxic samples in validation and little bit less non toxic samples in validation phase as it is dominating over small toxic samples a lot,or maybe with focal loss parameter tuning we could get overall better recall and f1 score"
      ],
      "id": "reduced-macro"
    },
    {
      "cell_type": "code",
      "metadata": {
        "papermill": {
          "duration": 1.939991,
          "end_time": "2021-05-01T11:22:01.768842",
          "exception": false,
          "start_time": "2021-05-01T11:21:59.828851",
          "status": "completed"
        },
        "tags": [],
        "id": "opposite-grace"
      },
      "source": [
        ""
      ],
      "id": "opposite-grace",
      "execution_count": null,
      "outputs": []
    }
  ]
}