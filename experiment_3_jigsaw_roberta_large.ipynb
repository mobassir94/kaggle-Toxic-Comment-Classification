{
  "nbformat": 4,
  "nbformat_minor": 5,
  "metadata": {
    "kernelspec": {
      "display_name": "Python 3",
      "language": "python",
      "name": "python3"
    },
    "language_info": {
      "codemirror_mode": {
        "name": "ipython",
        "version": 3
      },
      "file_extension": ".py",
      "mimetype": "text/x-python",
      "name": "python",
      "nbconvert_exporter": "python",
      "pygments_lexer": "ipython3",
      "version": "3.7.10"
    },
    "papermill": {
      "default_parameters": {},
      "duration": 3809.891849,
      "end_time": "2021-05-01T12:40:12.046868",
      "environment_variables": {},
      "exception": null,
      "input_path": "__notebook__.ipynb",
      "output_path": "__notebook__.ipynb",
      "parameters": {},
      "start_time": "2021-05-01T11:36:42.155019",
      "version": "2.3.3"
    },
    "widgets": {
      "application/vnd.jupyter.widget-state+json": {}
    },
    "colab": {
      "name": "experiment 3 : jigsaw-roberta-large.ipynb",
      "provenance": []
    }
  },
  "cells": [
    {
      "cell_type": "markdown",
      "metadata": {
        "_cell_guid": "b1076dfc-b9ad-4769-8c92-a6c4dae69d19",
        "_uuid": "8f2839f25d086af736a60e9eeb907d3b93b6e0e5",
        "papermill": {
          "duration": 0.042803,
          "end_time": "2021-05-01T11:36:50.462142",
          "exception": false,
          "start_time": "2021-05-01T11:36:50.419339",
          "status": "completed"
        },
        "tags": [],
        "id": "modular-wallpaper"
      },
      "source": [
        "in this notebook we will use tensorflow tpu v3.8 of kaggle for faster experiment,kaggle tpu is very fast and has more vram which lets us do very fancy experiments with ease,we will use it with immensely popular  python library called huggingface, which provides many pretrained models both in pytorch and tensorflow which is extraordinarily useful for various NLP tasks."
      ],
      "id": "modular-wallpaper"
    },
    {
      "cell_type": "code",
      "metadata": {
        "execution": {
          "iopub.execute_input": "2021-05-01T11:36:50.572958Z",
          "iopub.status.busy": "2021-05-01T11:36:50.561408Z",
          "iopub.status.idle": "2021-05-01T11:38:36.543740Z",
          "shell.execute_reply": "2021-05-01T11:38:36.542889Z"
        },
        "papermill": {
          "duration": 106.039723,
          "end_time": "2021-05-01T11:38:36.543953",
          "exception": false,
          "start_time": "2021-05-01T11:36:50.504230",
          "status": "completed"
        },
        "tags": [],
        "id": "defensive-history",
        "outputId": "7c782c00-b779-4783-8f26-ec72aec19d41"
      },
      "source": [
        "!pip install cloud-tpu-client\n",
        "!pip install tensorflow==2.2.0 \n",
        "\n",
        "#!pip install tensorflow~=2.2.0 tensorflow_gcs_config~=2.2.0\n",
        "!pip install transformers==3.5.1\n",
        "!pip install tensorflow-addons==0.10.0"
      ],
      "id": "defensive-history",
      "execution_count": null,
      "outputs": [
        {
          "output_type": "stream",
          "text": [
            "Requirement already satisfied: cloud-tpu-client in /opt/conda/lib/python3.7/site-packages (0.10)\r\n",
            "Requirement already satisfied: google-api-python-client==1.8.0 in /opt/conda/lib/python3.7/site-packages (from cloud-tpu-client) (1.8.0)\r\n",
            "Requirement already satisfied: oauth2client in /opt/conda/lib/python3.7/site-packages (from cloud-tpu-client) (4.1.3)\r\n",
            "Requirement already satisfied: uritemplate<4dev,>=3.0.0 in /opt/conda/lib/python3.7/site-packages (from google-api-python-client==1.8.0->cloud-tpu-client) (3.0.1)\r\n",
            "Requirement already satisfied: google-auth-httplib2>=0.0.3 in /opt/conda/lib/python3.7/site-packages (from google-api-python-client==1.8.0->cloud-tpu-client) (0.0.4)\r\n",
            "Requirement already satisfied: google-auth>=1.4.1 in /opt/conda/lib/python3.7/site-packages (from google-api-python-client==1.8.0->cloud-tpu-client) (1.26.1)\r\n",
            "Requirement already satisfied: six<2dev,>=1.6.1 in /opt/conda/lib/python3.7/site-packages (from google-api-python-client==1.8.0->cloud-tpu-client) (1.15.0)\r\n",
            "Requirement already satisfied: google-api-core<2dev,>=1.13.0 in /opt/conda/lib/python3.7/site-packages (from google-api-python-client==1.8.0->cloud-tpu-client) (1.26.2)\r\n",
            "Requirement already satisfied: httplib2<1dev,>=0.9.2 in /opt/conda/lib/python3.7/site-packages (from google-api-python-client==1.8.0->cloud-tpu-client) (0.19.0)\r\n",
            "Requirement already satisfied: protobuf>=3.12.0 in /opt/conda/lib/python3.7/site-packages (from google-api-core<2dev,>=1.13.0->google-api-python-client==1.8.0->cloud-tpu-client) (3.15.8)\r\n",
            "Requirement already satisfied: pytz in /opt/conda/lib/python3.7/site-packages (from google-api-core<2dev,>=1.13.0->google-api-python-client==1.8.0->cloud-tpu-client) (2021.1)\r\n",
            "Requirement already satisfied: googleapis-common-protos<2.0dev,>=1.6.0 in /opt/conda/lib/python3.7/site-packages (from google-api-core<2dev,>=1.13.0->google-api-python-client==1.8.0->cloud-tpu-client) (1.53.0)\r\n",
            "Requirement already satisfied: requests<3.0.0dev,>=2.18.0 in /opt/conda/lib/python3.7/site-packages (from google-api-core<2dev,>=1.13.0->google-api-python-client==1.8.0->cloud-tpu-client) (2.25.1)\r\n",
            "Requirement already satisfied: setuptools>=40.3.0 in /opt/conda/lib/python3.7/site-packages (from google-api-core<2dev,>=1.13.0->google-api-python-client==1.8.0->cloud-tpu-client) (49.6.0.post20210108)\r\n",
            "Requirement already satisfied: packaging>=14.3 in /opt/conda/lib/python3.7/site-packages (from google-api-core<2dev,>=1.13.0->google-api-python-client==1.8.0->cloud-tpu-client) (20.9)\r\n",
            "Requirement already satisfied: cachetools<5.0,>=2.0.0 in /opt/conda/lib/python3.7/site-packages (from google-auth>=1.4.1->google-api-python-client==1.8.0->cloud-tpu-client) (4.2.1)\r\n",
            "Requirement already satisfied: rsa<5,>=3.1.4 in /opt/conda/lib/python3.7/site-packages (from google-auth>=1.4.1->google-api-python-client==1.8.0->cloud-tpu-client) (4.7.2)\r\n",
            "Requirement already satisfied: pyasn1-modules>=0.2.1 in /opt/conda/lib/python3.7/site-packages (from google-auth>=1.4.1->google-api-python-client==1.8.0->cloud-tpu-client) (0.2.7)\r\n",
            "Requirement already satisfied: pyparsing<3,>=2.4.2 in /opt/conda/lib/python3.7/site-packages (from httplib2<1dev,>=0.9.2->google-api-python-client==1.8.0->cloud-tpu-client) (2.4.7)\r\n",
            "Requirement already satisfied: pyasn1<0.5.0,>=0.4.6 in /opt/conda/lib/python3.7/site-packages (from pyasn1-modules>=0.2.1->google-auth>=1.4.1->google-api-python-client==1.8.0->cloud-tpu-client) (0.4.8)\r\n",
            "Requirement already satisfied: chardet<5,>=3.0.2 in /opt/conda/lib/python3.7/site-packages (from requests<3.0.0dev,>=2.18.0->google-api-core<2dev,>=1.13.0->google-api-python-client==1.8.0->cloud-tpu-client) (4.0.0)\r\n",
            "Requirement already satisfied: urllib3<1.27,>=1.21.1 in /opt/conda/lib/python3.7/site-packages (from requests<3.0.0dev,>=2.18.0->google-api-core<2dev,>=1.13.0->google-api-python-client==1.8.0->cloud-tpu-client) (1.26.4)\r\n",
            "Requirement already satisfied: certifi>=2017.4.17 in /opt/conda/lib/python3.7/site-packages (from requests<3.0.0dev,>=2.18.0->google-api-core<2dev,>=1.13.0->google-api-python-client==1.8.0->cloud-tpu-client) (2020.12.5)\r\n",
            "Requirement already satisfied: idna<3,>=2.5 in /opt/conda/lib/python3.7/site-packages (from requests<3.0.0dev,>=2.18.0->google-api-core<2dev,>=1.13.0->google-api-python-client==1.8.0->cloud-tpu-client) (2.10)\r\n",
            "Collecting tensorflow==2.2.0\r\n",
            "  Downloading tensorflow-2.2.0-cp37-cp37m-manylinux2010_x86_64.whl (516.2 MB)\r\n",
            "\u001b[K     |████████████████████████████████| 516.2 MB 3.4 kB/s \r\n",
            "\u001b[?25hRequirement already satisfied: google-pasta>=0.1.8 in /opt/conda/lib/python3.7/site-packages (from tensorflow==2.2.0) (0.2.0)\r\n",
            "Requirement already satisfied: gast==0.3.3 in /opt/conda/lib/python3.7/site-packages (from tensorflow==2.2.0) (0.3.3)\r\n",
            "Requirement already satisfied: protobuf>=3.8.0 in /opt/conda/lib/python3.7/site-packages (from tensorflow==2.2.0) (3.15.8)\r\n",
            "Requirement already satisfied: termcolor>=1.1.0 in /opt/conda/lib/python3.7/site-packages (from tensorflow==2.2.0) (1.1.0)\r\n",
            "Requirement already satisfied: six>=1.12.0 in /opt/conda/lib/python3.7/site-packages (from tensorflow==2.2.0) (1.15.0)\r\n",
            "Requirement already satisfied: h5py<2.11.0,>=2.10.0 in /opt/conda/lib/python3.7/site-packages (from tensorflow==2.2.0) (2.10.0)\r\n",
            "Collecting scipy==1.4.1\r\n",
            "  Downloading scipy-1.4.1-cp37-cp37m-manylinux1_x86_64.whl (26.1 MB)\r\n",
            "\u001b[K     |████████████████████████████████| 26.1 MB 41.1 MB/s \r\n",
            "\u001b[?25hRequirement already satisfied: absl-py>=0.7.0 in /opt/conda/lib/python3.7/site-packages (from tensorflow==2.2.0) (0.12.0)\r\n",
            "Collecting tensorflow-estimator<2.3.0,>=2.2.0\r\n",
            "  Downloading tensorflow_estimator-2.2.0-py2.py3-none-any.whl (454 kB)\r\n",
            "\u001b[K     |████████████████████████████████| 454 kB 64.5 MB/s \r\n",
            "\u001b[?25hRequirement already satisfied: wheel>=0.26 in /opt/conda/lib/python3.7/site-packages (from tensorflow==2.2.0) (0.36.2)\r\n",
            "Requirement already satisfied: numpy<2.0,>=1.16.0 in /opt/conda/lib/python3.7/site-packages (from tensorflow==2.2.0) (1.19.5)\r\n",
            "Requirement already satisfied: grpcio>=1.8.6 in /opt/conda/lib/python3.7/site-packages (from tensorflow==2.2.0) (1.32.0)\r\n",
            "Collecting tensorboard<2.3.0,>=2.2.0\r\n",
            "  Downloading tensorboard-2.2.2-py3-none-any.whl (3.0 MB)\r\n",
            "\u001b[K     |████████████████████████████████| 3.0 MB 35.9 MB/s \r\n",
            "\u001b[?25hRequirement already satisfied: keras-preprocessing>=1.1.0 in /opt/conda/lib/python3.7/site-packages (from tensorflow==2.2.0) (1.1.2)\r\n",
            "Requirement already satisfied: wrapt>=1.11.1 in /opt/conda/lib/python3.7/site-packages (from tensorflow==2.2.0) (1.12.1)\r\n",
            "Requirement already satisfied: opt-einsum>=2.3.2 in /opt/conda/lib/python3.7/site-packages (from tensorflow==2.2.0) (3.3.0)\r\n",
            "Requirement already satisfied: astunparse==1.6.3 in /opt/conda/lib/python3.7/site-packages (from tensorflow==2.2.0) (1.6.3)\r\n",
            "Requirement already satisfied: setuptools>=41.0.0 in /opt/conda/lib/python3.7/site-packages (from tensorboard<2.3.0,>=2.2.0->tensorflow==2.2.0) (49.6.0.post20210108)\r\n",
            "Requirement already satisfied: werkzeug>=0.11.15 in /opt/conda/lib/python3.7/site-packages (from tensorboard<2.3.0,>=2.2.0->tensorflow==2.2.0) (1.0.1)\r\n",
            "Requirement already satisfied: google-auth-oauthlib<0.5,>=0.4.1 in /opt/conda/lib/python3.7/site-packages (from tensorboard<2.3.0,>=2.2.0->tensorflow==2.2.0) (0.4.3)\r\n",
            "Requirement already satisfied: markdown>=2.6.8 in /opt/conda/lib/python3.7/site-packages (from tensorboard<2.3.0,>=2.2.0->tensorflow==2.2.0) (3.3.4)\r\n",
            "Requirement already satisfied: requests<3,>=2.21.0 in /opt/conda/lib/python3.7/site-packages (from tensorboard<2.3.0,>=2.2.0->tensorflow==2.2.0) (2.25.1)\r\n",
            "Requirement already satisfied: tensorboard-plugin-wit>=1.6.0 in /opt/conda/lib/python3.7/site-packages (from tensorboard<2.3.0,>=2.2.0->tensorflow==2.2.0) (1.8.0)\r\n",
            "Requirement already satisfied: google-auth<2,>=1.6.3 in /opt/conda/lib/python3.7/site-packages (from tensorboard<2.3.0,>=2.2.0->tensorflow==2.2.0) (1.26.1)\r\n",
            "Requirement already satisfied: cachetools<5.0,>=2.0.0 in /opt/conda/lib/python3.7/site-packages (from google-auth<2,>=1.6.3->tensorboard<2.3.0,>=2.2.0->tensorflow==2.2.0) (4.2.1)\r\n",
            "Requirement already satisfied: rsa<5,>=3.1.4 in /opt/conda/lib/python3.7/site-packages (from google-auth<2,>=1.6.3->tensorboard<2.3.0,>=2.2.0->tensorflow==2.2.0) (4.7.2)\r\n",
            "Requirement already satisfied: pyasn1-modules>=0.2.1 in /opt/conda/lib/python3.7/site-packages (from google-auth<2,>=1.6.3->tensorboard<2.3.0,>=2.2.0->tensorflow==2.2.0) (0.2.7)\r\n",
            "Requirement already satisfied: requests-oauthlib>=0.7.0 in /opt/conda/lib/python3.7/site-packages (from google-auth-oauthlib<0.5,>=0.4.1->tensorboard<2.3.0,>=2.2.0->tensorflow==2.2.0) (1.3.0)\r\n",
            "Requirement already satisfied: importlib-metadata in /opt/conda/lib/python3.7/site-packages (from markdown>=2.6.8->tensorboard<2.3.0,>=2.2.0->tensorflow==2.2.0) (3.4.0)\r\n",
            "Requirement already satisfied: pyasn1<0.5.0,>=0.4.6 in /opt/conda/lib/python3.7/site-packages (from pyasn1-modules>=0.2.1->google-auth<2,>=1.6.3->tensorboard<2.3.0,>=2.2.0->tensorflow==2.2.0) (0.4.8)\r\n",
            "Requirement already satisfied: idna<3,>=2.5 in /opt/conda/lib/python3.7/site-packages (from requests<3,>=2.21.0->tensorboard<2.3.0,>=2.2.0->tensorflow==2.2.0) (2.10)\r\n",
            "Requirement already satisfied: certifi>=2017.4.17 in /opt/conda/lib/python3.7/site-packages (from requests<3,>=2.21.0->tensorboard<2.3.0,>=2.2.0->tensorflow==2.2.0) (2020.12.5)\r\n",
            "Requirement already satisfied: urllib3<1.27,>=1.21.1 in /opt/conda/lib/python3.7/site-packages (from requests<3,>=2.21.0->tensorboard<2.3.0,>=2.2.0->tensorflow==2.2.0) (1.26.4)\r\n",
            "Requirement already satisfied: chardet<5,>=3.0.2 in /opt/conda/lib/python3.7/site-packages (from requests<3,>=2.21.0->tensorboard<2.3.0,>=2.2.0->tensorflow==2.2.0) (4.0.0)\r\n",
            "Requirement already satisfied: oauthlib>=3.0.0 in /opt/conda/lib/python3.7/site-packages (from requests-oauthlib>=0.7.0->google-auth-oauthlib<0.5,>=0.4.1->tensorboard<2.3.0,>=2.2.0->tensorflow==2.2.0) (3.0.1)\r\n",
            "Requirement already satisfied: typing-extensions>=3.6.4 in /opt/conda/lib/python3.7/site-packages (from importlib-metadata->markdown>=2.6.8->tensorboard<2.3.0,>=2.2.0->tensorflow==2.2.0) (3.7.4.3)\r\n",
            "Requirement already satisfied: zipp>=0.5 in /opt/conda/lib/python3.7/site-packages (from importlib-metadata->markdown>=2.6.8->tensorboard<2.3.0,>=2.2.0->tensorflow==2.2.0) (3.4.1)\r\n",
            "Installing collected packages: tensorflow-estimator, tensorboard, scipy, tensorflow\r\n",
            "  Attempting uninstall: tensorflow-estimator\r\n",
            "    Found existing installation: tensorflow-estimator 2.4.0\r\n",
            "    Uninstalling tensorflow-estimator-2.4.0:\r\n",
            "      Successfully uninstalled tensorflow-estimator-2.4.0\r\n",
            "  Attempting uninstall: tensorboard\r\n",
            "    Found existing installation: tensorboard 2.4.1\r\n",
            "    Uninstalling tensorboard-2.4.1:\r\n",
            "      Successfully uninstalled tensorboard-2.4.1\r\n",
            "  Attempting uninstall: scipy\r\n",
            "    Found existing installation: scipy 1.5.4\r\n",
            "    Uninstalling scipy-1.5.4:\r\n",
            "      Successfully uninstalled scipy-1.5.4\r\n",
            "  Attempting uninstall: tensorflow\r\n",
            "    Found existing installation: tensorflow 2.4.1\r\n",
            "    Uninstalling tensorflow-2.4.1:\r\n",
            "      Successfully uninstalled tensorflow-2.4.1\r\n",
            "\u001b[31mERROR: pip's dependency resolver does not currently take into account all the packages that are installed. This behaviour is the source of the following dependency conflicts.\r\n",
            "tensorflow-cloud 0.1.13 requires tensorboard>=2.3.0, but you have tensorboard 2.2.2 which is incompatible.\r\n",
            "stumpy 1.8.0 requires scipy>=1.5, but you have scipy 1.4.1 which is incompatible.\r\n",
            "sklearn-pandas 2.1.0 requires scipy>=1.5.1, but you have scipy 1.4.1 which is incompatible.\r\n",
            "pyldavis 3.3.1 requires numpy>=1.20.0, but you have numpy 1.19.5 which is incompatible.\r\n",
            "plotnine 0.8.0 requires scipy>=1.5.0, but you have scipy 1.4.1 which is incompatible.\r\n",
            "phik 0.11.2 requires scipy>=1.5.2, but you have scipy 1.4.1 which is incompatible.\r\n",
            "pdpbox 0.2.1 requires matplotlib==3.1.1, but you have matplotlib 3.4.1 which is incompatible.\r\n",
            "matrixprofile 1.1.10 requires protobuf==3.11.2, but you have protobuf 3.15.8 which is incompatible.\r\n",
            "autogluon-core 0.1.0 requires scipy==1.5.4, but you have scipy 1.4.1 which is incompatible.\u001b[0m\r\n",
            "Successfully installed scipy-1.4.1 tensorboard-2.2.2 tensorflow-2.2.0 tensorflow-estimator-2.2.0\r\n",
            "Collecting transformers==3.5.1\r\n",
            "  Downloading transformers-3.5.1-py3-none-any.whl (1.3 MB)\r\n",
            "\u001b[K     |████████████████████████████████| 1.3 MB 2.8 MB/s \r\n",
            "\u001b[?25hCollecting tokenizers==0.9.3\r\n",
            "  Downloading tokenizers-0.9.3-cp37-cp37m-manylinux1_x86_64.whl (2.9 MB)\r\n",
            "\u001b[K     |████████████████████████████████| 2.9 MB 17.7 MB/s \r\n",
            "\u001b[?25hRequirement already satisfied: numpy in /opt/conda/lib/python3.7/site-packages (from transformers==3.5.1) (1.19.5)\r\n",
            "Requirement already satisfied: sacremoses in /opt/conda/lib/python3.7/site-packages (from transformers==3.5.1) (0.0.45)\r\n",
            "Requirement already satisfied: protobuf in /opt/conda/lib/python3.7/site-packages (from transformers==3.5.1) (3.15.8)\r\n",
            "Collecting sentencepiece==0.1.91\r\n",
            "  Downloading sentencepiece-0.1.91-cp37-cp37m-manylinux1_x86_64.whl (1.1 MB)\r\n",
            "\u001b[K     |████████████████████████████████| 1.1 MB 25.4 MB/s \r\n",
            "\u001b[?25hRequirement already satisfied: regex!=2019.12.17 in /opt/conda/lib/python3.7/site-packages (from transformers==3.5.1) (2021.3.17)\r\n",
            "Requirement already satisfied: filelock in /opt/conda/lib/python3.7/site-packages (from transformers==3.5.1) (3.0.12)\r\n",
            "Requirement already satisfied: requests in /opt/conda/lib/python3.7/site-packages (from transformers==3.5.1) (2.25.1)\r\n",
            "Requirement already satisfied: tqdm>=4.27 in /opt/conda/lib/python3.7/site-packages (from transformers==3.5.1) (4.59.0)\r\n",
            "Requirement already satisfied: packaging in /opt/conda/lib/python3.7/site-packages (from transformers==3.5.1) (20.9)\r\n",
            "Requirement already satisfied: pyparsing>=2.0.2 in /opt/conda/lib/python3.7/site-packages (from packaging->transformers==3.5.1) (2.4.7)\r\n",
            "Requirement already satisfied: six>=1.9 in /opt/conda/lib/python3.7/site-packages (from protobuf->transformers==3.5.1) (1.15.0)\r\n",
            "Requirement already satisfied: urllib3<1.27,>=1.21.1 in /opt/conda/lib/python3.7/site-packages (from requests->transformers==3.5.1) (1.26.4)\r\n",
            "Requirement already satisfied: certifi>=2017.4.17 in /opt/conda/lib/python3.7/site-packages (from requests->transformers==3.5.1) (2020.12.5)\r\n",
            "Requirement already satisfied: idna<3,>=2.5 in /opt/conda/lib/python3.7/site-packages (from requests->transformers==3.5.1) (2.10)\r\n",
            "Requirement already satisfied: chardet<5,>=3.0.2 in /opt/conda/lib/python3.7/site-packages (from requests->transformers==3.5.1) (4.0.0)\r\n",
            "Requirement already satisfied: click in /opt/conda/lib/python3.7/site-packages (from sacremoses->transformers==3.5.1) (7.1.2)\r\n",
            "Requirement already satisfied: joblib in /opt/conda/lib/python3.7/site-packages (from sacremoses->transformers==3.5.1) (1.0.1)\r\n",
            "Installing collected packages: tokenizers, sentencepiece, transformers\r\n",
            "  Attempting uninstall: tokenizers\r\n",
            "    Found existing installation: tokenizers 0.10.2\r\n",
            "    Uninstalling tokenizers-0.10.2:\r\n",
            "      Successfully uninstalled tokenizers-0.10.2\r\n",
            "  Attempting uninstall: sentencepiece\r\n",
            "    Found existing installation: sentencepiece 0.1.95\r\n",
            "    Uninstalling sentencepiece-0.1.95:\r\n",
            "      Successfully uninstalled sentencepiece-0.1.95\r\n",
            "  Attempting uninstall: transformers\r\n",
            "    Found existing installation: transformers 4.5.1\r\n",
            "    Uninstalling transformers-4.5.1:\r\n",
            "      Successfully uninstalled transformers-4.5.1\r\n",
            "\u001b[31mERROR: pip's dependency resolver does not currently take into account all the packages that are installed. This behaviour is the source of the following dependency conflicts.\r\n",
            "allennlp 2.3.0 requires transformers<4.6,>=4.1, but you have transformers 3.5.1 which is incompatible.\u001b[0m\r\n",
            "Successfully installed sentencepiece-0.1.91 tokenizers-0.9.3 transformers-3.5.1\r\n",
            "Collecting tensorflow-addons==0.10.0\r\n",
            "  Downloading tensorflow_addons-0.10.0-cp37-cp37m-manylinux2010_x86_64.whl (1.0 MB)\r\n",
            "\u001b[K     |████████████████████████████████| 1.0 MB 2.9 MB/s \r\n",
            "\u001b[?25hRequirement already satisfied: typeguard>=2.7 in /opt/conda/lib/python3.7/site-packages (from tensorflow-addons==0.10.0) (2.12.0)\r\n",
            "Installing collected packages: tensorflow-addons\r\n",
            "  Attempting uninstall: tensorflow-addons\r\n",
            "    Found existing installation: tensorflow-addons 0.12.1\r\n",
            "    Uninstalling tensorflow-addons-0.12.1:\r\n",
            "      Successfully uninstalled tensorflow-addons-0.12.1\r\n",
            "Successfully installed tensorflow-addons-0.10.0\r\n"
          ],
          "name": "stdout"
        }
      ]
    },
    {
      "cell_type": "markdown",
      "metadata": {
        "papermill": {
          "duration": 0.255976,
          "end_time": "2021-05-01T11:38:37.059040",
          "exception": false,
          "start_time": "2021-05-01T11:38:36.803064",
          "status": "completed"
        },
        "tags": [],
        "id": "soviet-picture"
      },
      "source": [
        "# imports"
      ],
      "id": "soviet-picture"
    },
    {
      "cell_type": "code",
      "metadata": {
        "execution": {
          "iopub.execute_input": "2021-05-01T11:38:37.575250Z",
          "iopub.status.busy": "2021-05-01T11:38:37.574194Z",
          "iopub.status.idle": "2021-05-01T11:38:43.647526Z",
          "shell.execute_reply": "2021-05-01T11:38:43.646928Z"
        },
        "papermill": {
          "duration": 6.334284,
          "end_time": "2021-05-01T11:38:43.647692",
          "exception": false,
          "start_time": "2021-05-01T11:38:37.313408",
          "status": "completed"
        },
        "tags": [],
        "id": "hydraulic-oxford"
      },
      "source": [
        "\n",
        "import numpy as np # linear algebra\n",
        "import pandas as pd # data processing, CSV file I/O (e.g. pd.read_csv)\n",
        "\n",
        "\n",
        "import os\n",
        "\n",
        "import matplotlib.pyplot as plt\n",
        "\n",
        "import seaborn as sns\n",
        "\n",
        "\n",
        "\n",
        "import re\n",
        "\n",
        "\n",
        "import numpy as np\n",
        "import pandas as pd\n",
        "import tensorflow as tf\n",
        "from tensorflow.keras.layers import Dense, Input\n",
        "from tensorflow.keras.optimizers import Adam\n",
        "from tensorflow.keras.models import Model\n",
        "\n",
        "import transformers\n",
        "from transformers import TFAutoModel, AutoTokenizer\n",
        "from tqdm.notebook import tqdm\n",
        "from tokenizers import Tokenizer, models, pre_tokenizers, decoders, processors\n",
        "\n",
        "from cloud_tpu_client import Client\n",
        "\n",
        "import tensorflow_addons as tfa\n",
        "\n",
        "from transformers import RobertaTokenizer, RobertaModel\n",
        "\n",
        "import tensorflow.keras.backend as K\n",
        "from IPython.display import SVG\n",
        "\n",
        "from tensorflow.keras.callbacks import EarlyStopping, ModelCheckpoint, LearningRateScheduler\n"
      ],
      "id": "hydraulic-oxford",
      "execution_count": null,
      "outputs": []
    },
    {
      "cell_type": "markdown",
      "metadata": {
        "papermill": {
          "duration": 0.255731,
          "end_time": "2021-05-01T11:38:44.154659",
          "exception": false,
          "start_time": "2021-05-01T11:38:43.898928",
          "status": "completed"
        },
        "tags": [],
        "id": "directed-number"
      },
      "source": [
        "# check versions of installed packages in this docker"
      ],
      "id": "directed-number"
    },
    {
      "cell_type": "code",
      "metadata": {
        "execution": {
          "iopub.execute_input": "2021-05-01T11:38:44.666369Z",
          "iopub.status.busy": "2021-05-01T11:38:44.665414Z",
          "iopub.status.idle": "2021-05-01T11:38:44.669447Z",
          "shell.execute_reply": "2021-05-01T11:38:44.669948Z"
        },
        "papermill": {
          "duration": 0.264855,
          "end_time": "2021-05-01T11:38:44.670115",
          "exception": false,
          "start_time": "2021-05-01T11:38:44.405260",
          "status": "completed"
        },
        "tags": [],
        "id": "optional-silver",
        "outputId": "335eddc8-b31e-48d0-c3ba-73fb805e9030"
      },
      "source": [
        "tf.__version__"
      ],
      "id": "optional-silver",
      "execution_count": null,
      "outputs": [
        {
          "output_type": "execute_result",
          "data": {
            "text/plain": [
              "'2.2.0'"
            ]
          },
          "metadata": {
            "tags": []
          },
          "execution_count": 3
        }
      ]
    },
    {
      "cell_type": "code",
      "metadata": {
        "execution": {
          "iopub.execute_input": "2021-05-01T11:38:45.182258Z",
          "iopub.status.busy": "2021-05-01T11:38:45.181539Z",
          "iopub.status.idle": "2021-05-01T11:38:45.184598Z",
          "shell.execute_reply": "2021-05-01T11:38:45.185102Z"
        },
        "papermill": {
          "duration": 0.26159,
          "end_time": "2021-05-01T11:38:45.185267",
          "exception": false,
          "start_time": "2021-05-01T11:38:44.923677",
          "status": "completed"
        },
        "tags": [],
        "id": "smaller-means",
        "outputId": "48c3b729-b476-4013-aa72-258eb689ac00"
      },
      "source": [
        "transformers.__version__"
      ],
      "id": "smaller-means",
      "execution_count": null,
      "outputs": [
        {
          "output_type": "execute_result",
          "data": {
            "text/plain": [
              "'3.5.1'"
            ]
          },
          "metadata": {
            "tags": []
          },
          "execution_count": 4
        }
      ]
    },
    {
      "cell_type": "code",
      "metadata": {
        "execution": {
          "iopub.execute_input": "2021-05-01T11:38:45.694382Z",
          "iopub.status.busy": "2021-05-01T11:38:45.693677Z",
          "iopub.status.idle": "2021-05-01T11:39:04.323662Z",
          "shell.execute_reply": "2021-05-01T11:39:04.324187Z"
        },
        "papermill": {
          "duration": 18.886571,
          "end_time": "2021-05-01T11:39:04.324405",
          "exception": false,
          "start_time": "2021-05-01T11:38:45.437834",
          "status": "completed"
        },
        "tags": [],
        "id": "steady-corruption"
      },
      "source": [
        "# ref : https://github.com/tensorflow/tpu/issues/823\n",
        "\n",
        "Client().configure_tpu_version(tf.__version__, restart_type='ifNeeded')\n"
      ],
      "id": "steady-corruption",
      "execution_count": null,
      "outputs": []
    },
    {
      "cell_type": "code",
      "metadata": {
        "execution": {
          "iopub.execute_input": "2021-05-01T11:39:04.851613Z",
          "iopub.status.busy": "2021-05-01T11:39:04.850626Z",
          "iopub.status.idle": "2021-05-01T11:39:08.717603Z",
          "shell.execute_reply": "2021-05-01T11:39:08.716913Z"
        },
        "papermill": {
          "duration": 4.133141,
          "end_time": "2021-05-01T11:39:08.717758",
          "exception": false,
          "start_time": "2021-05-01T11:39:04.584617",
          "status": "completed"
        },
        "tags": [],
        "id": "becoming-booking",
        "outputId": "0058dce7-205f-4863-9e50-8b8e34279c24"
      },
      "source": [
        "!unzip  -o ../input/jigsaw-toxic-comment-classification-challenge/train.csv.zip\n",
        "\n",
        "!unzip  -o ../input/jigsaw-toxic-comment-classification-challenge/test.csv.zip\n",
        "\n",
        "\n",
        "!unzip  -o ../input/jigsaw-toxic-comment-classification-challenge/test_labels.csv.zip\n"
      ],
      "id": "becoming-booking",
      "execution_count": null,
      "outputs": [
        {
          "output_type": "stream",
          "text": [
            "Archive:  ../input/jigsaw-toxic-comment-classification-challenge/train.csv.zip\r\n",
            "  inflating: train.csv               \r\n",
            "Archive:  ../input/jigsaw-toxic-comment-classification-challenge/test.csv.zip\r\n",
            "  inflating: test.csv                \r\n",
            "Archive:  ../input/jigsaw-toxic-comment-classification-challenge/test_labels.csv.zip\r\n",
            "  inflating: test_labels.csv         \r\n"
          ],
          "name": "stdout"
        }
      ]
    },
    {
      "cell_type": "code",
      "metadata": {
        "execution": {
          "iopub.execute_input": "2021-05-01T11:39:09.227336Z",
          "iopub.status.busy": "2021-05-01T11:39:09.226666Z",
          "iopub.status.idle": "2021-05-01T11:39:09.232063Z",
          "shell.execute_reply": "2021-05-01T11:39:09.232582Z"
        },
        "papermill": {
          "duration": 0.263368,
          "end_time": "2021-05-01T11:39:09.232752",
          "exception": false,
          "start_time": "2021-05-01T11:39:08.969384",
          "status": "completed"
        },
        "tags": [],
        "id": "latter-hayes",
        "outputId": "6f8d3ad7-c85b-46cf-d602-342959805a11"
      },
      "source": [
        "os.listdir('../working')"
      ],
      "id": "latter-hayes",
      "execution_count": null,
      "outputs": [
        {
          "output_type": "execute_result",
          "data": {
            "text/plain": [
              "['__notebook__.ipynb', 'test.csv', 'train.csv', 'test_labels.csv']"
            ]
          },
          "metadata": {
            "tags": []
          },
          "execution_count": 7
        }
      ]
    },
    {
      "cell_type": "markdown",
      "metadata": {
        "papermill": {
          "duration": 0.252599,
          "end_time": "2021-05-01T11:39:09.737612",
          "exception": false,
          "start_time": "2021-05-01T11:39:09.485013",
          "status": "completed"
        },
        "tags": [],
        "id": "unique-philip"
      },
      "source": [
        "# read dataset"
      ],
      "id": "unique-philip"
    },
    {
      "cell_type": "code",
      "metadata": {
        "execution": {
          "iopub.execute_input": "2021-05-01T11:39:10.258060Z",
          "iopub.status.busy": "2021-05-01T11:39:10.256971Z",
          "iopub.status.idle": "2021-05-01T11:39:12.383762Z",
          "shell.execute_reply": "2021-05-01T11:39:12.383189Z"
        },
        "papermill": {
          "duration": 2.390858,
          "end_time": "2021-05-01T11:39:12.383914",
          "exception": false,
          "start_time": "2021-05-01T11:39:09.993056",
          "status": "completed"
        },
        "tags": [],
        "id": "unusual-tomato"
      },
      "source": [
        "train=pd.read_csv(\"../working/train.csv\")\n",
        "test=pd.read_csv(\"../working/test.csv\")\n",
        "test_labels=pd.read_csv(\"../working/test_labels.csv\")\n"
      ],
      "id": "unusual-tomato",
      "execution_count": null,
      "outputs": []
    },
    {
      "cell_type": "code",
      "metadata": {
        "execution": {
          "iopub.execute_input": "2021-05-01T11:39:12.903663Z",
          "iopub.status.busy": "2021-05-01T11:39:12.902535Z",
          "iopub.status.idle": "2021-05-01T11:39:12.921752Z",
          "shell.execute_reply": "2021-05-01T11:39:12.922239Z"
        },
        "papermill": {
          "duration": 0.280755,
          "end_time": "2021-05-01T11:39:12.922405",
          "exception": false,
          "start_time": "2021-05-01T11:39:12.641650",
          "status": "completed"
        },
        "tags": [],
        "id": "oriental-criticism",
        "outputId": "0e3ce0f2-82cc-4389-b25b-1f0ca6d0757c"
      },
      "source": [
        "train.head()"
      ],
      "id": "oriental-criticism",
      "execution_count": null,
      "outputs": [
        {
          "output_type": "execute_result",
          "data": {
            "text/html": [
              "<div>\n",
              "<style scoped>\n",
              "    .dataframe tbody tr th:only-of-type {\n",
              "        vertical-align: middle;\n",
              "    }\n",
              "\n",
              "    .dataframe tbody tr th {\n",
              "        vertical-align: top;\n",
              "    }\n",
              "\n",
              "    .dataframe thead th {\n",
              "        text-align: right;\n",
              "    }\n",
              "</style>\n",
              "<table border=\"1\" class=\"dataframe\">\n",
              "  <thead>\n",
              "    <tr style=\"text-align: right;\">\n",
              "      <th></th>\n",
              "      <th>id</th>\n",
              "      <th>comment_text</th>\n",
              "      <th>toxic</th>\n",
              "      <th>severe_toxic</th>\n",
              "      <th>obscene</th>\n",
              "      <th>threat</th>\n",
              "      <th>insult</th>\n",
              "      <th>identity_hate</th>\n",
              "    </tr>\n",
              "  </thead>\n",
              "  <tbody>\n",
              "    <tr>\n",
              "      <th>0</th>\n",
              "      <td>0000997932d777bf</td>\n",
              "      <td>Explanation\\nWhy the edits made under my usern...</td>\n",
              "      <td>0</td>\n",
              "      <td>0</td>\n",
              "      <td>0</td>\n",
              "      <td>0</td>\n",
              "      <td>0</td>\n",
              "      <td>0</td>\n",
              "    </tr>\n",
              "    <tr>\n",
              "      <th>1</th>\n",
              "      <td>000103f0d9cfb60f</td>\n",
              "      <td>D'aww! He matches this background colour I'm s...</td>\n",
              "      <td>0</td>\n",
              "      <td>0</td>\n",
              "      <td>0</td>\n",
              "      <td>0</td>\n",
              "      <td>0</td>\n",
              "      <td>0</td>\n",
              "    </tr>\n",
              "    <tr>\n",
              "      <th>2</th>\n",
              "      <td>000113f07ec002fd</td>\n",
              "      <td>Hey man, I'm really not trying to edit war. It...</td>\n",
              "      <td>0</td>\n",
              "      <td>0</td>\n",
              "      <td>0</td>\n",
              "      <td>0</td>\n",
              "      <td>0</td>\n",
              "      <td>0</td>\n",
              "    </tr>\n",
              "    <tr>\n",
              "      <th>3</th>\n",
              "      <td>0001b41b1c6bb37e</td>\n",
              "      <td>\"\\nMore\\nI can't make any real suggestions on ...</td>\n",
              "      <td>0</td>\n",
              "      <td>0</td>\n",
              "      <td>0</td>\n",
              "      <td>0</td>\n",
              "      <td>0</td>\n",
              "      <td>0</td>\n",
              "    </tr>\n",
              "    <tr>\n",
              "      <th>4</th>\n",
              "      <td>0001d958c54c6e35</td>\n",
              "      <td>You, sir, are my hero. Any chance you remember...</td>\n",
              "      <td>0</td>\n",
              "      <td>0</td>\n",
              "      <td>0</td>\n",
              "      <td>0</td>\n",
              "      <td>0</td>\n",
              "      <td>0</td>\n",
              "    </tr>\n",
              "  </tbody>\n",
              "</table>\n",
              "</div>"
            ],
            "text/plain": [
              "                 id                                       comment_text  toxic  \\\n",
              "0  0000997932d777bf  Explanation\\nWhy the edits made under my usern...      0   \n",
              "1  000103f0d9cfb60f  D'aww! He matches this background colour I'm s...      0   \n",
              "2  000113f07ec002fd  Hey man, I'm really not trying to edit war. It...      0   \n",
              "3  0001b41b1c6bb37e  \"\\nMore\\nI can't make any real suggestions on ...      0   \n",
              "4  0001d958c54c6e35  You, sir, are my hero. Any chance you remember...      0   \n",
              "\n",
              "   severe_toxic  obscene  threat  insult  identity_hate  \n",
              "0             0        0       0       0              0  \n",
              "1             0        0       0       0              0  \n",
              "2             0        0       0       0              0  \n",
              "3             0        0       0       0              0  \n",
              "4             0        0       0       0              0  "
            ]
          },
          "metadata": {
            "tags": []
          },
          "execution_count": 9
        }
      ]
    },
    {
      "cell_type": "markdown",
      "metadata": {
        "papermill": {
          "duration": 0.251097,
          "end_time": "2021-05-01T11:39:13.429222",
          "exception": false,
          "start_time": "2021-05-01T11:39:13.178125",
          "status": "completed"
        },
        "tags": [],
        "id": "published-adobe"
      },
      "source": [
        "# we'll not use test.csv or test_labels.csv as we don't have annotations of these test samples and only kaggle has it's actual annotation,so we can't evaluate our models performance on this test dataset,so for this experiment we will not use it"
      ],
      "id": "published-adobe"
    },
    {
      "cell_type": "code",
      "metadata": {
        "execution": {
          "iopub.execute_input": "2021-05-01T11:39:13.959585Z",
          "iopub.status.busy": "2021-05-01T11:39:13.958906Z",
          "iopub.status.idle": "2021-05-01T11:39:13.968967Z",
          "shell.execute_reply": "2021-05-01T11:39:13.968328Z"
        },
        "papermill": {
          "duration": 0.267143,
          "end_time": "2021-05-01T11:39:13.969101",
          "exception": false,
          "start_time": "2021-05-01T11:39:13.701958",
          "status": "completed"
        },
        "tags": [],
        "id": "covered-california",
        "outputId": "5fc6677c-d716-4594-d11e-a5f7a3a1959d"
      },
      "source": [
        "test.head()"
      ],
      "id": "covered-california",
      "execution_count": null,
      "outputs": [
        {
          "output_type": "execute_result",
          "data": {
            "text/html": [
              "<div>\n",
              "<style scoped>\n",
              "    .dataframe tbody tr th:only-of-type {\n",
              "        vertical-align: middle;\n",
              "    }\n",
              "\n",
              "    .dataframe tbody tr th {\n",
              "        vertical-align: top;\n",
              "    }\n",
              "\n",
              "    .dataframe thead th {\n",
              "        text-align: right;\n",
              "    }\n",
              "</style>\n",
              "<table border=\"1\" class=\"dataframe\">\n",
              "  <thead>\n",
              "    <tr style=\"text-align: right;\">\n",
              "      <th></th>\n",
              "      <th>id</th>\n",
              "      <th>comment_text</th>\n",
              "    </tr>\n",
              "  </thead>\n",
              "  <tbody>\n",
              "    <tr>\n",
              "      <th>0</th>\n",
              "      <td>00001cee341fdb12</td>\n",
              "      <td>Yo bitch Ja Rule is more succesful then you'll...</td>\n",
              "    </tr>\n",
              "    <tr>\n",
              "      <th>1</th>\n",
              "      <td>0000247867823ef7</td>\n",
              "      <td>== From RfC == \\n\\n The title is fine as it is...</td>\n",
              "    </tr>\n",
              "    <tr>\n",
              "      <th>2</th>\n",
              "      <td>00013b17ad220c46</td>\n",
              "      <td>\" \\n\\n == Sources == \\n\\n * Zawe Ashton on Lap...</td>\n",
              "    </tr>\n",
              "    <tr>\n",
              "      <th>3</th>\n",
              "      <td>00017563c3f7919a</td>\n",
              "      <td>:If you have a look back at the source, the in...</td>\n",
              "    </tr>\n",
              "    <tr>\n",
              "      <th>4</th>\n",
              "      <td>00017695ad8997eb</td>\n",
              "      <td>I don't anonymously edit articles at all.</td>\n",
              "    </tr>\n",
              "  </tbody>\n",
              "</table>\n",
              "</div>"
            ],
            "text/plain": [
              "                 id                                       comment_text\n",
              "0  00001cee341fdb12  Yo bitch Ja Rule is more succesful then you'll...\n",
              "1  0000247867823ef7  == From RfC == \\n\\n The title is fine as it is...\n",
              "2  00013b17ad220c46  \" \\n\\n == Sources == \\n\\n * Zawe Ashton on Lap...\n",
              "3  00017563c3f7919a  :If you have a look back at the source, the in...\n",
              "4  00017695ad8997eb          I don't anonymously edit articles at all."
            ]
          },
          "metadata": {
            "tags": []
          },
          "execution_count": 10
        }
      ]
    },
    {
      "cell_type": "code",
      "metadata": {
        "execution": {
          "iopub.execute_input": "2021-05-01T11:39:14.497091Z",
          "iopub.status.busy": "2021-05-01T11:39:14.496407Z",
          "iopub.status.idle": "2021-05-01T11:39:14.508594Z",
          "shell.execute_reply": "2021-05-01T11:39:14.509086Z"
        },
        "papermill": {
          "duration": 0.271855,
          "end_time": "2021-05-01T11:39:14.509275",
          "exception": false,
          "start_time": "2021-05-01T11:39:14.237420",
          "status": "completed"
        },
        "tags": [],
        "id": "applied-digit",
        "outputId": "b98943ff-fa6e-4140-eee0-c3fbaf1dc062"
      },
      "source": [
        "test_labels.head()"
      ],
      "id": "applied-digit",
      "execution_count": null,
      "outputs": [
        {
          "output_type": "execute_result",
          "data": {
            "text/html": [
              "<div>\n",
              "<style scoped>\n",
              "    .dataframe tbody tr th:only-of-type {\n",
              "        vertical-align: middle;\n",
              "    }\n",
              "\n",
              "    .dataframe tbody tr th {\n",
              "        vertical-align: top;\n",
              "    }\n",
              "\n",
              "    .dataframe thead th {\n",
              "        text-align: right;\n",
              "    }\n",
              "</style>\n",
              "<table border=\"1\" class=\"dataframe\">\n",
              "  <thead>\n",
              "    <tr style=\"text-align: right;\">\n",
              "      <th></th>\n",
              "      <th>id</th>\n",
              "      <th>toxic</th>\n",
              "      <th>severe_toxic</th>\n",
              "      <th>obscene</th>\n",
              "      <th>threat</th>\n",
              "      <th>insult</th>\n",
              "      <th>identity_hate</th>\n",
              "    </tr>\n",
              "  </thead>\n",
              "  <tbody>\n",
              "    <tr>\n",
              "      <th>0</th>\n",
              "      <td>00001cee341fdb12</td>\n",
              "      <td>-1</td>\n",
              "      <td>-1</td>\n",
              "      <td>-1</td>\n",
              "      <td>-1</td>\n",
              "      <td>-1</td>\n",
              "      <td>-1</td>\n",
              "    </tr>\n",
              "    <tr>\n",
              "      <th>1</th>\n",
              "      <td>0000247867823ef7</td>\n",
              "      <td>-1</td>\n",
              "      <td>-1</td>\n",
              "      <td>-1</td>\n",
              "      <td>-1</td>\n",
              "      <td>-1</td>\n",
              "      <td>-1</td>\n",
              "    </tr>\n",
              "    <tr>\n",
              "      <th>2</th>\n",
              "      <td>00013b17ad220c46</td>\n",
              "      <td>-1</td>\n",
              "      <td>-1</td>\n",
              "      <td>-1</td>\n",
              "      <td>-1</td>\n",
              "      <td>-1</td>\n",
              "      <td>-1</td>\n",
              "    </tr>\n",
              "    <tr>\n",
              "      <th>3</th>\n",
              "      <td>00017563c3f7919a</td>\n",
              "      <td>-1</td>\n",
              "      <td>-1</td>\n",
              "      <td>-1</td>\n",
              "      <td>-1</td>\n",
              "      <td>-1</td>\n",
              "      <td>-1</td>\n",
              "    </tr>\n",
              "    <tr>\n",
              "      <th>4</th>\n",
              "      <td>00017695ad8997eb</td>\n",
              "      <td>-1</td>\n",
              "      <td>-1</td>\n",
              "      <td>-1</td>\n",
              "      <td>-1</td>\n",
              "      <td>-1</td>\n",
              "      <td>-1</td>\n",
              "    </tr>\n",
              "  </tbody>\n",
              "</table>\n",
              "</div>"
            ],
            "text/plain": [
              "                 id  toxic  severe_toxic  obscene  threat  insult  \\\n",
              "0  00001cee341fdb12     -1            -1       -1      -1      -1   \n",
              "1  0000247867823ef7     -1            -1       -1      -1      -1   \n",
              "2  00013b17ad220c46     -1            -1       -1      -1      -1   \n",
              "3  00017563c3f7919a     -1            -1       -1      -1      -1   \n",
              "4  00017695ad8997eb     -1            -1       -1      -1      -1   \n",
              "\n",
              "   identity_hate  \n",
              "0             -1  \n",
              "1             -1  \n",
              "2             -1  \n",
              "3             -1  \n",
              "4             -1  "
            ]
          },
          "metadata": {
            "tags": []
          },
          "execution_count": 11
        }
      ]
    },
    {
      "cell_type": "code",
      "metadata": {
        "execution": {
          "iopub.execute_input": "2021-05-01T11:39:15.020988Z",
          "iopub.status.busy": "2021-05-01T11:39:15.019993Z",
          "iopub.status.idle": "2021-05-01T11:39:15.025065Z",
          "shell.execute_reply": "2021-05-01T11:39:15.025583Z"
        },
        "papermill": {
          "duration": 0.262719,
          "end_time": "2021-05-01T11:39:15.025761",
          "exception": false,
          "start_time": "2021-05-01T11:39:14.763042",
          "status": "completed"
        },
        "tags": [],
        "id": "concerned-sydney",
        "outputId": "52da77af-ab7c-4af5-dab4-d2573ffb7751"
      },
      "source": [
        "len(train)"
      ],
      "id": "concerned-sydney",
      "execution_count": null,
      "outputs": [
        {
          "output_type": "execute_result",
          "data": {
            "text/plain": [
              "159571"
            ]
          },
          "metadata": {
            "tags": []
          },
          "execution_count": 12
        }
      ]
    },
    {
      "cell_type": "markdown",
      "metadata": {
        "papermill": {
          "duration": 0.253288,
          "end_time": "2021-05-01T11:39:15.534247",
          "exception": false,
          "start_time": "2021-05-01T11:39:15.280959",
          "status": "completed"
        },
        "tags": [],
        "id": "positive-language"
      },
      "source": [
        "# From the graph below we can see that we have very high imbalance dataset"
      ],
      "id": "positive-language"
    },
    {
      "cell_type": "code",
      "metadata": {
        "execution": {
          "iopub.execute_input": "2021-05-01T11:39:16.046262Z",
          "iopub.status.busy": "2021-05-01T11:39:16.045257Z",
          "iopub.status.idle": "2021-05-01T11:39:16.226031Z",
          "shell.execute_reply": "2021-05-01T11:39:16.226536Z"
        },
        "papermill": {
          "duration": 0.437761,
          "end_time": "2021-05-01T11:39:16.226704",
          "exception": false,
          "start_time": "2021-05-01T11:39:15.788943",
          "status": "completed"
        },
        "tags": [],
        "id": "global-opposition",
        "outputId": "a286719c-a696-41a3-9c35-bb7f3d866654"
      },
      "source": [
        "\n",
        "plt.figure(figsize=(10, 5))\n",
        "plt.subplot(1, 2, 1)\n",
        "sns.countplot(train['toxic'])\n",
        "plt.title('Target on training data')\n",
        "\n",
        "plt.show()"
      ],
      "id": "global-opposition",
      "execution_count": null,
      "outputs": [
        {
          "output_type": "stream",
          "text": [
            "/opt/conda/lib/python3.7/site-packages/seaborn/_decorators.py:43: FutureWarning: Pass the following variable as a keyword arg: x. From version 0.12, the only valid positional argument will be `data`, and passing other arguments without an explicit keyword will result in an error or misinterpretation.\n",
            "  FutureWarning\n"
          ],
          "name": "stderr"
        },
        {
          "output_type": "display_data",
          "data": {
            "image/png": "[encoded data removed]",
            "text/plain": [
              "<Figure size 720x360 with 1 Axes>"
            ]
          },
          "metadata": {
            "tags": [],
            "needs_background": "light"
          }
        }
      ]
    },
    {
      "cell_type": "markdown",
      "metadata": {
        "papermill": {
          "duration": 0.255719,
          "end_time": "2021-05-01T11:39:16.742214",
          "exception": false,
          "start_time": "2021-05-01T11:39:16.486495",
          "status": "completed"
        },
        "tags": [],
        "id": "handled-product"
      },
      "source": [
        "# settings for 8 core tpu training"
      ],
      "id": "handled-product"
    },
    {
      "cell_type": "code",
      "metadata": {
        "execution": {
          "iopub.execute_input": "2021-05-01T11:39:23.385284Z",
          "iopub.status.busy": "2021-05-01T11:39:17.284427Z",
          "iopub.status.idle": "2021-05-01T11:39:32.725588Z",
          "shell.execute_reply": "2021-05-01T11:39:32.726092Z"
        },
        "papermill": {
          "duration": 15.72945,
          "end_time": "2021-05-01T11:39:32.726263",
          "exception": false,
          "start_time": "2021-05-01T11:39:16.996813",
          "status": "completed"
        },
        "tags": [],
        "id": "reliable-introduction",
        "outputId": "3208f2bc-1994-4102-ce4a-9a568aa9208a"
      },
      "source": [
        "# Detect hardware, return appropriate distribution strategy\n",
        "try:\n",
        "    # TPU detection. No parameters necessary if TPU_NAME environment variable is\n",
        "    # set: this is always the case on Kaggle.\n",
        "    tpu = tf.distribute.cluster_resolver.TPUClusterResolver()\n",
        "    print('Running on TPU ', tpu.master())\n",
        "except ValueError:\n",
        "    tpu = None\n",
        "\n",
        "if tpu:\n",
        "    tf.config.experimental_connect_to_cluster(tpu)\n",
        "    tf.tpu.experimental.initialize_tpu_system(tpu)\n",
        "    strategy = tf.distribute.experimental.TPUStrategy(tpu)\n",
        "else:\n",
        "    # Default distribution strategy in Tensorflow. Works on CPU and single GPU.\n",
        "    strategy = tf.distribute.get_strategy()\n",
        "\n",
        "print(\"REPLICAS: \", strategy.num_replicas_in_sync)"
      ],
      "id": "reliable-introduction",
      "execution_count": null,
      "outputs": [
        {
          "output_type": "stream",
          "text": [
            "Running on TPU  grpc://10.0.0.2:8470\n",
            "REPLICAS:  8\n"
          ],
          "name": "stdout"
        }
      ]
    },
    {
      "cell_type": "code",
      "metadata": {
        "execution": {
          "iopub.execute_input": "2021-05-01T11:39:33.248649Z",
          "iopub.status.busy": "2021-05-01T11:39:33.247812Z",
          "iopub.status.idle": "2021-05-01T11:39:33.251681Z",
          "shell.execute_reply": "2021-05-01T11:39:33.251155Z"
        },
        "papermill": {
          "duration": 0.266895,
          "end_time": "2021-05-01T11:39:33.251827",
          "exception": false,
          "start_time": "2021-05-01T11:39:32.984932",
          "status": "completed"
        },
        "tags": [],
        "id": "insured-infrastructure",
        "outputId": "bfd768c8-de84-4e52-b942-9e482b3ee734"
      },
      "source": [
        "strategy.num_replicas_in_sync #we've got 8 core"
      ],
      "id": "insured-infrastructure",
      "execution_count": null,
      "outputs": [
        {
          "output_type": "execute_result",
          "data": {
            "text/plain": [
              "8"
            ]
          },
          "metadata": {
            "tags": []
          },
          "execution_count": 15
        }
      ]
    },
    {
      "cell_type": "markdown",
      "metadata": {
        "papermill": {
          "duration": 0.255361,
          "end_time": "2021-05-01T11:39:33.761608",
          "exception": false,
          "start_time": "2021-05-01T11:39:33.506247",
          "status": "completed"
        },
        "tags": [],
        "id": "fossil-antigua"
      },
      "source": [
        "# config"
      ],
      "id": "fossil-antigua"
    },
    {
      "cell_type": "markdown",
      "metadata": {
        "papermill": {
          "duration": 0.25555,
          "end_time": "2021-05-01T11:39:34.274316",
          "exception": false,
          "start_time": "2021-05-01T11:39:34.018766",
          "status": "completed"
        },
        "tags": [],
        "id": "synthetic-prophet"
      },
      "source": [
        "we will use max_len = 192, batch size = 24 * 8 and will train our model for 10 epoch"
      ],
      "id": "synthetic-prophet"
    },
    {
      "cell_type": "code",
      "metadata": {
        "execution": {
          "iopub.execute_input": "2021-05-01T11:39:34.790959Z",
          "iopub.status.busy": "2021-05-01T11:39:34.790043Z",
          "iopub.status.idle": "2021-05-01T11:39:34.792695Z",
          "shell.execute_reply": "2021-05-01T11:39:34.793180Z"
        },
        "papermill": {
          "duration": 0.26403,
          "end_time": "2021-05-01T11:39:34.793349",
          "exception": false,
          "start_time": "2021-05-01T11:39:34.529319",
          "status": "completed"
        },
        "tags": [],
        "id": "optional-greensboro"
      },
      "source": [
        "AUTO = tf.data.experimental.AUTOTUNE\n",
        "\n",
        "# Configuration\n",
        "EPOCHS = 10\n",
        "BATCH_SIZE = 24 * strategy.num_replicas_in_sync # 24 * 8\n",
        "MAX_LEN = 192\n",
        "\n",
        "MODEL = 'roberta-large'"
      ],
      "id": "optional-greensboro",
      "execution_count": null,
      "outputs": []
    },
    {
      "cell_type": "markdown",
      "metadata": {
        "papermill": {
          "duration": 0.253905,
          "end_time": "2021-05-01T11:39:35.302704",
          "exception": false,
          "start_time": "2021-05-01T11:39:35.048799",
          "status": "completed"
        },
        "tags": [],
        "id": "peripheral-flooring"
      },
      "source": [
        "we will use AutoTokenizer from popular huggingface library which is easy to use and apply appropriate tokenization for chosen model,for better understanding please [check this](https://huggingface.co/transformers/model_doc/auto.html)"
      ],
      "id": "peripheral-flooring"
    },
    {
      "cell_type": "code",
      "metadata": {
        "execution": {
          "iopub.execute_input": "2021-05-01T11:39:35.842882Z",
          "iopub.status.busy": "2021-05-01T11:39:35.841872Z",
          "iopub.status.idle": "2021-05-01T11:39:37.130240Z",
          "shell.execute_reply": "2021-05-01T11:39:37.129534Z"
        },
        "papermill": {
          "duration": 1.57489,
          "end_time": "2021-05-01T11:39:37.130380",
          "exception": false,
          "start_time": "2021-05-01T11:39:35.555490",
          "status": "completed"
        },
        "tags": [],
        "colab": {
          "referenced_widgets": [
            "190cf137a2614bcd99c8544d9b96a1cf",
            "455859e1a324421daf65d51ba05dc03d",
            "f7e81631cc534273b531626a95746436"
          ]
        },
        "id": "ideal-winter",
        "outputId": "0263fb34-3453-407e-9bba-8b919dffcca7"
      },
      "source": [
        "# First load the real tokenizer\n",
        "tokenizer = AutoTokenizer.from_pretrained(MODEL)\n"
      ],
      "id": "ideal-winter",
      "execution_count": null,
      "outputs": [
        {
          "output_type": "display_data",
          "data": {
            "application/vnd.jupyter.widget-view+json": {
              "model_id": "190cf137a2614bcd99c8544d9b96a1cf",
              "version_major": 2,
              "version_minor": 0
            },
            "text/plain": [
              "Downloading:   0%|          | 0.00/482 [00:00<?, ?B/s]"
            ]
          },
          "metadata": {
            "tags": []
          }
        },
        {
          "output_type": "display_data",
          "data": {
            "application/vnd.jupyter.widget-view+json": {
              "model_id": "455859e1a324421daf65d51ba05dc03d",
              "version_major": 2,
              "version_minor": 0
            },
            "text/plain": [
              "Downloading:   0%|          | 0.00/899k [00:00<?, ?B/s]"
            ]
          },
          "metadata": {
            "tags": []
          }
        },
        {
          "output_type": "display_data",
          "data": {
            "application/vnd.jupyter.widget-view+json": {
              "model_id": "f7e81631cc534273b531626a95746436",
              "version_major": 2,
              "version_minor": 0
            },
            "text/plain": [
              "Downloading:   0%|          | 0.00/456k [00:00<?, ?B/s]"
            ]
          },
          "metadata": {
            "tags": []
          }
        }
      ]
    },
    {
      "cell_type": "code",
      "metadata": {
        "execution": {
          "iopub.execute_input": "2021-05-01T11:39:37.655755Z",
          "iopub.status.busy": "2021-05-01T11:39:37.654746Z",
          "iopub.status.idle": "2021-05-01T11:39:37.659511Z",
          "shell.execute_reply": "2021-05-01T11:39:37.658860Z"
        },
        "papermill": {
          "duration": 0.27109,
          "end_time": "2021-05-01T11:39:37.659668",
          "exception": false,
          "start_time": "2021-05-01T11:39:37.388578",
          "status": "completed"
        },
        "tags": [],
        "id": "growing-tolerance",
        "outputId": "07b0827c-9e25-43f4-82ce-84c1c73f9dc9"
      },
      "source": [
        "train.columns"
      ],
      "id": "growing-tolerance",
      "execution_count": null,
      "outputs": [
        {
          "output_type": "execute_result",
          "data": {
            "text/plain": [
              "Index(['id', 'comment_text', 'toxic', 'severe_toxic', 'obscene', 'threat',\n",
              "       'insult', 'identity_hate'],\n",
              "      dtype='object')"
            ]
          },
          "metadata": {
            "tags": []
          },
          "execution_count": 18
        }
      ]
    },
    {
      "cell_type": "markdown",
      "metadata": {
        "papermill": {
          "duration": 0.264113,
          "end_time": "2021-05-01T11:39:38.185746",
          "exception": false,
          "start_time": "2021-05-01T11:39:37.921633",
          "status": "completed"
        },
        "tags": [],
        "id": "limited-voluntary"
      },
      "source": [
        "# text cleaning"
      ],
      "id": "limited-voluntary"
    },
    {
      "cell_type": "code",
      "metadata": {
        "execution": {
          "iopub.execute_input": "2021-05-01T11:39:38.807556Z",
          "iopub.status.busy": "2021-05-01T11:39:38.792773Z",
          "iopub.status.idle": "2021-05-01T11:39:38.810738Z",
          "shell.execute_reply": "2021-05-01T11:39:38.810034Z"
        },
        "papermill": {
          "duration": 0.306032,
          "end_time": "2021-05-01T11:39:38.810890",
          "exception": false,
          "start_time": "2021-05-01T11:39:38.504858",
          "status": "completed"
        },
        "tags": [],
        "id": "amateur-vertex"
      },
      "source": [
        "\n",
        "\n",
        "punctuations = [',', '.', '\"', ':', ')', '(', '-', '!', '?', '|', ';', \"'\", '$', '&', '/', '[', ']', '>', '%', '=', '#', '*', '+', '\\\\', '•',  '~', '@', '£',\n",
        " '·', '_', '{', '}', '©', '^', '®', '`',  '<', '→', '°', '€', '™', '›',  '♥', '←', '×', '§', '″', '′', 'Â', '█', '½', 'à', '…', '\\xa0', '\\t',\n",
        " '“', '★', '”', '–', '●', 'â', '►', '−', '¢', '²', '¬', '░', '¶', '↑', '±', '¿', '▾', '═', '¦', '║', '―', '¥', '▓', '—', '‹', '─', '\\u3000', '\\u202f',\n",
        " '▒', '：', '¼', '⊕', '▼', '▪', '†', '■', '’', '▀', '¨', '▄', '♫', '☆', 'é', '¯', '♦', '¤', '▲', 'è', '¸', '¾', 'Ã', '⋅', '‘', '∞', '«',\n",
        " '∙', '）', '↓', '、', '│', '（', '»', '，', '♪', '╩', '╚', '³', '・', '╦', '╣', '╔', '╗', '▬', '❤', 'ï', 'Ø', '¹', '≤', '‡', '√', ]\n",
        "\n",
        "mispell_dict = {\"aren't\" : \"are not\",\n",
        "\"can't\" : \"cannot\",\n",
        "\"couldn't\" : \"could not\",\n",
        "\"couldnt\" : \"could not\",\n",
        "\"didn't\" : \"did not\",\n",
        "\"doesn't\" : \"does not\",\n",
        "\"doesnt\" : \"does not\",\n",
        "\"don't\" : \"do not\",\n",
        "\"hadn't\" : \"had not\",\n",
        "\"hasn't\" : \"has not\",\n",
        "\"haven't\" : \"have not\",\n",
        "\"havent\" : \"have not\",\n",
        "\"he'd\" : \"he would\",\n",
        "\"he'll\" : \"he will\",\n",
        "\"he's\" : \"he is\",\n",
        "\"i'd\" : \"I would\",\n",
        "\"i'd\" : \"I had\",\n",
        "\"i'll\" : \"I will\",\n",
        "\"i'm\" : \"I am\",\n",
        "\"isn't\" : \"is not\",\n",
        "\"it's\" : \"it is\",\n",
        "\"it'll\":\"it will\",\n",
        "\"i've\" : \"I have\",\n",
        "\"let's\" : \"let us\",\n",
        "\"mightn't\" : \"might not\",\n",
        "\"mustn't\" : \"must not\",\n",
        "\"shan't\" : \"shall not\",\n",
        "\"she'd\" : \"she would\",\n",
        "\"she'll\" : \"she will\",\n",
        "\"she's\" : \"she is\",\n",
        "\"shouldn't\" : \"should not\",\n",
        "\"shouldnt\" : \"should not\",\n",
        "\"that's\" : \"that is\",\n",
        "\"thats\" : \"that is\",\n",
        "\"there's\" : \"there is\",\n",
        "\"theres\" : \"there is\",\n",
        "\"they'd\" : \"they would\",\n",
        "\"they'll\" : \"they will\",\n",
        "\"they're\" : \"they are\",\n",
        "\"theyre\":  \"they are\",\n",
        "\"they've\" : \"they have\",\n",
        "\"we'd\" : \"we would\",\n",
        "\"we're\" : \"we are\",\n",
        "\"weren't\" : \"were not\",\n",
        "\"we've\" : \"we have\",\n",
        "\"what'll\" : \"what will\",\n",
        "\"what're\" : \"what are\",\n",
        "\"what's\" : \"what is\",\n",
        "\"what've\" : \"what have\",\n",
        "\"where's\" : \"where is\",\n",
        "\"who'd\" : \"who would\",\n",
        "\"who'll\" : \"who will\",\n",
        "\"who're\" : \"who are\",\n",
        "\"who's\" : \"who is\",\n",
        "\"who've\" : \"who have\",\n",
        "\"won't\" : \"will not\",\n",
        "\"wouldn't\" : \"would not\",\n",
        "\"you'd\" : \"you would\",\n",
        "\"you'll\" : \"you will\",\n",
        "\"you're\" : \"you are\",\n",
        "\"you've\" : \"you have\",\n",
        "\"'re\": \" are\",\n",
        "\"wasn't\": \"was not\",\n",
        "\"we'll\":\" will\",\n",
        "\"didn't\": \"did not\",\n",
        "\"tryin'\":\"trying\"}\n",
        "\n",
        "\n",
        "def text_cleaner(x):\n",
        "    x = str(x).replace(\"\\n\",\"\")\n",
        "    for punctuation in punctuations:\n",
        "        x = x.replace(punctuation, f' {punctuation} ')\n",
        "    return x\n",
        "\n",
        "\n",
        "def numbersCleaner(x):\n",
        "    x = re.sub('[0-9]{5,}', '#####', x)\n",
        "    x = re.sub('[0-9]{4}', '####', x)\n",
        "    x = re.sub('[0-9]{3}', '###', x)\n",
        "    x = re.sub('[0-9]{2}', '##', x)\n",
        "    return x\n",
        "\n",
        "\n",
        "def contractionsHandler(x):\n",
        "    x = tokenizer.tokenize(x)\n",
        "    return x\n",
        "\n",
        "def quoteFixer(data):\n",
        "    data = [x_[1:] if x_.startswith(\"'\") else x_ for x_ in data]\n",
        "    data = ' '.join(data)\n",
        "    return data\n",
        "\n",
        "def missplelling(missplelling_dict):\n",
        "    missplelling_re = re.compile('(%s)' % '|'.join(missplelling_dict.keys()))\n",
        "    return mispell_dict, missplelling_re\n",
        "\n",
        "\n",
        "def replace_misspell(text):\n",
        "    mispellings, mispellings_re = missplelling(mispell_dict)\n",
        "\n",
        "    def replace(match):\n",
        "        return mispellings[match.group(0)]\n",
        "\n",
        "    return mispellings_re.sub(replace, text)\n",
        "\n",
        "\n",
        "def dataCleaner(df, columns: list):\n",
        "    for col in columns:\n",
        "        df[col] = df[col].apply(lambda x: numbersCleaner(x))\n",
        "        df[col] = df[col].apply(lambda x: text_cleaner(x.lower())) \n",
        "        df[col] = df[col].apply(lambda x: replace_misspell(x))\n",
        "        df[col] = df[col].apply(lambda x: contractionsHandler(x))  \n",
        "        df[col] = df[col].apply(lambda x: quoteFixer(x))   \n",
        "    \n",
        "    return df\n",
        "\n"
      ],
      "id": "amateur-vertex",
      "execution_count": null,
      "outputs": []
    },
    {
      "cell_type": "markdown",
      "metadata": {
        "papermill": {
          "duration": 0.258325,
          "end_time": "2021-05-01T11:39:39.328799",
          "exception": false,
          "start_time": "2021-05-01T11:39:39.070474",
          "status": "completed"
        },
        "tags": [],
        "id": "brief-priority"
      },
      "source": [
        "# applying text cleaning on full training dataset "
      ],
      "id": "brief-priority"
    },
    {
      "cell_type": "code",
      "metadata": {
        "execution": {
          "iopub.execute_input": "2021-05-01T11:39:39.849717Z",
          "iopub.status.busy": "2021-05-01T11:39:39.848923Z",
          "iopub.status.idle": "2021-05-01T11:41:52.811462Z",
          "shell.execute_reply": "2021-05-01T11:41:52.812353Z"
        },
        "papermill": {
          "duration": 133.225989,
          "end_time": "2021-05-01T11:41:52.812583",
          "exception": false,
          "start_time": "2021-05-01T11:39:39.586594",
          "status": "completed"
        },
        "tags": [],
        "id": "boring-welding",
        "outputId": "8d441428-0c8e-4bdc-cbaa-f25990e2efc7"
      },
      "source": [
        "%%time\n",
        "input_columns = [\n",
        "    'comment_text'   \n",
        "]\n",
        "\n",
        "'''using text cleaning techniques like clean numbers, clean text,replace some typical misspell,handle some contractions,fix quote \n",
        "on full training data'''\n",
        "\n",
        "train = dataCleaner(train, input_columns ) \n"
      ],
      "id": "boring-welding",
      "execution_count": null,
      "outputs": [
        {
          "output_type": "stream",
          "text": [
            "CPU times: user 2min 12s, sys: 523 ms, total: 2min 12s\n",
            "Wall time: 2min 12s\n"
          ],
          "name": "stdout"
        }
      ]
    },
    {
      "cell_type": "markdown",
      "metadata": {
        "papermill": {
          "duration": 0.258993,
          "end_time": "2021-05-01T11:41:53.335667",
          "exception": false,
          "start_time": "2021-05-01T11:41:53.076674",
          "status": "completed"
        },
        "tags": [],
        "id": "nominated-truck"
      },
      "source": [
        "# there are some values in label that are in float,we convert all of them down to 0/1(nearest integer) as we are treating this problem as multi class classification problem so we should fix the label issues"
      ],
      "id": "nominated-truck"
    },
    {
      "cell_type": "code",
      "metadata": {
        "execution": {
          "iopub.execute_input": "2021-05-01T11:41:53.864672Z",
          "iopub.status.busy": "2021-05-01T11:41:53.863994Z",
          "iopub.status.idle": "2021-05-01T11:41:53.872422Z",
          "shell.execute_reply": "2021-05-01T11:41:53.873013Z"
        },
        "papermill": {
          "duration": 0.28,
          "end_time": "2021-05-01T11:41:53.873202",
          "exception": false,
          "start_time": "2021-05-01T11:41:53.593202",
          "status": "completed"
        },
        "tags": [],
        "id": "approximate-extraction"
      },
      "source": [
        "train.toxic = train.toxic.round().astype(int)\n",
        "train.severe_toxic = train.severe_toxic.round().astype(int)\n",
        "train.obscene = train.obscene.round().astype(int)\n",
        "train.threat = train.threat.round().astype(int)\n",
        "train.insult = train.insult.round().astype(int)\n",
        "train.identity_hate = train.identity_hate.round().astype(int)\n"
      ],
      "id": "approximate-extraction",
      "execution_count": null,
      "outputs": []
    },
    {
      "cell_type": "markdown",
      "metadata": {
        "papermill": {
          "duration": 0.260331,
          "end_time": "2021-05-01T11:41:54.393857",
          "exception": false,
          "start_time": "2021-05-01T11:41:54.133526",
          "status": "completed"
        },
        "tags": [],
        "id": "impossible-fifteen"
      },
      "source": [
        "data distribution of each class"
      ],
      "id": "impossible-fifteen"
    },
    {
      "cell_type": "code",
      "metadata": {
        "execution": {
          "iopub.execute_input": "2021-05-01T11:41:54.919802Z",
          "iopub.status.busy": "2021-05-01T11:41:54.918621Z",
          "iopub.status.idle": "2021-05-01T11:41:54.961052Z",
          "shell.execute_reply": "2021-05-01T11:41:54.960539Z"
        },
        "papermill": {
          "duration": 0.307608,
          "end_time": "2021-05-01T11:41:54.961194",
          "exception": false,
          "start_time": "2021-05-01T11:41:54.653586",
          "status": "completed"
        },
        "tags": [],
        "id": "romantic-antibody",
        "outputId": "8c2a512a-b8b8-4824-e354-63091bf6e2e9"
      },
      "source": [
        "train[['identity_hate']].value_counts(),train[['toxic']].value_counts(),train[['severe_toxic']].value_counts(),train[['obscene']].value_counts(),train[['threat']].value_counts(),train[['insult']].value_counts()"
      ],
      "id": "romantic-antibody",
      "execution_count": null,
      "outputs": [
        {
          "output_type": "execute_result",
          "data": {
            "text/plain": [
              "(identity_hate\n",
              " 0                158166\n",
              " 1                  1405\n",
              " dtype: int64,\n",
              " toxic\n",
              " 0        144277\n",
              " 1         15294\n",
              " dtype: int64,\n",
              " severe_toxic\n",
              " 0               157976\n",
              " 1                 1595\n",
              " dtype: int64,\n",
              " obscene\n",
              " 0          151122\n",
              " 1            8449\n",
              " dtype: int64,\n",
              " threat\n",
              " 0         159093\n",
              " 1            478\n",
              " dtype: int64,\n",
              " insult\n",
              " 0         151694\n",
              " 1           7877\n",
              " dtype: int64)"
            ]
          },
          "metadata": {
            "tags": []
          },
          "execution_count": 22
        }
      ]
    },
    {
      "cell_type": "markdown",
      "metadata": {
        "papermill": {
          "duration": 0.261921,
          "end_time": "2021-05-01T11:41:55.481042",
          "exception": false,
          "start_time": "2021-05-01T11:41:55.219121",
          "status": "completed"
        },
        "tags": [],
        "id": "olympic-mistake"
      },
      "source": [
        "for validation set we are going to take 90000 non toxic samples and 5000 toxic samples instead of doing simple 80-20 train test split,because that way it's easy to get a validation set which will contain small amount of toxic samples or no toxic samples at all as our dataset is highly imbalanced,so simple 80-20 split is not a good validation strategy here and we can't put enough trust on that validation strategy for this task,we must ensure that the valdiation dataset that we prepare here will contain sufficient positive ,negative samples for each and every class,hope it makes sense."
      ],
      "id": "olympic-mistake"
    },
    {
      "cell_type": "code",
      "metadata": {
        "execution": {
          "iopub.execute_input": "2021-05-01T11:41:56.003464Z",
          "iopub.status.busy": "2021-05-01T11:41:56.002347Z",
          "iopub.status.idle": "2021-05-01T11:41:56.110607Z",
          "shell.execute_reply": "2021-05-01T11:41:56.110028Z"
        },
        "papermill": {
          "duration": 0.370957,
          "end_time": "2021-05-01T11:41:56.110746",
          "exception": false,
          "start_time": "2021-05-01T11:41:55.739789",
          "status": "completed"
        },
        "tags": [],
        "id": "trying-gnome",
        "outputId": "cb6a853f-de48-4435-e164-e5a7d1fb0839"
      },
      "source": [
        "val =  pd.concat([\n",
        "  \n",
        "    train[['toxic', 'comment_text', 'severe_toxic', 'obscene', 'insult', 'threat', 'identity_hate']].query('toxic==0').sample(n=90000, random_state=0),\n",
        "\n",
        "    #train[['toxic', 'comment_text', 'severe_toxic', 'obscene', 'insult', 'threat', 'identity_hate']].query('severe_toxic==1').sample(n=500, random_state=0),\n",
        "    \n",
        "    train[['toxic', 'comment_text', 'severe_toxic', 'obscene', 'insult', 'threat', 'identity_hate']].query('toxic==1').sample(n=5000, random_state=0),\n",
        "\n",
        "    #train[['toxic', 'comment_text', 'severe_toxic', 'obscene', 'insult', 'threat', 'identity_hate']].query('obscene==1').sample(n=2000, random_state=0),\n",
        "\n",
        "    #train[['toxic', 'comment_text', 'severe_toxic', 'obscene', 'insult', 'threat', 'identity_hate']].query('insult==1').sample(n=2000, random_state=0),\n",
        "\n",
        "    #train[['toxic', 'comment_text', 'severe_toxic', 'obscene', 'insult', 'threat', 'identity_hate']].query('threat==1').sample(n=150, random_state=0),\n",
        "\n",
        "    #train[['toxic', 'comment_text', 'severe_toxic', 'obscene', 'insult', 'threat', 'identity_hate']].query('identity_hate==1').sample(n=500, random_state=0)\n",
        "])\n",
        "val.reset_index(inplace = True)\n",
        "len(val)"
      ],
      "id": "trying-gnome",
      "execution_count": null,
      "outputs": [
        {
          "output_type": "execute_result",
          "data": {
            "text/plain": [
              "95000"
            ]
          },
          "metadata": {
            "tags": []
          },
          "execution_count": 23
        }
      ]
    },
    {
      "cell_type": "code",
      "metadata": {
        "execution": {
          "iopub.execute_input": "2021-05-01T11:41:56.634014Z",
          "iopub.status.busy": "2021-05-01T11:41:56.633320Z",
          "iopub.status.idle": "2021-05-01T11:41:57.081498Z",
          "shell.execute_reply": "2021-05-01T11:41:57.080843Z"
        },
        "papermill": {
          "duration": 0.71184,
          "end_time": "2021-05-01T11:41:57.081639",
          "exception": false,
          "start_time": "2021-05-01T11:41:56.369799",
          "status": "completed"
        },
        "tags": [],
        "id": "checked-deposit",
        "outputId": "2c557108-6c44-48ef-e361-0294a7fa5963"
      },
      "source": [
        "checkDuplicate = val[val.duplicated()]\n",
        "checkDuplicate"
      ],
      "id": "checked-deposit",
      "execution_count": null,
      "outputs": [
        {
          "output_type": "execute_result",
          "data": {
            "text/html": [
              "<div>\n",
              "<style scoped>\n",
              "    .dataframe tbody tr th:only-of-type {\n",
              "        vertical-align: middle;\n",
              "    }\n",
              "\n",
              "    .dataframe tbody tr th {\n",
              "        vertical-align: top;\n",
              "    }\n",
              "\n",
              "    .dataframe thead th {\n",
              "        text-align: right;\n",
              "    }\n",
              "</style>\n",
              "<table border=\"1\" class=\"dataframe\">\n",
              "  <thead>\n",
              "    <tr style=\"text-align: right;\">\n",
              "      <th></th>\n",
              "      <th>index</th>\n",
              "      <th>toxic</th>\n",
              "      <th>comment_text</th>\n",
              "      <th>severe_toxic</th>\n",
              "      <th>obscene</th>\n",
              "      <th>insult</th>\n",
              "      <th>threat</th>\n",
              "      <th>identity_hate</th>\n",
              "    </tr>\n",
              "  </thead>\n",
              "  <tbody>\n",
              "  </tbody>\n",
              "</table>\n",
              "</div>"
            ],
            "text/plain": [
              "Empty DataFrame\n",
              "Columns: [index, toxic, comment_text, severe_toxic, obscene, insult, threat, identity_hate]\n",
              "Index: []"
            ]
          },
          "metadata": {
            "tags": []
          },
          "execution_count": 24
        }
      ]
    },
    {
      "cell_type": "code",
      "metadata": {
        "execution": {
          "iopub.execute_input": "2021-05-01T11:41:57.607918Z",
          "iopub.status.busy": "2021-05-01T11:41:57.607093Z",
          "iopub.status.idle": "2021-05-01T11:41:57.637521Z",
          "shell.execute_reply": "2021-05-01T11:41:57.636973Z"
        },
        "papermill": {
          "duration": 0.297183,
          "end_time": "2021-05-01T11:41:57.637659",
          "exception": false,
          "start_time": "2021-05-01T11:41:57.340476",
          "status": "completed"
        },
        "tags": [],
        "id": "intensive-champion",
        "outputId": "877bacb2-8e0a-4af2-932d-2a4dd820a234"
      },
      "source": [
        "val[['identity_hate']].value_counts(),val[['toxic']].value_counts(),val[['severe_toxic']].value_counts(),val[['obscene']].value_counts(),val[['threat']].value_counts(),val[['insult']].value_counts()"
      ],
      "id": "intensive-champion",
      "execution_count": null,
      "outputs": [
        {
          "output_type": "execute_result",
          "data": {
            "text/plain": [
              "(identity_hate\n",
              " 0                94499\n",
              " 1                  501\n",
              " dtype: int64,\n",
              " toxic\n",
              " 0        90000\n",
              " 1         5000\n",
              " dtype: int64,\n",
              " severe_toxic\n",
              " 0               94449\n",
              " 1                 551\n",
              " dtype: int64,\n",
              " obscene\n",
              " 0          92034\n",
              " 1           2966\n",
              " dtype: int64,\n",
              " threat\n",
              " 0         94832\n",
              " 1           168\n",
              " dtype: int64,\n",
              " insult\n",
              " 0         92252\n",
              " 1          2748\n",
              " dtype: int64)"
            ]
          },
          "metadata": {
            "tags": []
          },
          "execution_count": 25
        }
      ]
    },
    {
      "cell_type": "markdown",
      "metadata": {
        "papermill": {
          "duration": 0.275496,
          "end_time": "2021-05-01T11:41:58.170240",
          "exception": false,
          "start_time": "2021-05-01T11:41:57.894744",
          "status": "completed"
        },
        "tags": [],
        "id": "acoustic-stamp"
      },
      "source": [
        "removing chosen validation indexes from train dataset(as they are no longer our training samples,we will use them for evaluation)"
      ],
      "id": "acoustic-stamp"
    },
    {
      "cell_type": "code",
      "metadata": {
        "execution": {
          "iopub.execute_input": "2021-05-01T11:41:58.725692Z",
          "iopub.status.busy": "2021-05-01T11:41:58.725005Z",
          "iopub.status.idle": "2021-05-01T11:41:58.727644Z",
          "shell.execute_reply": "2021-05-01T11:41:58.728082Z"
        },
        "papermill": {
          "duration": 0.295423,
          "end_time": "2021-05-01T11:41:58.728274",
          "exception": false,
          "start_time": "2021-05-01T11:41:58.432851",
          "status": "completed"
        },
        "tags": [],
        "id": "defensive-terminal",
        "outputId": "a871f440-8828-4fcd-e66e-098223040a7b"
      },
      "source": [
        "list1 = val.index\n",
        "list1"
      ],
      "id": "defensive-terminal",
      "execution_count": null,
      "outputs": [
        {
          "output_type": "execute_result",
          "data": {
            "text/plain": [
              "RangeIndex(start=0, stop=95000, step=1)"
            ]
          },
          "metadata": {
            "tags": []
          },
          "execution_count": 26
        }
      ]
    },
    {
      "cell_type": "code",
      "metadata": {
        "execution": {
          "iopub.execute_input": "2021-05-01T11:41:59.245026Z",
          "iopub.status.busy": "2021-05-01T11:41:59.244357Z",
          "iopub.status.idle": "2021-05-01T11:41:59.250255Z",
          "shell.execute_reply": "2021-05-01T11:41:59.249612Z"
        },
        "papermill": {
          "duration": 0.265664,
          "end_time": "2021-05-01T11:41:59.250394",
          "exception": false,
          "start_time": "2021-05-01T11:41:58.984730",
          "status": "completed"
        },
        "tags": [],
        "id": "enclosed-summer",
        "outputId": "a39c9d23-d310-4643-8c71-e7d5d4515bbf"
      },
      "source": [
        "len(train)"
      ],
      "id": "enclosed-summer",
      "execution_count": null,
      "outputs": [
        {
          "output_type": "execute_result",
          "data": {
            "text/plain": [
              "159571"
            ]
          },
          "metadata": {
            "tags": []
          },
          "execution_count": 27
        }
      ]
    },
    {
      "cell_type": "code",
      "metadata": {
        "execution": {
          "iopub.execute_input": "2021-05-01T11:41:59.776256Z",
          "iopub.status.busy": "2021-05-01T11:41:59.775626Z",
          "iopub.status.idle": "2021-05-01T11:41:59.789664Z",
          "shell.execute_reply": "2021-05-01T11:41:59.790138Z"
        },
        "papermill": {
          "duration": 0.279971,
          "end_time": "2021-05-01T11:41:59.790315",
          "exception": false,
          "start_time": "2021-05-01T11:41:59.510344",
          "status": "completed"
        },
        "tags": [],
        "id": "beautiful-stretch",
        "outputId": "e6424676-30db-48cd-dee7-554b5f5e3c9b"
      },
      "source": [
        "train = train.loc[~train.index.isin(list1)]\n",
        "train.reset_index(inplace = True)\n",
        "len(train)"
      ],
      "id": "beautiful-stretch",
      "execution_count": null,
      "outputs": [
        {
          "output_type": "execute_result",
          "data": {
            "text/plain": [
              "64571"
            ]
          },
          "metadata": {
            "tags": []
          },
          "execution_count": 28
        }
      ]
    },
    {
      "cell_type": "markdown",
      "metadata": {
        "papermill": {
          "duration": 0.261807,
          "end_time": "2021-05-01T11:42:00.312187",
          "exception": false,
          "start_time": "2021-05-01T11:42:00.050380",
          "status": "completed"
        },
        "tags": [],
        "id": "floating-patient"
      },
      "source": [
        "# After splitting train and validation dataset,let's check our dataset's present distribution now that we are going to use for model training"
      ],
      "id": "floating-patient"
    },
    {
      "cell_type": "code",
      "metadata": {
        "execution": {
          "iopub.execute_input": "2021-05-01T11:42:00.887242Z",
          "iopub.status.busy": "2021-05-01T11:42:00.884710Z",
          "iopub.status.idle": "2021-05-01T11:42:01.655368Z",
          "shell.execute_reply": "2021-05-01T11:42:01.654693Z"
        },
        "papermill": {
          "duration": 1.082743,
          "end_time": "2021-05-01T11:42:01.655520",
          "exception": false,
          "start_time": "2021-05-01T11:42:00.572777",
          "status": "completed"
        },
        "tags": [],
        "id": "advised-retention",
        "outputId": "497d4093-42fc-4934-e730-1a33f2381edb"
      },
      "source": [
        "fig , axes = plt.subplots(2,3,figsize = (10,10), constrained_layout = True)\n",
        "sns.countplot(ax=axes[0,0],x='toxic',data=train)\n",
        "sns.countplot(ax=axes[0,1],x='severe_toxic',data=train)\n",
        "sns.countplot(ax=axes[0,2],x='obscene',data=train)\n",
        "sns.countplot(ax = axes[1,0],x='threat',data=train)\n",
        "sns.countplot(ax=axes[1,1],x='insult',data=train)\n",
        "sns.countplot(ax=axes[1,2],x='identity_hate',data=train)\n",
        "plt.suptitle('training data distribution of each class')\n",
        "plt.show()"
      ],
      "id": "advised-retention",
      "execution_count": null,
      "outputs": [
        {
          "output_type": "display_data",
          "data": {
            "image/png": "[encoded data removed]",
            "text/plain": [
              "<Figure size 720x720 with 6 Axes>"
            ]
          },
          "metadata": {
            "tags": [],
            "needs_background": "light"
          }
        }
      ]
    },
    {
      "cell_type": "code",
      "metadata": {
        "execution": {
          "iopub.execute_input": "2021-05-01T11:42:02.250307Z",
          "iopub.status.busy": "2021-05-01T11:42:02.248423Z",
          "iopub.status.idle": "2021-05-01T11:42:02.876950Z",
          "shell.execute_reply": "2021-05-01T11:42:02.876245Z"
        },
        "papermill": {
          "duration": 0.956745,
          "end_time": "2021-05-01T11:42:02.877092",
          "exception": false,
          "start_time": "2021-05-01T11:42:01.920347",
          "status": "completed"
        },
        "tags": [],
        "id": "adapted-thesis",
        "outputId": "cd3351ad-3431-42c5-9994-27b847cd2084"
      },
      "source": [
        "fig , axes = plt.subplots(2,3,figsize = (10,10), constrained_layout = True)\n",
        "sns.countplot(ax=axes[0,0],x='toxic',data=val)\n",
        "sns.countplot(ax=axes[0,1],x='severe_toxic',data=val)\n",
        "sns.countplot(ax=axes[0,2],x='obscene',data=val)\n",
        "sns.countplot(ax = axes[1,0],x='threat',data=val)\n",
        "sns.countplot(ax=axes[1,1],x='insult',data=val)\n",
        "sns.countplot(ax=axes[1,2],x='identity_hate',data=val)\n",
        "plt.suptitle('validation data distribution of each class')\n",
        "plt.show()"
      ],
      "id": "adapted-thesis",
      "execution_count": null,
      "outputs": [
        {
          "output_type": "display_data",
          "data": {
            "image/png": "[encoded data removed]",
            "text/plain": [
              "<Figure size 720x720 with 6 Axes>"
            ]
          },
          "metadata": {
            "tags": [],
            "needs_background": "light"
          }
        }
      ]
    },
    {
      "cell_type": "markdown",
      "metadata": {
        "papermill": {
          "duration": 0.272479,
          "end_time": "2021-05-01T11:42:03.419379",
          "exception": false,
          "start_time": "2021-05-01T11:42:03.146900",
          "status": "completed"
        },
        "tags": [],
        "id": "deluxe-spanking"
      },
      "source": [
        "from above 2 graphs we can see we have enough dataset in train and validation, and in both dataset we have high imbalance samples for each class but most importantly we can see that our validation dataset's each class containing enough positive negative samples and there are no class where we don't have any toxic samples,,so validation accuracy on this dataset is reliable enough"
      ],
      "id": "deluxe-spanking"
    },
    {
      "cell_type": "markdown",
      "metadata": {
        "papermill": {
          "duration": 0.26047,
          "end_time": "2021-05-01T11:42:03.940331",
          "exception": false,
          "start_time": "2021-05-01T11:42:03.679861",
          "status": "completed"
        },
        "tags": [],
        "id": "handmade-mailing"
      },
      "source": [
        "the function below is used for applying tokenization for our selected model,,for better understanding of selected tokenization method,please [check this](https://huggingface.co/transformers/main_classes/tokenizer.html)"
      ],
      "id": "handmade-mailing"
    },
    {
      "cell_type": "code",
      "metadata": {
        "execution": {
          "iopub.execute_input": "2021-05-01T11:42:04.519811Z",
          "iopub.status.busy": "2021-05-01T11:42:04.519155Z",
          "iopub.status.idle": "2021-05-01T11:42:04.520958Z",
          "shell.execute_reply": "2021-05-01T11:42:04.521508Z"
        },
        "papermill": {
          "duration": 0.320761,
          "end_time": "2021-05-01T11:42:04.521678",
          "exception": false,
          "start_time": "2021-05-01T11:42:04.200917",
          "status": "completed"
        },
        "tags": [],
        "id": "limited-desperate"
      },
      "source": [
        "def regular_encode(texts, tokenizer, maxlen=512):\n",
        "    enc_di = tokenizer.batch_encode_plus(\n",
        "        texts, \n",
        "        return_attention_mask=False, \n",
        "        return_token_type_ids=False,\n",
        "        pad_to_max_length=True,\n",
        "        max_length=maxlen\n",
        "    )\n",
        "    \n",
        "    return np.array(enc_di['input_ids'])"
      ],
      "id": "limited-desperate",
      "execution_count": null,
      "outputs": []
    },
    {
      "cell_type": "markdown",
      "metadata": {
        "papermill": {
          "duration": 0.263745,
          "end_time": "2021-05-01T11:42:05.048024",
          "exception": false,
          "start_time": "2021-05-01T11:42:04.784279",
          "status": "completed"
        },
        "tags": [],
        "id": "limiting-couple"
      },
      "source": [
        "# we will use focal loss as our loss function as our dataset is highly imbalanced and focal loss does well when dataset is highly imbalance"
      ],
      "id": "limiting-couple"
    },
    {
      "cell_type": "code",
      "metadata": {
        "execution": {
          "iopub.execute_input": "2021-05-01T11:42:05.578357Z",
          "iopub.status.busy": "2021-05-01T11:42:05.577232Z",
          "iopub.status.idle": "2021-05-01T11:42:05.584361Z",
          "shell.execute_reply": "2021-05-01T11:42:05.583847Z"
        },
        "papermill": {
          "duration": 0.272541,
          "end_time": "2021-05-01T11:42:05.584586",
          "exception": false,
          "start_time": "2021-05-01T11:42:05.312045",
          "status": "completed"
        },
        "tags": [],
        "id": "technological-somerset"
      },
      "source": [
        "\n",
        "\n",
        "def focal_loss(gamma=2., alpha=.2):\n",
        "    def focal_loss_fixed(y_true, y_pred):\n",
        "        pt_1 = tf.where(tf.equal(y_true, 1), y_pred, tf.ones_like(y_pred))\n",
        "        pt_0 = tf.where(tf.equal(y_true, 0), y_pred, tf.zeros_like(y_pred))\n",
        "        return -K.mean(alpha * K.pow(1. - pt_1, gamma) * K.log(pt_1)) - K.mean((1 - alpha) * K.pow(pt_0, gamma) * K.log(1. - pt_0))\n",
        "    return focal_loss_fixed"
      ],
      "id": "technological-somerset",
      "execution_count": null,
      "outputs": []
    },
    {
      "cell_type": "markdown",
      "metadata": {
        "papermill": {
          "duration": 0.261787,
          "end_time": "2021-05-01T11:42:06.108614",
          "exception": false,
          "start_time": "2021-05-01T11:42:05.846827",
          "status": "completed"
        },
        "tags": [],
        "id": "individual-healthcare"
      },
      "source": [
        "# the function below will help us load our model and as metric we will use multilable AUC"
      ],
      "id": "individual-healthcare"
    },
    {
      "cell_type": "code",
      "metadata": {
        "execution": {
          "iopub.execute_input": "2021-05-01T11:42:06.642812Z",
          "iopub.status.busy": "2021-05-01T11:42:06.642115Z",
          "iopub.status.idle": "2021-05-01T11:42:06.644061Z",
          "shell.execute_reply": "2021-05-01T11:42:06.644569Z"
        },
        "papermill": {
          "duration": 0.272419,
          "end_time": "2021-05-01T11:42:06.644733",
          "exception": false,
          "start_time": "2021-05-01T11:42:06.372314",
          "status": "completed"
        },
        "tags": [],
        "id": "defensive-cologne"
      },
      "source": [
        "def build_model(transformer, loss, max_len=512):\n",
        "  \n",
        "    input_word_ids = Input(shape=(max_len,), dtype=tf.int32, name=\"input_word_ids\")\n",
        "    sequence_output = transformer(input_word_ids)[0]\n",
        "    cls_token = sequence_output[:, 0, :]\n",
        "    x = tf.keras.layers.Dropout(0.3)(cls_token)\n",
        "    out = Dense(6, activation='sigmoid')(cls_token) # we have 6 class\n",
        "    \n",
        "    model = Model(inputs=input_word_ids, outputs=out)\n",
        "    model.compile(Adam(lr=1e-5), loss=loss, metrics=[tf.keras.metrics.AUC(multi_label = True),tf.keras.metrics.Recall()])\n",
        "    \n",
        "    return model"
      ],
      "id": "defensive-cologne",
      "execution_count": null,
      "outputs": []
    },
    {
      "cell_type": "markdown",
      "metadata": {
        "papermill": {
          "duration": 0.267229,
          "end_time": "2021-05-01T11:42:07.174505",
          "exception": false,
          "start_time": "2021-05-01T11:42:06.907276",
          "status": "completed"
        },
        "tags": [],
        "id": "decent-quebec"
      },
      "source": [
        "encoding our train and validation dataset using regular encode class as discussed above"
      ],
      "id": "decent-quebec"
    },
    {
      "cell_type": "code",
      "metadata": {
        "execution": {
          "iopub.execute_input": "2021-05-01T11:42:07.709902Z",
          "iopub.status.busy": "2021-05-01T11:42:07.708807Z",
          "iopub.status.idle": "2021-05-01T11:46:50.541795Z",
          "shell.execute_reply": "2021-05-01T11:46:50.542337Z"
        },
        "papermill": {
          "duration": 283.101703,
          "end_time": "2021-05-01T11:46:50.542580",
          "exception": false,
          "start_time": "2021-05-01T11:42:07.440877",
          "status": "completed"
        },
        "tags": [],
        "id": "fitting-interval",
        "outputId": "20cfeb2c-6491-4404-a91f-5609f9007518"
      },
      "source": [
        "%%time \n",
        "\n",
        "x_train = regular_encode(train.comment_text.values, tokenizer, maxlen=MAX_LEN)\n",
        "x_valid = regular_encode(val.comment_text.values, tokenizer, maxlen=MAX_LEN)\n",
        "\n",
        "\n",
        "y_train = np.stack([train.toxic.values, train.severe_toxic.values, train.obscene.values, train.threat.values, train.insult.values, train.identity_hate.values], axis = 1)\n",
        "\n",
        "y_valid = np.stack([val.toxic.values, val.severe_toxic.values, val.obscene.values, val.threat.values, val.insult.values, val.identity_hate.values], axis = 1)\n"
      ],
      "id": "fitting-interval",
      "execution_count": null,
      "outputs": [
        {
          "output_type": "stream",
          "text": [
            "Truncation was not explicitly activated but `max_length` is provided a specific value, please use `truncation=True` to explicitly truncate examples to max length. Defaulting to 'longest_first' truncation strategy. If you encode pairs of sequences (GLUE-style) with the tokenizer you can select this strategy more precisely by providing a specific strategy to `truncation`.\n",
            "/opt/conda/lib/python3.7/site-packages/transformers/tokenization_utils_base.py:2022: FutureWarning: The `pad_to_max_length` argument is deprecated and will be removed in a future version, use `padding=True` or `padding='longest'` to pad to the longest sequence in the batch, or use `padding='max_length'` to pad to a max length. In this case, you can give a specific length with `max_length` (e.g. `max_length=45`) or leave max_length to None to pad to the maximal input size of the model (e.g. 512 for Bert).\n",
            "  FutureWarning,\n"
          ],
          "name": "stderr"
        },
        {
          "output_type": "stream",
          "text": [
            "CPU times: user 4min 42s, sys: 592 ms, total: 4min 42s\n",
            "Wall time: 4min 42s\n"
          ],
          "name": "stdout"
        }
      ]
    },
    {
      "cell_type": "code",
      "metadata": {
        "execution": {
          "iopub.execute_input": "2021-05-01T11:46:51.066851Z",
          "iopub.status.busy": "2021-05-01T11:46:51.065897Z",
          "iopub.status.idle": "2021-05-01T11:46:51.072403Z",
          "shell.execute_reply": "2021-05-01T11:46:51.071767Z"
        },
        "papermill": {
          "duration": 0.269959,
          "end_time": "2021-05-01T11:46:51.072565",
          "exception": false,
          "start_time": "2021-05-01T11:46:50.802606",
          "status": "completed"
        },
        "tags": [],
        "id": "previous-float",
        "outputId": "176117b7-6caf-423a-c09d-1850471f7a05"
      },
      "source": [
        "y_train.shape"
      ],
      "id": "previous-float",
      "execution_count": null,
      "outputs": [
        {
          "output_type": "execute_result",
          "data": {
            "text/plain": [
              "(64571, 6)"
            ]
          },
          "metadata": {
            "tags": []
          },
          "execution_count": 35
        }
      ]
    },
    {
      "cell_type": "markdown",
      "metadata": {
        "papermill": {
          "duration": 0.260804,
          "end_time": "2021-05-01T11:46:51.593339",
          "exception": false,
          "start_time": "2021-05-01T11:46:51.332535",
          "status": "completed"
        },
        "tags": [],
        "id": "alike-resolution"
      },
      "source": [
        "after encoding we will pass the encoded data to tf.data api for preparing our final training and validation dataset which we will be able to use in our model finally"
      ],
      "id": "alike-resolution"
    },
    {
      "cell_type": "code",
      "metadata": {
        "execution": {
          "iopub.execute_input": "2021-05-01T11:46:52.308504Z",
          "iopub.status.busy": "2021-05-01T11:46:52.307778Z",
          "iopub.status.idle": "2021-05-01T11:46:53.137907Z",
          "shell.execute_reply": "2021-05-01T11:46:53.137235Z"
        },
        "papermill": {
          "duration": 1.283151,
          "end_time": "2021-05-01T11:46:53.138079",
          "exception": false,
          "start_time": "2021-05-01T11:46:51.854928",
          "status": "completed"
        },
        "tags": [],
        "id": "postal-amazon"
      },
      "source": [
        "\n",
        "train_dataset = (\n",
        "    tf.data.Dataset\n",
        "    .from_tensor_slices((x_train, y_train))\n",
        "    .repeat()\n",
        "    .shuffle(2048)\n",
        "    .batch(BATCH_SIZE)\n",
        "    .prefetch(AUTO)\n",
        ")\n",
        "\n",
        "\n",
        "\n",
        "valid_dataset = (\n",
        "    tf.data.Dataset\n",
        "    .from_tensor_slices((x_valid, y_valid))\n",
        "    .batch(BATCH_SIZE)\n",
        "    .cache()\n",
        "    .prefetch(AUTO)\n",
        ")\n"
      ],
      "id": "postal-amazon",
      "execution_count": null,
      "outputs": []
    },
    {
      "cell_type": "markdown",
      "metadata": {
        "papermill": {
          "duration": 0.261881,
          "end_time": "2021-05-01T11:46:53.661383",
          "exception": false,
          "start_time": "2021-05-01T11:46:53.399502",
          "status": "completed"
        },
        "tags": [],
        "id": "ordinary-cookbook"
      },
      "source": [
        "# load the pretrained model that we are going to use for finetuning"
      ],
      "id": "ordinary-cookbook"
    },
    {
      "cell_type": "code",
      "metadata": {
        "execution": {
          "iopub.execute_input": "2021-05-01T11:46:54.188639Z",
          "iopub.status.busy": "2021-05-01T11:46:54.187905Z",
          "iopub.status.idle": "2021-05-01T11:48:19.812115Z",
          "shell.execute_reply": "2021-05-01T11:48:19.812598Z"
        },
        "papermill": {
          "duration": 85.890672,
          "end_time": "2021-05-01T11:48:19.812789",
          "exception": false,
          "start_time": "2021-05-01T11:46:53.922117",
          "status": "completed"
        },
        "tags": [],
        "id": "russian-vector",
        "outputId": "329c5c40-eab6-4776-ef35-742f8342092c"
      },
      "source": [
        "%%time\n",
        "with strategy.scope():\n",
        "    transformer_layer = TFAutoModel.from_pretrained(MODEL)\n",
        "    model = build_model(transformer_layer,loss = focal_loss(), max_len=MAX_LEN)\n",
        "model.summary()"
      ],
      "id": "russian-vector",
      "execution_count": null,
      "outputs": [
        {
          "output_type": "display_data",
          "data": {
            "application/vnd.jupyter.widget-view+json": {
              "model_id": "c5192f58795f48fc86919e0b43ed4355",
              "version_major": 2,
              "version_minor": 0
            },
            "text/plain": [
              "Downloading:   0%|          | 0.00/1.63G [00:00<?, ?B/s]"
            ]
          },
          "metadata": {
            "tags": []
          }
        },
        {
          "output_type": "stream",
          "text": [
            "Some layers from the model checkpoint at roberta-large were not used when initializing TFRobertaModel: ['lm_head']\n",
            "- This IS expected if you are initializing TFRobertaModel from the checkpoint of a model trained on another task or with another architecture (e.g. initializing a BertForSequenceClassification model from a BertForPreTraining model).\n",
            "- This IS NOT expected if you are initializing TFRobertaModel from the checkpoint of a model that you expect to be exactly identical (initializing a BertForSequenceClassification model from a BertForSequenceClassification model).\n",
            "All the layers of TFRobertaModel were initialized from the model checkpoint at roberta-large.\n",
            "If your task is similar to the task the model of the checkpoint was trained on, you can already use TFRobertaModel for predictions without further training.\n"
          ],
          "name": "stderr"
        },
        {
          "output_type": "stream",
          "text": [
            "Model: \"model\"\n",
            "_________________________________________________________________\n",
            "Layer (type)                 Output Shape              Param #   \n",
            "=================================================================\n",
            "input_word_ids (InputLayer)  [(None, 192)]             0         \n",
            "_________________________________________________________________\n",
            "tf_roberta_model (TFRobertaM ((None, 192, 1024), (None 355359744 \n",
            "_________________________________________________________________\n",
            "tf_op_layer_strided_slice (T [(None, 1024)]            0         \n",
            "_________________________________________________________________\n",
            "dense (Dense)                (None, 6)                 6150      \n",
            "=================================================================\n",
            "Total params: 355,365,894\n",
            "Trainable params: 355,365,894\n",
            "Non-trainable params: 0\n",
            "_________________________________________________________________\n",
            "CPU times: user 1min 7s, sys: 19.8 s, total: 1min 26s\n",
            "Wall time: 1min 25s\n"
          ],
          "name": "stdout"
        }
      ]
    },
    {
      "cell_type": "markdown",
      "metadata": {
        "papermill": {
          "duration": 0.265087,
          "end_time": "2021-05-01T11:48:20.345175",
          "exception": false,
          "start_time": "2021-05-01T11:48:20.080088",
          "status": "completed"
        },
        "tags": [],
        "id": "recent-kidney"
      },
      "source": [
        "# check our model summary as a picture/image"
      ],
      "id": "recent-kidney"
    },
    {
      "cell_type": "code",
      "metadata": {
        "execution": {
          "iopub.execute_input": "2021-05-01T11:48:20.882156Z",
          "iopub.status.busy": "2021-05-01T11:48:20.881259Z",
          "iopub.status.idle": "2021-05-01T11:48:21.386330Z",
          "shell.execute_reply": "2021-05-01T11:48:21.385829Z"
        },
        "papermill": {
          "duration": 0.773918,
          "end_time": "2021-05-01T11:48:21.386487",
          "exception": false,
          "start_time": "2021-05-01T11:48:20.612569",
          "status": "completed"
        },
        "tags": [],
        "id": "prompt-diversity",
        "outputId": "185bf44e-2b24-45ff-9cbb-be0c86d34804"
      },
      "source": [
        "\n",
        "SVG(tf.keras.utils.model_to_dot(model, dpi=70).create(prog='dot', format='svg'))"
      ],
      "id": "prompt-diversity",
      "execution_count": null,
      "outputs": [
        {
          "output_type": "execute_result",
          "data": {
            "image/svg+xml": "<svg height=\"257pt\" viewBox=\"0.00 0.00 350.00 264.00\" width=\"340pt\" xmlns=\"http://www.w3.org/2000/svg\" xmlns:xlink=\"http://www.w3.org/1999/xlink\">\n<g class=\"graph\" id=\"graph0\" transform=\"scale(0.97 0.97) rotate(0) translate(4 260)\">\n<title>G</title>\n<polygon fill=\"white\" points=\"-4,4 -4,-260 346,-260 346,4 -4,4\" stroke=\"transparent\"/>\n<!-- 140568101312464 -->\n<g class=\"node\" id=\"node1\">\n<title>140568101312464</title>\n<polygon fill=\"none\" points=\"66,-219.5 66,-255.5 276,-255.5 276,-219.5 66,-219.5\" stroke=\"black\"/>\n<text font-family=\"Times-Roman\" font-size=\"14.00\" text-anchor=\"middle\" x=\"171\" y=\"-233.8\">input_word_ids: InputLayer</text>\n</g>\n<!-- 140568097035920 -->\n<g class=\"node\" id=\"node2\">\n<title>140568097035920</title>\n<polygon fill=\"none\" points=\"38,-146.5 38,-182.5 304,-182.5 304,-146.5 38,-146.5\" stroke=\"black\"/>\n<text font-family=\"Times-Roman\" font-size=\"14.00\" text-anchor=\"middle\" x=\"171\" y=\"-160.8\">tf_roberta_model: TFRobertaModel</text>\n</g>\n<!-- 140568101312464&#45;&gt;140568097035920 -->\n<g class=\"edge\" id=\"edge1\">\n<title>140568101312464-&gt;140568097035920</title>\n<path d=\"M171,-219.31C171,-211.29 171,-201.55 171,-192.57\" fill=\"none\" stroke=\"black\"/>\n<polygon fill=\"black\" points=\"174.5,-192.53 171,-182.53 167.5,-192.53 174.5,-192.53\" stroke=\"black\"/>\n</g>\n<!-- 140568101152016 -->\n<g class=\"node\" id=\"node3\">\n<title>140568101152016</title>\n<polygon fill=\"none\" points=\"0,-73.5 0,-109.5 342,-109.5 342,-73.5 0,-73.5\" stroke=\"black\"/>\n<text font-family=\"Times-Roman\" font-size=\"14.00\" text-anchor=\"middle\" x=\"171\" y=\"-87.8\">tf_op_layer_strided_slice: TensorFlowOpLayer</text>\n</g>\n<!-- 140568097035920&#45;&gt;140568101152016 -->\n<g class=\"edge\" id=\"edge2\">\n<title>140568097035920-&gt;140568101152016</title>\n<path d=\"M171,-146.31C171,-138.29 171,-128.55 171,-119.57\" fill=\"none\" stroke=\"black\"/>\n<polygon fill=\"black\" points=\"174.5,-119.53 171,-109.53 167.5,-119.53 174.5,-119.53\" stroke=\"black\"/>\n</g>\n<!-- 140568105512592 -->\n<g class=\"node\" id=\"node4\">\n<title>140568105512592</title>\n<polygon fill=\"none\" points=\"113.5,-0.5 113.5,-36.5 228.5,-36.5 228.5,-0.5 113.5,-0.5\" stroke=\"black\"/>\n<text font-family=\"Times-Roman\" font-size=\"14.00\" text-anchor=\"middle\" x=\"171\" y=\"-14.8\">dense: Dense</text>\n</g>\n<!-- 140568101152016&#45;&gt;140568105512592 -->\n<g class=\"edge\" id=\"edge3\">\n<title>140568101152016-&gt;140568105512592</title>\n<path d=\"M171,-73.31C171,-65.29 171,-55.55 171,-46.57\" fill=\"none\" stroke=\"black\"/>\n<polygon fill=\"black\" points=\"174.5,-46.53 171,-36.53 167.5,-46.53 174.5,-46.53\" stroke=\"black\"/>\n</g>\n</g>\n</svg>",
            "text/plain": [
              "<IPython.core.display.SVG object>"
            ]
          },
          "metadata": {
            "tags": []
          },
          "execution_count": 38
        }
      ]
    },
    {
      "cell_type": "markdown",
      "metadata": {
        "papermill": {
          "duration": 0.265349,
          "end_time": "2021-05-01T11:48:21.918482",
          "exception": false,
          "start_time": "2021-05-01T11:48:21.653133",
          "status": "completed"
        },
        "tags": [],
        "id": "welcome-caution"
      },
      "source": [
        "for callback we use early stopping with patience = 2, means when validation accuracy will not improve after 2 consecutive epoch,training will stop and we also try to save the best model based on best validation accuracy"
      ],
      "id": "welcome-caution"
    },
    {
      "cell_type": "code",
      "metadata": {
        "execution": {
          "iopub.execute_input": "2021-05-01T11:48:22.457757Z",
          "iopub.status.busy": "2021-05-01T11:48:22.456742Z",
          "iopub.status.idle": "2021-05-01T11:48:22.460074Z",
          "shell.execute_reply": "2021-05-01T11:48:22.460558Z"
        },
        "papermill": {
          "duration": 0.276711,
          "end_time": "2021-05-01T11:48:22.460744",
          "exception": false,
          "start_time": "2021-05-01T11:48:22.184033",
          "status": "completed"
        },
        "tags": [],
        "id": "offshore-notice"
      },
      "source": [
        "\n",
        "model_path = 'roberta_base.h5'\n",
        "\n",
        "#checkpoint = ModelCheckpoint(filepath=model_path,save_weights_only=True, monitor='val_accuracy', mode='max', save_best_only=True)\n",
        "\n",
        "# Verbosity\n",
        "VERBOSE = 2\n",
        "\n",
        "checkpoint = tf.keras.callbacks.ModelCheckpoint(model_path, monitor = 'val_auc', verbose = VERBOSE, save_best_only = True,save_weights_only = True, mode = 'max')\n",
        "\n",
        "es = EarlyStopping(monitor='val_accuracy', mode='max', patience=2, \n",
        "                   restore_best_weights=True, verbose=1)\n",
        "\n",
        "callback_list = [checkpoint,  es]"
      ],
      "id": "offshore-notice",
      "execution_count": null,
      "outputs": []
    },
    {
      "cell_type": "markdown",
      "metadata": {
        "papermill": {
          "duration": 0.265917,
          "end_time": "2021-05-01T11:48:22.997789",
          "exception": false,
          "start_time": "2021-05-01T11:48:22.731872",
          "status": "completed"
        },
        "tags": [],
        "id": "moved-default"
      },
      "source": [
        "# model 1 : train roberta large for 10 epochs"
      ],
      "id": "moved-default"
    },
    {
      "cell_type": "code",
      "metadata": {
        "execution": {
          "iopub.execute_input": "2021-05-01T11:48:23.533291Z",
          "iopub.status.busy": "2021-05-01T11:48:23.532324Z",
          "iopub.status.idle": "2021-05-01T12:37:06.871069Z",
          "shell.execute_reply": "2021-05-01T12:37:06.870268Z"
        },
        "papermill": {
          "duration": 2923.607694,
          "end_time": "2021-05-01T12:37:06.871263",
          "exception": false,
          "start_time": "2021-05-01T11:48:23.263569",
          "status": "completed"
        },
        "tags": [],
        "id": "several-facial",
        "outputId": "457f1e9b-4214-4a81-adc5-6a107b4f2e9a"
      },
      "source": [
        "%%time\n",
        "\n",
        "n_steps = x_train.shape[0] // BATCH_SIZE\n",
        "train_history = model.fit(\n",
        "    train_dataset,\n",
        "    steps_per_epoch=n_steps,\n",
        "    validation_data=valid_dataset,\n",
        "    callbacks=callback_list,\n",
        "    epochs=EPOCHS\n",
        ")"
      ],
      "id": "several-facial",
      "execution_count": null,
      "outputs": [
        {
          "output_type": "stream",
          "text": [
            "Epoch 1/10\n",
            "336/336 [==============================] - ETA: 0s - recall: 0.2531 - loss: 0.0098 - auc: 0.8556\n",
            "Epoch 00001: val_auc improved from -inf to 0.97474, saving model to roberta_base.h5\n",
            "336/336 [==============================] - 334s 994ms/step - recall: 0.2531 - loss: 0.0098 - auc: 0.8556 - val_recall: 0.6302 - val_loss: 0.0039 - val_auc: 0.9747\n",
            "Epoch 2/10\n",
            "336/336 [==============================] - ETA: 0s - recall: 0.4748 - loss: 0.0050 - auc: 0.9657\n",
            "Epoch 00002: val_auc improved from 0.97474 to 0.98510, saving model to roberta_base.h5\n",
            "336/336 [==============================] - 267s 796ms/step - recall: 0.4748 - loss: 0.0050 - auc: 0.9657 - val_recall: 0.6063 - val_loss: 0.0029 - val_auc: 0.9851\n",
            "Epoch 3/10\n",
            "336/336 [==============================] - ETA: 0s - recall: 0.5088 - loss: 0.0044 - auc: 0.9779\n",
            "Epoch 00003: val_auc improved from 0.98510 to 0.98816, saving model to roberta_base.h5\n",
            "336/336 [==============================] - 267s 795ms/step - recall: 0.5088 - loss: 0.0044 - auc: 0.9779 - val_recall: 0.6237 - val_loss: 0.0029 - val_auc: 0.9882\n",
            "Epoch 4/10\n",
            "336/336 [==============================] - ETA: 0s - recall: 0.5364 - loss: 0.0041 - auc: 0.9832\n",
            "Epoch 00004: val_auc improved from 0.98816 to 0.98890, saving model to roberta_base.h5\n",
            "336/336 [==============================] - 267s 795ms/step - recall: 0.5364 - loss: 0.0041 - auc: 0.9832 - val_recall: 0.6641 - val_loss: 0.0029 - val_auc: 0.9889\n",
            "Epoch 5/10\n",
            "336/336 [==============================] - ETA: 0s - recall: 0.5674 - loss: 0.0037 - auc: 0.9868\n",
            "Epoch 00005: val_auc improved from 0.98890 to 0.99028, saving model to roberta_base.h5\n",
            "336/336 [==============================] - 267s 795ms/step - recall: 0.5674 - loss: 0.0037 - auc: 0.9868 - val_recall: 0.6430 - val_loss: 0.0026 - val_auc: 0.9903\n",
            "Epoch 6/10\n",
            "336/336 [==============================] - ETA: 0s - recall: 0.5801 - loss: 0.0036 - auc: 0.9887\n",
            "Epoch 00006: val_auc improved from 0.99028 to 0.99032, saving model to roberta_base.h5\n",
            "336/336 [==============================] - 266s 793ms/step - recall: 0.5801 - loss: 0.0036 - auc: 0.9887 - val_recall: 0.6984 - val_loss: 0.0030 - val_auc: 0.9903\n",
            "Epoch 7/10\n",
            "336/336 [==============================] - ETA: 0s - recall: 0.6066 - loss: 0.0033 - auc: 0.9909\n",
            "Epoch 00007: val_auc improved from 0.99032 to 0.99041, saving model to roberta_base.h5\n",
            "336/336 [==============================] - 269s 800ms/step - recall: 0.6066 - loss: 0.0033 - auc: 0.9909 - val_recall: 0.7019 - val_loss: 0.0027 - val_auc: 0.9904\n",
            "Epoch 8/10\n",
            "336/336 [==============================] - ETA: 0s - recall: 0.6477 - loss: 0.0029 - auc: 0.9931\n",
            "Epoch 00008: val_auc did not improve from 0.99041\n",
            "336/336 [==============================] - 260s 774ms/step - recall: 0.6477 - loss: 0.0029 - auc: 0.9931 - val_recall: 0.6909 - val_loss: 0.0028 - val_auc: 0.9904\n",
            "Epoch 9/10\n",
            "336/336 [==============================] - ETA: 0s - recall: 0.6788 - loss: 0.0027 - auc: 0.9940\n",
            "Epoch 00009: val_auc improved from 0.99041 to 0.99076, saving model to roberta_base.h5\n",
            "336/336 [==============================] - 267s 795ms/step - recall: 0.6788 - loss: 0.0027 - auc: 0.9940 - val_recall: 0.7179 - val_loss: 0.0031 - val_auc: 0.9908\n",
            "Epoch 10/10\n",
            "336/336 [==============================] - ETA: 0s - recall: 0.7044 - loss: 0.0025 - auc: 0.9950\n",
            "Epoch 00010: val_auc did not improve from 0.99076\n",
            "336/336 [==============================] - 260s 774ms/step - recall: 0.7044 - loss: 0.0025 - auc: 0.9950 - val_recall: 0.7241 - val_loss: 0.0032 - val_auc: 0.9895\n",
            "CPU times: user 4min 40s, sys: 43 s, total: 5min 23s\n",
            "Wall time: 48min 42s\n"
          ],
          "name": "stdout"
        }
      ]
    },
    {
      "cell_type": "code",
      "metadata": {
        "execution": {
          "iopub.execute_input": "2021-05-01T12:37:09.532531Z",
          "iopub.status.busy": "2021-05-01T12:37:09.531869Z",
          "iopub.status.idle": "2021-05-01T12:37:15.554651Z",
          "shell.execute_reply": "2021-05-01T12:37:15.555127Z"
        },
        "papermill": {
          "duration": 7.388438,
          "end_time": "2021-05-01T12:37:15.555312",
          "exception": false,
          "start_time": "2021-05-01T12:37:08.166874",
          "status": "completed"
        },
        "tags": [],
        "id": "flush-ghost"
      },
      "source": [
        "model.save_weights('model_checkpoint_0.h5')"
      ],
      "id": "flush-ghost",
      "execution_count": null,
      "outputs": []
    },
    {
      "cell_type": "markdown",
      "metadata": {
        "papermill": {
          "duration": 1.32128,
          "end_time": "2021-05-01T12:37:18.414925",
          "exception": false,
          "start_time": "2021-05-01T12:37:17.093645",
          "status": "completed"
        },
        "tags": [],
        "id": "suited-laptop"
      },
      "source": [
        "# confusion matrix"
      ],
      "id": "suited-laptop"
    },
    {
      "cell_type": "code",
      "metadata": {
        "execution": {
          "iopub.execute_input": "2021-05-01T12:37:23.714912Z",
          "iopub.status.busy": "2021-05-01T12:37:23.713761Z",
          "iopub.status.idle": "2021-05-01T12:39:58.548342Z",
          "shell.execute_reply": "2021-05-01T12:39:58.545135Z"
        },
        "papermill": {
          "duration": 158.748443,
          "end_time": "2021-05-01T12:39:58.548511",
          "exception": false,
          "start_time": "2021-05-01T12:37:19.800068",
          "status": "completed"
        },
        "tags": [],
        "id": "awful-bryan",
        "outputId": "8d0f83b4-07a1-4452-a9ba-a089f0bc037d"
      },
      "source": [
        "from sklearn.metrics import confusion_matrix,  multilabel_confusion_matrix\n",
        "from sklearn.preprocessing import MultiLabelBinarizer\n",
        "\n",
        "classes_ = ['toxic', 'severe_toxic', 'obscene', 'threat', 'insult', 'identity_hate']\n",
        "\n",
        "\n",
        "\n",
        "preds = model.predict(valid_dataset, verbose = 1)\n",
        "preds = np.where(preds < 0.5, 0, 1)\n",
        "\n",
        "# Creating multilabel confusion matrix\n",
        "confusion = multilabel_confusion_matrix(y_valid, preds)\n",
        "\n",
        "# Plot confusion matrix \n",
        "fig = plt.figure(figsize = (14, 8))\n",
        "for i, (label, matrix) in enumerate(zip(classes_, confusion)):\n",
        "    plt.subplot(f'23{i+1}')\n",
        "    labels = [f'not_{label}', label]\n",
        "    sns.heatmap(matrix, annot = True, square = True, fmt = 'd', cbar = False, cmap = 'rainbow', \n",
        "                xticklabels = labels, yticklabels = labels, linecolor = 'black', linewidth = 1)\n",
        "    plt.title(labels[0])\n",
        "\n",
        "plt.tight_layout()\n",
        "plt.show()"
      ],
      "id": "awful-bryan",
      "execution_count": null,
      "outputs": [
        {
          "output_type": "stream",
          "text": [
            "495/495 [==============================] - 108s 218ms/step\n"
          ],
          "name": "stdout"
        },
        {
          "output_type": "stream",
          "text": [
            "/opt/conda/lib/python3.7/site-packages/ipykernel_launcher.py:17: MatplotlibDeprecationWarning: Passing non-integers as three-element position specification is deprecated since 3.3 and will be removed two minor releases later.\n"
          ],
          "name": "stderr"
        },
        {
          "output_type": "display_data",
          "data": {
            "image/png": "[encoded data removed]",
            "text/plain": [
              "<Figure size 1008x576 with 6 Axes>"
            ]
          },
          "metadata": {
            "tags": [],
            "needs_background": "light"
          }
        }
      ]
    },
    {
      "cell_type": "code",
      "metadata": {
        "execution": {
          "iopub.execute_input": "2021-05-01T12:40:01.458066Z",
          "iopub.status.busy": "2021-05-01T12:40:01.457055Z",
          "iopub.status.idle": "2021-05-01T12:40:01.593850Z",
          "shell.execute_reply": "2021-05-01T12:40:01.594313Z"
        },
        "papermill": {
          "duration": 1.590751,
          "end_time": "2021-05-01T12:40:01.594511",
          "exception": false,
          "start_time": "2021-05-01T12:40:00.003760",
          "status": "completed"
        },
        "tags": [],
        "id": "european-thanksgiving",
        "outputId": "7b2152ca-a7e4-4474-a4f1-5290f0af4fe1"
      },
      "source": [
        "from sklearn import metrics\n",
        "# Faced similar issue : https://stackoverflow.com/questions/61899676/tensorflow-model-evaluate-and-model-predict-very-different-results\n",
        "\n",
        "#accuracy = metrics.accuracy_score(y_valid, preds)\n",
        "f1_score_micro = metrics.f1_score(y_valid, preds, average='micro')\n",
        "f1_score_macro = metrics.f1_score(y_valid, preds, average='macro')\n",
        "#print(f\"Accuracy Score = {accuracy}\")\n",
        "print(f\"F1 Score (Micro) = {f1_score_micro}\")\n",
        "print(f\"F1 Score (Macro) = {f1_score_macro}\")\n",
        "\n",
        "    "
      ],
      "id": "european-thanksgiving",
      "execution_count": null,
      "outputs": [
        {
          "output_type": "stream",
          "text": [
            "F1 Score (Micro) = 0.780985947313723\n",
            "F1 Score (Macro) = 0.620796389282637\n"
          ],
          "name": "stdout"
        }
      ]
    },
    {
      "cell_type": "markdown",
      "metadata": {
        "papermill": {
          "duration": 1.447181,
          "end_time": "2021-05-01T12:40:04.483072",
          "exception": false,
          "start_time": "2021-05-01T12:40:03.035891",
          "status": "completed"
        },
        "tags": [],
        "id": "departmental-senegal"
      },
      "source": [
        "from the trained log above our validation accuracy metric let's us know about our models performance"
      ],
      "id": "departmental-senegal"
    },
    {
      "cell_type": "markdown",
      "metadata": {
        "id": "T4wHJCZvEfWl"
      },
      "source": [
        "we can see we have got validation accuracy over 98% but validation recall 0.72+ after 10 epoch and seems like more trianing could yield better result and this recall score along with high validation accuracy telling us that our overall model performance is good enough for this dataset,however hopefully we could achieve much better f1 score and recall if we had more toxic samples in validation and training and little bit less non toxic samples in validation phase as it is dominating over small toxic samples a lot in validation set,or maybe with focal loss parameter tuning we could get overall better recall and f1 score"
      ],
      "id": "T4wHJCZvEfWl"
    }
  ]
}